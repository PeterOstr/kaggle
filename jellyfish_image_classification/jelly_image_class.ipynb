{
 "cells": [
  {
   "cell_type": "code",
   "execution_count": 1,
   "id": "initial_id",
   "metadata": {
    "collapsed": true,
    "ExecuteTime": {
     "end_time": "2024-03-04T19:59:26.305358Z",
     "start_time": "2024-03-04T19:59:22.757203Z"
    }
   },
   "source": [
    "import shutil\n",
    "from keras import layers\n",
    "from keras import models\n",
    "import pandas as pd\n",
    "import tensorflow as tf\n",
    "import tensorflow.keras as keras\n",
    "\n",
    "import tensorflow as tf\n",
    "import pandas as pd\n",
    "import matplotlib\n",
    "import matplotlib.pyplot as plt\n",
    "import os\n",
    "import cv2\n",
    "import numpy as np\n",
    "import seaborn as sns\n",
    "import keras\n",
    "from sklearn.model_selection import train_test_split\n",
    "from sklearn.preprocessing import LabelEncoder\n",
    "from keras.models import Sequential\n",
    "from keras.layers import Dense, Dropout, Activation, Flatten\n",
    "from keras.layers import Conv2D, MaxPooling2D\n",
    "\n",
    "from sklearn.metrics import confusion_matrix\n",
    "from sklearn.utils import class_weight\n",
    "\n",
    "import numpy as np \n",
    "import pandas as pd \n",
    "import cv2\n",
    "import matplotlib.pyplot as plt\n",
    "from tqdm import tqdm\n",
    "from random import shuffle\n",
    "\n",
    "from keras.utils import to_categorical\n",
    "from tensorflow.keras.preprocessing.image import ImageDataGenerator\n",
    "from keras.layers import Dense,Conv2D,Flatten,MaxPool2D,Dropout,BatchNormalization,Conv2D, MaxPooling2D, Flatten, Dense, Activation\n",
    "from keras.models import Sequential\n",
    "from sklearn.model_selection import train_test_split\n",
    "from tensorflow.keras import optimizers\n",
    "from tensorflow.keras.losses import CategoricalCrossentropy\n",
    "from tensorflow.keras.callbacks import ReduceLROnPlateau, EarlyStopping\n",
    "from keras.models import load_model\n",
    "\n",
    "\n",
    "import os \n",
    "os.environ['KMP_DUPLICATE_LIB_OK']='True' #resolving issue with keras killing kernel\n",
    "\n",
    "import warnings\n",
    "warnings.filterwarnings('ignore')"
   ],
   "outputs": []
  },
  {
   "cell_type": "markdown",
   "source": [
    "This is kaglle  Jellyfish Image Dataset (https://www.kaggle.com/datasets/anshtanwar/jellyfish-types/data).\n",
    "This dataset contains 900 images of jellyfish belonging to six different categories and species: mauve stinger jellyfish, moon jellyfish, barrel jellyfish, blue jellyfish, compass jellyfish, and lion’s mane jellyfish. You can apply ML techniques to gain insights into jellyfish classification, species identification, and color analysis.\n",
    "\n",
    "**Moon jellyfish (Aurelia aurita)**: Common jellyfish with four horseshoe-shaped gonads visible through the top of its translucent bell. It feeds by collecting medusae, plankton, and mollusks with its tentacles.\n",
    "**Barrel jellyfish (Rhizostoma pulmo)**: Largest jellyfish found in British waters, with a bell that can grow up to 90 cm in diameter. It feeds on plankton and small fish by catching them in its tentacles.\n",
    "**Blue jellyfish (Cyanea lamarckii)**: Large jellyfish that can grow up to 30 cm in diameter. It feeds on plankton and small fish by catching them in its tentacles.\n",
    "**Compass jellyfish (Chrysaora hysoscella)**: Named after the brown markings on its bell that resemble a compass rose. It feeds on plankton and small fish by catching them in its tentacles.\n",
    "**Lion’s mane jellyfish (Cyanea capillata)**: Largest jellyfish in the world, with a bell that can grow up to 2 meters in diameter and tentacles that can reach up to 30 meters in length. It feeds on plankton and small fish by catching them in its tentacles.\n",
    "**Mauve stinger (Pelagia noctiluca)**: Small jellyfish with long tentacles and warty structures on its bell full of stinging cells. It feeds on other small jellyfish and oceanic sea squirts."
   ],
   "metadata": {
    "collapsed": false
   },
   "id": "eaf11e155e432c87"
  },
  {
   "cell_type": "code",
   "execution_count": 2,
   "source": [
    "os.getcwd()"
   ],
   "metadata": {
    "collapsed": false,
    "ExecuteTime": {
     "end_time": "2024-03-04T19:59:29.153950Z",
     "start_time": "2024-03-04T19:59:29.139950Z"
    }
   },
   "id": "e77b5684f7b1204f",
   "outputs": []
  },
  {
   "cell_type": "code",
   "execution_count": 3,
   "source": [
    "TRAIN_DIR = 'C:/Users/Peter/DataspellProjects/kaggle/jellyfish_image_classification/data/Train_Test_Valid/Train'\n",
    "TEST_DIR = 'C:/Users/Peter/DataspellProjects/kaggle/jellyfish_image_classification/data/Train_Test_Valid/test'\n",
    "IMG_SIZE = 224# our images are 224x224x3\n"
   ],
   "metadata": {
    "collapsed": false,
    "ExecuteTime": {
     "end_time": "2024-03-04T19:59:29.360951Z",
     "start_time": "2024-03-04T19:59:29.347953Z"
    }
   },
   "id": "38c8e17e05ed5caf",
   "outputs": []
  },
  {
   "cell_type": "markdown",
   "source": [
    "### 1 approach\n"
   ],
   "metadata": {
    "collapsed": false
   },
   "id": "224fb2a9e3de465e"
  },
  {
   "cell_type": "code",
   "execution_count": 4,
   "source": [
    "#Converting the output into one-hot format\n",
    "def label_img(img):\n",
    "    word_label = img.split('_')[0]\n",
    "    if word_label == 'barrel': return [1,0,0,0,0,0]\n",
    "    elif word_label == 'blue': return [0,1,0,0,0,0]\n",
    "    elif word_label == 'compass': return [0,0,1,0,0,0]\n",
    "    elif word_label == 'lions': return [0,0,0,1,0,0]\n",
    "    elif word_label == 'mauve': return [0,0,0,0,1,0]\n",
    "    elif word_label == 'Moon': return [0,0,0,0,0,1]"
   ],
   "metadata": {
    "collapsed": false,
    "ExecuteTime": {
     "end_time": "2024-03-04T19:59:29.599952Z",
     "start_time": "2024-03-04T19:59:29.585951Z"
    }
   },
   "id": "d1194eb992b2f10e",
   "outputs": []
  },
  {
   "cell_type": "code",
   "execution_count": 5,
   "source": [
    "#A function to read training images from folder\n",
    "def create_train_data():\n",
    "    training_data = []\n",
    "    for fold in tqdm(os.listdir(TRAIN_DIR)):\n",
    "        label = label_img(fold)\n",
    "        path = TRAIN_DIR + '/' + fold\n",
    "        files_names = os.listdir(path)\n",
    "        for filename in files_names:\n",
    "            path_img = path + '/' + filename\n",
    "            img = cv2.imread(path_img,1)\n",
    "            img = cv2.resize(img, (IMG_SIZE,IMG_SIZE))\n",
    "            training_data.append([np.array(img),np.array(label)])\n",
    "            \n",
    "        \n",
    "    shuffle(training_data)\n",
    "    train_images, train_labels = zip(*training_data)  # Разделяем изображения и метки\n",
    "\n",
    "    return training_data"
   ],
   "metadata": {
    "collapsed": false,
    "ExecuteTime": {
     "end_time": "2024-03-04T19:59:29.790142Z",
     "start_time": "2024-03-04T19:59:29.777143Z"
    }
   },
   "id": "5a5c551dac09bf70",
   "outputs": []
  },
  {
   "cell_type": "code",
   "execution_count": 6,
   "source": [
    "train_data = create_train_data()\n",
    "plt.imshow(train_data[0][0])"
   ],
   "metadata": {
    "collapsed": false,
    "ExecuteTime": {
     "end_time": "2024-03-04T19:59:32.003617Z",
     "start_time": "2024-03-04T19:59:30.402576Z"
    }
   },
   "id": "8af0d53780c44299",
   "outputs": []
  },
  {
   "cell_type": "code",
   "execution_count": 7,
   "source": [
    "#A function to read training images from folder\n",
    "def create_test_data():\n",
    "    testing_data = []\n",
    "    for fold in tqdm(os.listdir(TEST_DIR)):\n",
    "        label = label_img(fold)\n",
    "        path = TEST_DIR + '/' + fold\n",
    "        # print(label)\n",
    "        # print(path)\n",
    "        files_names = os.listdir(path)\n",
    "        for filename in files_names:\n",
    "            path_img = path + '/' + filename\n",
    "            img = cv2.imread(path_img,1)\n",
    "            img = cv2.resize(img, (IMG_SIZE,IMG_SIZE))\n",
    "            testing_data.append([np.array(img),np.array(label)])\n",
    "\n",
    "    shuffle(testing_data)\n",
    "    images, labels = zip(*testing_data)  # Разделяем изображения и метки\n",
    "\n",
    "\n",
    "    return testing_data"
   ],
   "metadata": {
    "collapsed": false,
    "ExecuteTime": {
     "end_time": "2024-03-04T19:59:32.019591Z",
     "start_time": "2024-03-04T19:59:32.005590Z"
    }
   },
   "id": "3aa32bd846b4a0f9",
   "outputs": []
  },
  {
   "cell_type": "code",
   "execution_count": 8,
   "source": [
    "\n",
    "# Creating a Sequential model\n",
    "model = Sequential()\n",
    "\n",
    "model.add(Conv2D(kernel_size=(3, 3), filters=32, input_shape=(224, 224, 3), padding='valid'))\n",
    "model.add(BatchNormalization())\n",
    "model.add(Activation('tanh'))\n",
    "\n",
    "model.add(Conv2D(filters=30, kernel_size=(3, 3)))\n",
    "model.add(BatchNormalization())\n",
    "model.add(Activation('tanh'))\n",
    "model.add(MaxPooling2D(2, 2))\n",
    "\n",
    "model.add(Conv2D(filters=30, kernel_size=(3, 3)))\n",
    "model.add(BatchNormalization())\n",
    "model.add(Activation('tanh'))\n",
    "model.add(MaxPooling2D(2, 2))\n",
    "\n",
    "model.add(Conv2D(filters=30, kernel_size=(3, 3)))\n",
    "model.add(BatchNormalization())\n",
    "model.add(Activation('tanh'))\n",
    "\n",
    "model.add(Dropout(0.5))\n",
    "model.add(Flatten())\n",
    "\n",
    "model.add(Dense(20, activation='relu'))\n",
    "model.add(BatchNormalization())\n",
    "model.add(Dense(15, activation='relu'))\n",
    "model.add(BatchNormalization())\n",
    "model.add(Dense(6, activation='softmax'))\n",
    "\n",
    "model.compile(\n",
    "    loss='categorical_crossentropy',\n",
    "    metrics=['acc'],\n",
    "    optimizer=optimizers.Adam(learning_rate=1e-3)\n",
    ")\n"
   ],
   "metadata": {
    "collapsed": false,
    "ExecuteTime": {
     "end_time": "2024-03-04T19:59:32.432933Z",
     "start_time": "2024-03-04T19:59:32.021603Z"
    }
   },
   "id": "537c10a16388664a",
   "outputs": []
  },
  {
   "cell_type": "code",
   "execution_count": 9,
   "source": [
    "# Model Summary\n",
    "model.summary()"
   ],
   "metadata": {
    "collapsed": false,
    "ExecuteTime": {
     "end_time": "2024-03-04T19:59:32.464591Z",
     "start_time": "2024-03-04T19:59:32.434590Z"
    }
   },
   "id": "a867b9d47be50c14",
   "outputs": []
  },
  {
   "cell_type": "code",
   "execution_count": 10,
   "source": [
    "train_images, train_labels = zip(*train_data)  # Разделяем изображения и метки\n",
    "train_labels"
   ],
   "metadata": {
    "collapsed": false,
    "ExecuteTime": {
     "end_time": "2024-03-04T19:59:32.560589Z",
     "start_time": "2024-03-04T19:59:32.466590Z"
    }
   },
   "id": "6db3767bd1a386b",
   "outputs": []
  },
  {
   "cell_type": "code",
   "execution_count": 11,
   "source": [
    "X_train,X_val,y_train,y_val = train_test_split(train_images,train_labels,random_state=1)"
   ],
   "metadata": {
    "collapsed": false,
    "ExecuteTime": {
     "end_time": "2024-03-04T19:59:32.576589Z",
     "start_time": "2024-03-04T19:59:32.562590Z"
    }
   },
   "id": "5a34ee003be17859",
   "outputs": []
  },
  {
   "cell_type": "code",
   "execution_count": 12,
   "source": [
    "X_train = np.array(X_train)\n",
    "X_val = np.array(X_val)\n",
    "y_train = np.array(y_train)\n",
    "y_val = np.array(y_val)"
   ],
   "metadata": {
    "collapsed": false,
    "ExecuteTime": {
     "end_time": "2024-03-04T19:59:34.145223Z",
     "start_time": "2024-03-04T19:59:34.099220Z"
    }
   },
   "id": "f18dc251dc6f3447",
   "outputs": []
  },
  {
   "cell_type": "code",
   "execution_count": 13,
   "source": [
    "\n",
    "y_val.shape"
   ],
   "metadata": {
    "collapsed": false,
    "ExecuteTime": {
     "end_time": "2024-03-04T19:59:34.791586Z",
     "start_time": "2024-03-04T19:59:34.777581Z"
    }
   },
   "id": "a761abdd5dd925a2",
   "outputs": []
  },
  {
   "cell_type": "code",
   "execution_count": 14,
   "source": [
    "X_train.shape"
   ],
   "metadata": {
    "collapsed": false,
    "ExecuteTime": {
     "end_time": "2024-03-04T19:59:36.821875Z",
     "start_time": "2024-03-04T19:59:36.807857Z"
    }
   },
   "id": "4047edd4e77e72a4",
   "outputs": []
  },
  {
   "cell_type": "code",
   "execution_count": 27,
   "source": [
    "# Training the model\n",
    "history = model.fit(X_train,y_train,epochs=50,batch_size=50,validation_data=(X_val,y_val))"
   ],
   "metadata": {
    "collapsed": false,
    "ExecuteTime": {
     "end_time": "2024-03-03T21:54:21.610162Z",
     "start_time": "2024-03-03T21:54:21.582122Z"
    }
   },
   "id": "92c6a19ff87d98e5",
   "outputs": []
  },
  {
   "cell_type": "code",
   "execution_count": 176,
   "source": [
    "model.save('model_1.h5') #first variant "
   ],
   "metadata": {
    "collapsed": false,
    "ExecuteTime": {
     "end_time": "2024-01-06T12:33:34.961537700Z",
     "start_time": "2024-01-06T12:33:34.840999800Z"
    }
   },
   "id": "e2e557e94a2ffdb7",
   "outputs": []
  },
  {
   "cell_type": "markdown",
   "source": [
    "#### 2 approach"
   ],
   "metadata": {
    "collapsed": false
   },
   "id": "70167b00095d253e"
  },
  {
   "cell_type": "code",
   "execution_count": 15,
   "source": [
    "# train_datagen = ImageDataGenerator(rescale=1.0/255,\n",
    "#                                    zoom_range=0.2,\n",
    "#                                    width_shift_range=0.2,\n",
    "#                                    height_shift_range=0.2,\n",
    "#                                    fill_mode='nearest')\n",
    "\n",
    "train_datagen = ImageDataGenerator(\n",
    "    rescale=1.0/255,           # rescale\n",
    "    rotation_range=30,         # Randomly rotate images by 20 degrees\n",
    "    width_shift_range=0.1,     # Randomly shift images horizontally by 20% of the width\n",
    "    height_shift_range=0.1,    # Randomly shift images vertically by 20% of the height\n",
    "    zoom_range=0.3,            # Randomly zoom into images\n",
    "    horizontal_flip=True,      # Randomly flip images horizontally\n",
    "    vertical_flip=True,        # Randomly flip images vertically\n",
    ")\n",
    "datagen1 = ImageDataGenerator()\n",
    "\n",
    "# train_generator = datagen.flow(X_train, y_train, batch_size=20)\n",
    "val_generator = datagen1.flow(X_test, y_test, batch_size=20)\n",
    "train_generator = train_datagen.flow_from_directory(TRAIN_DIR,\n",
    "                                                    target_size=(IMG_SIZE, IMG_SIZE),\n",
    "                                                    batch_size=50,\n",
    "                                                    class_mode='categorical',\n",
    "                                                    shuffle=True)"
   ],
   "metadata": {
    "collapsed": false,
    "ExecuteTime": {
     "end_time": "2024-03-04T19:59:43.512273Z",
     "start_time": "2024-03-04T19:59:41.527257Z"
    }
   },
   "id": "843c37424975b51",
   "outputs": []
  },
  {
   "cell_type": "code",
   "execution_count": null,
   "source": [
    "validation_datagen = ImageDataGenerator(rescale=1.0/255)\n",
    "validation_generator = validation_datagen.flow_from_directory(TEST_DIR,\n",
    "                                                              target_size=(IMG_SIZE, IMG_SIZE),\n",
    "                                                              batch_size=50,\n",
    "                                                              class_mode='categorical',\n",
    "                                                              shuffle=True)"
   ],
   "metadata": {
    "collapsed": false
   },
   "id": "182336dc9025b0cc",
   "outputs": []
  },
  {
   "cell_type": "code",
   "execution_count": null,
   "source": [
    "labels = {value: key for key, value in train_generator.class_indices.items()}\n",
    "\n",
    "print(\"Label Mappings for classes present in the training and validation datasets\\n\")\n",
    "for key, value in labels.items():\n",
    "    print(f\"{key} : {value}\")"
   ],
   "metadata": {
    "collapsed": false
   },
   "id": "7196d8c7f792cd54",
   "outputs": []
  },
  {
   "cell_type": "code",
   "execution_count": 44,
   "source": [
    "fig, ax = plt.subplots(nrows=2, ncols=5, figsize=(15, 12))\n",
    "idx = 0\n",
    "\n",
    "for i in range(2):\n",
    "    for j in range(5):\n",
    "        label = labels[np.argmax(train_generator[0][1][idx])]\n",
    "        ax[i, j].set_title(f\"{label}\")\n",
    "        ax[i, j].imshow(train_generator[0][0][idx][:, :, :])\n",
    "        ax[i, j].axis(\"off\")\n",
    "        idx += 1\n",
    "\n",
    "plt.tight_layout()\n",
    "plt.suptitle(\"Sample Training Images\", fontsize=21)\n",
    "plt.show()"
   ],
   "metadata": {
    "collapsed": false,
    "ExecuteTime": {
     "end_time": "2024-03-03T21:55:20.752268Z",
     "start_time": "2024-03-03T21:55:08.919208Z"
    }
   },
   "id": "f0c40e0e6222c5d1",
   "outputs": []
  },
  {
   "cell_type": "code",
   "execution_count": 16,
   "source": [
    "\n",
    "# # Creating a Sequential model\n",
    "# cnn_model = Sequential()\n",
    "# \n",
    "# cnn_model.add(Conv2D(kernel_size=(3, 3), filters=32, input_shape=(224, 224, 3), padding='valid'))\n",
    "# cnn_model.add(BatchNormalization())\n",
    "# cnn_model.add(Activation('tanh'))\n",
    "# \n",
    "# cnn_model.add(Conv2D(filters=30, kernel_size=(3, 3)))\n",
    "# cnn_model.add(BatchNormalization())\n",
    "# cnn_model.add(Activation('tanh'))\n",
    "# cnn_model.add(MaxPooling2D(2, 2))\n",
    "# \n",
    "# cnn_model.add(Conv2D(filters=30, kernel_size=(3, 3)))\n",
    "# cnn_model.add(BatchNormalization())\n",
    "# cnn_model.add(Activation('tanh'))\n",
    "# cnn_model.add(MaxPooling2D(2, 2))\n",
    "# \n",
    "# cnn_model.add(Conv2D(filters=30, kernel_size=(3, 3)))\n",
    "# cnn_model.add(BatchNormalization())\n",
    "# cnn_model.add(Activation('tanh'))\n",
    "# \n",
    "# cnn_model.add(Dropout(0.5))\n",
    "# cnn_model.add(Flatten())\n",
    "# \n",
    "# cnn_model.add(Dense(20, activation='relu'))\n",
    "# cnn_model.add(BatchNormalization())\n",
    "# cnn_model.add(Dense(15, activation='relu'))\n",
    "# cnn_model.add(BatchNormalization())\n",
    "# cnn_model.add(Dense(6, activation='softmax'))\n",
    "# \n",
    "# cnn_model.compile(\n",
    "#     # loss=CategoricalCrossentropy,\n",
    "#     loss='categorical_crossentropy',\n",
    "#     metrics=['accuracy'],\n",
    "#     optimizer=optimizers.Adam(learning_rate=1e-3)\n",
    "# )\n",
    "\n",
    "cnn_model = Sequential()\n",
    "# CONV => RELU => CONV => RELU => POOL => DROPOUT\n",
    "cnn_model.add(Conv2D(16, (3, 3), padding='same', input_shape=(224, 224, 3)))\n",
    "cnn_model.add(Activation('relu'))\n",
    "cnn_model.add(Conv2D(32, (3, 3), padding='same'))\n",
    "cnn_model.add(Activation('relu'))\n",
    "cnn_model.add(MaxPooling2D(pool_size=(2, 2)))\n",
    "cnn_model.add(Dropout(0.25))\n",
    "# CONV => RELU => CONV => RELU => POOL => DROPOUT\n",
    "cnn_model.add(Conv2D(64, (3, 3), padding='same'))\n",
    "cnn_model.add(Activation('relu'))\n",
    "cnn_model.add(MaxPooling2D(pool_size=(2, 2)))\n",
    "cnn_model.add(Dropout(0.25))\n",
    "# FLATTERN => DENSE => RELU => DROPOUT\n",
    "cnn_model.add(Flatten())\n",
    "cnn_model.add(Dense(128))\n",
    "cnn_model.add(Activation('relu'))\n",
    "cnn_model.add(Dense(32))\n",
    "cnn_model.add(Activation('relu'))\n",
    "cnn_model.add(Dense(6, activation='softmax'))\n",
    "\n",
    "cnn_model.compile(optimizer='adam', loss='categorical_crossentropy', metrics=['accuracy'])\n",
    "\n",
    "datagen = ImageDataGenerator(\n",
    "    rotation_range=30,         # Randomly rotate images by 20 degrees\n",
    "    #brightness_range=[0., 0.5],  # Adjust brightness between 10% and 200%\n",
    "    width_shift_range=0.1,     # Randomly shift images horizontally by 20% of the width\n",
    "    height_shift_range=0.1,    # Randomly shift images vertically by 20% of the height\n",
    "    shear_range=0.1,           # Shear intensity\n",
    "    zoom_range=0.3,            # Randomly zoom into images\n",
    "    horizontal_flip=True,      # Randomly flip images horizontally\n",
    "    vertical_flip=True,        # Randomly flip images vertically\n",
    ")\n",
    "datagen1 = ImageDataGenerator()\n",
    "\n",
    "train_generator = datagen.flow(X_train, y_train, batch_size=20)\n",
    "val_generator = datagen1.flow(X_test, y_test, batch_size=20)"
   ],
   "metadata": {
    "collapsed": false,
    "ExecuteTime": {
     "end_time": "2024-03-04T19:59:49.144775Z",
     "start_time": "2024-03-04T19:59:48.673797Z"
    }
   },
   "id": "bad8d4ca755291e",
   "outputs": []
  },
  {
   "cell_type": "code",
   "execution_count": 52,
   "source": [
    "# Model Summary\n",
    "cnn_model.summary()"
   ],
   "metadata": {
    "collapsed": false,
    "ExecuteTime": {
     "end_time": "2024-02-27T09:07:24.267868Z",
     "start_time": "2024-02-27T09:07:24.237867Z"
    }
   },
   "id": "9aa9b4745798e5e2",
   "outputs": []
  },
  {
   "cell_type": "code",
   "execution_count": 48,
   "source": [
    "# reduce_lr = ReduceLROnPlateau(monitor='val_loss', factor=np.sqrt(0.1), patience=5)"
   ],
   "metadata": {
    "collapsed": false,
    "ExecuteTime": {
     "end_time": "2024-02-27T08:42:45.154170Z",
     "start_time": "2024-02-27T08:42:45.149170Z"
    }
   },
   "id": "6ea0adbcfe6ee418",
   "outputs": []
  },
  {
   "cell_type": "code",
   "execution_count": 53,
   "source": [
    "history = cnn_model.fit(train_generator, epochs=130, validation_data=val_generator,\n",
    "                    verbose=1,\n",
    "                    # callbacks=[reduce_lr]\n",
    "                        )"
   ],
   "metadata": {
    "collapsed": false,
    "ExecuteTime": {
     "end_time": "2024-02-27T10:02:02.751937Z",
     "start_time": "2024-02-27T09:07:37.473318Z"
    }
   },
   "id": "a584088235002c89",
   "outputs": []
  },
  {
   "cell_type": "code",
   "execution_count": 56,
   "source": [
    "cnn_model.save('model_new.h5') #second variant "
   ],
   "metadata": {
    "collapsed": false,
    "ExecuteTime": {
     "end_time": "2024-02-27T10:28:28.956098Z",
     "start_time": "2024-02-27T10:28:28.526029Z"
    }
   },
   "id": "545b13a882142c42",
   "outputs": []
  },
  {
   "cell_type": "code",
   "source": [
    "\n",
    "model = load_model('model3_.h5')    "
   ],
   "metadata": {
    "collapsed": false,
    "ExecuteTime": {
     "end_time": "2024-02-18T13:13:19.378220Z",
     "start_time": "2024-02-18T13:13:18.793587Z"
    }
   },
   "id": "e453853f30c43580",
   "execution_count": 25,
   "outputs": []
  },
  {
   "cell_type": "code",
   "source": [
    "model.predict(val_generator)"
   ],
   "metadata": {
    "collapsed": false,
    "ExecuteTime": {
     "end_time": "2024-02-27T14:50:43.096082Z",
     "start_time": "2024-02-27T14:50:42.478268Z"
    }
   },
   "id": "1f08cd398267d786",
   "execution_count": 61,
   "outputs": []
  },
  {
   "cell_type": "code",
   "source": [
    "from sklearn.metrics import classification_report\n",
    "\n",
    "# Предсказания модели на валидационном наборе данных\n",
    "predictions = model.predict(val_generator)\n",
    "\n",
    "# Преобразуйте вероятности предсказаний в метки классов\n",
    "predicted_classes = np.argmax(predictions, axis=1)\n",
    "\n",
    "# Извлеките фактические метки классов из генератора\n",
    "# true_classes = val_generator.classes\n",
    "true_classes = np.argmax(y_test, axis=1)\n",
    "\n",
    "# Извлеките названия классов из генератора\n",
    "# class_labels = list(val_generator.class_indices.keys())\n",
    "\n",
    "# Выведите отчет о классификации\n",
    "print(classification_report(true_classes, predicted_classes, target_names=class_labels))"
   ],
   "metadata": {
    "collapsed": false,
    "ExecuteTime": {
     "end_time": "2024-02-27T14:53:45.642525Z",
     "start_time": "2024-02-27T14:53:45.155992Z"
    }
   },
   "id": "e4722e0f2a9b65a1",
   "execution_count": 66,
   "outputs": []
  },
  {
   "cell_type": "code",
   "source": [
    "accuracy = history.history['accuracy']\n",
    "val_accuracy = history.history['val_accuracy']\n",
    "\n",
    "# Find the epoch with the highest validation accuracy\n",
    "best_epoch = val_accuracy.index(max(val_accuracy)) + 1  # Add 1 because epochs are 1-indexed\n",
    "\n",
    "print(f\"Best Accuracy: {accuracy[best_epoch-1]:.4f} at Epoch {best_epoch}\")\n",
    "print(f\"Best Validation Accuracy: {val_accuracy[best_epoch-1]:.4f} at Epoch {best_epoch}\")"
   ],
   "metadata": {
    "collapsed": false,
    "ExecuteTime": {
     "end_time": "2024-02-27T22:15:08.300241Z",
     "start_time": "2024-02-27T22:15:08.279487Z"
    }
   },
   "id": "3135d0939fb7f340",
   "execution_count": 68,
   "outputs": []
  },
  {
   "cell_type": "code",
   "source": [
    "# Оценка модели на валидационных данных\n",
    "evaluation = cnn_model.evaluate(val_generator)\n",
    "\n",
    "# Вывод метрик\n",
    "print(f\"Loss: {evaluation[0]}\")\n",
    "print(f\"Accuracy: {evaluation[1]}\")"
   ],
   "metadata": {
    "collapsed": false,
    "ExecuteTime": {
     "end_time": "2024-02-27T22:13:30.195244Z",
     "start_time": "2024-02-27T22:13:28.648435Z"
    }
   },
   "id": "700c972969d95e5b",
   "execution_count": 67,
   "outputs": []
  },
  {
   "cell_type": "code",
   "source": [
    "\n",
    "from sklearn.metrics import multilabel_confusion_matrix\n",
    "\n",
    "# Расчет матрицы ошибок для каждого класса\n",
    "conf_matrices = multilabel_confusion_matrix(y_true, y_pred_labels)\n",
    "\n",
    "y_pred_probs = model.predict(X_test)\n",
    "y_pred_labels = np.argmax(y_pred_probs, axis=1)\n",
    "y_true = y_test\n",
    "\n",
    "conf_matrix = confusion_matrix(y_true, y_pred_labels)\n",
    "\n",
    "# Calculate class weights to account for imbalanced classes (optional)\n",
    "weights = class_weight.compute_sample_weight('balanced', y_true)\n",
    "\n",
    "# Normalize the confusion matrix\n",
    "conf_matrix_norm = conf_matrix.astype('float') / conf_matrix.sum(axis=1)[:, np.newaxis]\n",
    "\n",
    "# Get class names from your data\n",
    "classes = [\"Class1\", \"Class2\", \"Class3\", \"Class4\", \"Class5\", \"Class6\"]  # Replace with your actual class names\n",
    "\n",
    "# Create a heatmap\n",
    "plt.figure(figsize=(8, 6))\n",
    "sns.heatmap(conf_matrix_norm, annot=True, fmt=\".2f\", cmap=\"Blues\", xticklabels=classes, yticklabels=classes)\n",
    "plt.title('Confusion Matrix')\n",
    "plt.xlabel('Predicted Label')\n",
    "plt.ylabel('True Label')\n",
    "plt.show()"
   ],
   "metadata": {
    "collapsed": false,
    "ExecuteTime": {
     "end_time": "2024-03-03T21:53:52.307026Z",
     "start_time": "2024-03-03T21:53:52.266027Z"
    }
   },
   "id": "38df8253e1ced96d",
   "execution_count": 18,
   "outputs": []
  },
  {
   "cell_type": "code",
   "source": [
    "plt.figure(figsize=(12, 6))\n",
    "plt.subplot(1, 2, 1)\n",
    "plt.plot(history.history['accuracy'])\n",
    "plt.plot(history.history['val_accuracy'])\n",
    "plt.title('Model Accuracy')\n",
    "plt.xlabel('Epoch')\n",
    "plt.ylabel('Accuracy')\n",
    "plt.legend(['Train', 'Validation'], loc='upper left')\n",
    "\n",
    "# Plot training & validation loss values\n",
    "plt.subplot(1, 2, 2)\n",
    "plt.plot(history.history['loss'])\n",
    "plt.plot(history.history['val_loss'])\n",
    "plt.title('Model Loss')\n",
    "plt.xlabel('Epoch')\n",
    "plt.ylabel('Loss')\n",
    "plt.legend(['Train', 'Validation'], loc='upper left')\n",
    "\n",
    "plt.tight_layout()\n",
    "plt.show()"
   ],
   "metadata": {
    "collapsed": false,
    "ExecuteTime": {
     "end_time": "2024-02-27T22:44:35.425804Z",
     "start_time": "2024-02-27T22:44:34.019474Z"
    }
   },
   "id": "8976a2404f148a2f",
   "execution_count": 94,
   "outputs": []
  },
  {
   "cell_type": "markdown",
   "source": [],
   "metadata": {
    "collapsed": false
   },
   "id": "69fa4f40eca0e391"
  },
  {
   "cell_type": "markdown",
   "source": [
    "# Alternative\n"
   ],
   "metadata": {
    "collapsed": false
   },
   "id": "f0ca91b6cfef820f"
  },
  {
   "cell_type": "code",
   "source": [
    "def load_data(data_directory):\n",
    "    images = []\n",
    "    labels = []\n",
    "    classes = []\n",
    "    label_encoder = LabelEncoder()\n",
    "    # iterating over classes in a directory, then iterating over the images within each class\n",
    "    for class_name in os.listdir(data_directory):\n",
    "        class_path = os.path.join(data_directory, class_name)\n",
    "        classes.append(class_name)\n",
    "\n",
    "        for filename in os.listdir(class_path):\n",
    "            filepath = os.path.join(class_path, filename)\n",
    "            img = cv2.imread(filepath)\n",
    "            # Data Processing: \n",
    "            # 1)resizing the images to (224, 224),\n",
    "            # 2)dividing by 255 to normalize pixel values, and converting to RGB.                     \n",
    "            if img is not None:\n",
    "                img = cv2.cvtColor(img, cv2.COLOR_BGR2RGB)  # Convert to RGB\n",
    "                img = cv2.resize(img, (224, 224))\n",
    "                img = img / 255.0\n",
    "                images.append(img)\n",
    "                labels.append(class_name)\n",
    "\n",
    "    images = np.array(images)\n",
    "    labels = label_encoder.fit_transform(labels)\n",
    "\n",
    "    return images, labels, classes"
   ],
   "metadata": {
    "collapsed": false,
    "ExecuteTime": {
     "end_time": "2024-02-27T08:04:56.333072Z",
     "start_time": "2024-02-27T08:04:56.321073Z"
    }
   },
   "id": "32e5cb37c40f1f45",
   "execution_count": 8,
   "outputs": []
  },
  {
   "cell_type": "code",
   "source": [
    "images, labels, classes =load_data(TRAIN_DIR)"
   ],
   "metadata": {
    "collapsed": false,
    "ExecuteTime": {
     "end_time": "2024-02-27T08:04:59.013317Z",
     "start_time": "2024-02-27T08:04:56.726074Z"
    }
   },
   "id": "5d038b97c72510c9",
   "execution_count": 9,
   "outputs": []
  },
  {
   "cell_type": "code",
   "source": [
    "X_train, X_test ,y_train, y_test = train_test_split(images, labels, test_size=0.2, random_state=42)"
   ],
   "metadata": {
    "collapsed": false,
    "ExecuteTime": {
     "end_time": "2024-02-27T08:04:59.251402Z",
     "start_time": "2024-02-27T08:04:59.015312Z"
    }
   },
   "id": "5288fe6b7bb080f5",
   "execution_count": 10,
   "outputs": []
  },
  {
   "cell_type": "code",
   "source": [
    "fig = plt.figure(figsize=(20,5))\n",
    "\n",
    "for i in range(36):\n",
    "    ax = fig.add_subplot(3,12, i+1, xticks=[], yticks=[])\n",
    "    ax.imshow(np.squeeze(X_train[i]))"
   ],
   "metadata": {
    "collapsed": false,
    "ExecuteTime": {
     "end_time": "2024-02-27T08:05:02.468006Z",
     "start_time": "2024-02-27T08:04:59.253311Z"
    }
   },
   "id": "ae02d90a25d536ad",
   "execution_count": 11,
   "outputs": []
  },
  {
   "cell_type": "code",
   "source": [
    "from keras.utils import to_categorical\n",
    "y_train = to_categorical(y_train, num_classes=6)\n",
    "y_test = to_categorical(y_test, num_classes=6)"
   ],
   "metadata": {
    "collapsed": false,
    "ExecuteTime": {
     "end_time": "2024-02-27T08:05:02.483441Z",
     "start_time": "2024-02-27T08:05:02.471900Z"
    }
   },
   "id": "828075ba11c21cb",
   "execution_count": 12,
   "outputs": []
  },
  {
   "cell_type": "code",
   "source": [
    "model = Sequential()\n",
    "\n",
    "model.add(Conv2D(filters=16, kernel_size=2, padding='same', activation='relu', input_shape=(224,224,3)))\n",
    "model.add(MaxPooling2D(pool_size=2))\n",
    "\n",
    "model.add(Conv2D(filters=32, kernel_size=2, padding='same', activation='relu'))\n",
    "model.add(MaxPooling2D(pool_size=2))\n",
    "\n",
    "model.add(Conv2D(filters=64, kernel_size=2, padding='same', activation='relu'))\n",
    "model.add(MaxPooling2D(pool_size=2))\n",
    "model.add(Dropout(.3))\n",
    "\n",
    "model.add(Flatten())\n",
    "model.add(Dense(255, activation='relu'))\n",
    "model.add(Dropout(.3))\n",
    "model.add(Dense(6, activation='softmax'))\n",
    "\n",
    "model.summary()      "
   ],
   "metadata": {
    "collapsed": false,
    "ExecuteTime": {
     "end_time": "2024-02-27T08:05:02.829210Z",
     "start_time": "2024-02-27T08:05:02.485635Z"
    }
   },
   "id": "367e5fee2a262279",
   "execution_count": 13,
   "outputs": []
  },
  {
   "cell_type": "code",
   "source": [
    "model.compile(loss='categorical_crossentropy',  metrics =['accuracy'])"
   ],
   "metadata": {
    "collapsed": false,
    "ExecuteTime": {
     "end_time": "2024-02-27T08:05:07.815763Z",
     "start_time": "2024-02-27T08:05:07.795763Z"
    }
   },
   "id": "8d34d91369953b38",
   "execution_count": 14,
   "outputs": []
  },
  {
   "cell_type": "code",
   "source": [
    "model.fit(X_train, y_train,epochs=5,validation_data=(X_test,y_test))"
   ],
   "metadata": {
    "collapsed": false,
    "ExecuteTime": {
     "end_time": "2024-02-18T14:14:46.048610Z",
     "start_time": "2024-02-18T14:14:13.268642Z"
    }
   },
   "id": "a7fa683a63bd1ab7",
   "execution_count": 40,
   "outputs": []
  },
  {
   "cell_type": "code",
   "source": [
    "model.compile(loss='categorical_crossentropy', optimizer = 'Nadam', metrics =['accuracy'])"
   ],
   "metadata": {
    "collapsed": false,
    "ExecuteTime": {
     "end_time": "2024-02-27T08:05:19.109484Z",
     "start_time": "2024-02-27T08:05:19.086479Z"
    }
   },
   "id": "cddcdbbf03263aba",
   "execution_count": 16,
   "outputs": []
  },
  {
   "cell_type": "code",
   "source": [
    "model.fit(X_train, y_train, validation_data=(X_test,y_test), batch_size=500,epochs=100)"
   ],
   "metadata": {
    "collapsed": false,
    "ExecuteTime": {
     "end_time": "2024-02-27T08:15:16.717552Z",
     "start_time": "2024-02-27T08:08:19.565322Z"
    }
   },
   "id": "30923f3c34a12999",
   "execution_count": 28,
   "outputs": []
  },
  {
   "cell_type": "code",
   "source": [
    "from sklearn.metrics import classification_report\n",
    "\n",
    "# Предсказания модели на валидационном наборе данных\n",
    "predictions = model.predict(validation_generator)\n",
    "\n",
    "# Преобразуйте вероятности предсказаний в метки классов\n",
    "predicted_classes = np.argmax(predictions, axis=1)\n",
    "\n",
    "# Извлеките фактические метки классов из генератора\n",
    "true_classes = validation_generator.classes\n",
    "\n",
    "# Извлеките названия классов из генератора\n",
    "class_labels = list(validation_generator.class_indices.keys())\n",
    "\n",
    "# Выведите отчет о классификации\n",
    "print(classification_report(true_classes, predicted_classes, target_names=class_labels))"
   ],
   "metadata": {
    "collapsed": false,
    "ExecuteTime": {
     "end_time": "2024-02-27T08:15:20.723939Z",
     "start_time": "2024-02-27T08:15:20.471419Z"
    }
   },
   "id": "11ddf7b6012d4d03",
   "execution_count": 29,
   "outputs": []
  },
  {
   "cell_type": "code",
   "source": [
    "from keras.models import load_model\n",
    "\n",
    "# Загрузка модели\n",
    "model1 = load_model('C:/Users/Peter/DataspellProjects/kaggle/jellyfish_image_classification/model_1.h5')\n",
    "model2 = load_model('C:/Users/Peter/DataspellProjects/kaggle/jellyfish_image_classification/model_2.h5')\n",
    "model3 = load_model('C:/Users/Peter/DataspellProjects/kaggle/jellyfish_image_classification/model3_.h5')\n",
    "model4 = load_model('C:/Users/Peter/DataspellProjects/kaggle/jellyfish_image_classification/model_new.h5')\n"
   ],
   "metadata": {
    "collapsed": false,
    "ExecuteTime": {
     "end_time": "2024-03-04T20:00:01.710536Z",
     "start_time": "2024-03-04T19:59:59.044456Z"
    }
   },
   "id": "c01547f3cf376cb2",
   "execution_count": 17,
   "outputs": []
  },
  {
   "cell_type": "code",
   "source": [
    "# Оценка модели на валидационных данных\n",
    "evaluation = model1.evaluate(val_generator)\n",
    "\n",
    "# Вывод метрик\n",
    "print(f\"Loss: {evaluation[0]}\")\n",
    "print(f\"Accuracy: {evaluation[1]}\")"
   ],
   "metadata": {
    "collapsed": false,
    "ExecuteTime": {
     "end_time": "2024-02-27T22:39:07.533810Z",
     "start_time": "2024-02-27T22:39:03.939689Z"
    }
   },
   "id": "ebe059b79943e7c9",
   "execution_count": 90,
   "outputs": []
  },
  {
   "cell_type": "code",
   "source": [
    "# Оценка модели на валидационных данных\n",
    "evaluation = model2.evaluate(val_generator)\n",
    "\n",
    "# Вывод метрик\n",
    "print(f\"Loss: {evaluation[0]}\")\n",
    "print(f\"Accuracy: {evaluation[1]}\")"
   ],
   "metadata": {
    "collapsed": false,
    "ExecuteTime": {
     "end_time": "2024-02-27T22:39:11.566085Z",
     "start_time": "2024-02-27T22:39:07.599810Z"
    }
   },
   "id": "e87db0e878539795",
   "execution_count": 91,
   "outputs": []
  },
  {
   "cell_type": "code",
   "source": [
    "# Оценка модели на валидационных данных\n",
    "evaluation = model3.evaluate(val_generator)\n",
    "\n",
    "# Вывод метрик\n",
    "print(f\"Loss: {evaluation[0]}\")\n",
    "print(f\"Accuracy: {evaluation[1]}\")"
   ],
   "metadata": {
    "collapsed": false,
    "ExecuteTime": {
     "end_time": "2024-02-27T22:39:12.920601Z",
     "start_time": "2024-02-27T22:39:11.568086Z"
    }
   },
   "id": "7261e7a455fb76b3",
   "execution_count": 92,
   "outputs": []
  },
  {
   "cell_type": "code",
   "source": [
    "from PIL import Image\n",
    "\n",
    "# Путь к изображению на вашем компьютере\n",
    "image_path = 'C:/Users/Peter/DataspellProjects/kaggle/jellyfish_image_classification/moon-jellyfish.jpg'\n",
    "\n",
    "# Отображение изображения\n",
    "image_pred = Image.open(image_path)\n",
    "image_pred_resized = image_pred.resize((224, 224))\n",
    "\n",
    "image_tensor = tf.keras.preprocessing.image.img_to_array(image_pred_resized)\n",
    "image_tensor = image_tensor[np.newaxis, ...]\n"
   ],
   "metadata": {
    "collapsed": false,
    "ExecuteTime": {
     "end_time": "2024-03-05T09:36:39.139799Z",
     "start_time": "2024-03-05T09:36:39.111293Z"
    }
   },
   "id": "4d167a7de043b172",
   "execution_count": 39,
   "outputs": []
  },
  {
   "cell_type": "code",
   "source": [],
   "metadata": {
    "collapsed": false,
    "ExecuteTime": {
     "end_time": "2024-03-05T09:00:09.518642Z",
     "start_time": "2024-03-05T09:00:09.501640Z"
    }
   },
   "id": "5a301f3d4b253220",
   "execution_count": 37,
   "outputs": []
  },
  {
   "cell_type": "code",
   "source": [
    "model4.predict(image_tensor)"
   ],
   "metadata": {
    "collapsed": false,
    "ExecuteTime": {
     "end_time": "2024-03-04T20:00:07.447864Z",
     "start_time": "2024-03-04T20:00:07.150772Z"
    }
   },
   "id": "b3d1ed60df15fd6b",
   "execution_count": 19,
   "outputs": []
  },
  {
   "cell_type": "markdown",
   "source": [
    "0 : Moon_jellyfish\n",
    "1 : barrel_jellyfish\n",
    "2 : blue_jellyfish\n",
    "3 : compass_jellyfish\n",
    "4 : lions_mane_jellyfish\n",
    "5 : mauve_stinger_jellyfish"
   ],
   "metadata": {
    "collapsed": false
   },
   "id": "1f186f8e3b34d53e"
  },
  {
   "cell_type": "code",
   "source": [
    "jelly_type = pd.DataFrame({\n",
    "    0: ['Moon_jellyfish'],\n",
    "    1: ['barrel_jellyfish'],\n",
    "    2: ['blue_jellyfish'],\n",
    "    3: ['compass_jellyfish'],\n",
    "    4: ['lions_mane_jellyfish'],\n",
    "    5: ['mauve_stinger_jellyfish']\n",
    "})\n",
    "jelly_type = jelly_type.T\n",
    "jelly_type"
   ],
   "metadata": {
    "collapsed": false,
    "ExecuteTime": {
     "end_time": "2024-03-04T22:41:21.019751Z",
     "start_time": "2024-03-04T22:41:20.995752Z"
    }
   },
   "id": "41e84bf0e7a5029d",
   "execution_count": 24,
   "outputs": []
  },
  {
   "cell_type": "code",
   "source": [
    "result = np.argmax(model4.predict(image_tensor).T)\n",
    "predicted_jellyfish_type = jelly_type.iloc[np.argmax(model4.predict(image_tensor).T),0]"
   ],
   "metadata": {
    "collapsed": false,
    "ExecuteTime": {
     "end_time": "2024-03-04T22:49:25.252752Z",
     "start_time": "2024-03-04T22:49:25.086757Z"
    }
   },
   "id": "df9c097a184bcab",
   "execution_count": 36,
   "outputs": []
  }
 ],
 "metadata": {
  "kernelspec": {
   "display_name": "Python 3",
   "language": "python",
   "name": "python3"
  },
  "language_info": {
   "codemirror_mode": {
    "name": "ipython",
    "version": 2
   },
   "file_extension": ".py",
   "mimetype": "text/x-python",
   "name": "python",
   "nbconvert_exporter": "python",
   "pygments_lexer": "ipython2",
   "version": "2.7.6"
  }
 },
 "nbformat": 4,
 "nbformat_minor": 5
}
