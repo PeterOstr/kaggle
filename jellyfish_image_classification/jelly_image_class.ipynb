{
 "cells": [
  {
   "cell_type": "code",
   "execution_count": 1,
   "id": "initial_id",
   "metadata": {
    "collapsed": true,
    "ExecuteTime": {
     "end_time": "2024-01-02T18:31:34.816337Z",
     "start_time": "2024-01-02T18:31:29.430598Z"
    }
   },
   "outputs": [],
   "source": [
    "import os, shutil\n",
    "from keras import layers\n",
    "from keras import models\n",
    "import pandas as pd\n",
    "import tensorflow as tf\n",
    "import tensorflow.keras as keras\n",
    "\n",
    "import numpy as np \n",
    "import pandas as pd \n",
    "import cv2\n",
    "import matplotlib.pyplot as plt\n",
    "from tqdm import tqdm\n",
    "from random import shuffle\n",
    "\n",
    "from keras.utils import to_categorical\n",
    "from keras.layers import Dense,Conv2D,Flatten,MaxPool2D,Dropout\n",
    "from keras.models import Sequential"
   ]
  },
  {
   "cell_type": "markdown",
   "source": [
    "This is kaglle  Jellyfish Image Dataset (https://www.kaggle.com/datasets/anshtanwar/jellyfish-types/data).\n",
    "This dataset contains 900 images of jellyfish belonging to six different categories and species: mauve stinger jellyfish, moon jellyfish, barrel jellyfish, blue jellyfish, compass jellyfish, and lion’s mane jellyfish. You can apply ML techniques to gain insights into jellyfish classification, species identification, and color analysis.\n",
    "\n",
    "**Moon jellyfish (Aurelia aurita)**: Common jellyfish with four horseshoe-shaped gonads visible through the top of its translucent bell. It feeds by collecting medusae, plankton, and mollusks with its tentacles.\n",
    "**Barrel jellyfish (Rhizostoma pulmo)**: Largest jellyfish found in British waters, with a bell that can grow up to 90 cm in diameter. It feeds on plankton and small fish by catching them in its tentacles.\n",
    "**Blue jellyfish (Cyanea lamarckii)**: Large jellyfish that can grow up to 30 cm in diameter. It feeds on plankton and small fish by catching them in its tentacles.\n",
    "**Compass jellyfish (Chrysaora hysoscella)**: Named after the brown markings on its bell that resemble a compass rose. It feeds on plankton and small fish by catching them in its tentacles.\n",
    "**Lion’s mane jellyfish (Cyanea capillata)**: Largest jellyfish in the world, with a bell that can grow up to 2 meters in diameter and tentacles that can reach up to 30 meters in length. It feeds on plankton and small fish by catching them in its tentacles.\n",
    "**Mauve stinger (Pelagia noctiluca)**: Small jellyfish with long tentacles and warty structures on its bell full of stinging cells. It feeds on other small jellyfish and oceanic sea squirts."
   ],
   "metadata": {
    "collapsed": false
   },
   "id": "eaf11e155e432c87"
  },
  {
   "cell_type": "code",
   "execution_count": null,
   "outputs": [],
   "source": [
    "os.getcwd()"
   ],
   "metadata": {
    "collapsed": false
   },
   "id": "e77b5684f7b1204f"
  },
  {
   "cell_type": "code",
   "execution_count": null,
   "outputs": [],
   "source": [
    "TRAIN_DIR = 'C:/Users/Peter/DataspellProjects/kaggle/jellyfish_image_classification/data/Train_Test_Valid/Train'\n",
    "TEST_DIR = 'C:/Users/Peter/DataspellProjects/kaggle/jellyfish_image_classification/data/Train_Test_Valid/test'\n",
    "IMG_SIZE = 224# our images are 224x224x3\n"
   ],
   "metadata": {
    "collapsed": false
   },
   "id": "38c8e17e05ed5caf"
  },
  {
   "cell_type": "code",
   "execution_count": null,
   "outputs": [],
   "source": [
    "#Converting the output into one-hot format\n",
    "def label_img(img):\n",
    "    word_label = img.split('_')[0]\n",
    "    if word_label == 'barrel': return [1,0,0,0,0,0]\n",
    "    elif word_label == 'blue': return [0,1,0,0,0,0]\n",
    "    elif word_label == 'compass': return [0,0,1,0,0,0]\n",
    "    elif word_label == 'lions': return [0,0,0,1,0,0]\n",
    "    elif word_label == 'mauve': return [0,0,0,0,1,0]\n",
    "    elif word_label == 'Moon': return [0,0,0,0,0,1]"
   ],
   "metadata": {
    "collapsed": false
   },
   "id": "d1194eb992b2f10e"
  },
  {
   "cell_type": "code",
   "execution_count": null,
   "outputs": [],
   "source": [
    "#A function to read training images from folder\n",
    "def create_train_data():\n",
    "    training_data = []\n",
    "    for fold in tqdm(os.listdir(TRAIN_DIR)):\n",
    "        label = label_img(fold)\n",
    "        path = TRAIN_DIR + '/' + fold\n",
    "        # print(label)\n",
    "        # print(path)\n",
    "        files_names = os.listdir(path)\n",
    "        for filename in files_names:\n",
    "            path_img = path + '/' + filename\n",
    "            img = cv2.imread(path_img,1)\n",
    "            img = cv2.resize(img, (IMG_SIZE,IMG_SIZE))\n",
    "            training_data.append([np.array(img),np.array(label)])\n",
    "            \n",
    "        \n",
    "    shuffle(training_data)\n",
    "    train_images, train_labels = zip(*training_data)  # Разделяем изображения и метки\n",
    "\n",
    "    return training_data"
   ],
   "metadata": {
    "collapsed": false
   },
   "id": "5a5c551dac09bf70"
  },
  {
   "cell_type": "code",
   "execution_count": null,
   "outputs": [],
   "source": [
    "train_data = create_train_data()"
   ],
   "metadata": {
    "collapsed": false
   },
   "id": "e4c2ebb068baed39"
  },
  {
   "cell_type": "code",
   "execution_count": null,
   "outputs": [],
   "source": [
    "plt.imshow(train_data[0][0])"
   ],
   "metadata": {
    "collapsed": false
   },
   "id": "8af0d53780c44299"
  },
  {
   "cell_type": "code",
   "execution_count": null,
   "outputs": [],
   "source": [
    "#A function to read training images from folder\n",
    "def create_test_data():\n",
    "    testing_data = []\n",
    "    for fold in tqdm(os.listdir(TEST_DIR)):\n",
    "        label = label_img(fold)\n",
    "        path = TEST_DIR + '/' + fold\n",
    "        # print(label)\n",
    "        # print(path)\n",
    "        files_names = os.listdir(path)\n",
    "        for filename in files_names:\n",
    "            path_img = path + '/' + filename\n",
    "            img = cv2.imread(path_img,1)\n",
    "            img = cv2.resize(img, (IMG_SIZE,IMG_SIZE))\n",
    "            testing_data.append([np.array(img),np.array(label)])\n",
    "\n",
    "    shuffle(testing_data)\n",
    "    images, labels = zip(*testing_data)  # Разделяем изображения и метки\n",
    "\n",
    "\n",
    "    return testing_data"
   ],
   "metadata": {
    "collapsed": false
   },
   "id": "3aa32bd846b4a0f9"
  },
  {
   "cell_type": "code",
   "execution_count": null,
   "outputs": [],
   "source": [
    "# Creating a Sequential model\n",
    "model= Sequential()\n",
    "model.add(Conv2D(kernel_size=(3,3), filters=32, activation='tanh', input_shape=(240,240,3,)))\n",
    "model.add(Conv2D(filters=30,kernel_size = (3,3),activation='tanh'))\n",
    "model.add(MaxPool2D(2,2))\n",
    "model.add(Conv2D(filters=30,kernel_size = (3,3),activation='tanh'))\n",
    "model.add(MaxPool2D(2,2))\n",
    "model.add(Conv2D(filters=30,kernel_size = (3,3),activation='tanh'))\n",
    "\n",
    "model.add(Flatten())\n",
    "\n",
    "model.add(Dense(20,activation='relu'))\n",
    "model.add(Dense(15,activation='relu'))\n",
    "model.add(Dense(6,activation = 'softmax'))\n",
    "\n",
    "model.compile(\n",
    "    loss='categorical_crossentropy',\n",
    "    metrics=['acc'],\n",
    "    optimizer='adam'\n",
    ")"
   ],
   "metadata": {
    "collapsed": false
   },
   "id": "4d67d09c57d1500f"
  },
  {
   "cell_type": "code",
   "execution_count": null,
   "outputs": [],
   "source": [
    "train_images, train_labels = zip(*training_data)  # Разделяем изображения и метки\n",
    "train_labels"
   ],
   "metadata": {
    "collapsed": false
   },
   "id": "6db3767bd1a386b"
  },
  {
   "cell_type": "code",
   "execution_count": null,
   "outputs": [],
   "source": [
    "X_train,X_val,y_train,y_val = train_test_split(train_images,train_labels,random_state=1)"
   ],
   "metadata": {
    "collapsed": false
   },
   "id": "5a34ee003be17859"
  },
  {
   "cell_type": "code",
   "execution_count": null,
   "outputs": [],
   "source": [],
   "metadata": {
    "collapsed": false
   },
   "id": "92c6a19ff87d98e5"
  },
  {
   "cell_type": "code",
   "execution_count": null,
   "outputs": [],
   "source": [
    "test_data = create_test_data()"
   ],
   "metadata": {
    "collapsed": false
   },
   "id": "faeaa8edc2adec26"
  },
  {
   "cell_type": "code",
   "execution_count": null,
   "outputs": [],
   "source": [
    "len(train_data)"
   ],
   "metadata": {
    "collapsed": false
   },
   "id": "e268b47dafa97e96"
  },
  {
   "cell_type": "code",
   "execution_count": null,
   "outputs": [],
   "source": [
    "import tensorflow as tf\n",
    "from tensorflow.keras import layers, models\n",
    "from sklearn.model_selection import train_test_split\n",
    "\n",
    "# Функция создания нейросети\n",
    "def create_model(input_shape, num_classes):\n",
    "    model = models.Sequential()\n",
    "\n",
    "    # Слой свертки и пулинга\n",
    "    model.add(layers.Conv2D(32, (3, 3), activation='relu', input_shape=input_shape))\n",
    "    model.add(layers.MaxPooling2D((2, 2)))\n",
    "\n",
    "    # Слой свертки и пулинга\n",
    "    model.add(layers.Conv2D(64, (3, 3), activation='relu'))\n",
    "    model.add(layers.MaxPooling2D((2, 2)))\n",
    "\n",
    "    # Слой свертки и пулинга\n",
    "    model.add(layers.Conv2D(64, (3, 3), activation='relu'))\n",
    "    model.add(layers.MaxPooling2D((2, 2)))\n",
    "\n",
    "    # Выравнивание данных для полносвязного слоя\n",
    "    model.add(layers.Flatten())\n",
    "\n",
    "    # Полносвязный слой\n",
    "    model.add(layers.Dense(64, activation='relu'))\n",
    "\n",
    "    # Выходной слой с функцией активации softmax для мультиклассификации\n",
    "    model.add(layers.Dense(num_classes, activation='softmax'))\n",
    "\n",
    "    return model\n",
    "\n",
    "# Параметры\n",
    "IMG_SIZE = 240\n",
    "NUM_CLASSES = len(os.listdir(TRAIN_DIR))  # Количество классов\n",
    "INPUT_SHAPE = (IMG_SIZE, IMG_SIZE, 3)\n",
    "\n",
    "# Создание данных\n",
    "training_data = create_train_data()\n",
    "\n",
    "# Разделение данных на обучающую и тестовую выборки\n",
    "images, labels = zip(*training_data)\n",
    "X_train, X_test, y_train, y_test = train_test_split(images, labels, test_size=0.2, random_state=42)\n",
    "\n",
    "# Преобразование данных в формат, совместимый с нейросетью\n",
    "X_train = np.array(X_train) / 255.0\n",
    "X_test = np.array(X_test) / 255.0\n",
    "y_train = tf.keras.utils.to_categorical(y_train, num_classes=NUM_CLASSES)\n",
    "y_test = tf.keras.utils.to_categorical(y_test, num_classes=NUM_CLASSES)\n",
    "\n",
    "# Создание и компиляция модели\n",
    "model = create_model(INPUT_SHAPE, NUM_CLASSES)\n",
    "model.compile(optimizer='adam', loss='categorical_crossentropy', metrics=['accuracy'])\n",
    "\n",
    "# Обучение модели\n",
    "model.fit(X_train, y_train, epochs=10, validation_data=(X_test, y_test))\n"
   ],
   "metadata": {
    "collapsed": false
   },
   "id": "8a0adaaee228f3e"
  },
  {
   "cell_type": "code",
   "execution_count": null,
   "outputs": [],
   "source": [
    "X_train.shape"
   ],
   "metadata": {
    "collapsed": false
   },
   "id": "bc9611ac842431e3"
  },
  {
   "cell_type": "code",
   "execution_count": null,
   "outputs": [],
   "source": [
    "#Splitting into Training and CV datasets\n",
    "train = train_data[:750]\n",
    "cv = train_data[750:]"
   ],
   "metadata": {
    "collapsed": false
   },
   "id": "dd07e7dcc1abac04"
  },
  {
   "cell_type": "code",
   "execution_count": null,
   "outputs": [],
   "source": [
    "X = np.array([i[0] for i in train]).reshape(-1,IMG_SIZE,IMG_SIZE,3)\n",
    "Y = np.array([i[1] for i in train])\n",
    "\n",
    "cv_x = np.array([i[0] for i in cv]).reshape(-1,IMG_SIZE,IMG_SIZE,3)\n",
    "cv_y = np.array([i[1] for i in cv])"
   ],
   "metadata": {
    "collapsed": false
   },
   "id": "f6ec2efe6cfcb271"
  },
  {
   "cell_type": "code",
   "execution_count": null,
   "outputs": [],
   "source": [
    "test_x = np.array([i[0] for i in test_data]).reshape(-1,IMG_SIZE,IMG_SIZE,3)\n",
    "test_y = np.array([i[1] for i in test_data])"
   ],
   "metadata": {
    "collapsed": false
   },
   "id": "852ca0e106938398"
  },
  {
   "cell_type": "code",
   "execution_count": null,
   "outputs": [],
   "source": [
    "print(X.shape)"
   ],
   "metadata": {
    "collapsed": false
   },
   "id": "15a5a5f626bbd0dc"
  },
  {
   "cell_type": "code",
   "execution_count": null,
   "outputs": [],
   "source": [
    "print(Y[2],type(Y[2]))"
   ],
   "metadata": {
    "collapsed": false
   },
   "id": "bba1beda0cd6b5c4"
  },
  {
   "cell_type": "code",
   "execution_count": null,
   "outputs": [],
   "source": [
    "cv_x.shape"
   ],
   "metadata": {
    "collapsed": false
   },
   "id": "843c37424975b51"
  },
  {
   "cell_type": "code",
   "execution_count": null,
   "outputs": [],
   "source": [
    "test_x.shape"
   ],
   "metadata": {
    "collapsed": false
   },
   "id": "182336dc9025b0cc"
  },
  {
   "cell_type": "code",
   "execution_count": null,
   "outputs": [],
   "source": [],
   "metadata": {
    "collapsed": false
   },
   "id": "7196d8c7f792cd54"
  },
  {
   "cell_type": "code",
   "execution_count": null,
   "outputs": [],
   "source": [],
   "metadata": {
    "collapsed": false
   },
   "id": "f0c40e0e6222c5d1"
  }
 ],
 "metadata": {
  "kernelspec": {
   "display_name": "Python 3",
   "language": "python",
   "name": "python3"
  },
  "language_info": {
   "codemirror_mode": {
    "name": "ipython",
    "version": 2
   },
   "file_extension": ".py",
   "mimetype": "text/x-python",
   "name": "python",
   "nbconvert_exporter": "python",
   "pygments_lexer": "ipython2",
   "version": "2.7.6"
  }
 },
 "nbformat": 4,
 "nbformat_minor": 5
}
