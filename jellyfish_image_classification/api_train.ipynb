{
 "cells": [
  {
   "cell_type": "code",
   "execution_count": 1,
   "id": "initial_id",
   "metadata": {
    "collapsed": true,
    "ExecuteTime": {
     "end_time": "2024-03-04T23:00:50.580060Z",
     "start_time": "2024-03-04T23:00:46.106724Z"
    }
   },
   "outputs": [],
   "source": [
    "from PIL import Image\n",
    "import pandas as pd\n",
    "import joblib\n",
    "import json\n",
    "from io import StringIO\n",
    "from sklearn.model_selection import train_test_split\n",
    "\n",
    "import mlflow\n",
    "import matplotlib.pyplot as plt\n",
    "from mlflow import MlflowClient\n",
    "import requests\n",
    "from keras.models import load_model\n"
   ]
  },
  {
   "cell_type": "code",
   "outputs": [],
   "source": [
    "model = load_model('C:/Users/Peter/DataspellProjects/kaggle/jellyfish_image_classification/model_new.h5')\n"
   ],
   "metadata": {
    "collapsed": false,
    "ExecuteTime": {
     "end_time": "2024-03-04T23:01:14.420732Z",
     "start_time": "2024-03-04T23:01:13.450550Z"
    }
   },
   "id": "b54ee3cd849c7fdf",
   "execution_count": 2
  },
  {
   "cell_type": "code",
   "outputs": [],
   "source": [
    "from PIL import Image\n",
    "\n",
    "# Путь к изображению на вашем компьютере\n",
    "image_path = 'C:/Users/Peter/DataspellProjects/kaggle/jellyfish_image_classification/moon-jellyfish.jpg'\n",
    "\n",
    "# Отображение изображения\n",
    "image_pred = Image.open(image_path)\n",
    "# image_pred_resized = image_pred.resize((224, 224))\n",
    "# \n",
    "# image_tensor = tf.keras.preprocessing.image.img_to_array(image_pred_resized)\n",
    "# image_tensor = image_tensor[np.newaxis, ...]\n"
   ],
   "metadata": {
    "collapsed": false,
    "ExecuteTime": {
     "end_time": "2024-03-04T23:01:36.080509Z",
     "start_time": "2024-03-04T23:01:36.059510Z"
    }
   },
   "id": "87564059f4138500",
   "execution_count": 3
  },
  {
   "cell_type": "code",
   "outputs": [],
   "source": [
    "\n",
    "\n",
    "image_dict = image_pred.reset_index().to_dict(orient='list')\n",
    "\n",
    "predicted_data_response_xgb = requests.post('http://127.0.0.1:8000/model/predict_xgb',  json=X_dict) # local address\n",
    "# predicted_data_response = requests.post('https://first-try-6o4cxe37ma-uc.a.run.app/model/predict',  json=X_test_dict) # docker addsess\n",
    "\n",
    "print(predicted_data_response_xgb)\n",
    "print(predicted_data_response_xgb.text)"
   ],
   "metadata": {
    "collapsed": false
   },
   "id": "c1fe91887609b986"
  },
  {
   "cell_type": "code",
   "outputs": [
    {
     "ename": "TypeError",
     "evalue": "Object of type JpegImageFile is not JSON serializable",
     "output_type": "error",
     "traceback": [
      "\u001B[1;31m---------------------------------------------------------------------------\u001B[0m",
      "\u001B[1;31mTypeError\u001B[0m                                 Traceback (most recent call last)",
      "Cell \u001B[1;32mIn[4], line 15\u001B[0m\n\u001B[0;32m     12\u001B[0m image_dict \u001B[38;5;241m=\u001B[39m {\u001B[38;5;124m'\u001B[39m\u001B[38;5;124mimage_file\u001B[39m\u001B[38;5;124m'\u001B[39m: image_pred}\n\u001B[0;32m     14\u001B[0m \u001B[38;5;66;03m# Отправка запроса на предсказание с использованием FastAPI\u001B[39;00m\n\u001B[1;32m---> 15\u001B[0m predicted_data_response \u001B[38;5;241m=\u001B[39m \u001B[43mrequests\u001B[49m\u001B[38;5;241;43m.\u001B[39;49m\u001B[43mpost\u001B[49m\u001B[43m(\u001B[49m\u001B[38;5;124;43m'\u001B[39;49m\u001B[38;5;124;43mhttp://127.0.0.1:8000/model/predict\u001B[39;49m\u001B[38;5;124;43m'\u001B[39;49m\u001B[43m,\u001B[49m\u001B[43m \u001B[49m\u001B[43mjson\u001B[49m\u001B[38;5;241;43m=\u001B[39;49m\u001B[43mimage_dict\u001B[49m\u001B[43m)\u001B[49m\n\u001B[0;32m     17\u001B[0m \u001B[38;5;66;03m# Вывод результатов предсказания\u001B[39;00m\n\u001B[0;32m     18\u001B[0m \u001B[38;5;28mprint\u001B[39m(predicted_data_response)\n",
      "File \u001B[1;32mC:\\ProgramData\\anaconda3\\envs\\kaggle\\lib\\site-packages\\requests\\api.py:115\u001B[0m, in \u001B[0;36mpost\u001B[1;34m(url, data, json, **kwargs)\u001B[0m\n\u001B[0;32m    103\u001B[0m \u001B[38;5;28;01mdef\u001B[39;00m \u001B[38;5;21mpost\u001B[39m(url, data\u001B[38;5;241m=\u001B[39m\u001B[38;5;28;01mNone\u001B[39;00m, json\u001B[38;5;241m=\u001B[39m\u001B[38;5;28;01mNone\u001B[39;00m, \u001B[38;5;241m*\u001B[39m\u001B[38;5;241m*\u001B[39mkwargs):\n\u001B[0;32m    104\u001B[0m \u001B[38;5;250m    \u001B[39m\u001B[38;5;124mr\u001B[39m\u001B[38;5;124;03m\"\"\"Sends a POST request.\u001B[39;00m\n\u001B[0;32m    105\u001B[0m \n\u001B[0;32m    106\u001B[0m \u001B[38;5;124;03m    :param url: URL for the new :class:`Request` object.\u001B[39;00m\n\u001B[1;32m   (...)\u001B[0m\n\u001B[0;32m    112\u001B[0m \u001B[38;5;124;03m    :rtype: requests.Response\u001B[39;00m\n\u001B[0;32m    113\u001B[0m \u001B[38;5;124;03m    \"\"\"\u001B[39;00m\n\u001B[1;32m--> 115\u001B[0m     \u001B[38;5;28;01mreturn\u001B[39;00m request(\u001B[38;5;124m\"\u001B[39m\u001B[38;5;124mpost\u001B[39m\u001B[38;5;124m\"\u001B[39m, url, data\u001B[38;5;241m=\u001B[39mdata, json\u001B[38;5;241m=\u001B[39mjson, \u001B[38;5;241m*\u001B[39m\u001B[38;5;241m*\u001B[39mkwargs)\n",
      "File \u001B[1;32mC:\\ProgramData\\anaconda3\\envs\\kaggle\\lib\\site-packages\\requests\\api.py:59\u001B[0m, in \u001B[0;36mrequest\u001B[1;34m(method, url, **kwargs)\u001B[0m\n\u001B[0;32m     55\u001B[0m \u001B[38;5;66;03m# By using the 'with' statement we are sure the session is closed, thus we\u001B[39;00m\n\u001B[0;32m     56\u001B[0m \u001B[38;5;66;03m# avoid leaving sockets open which can trigger a ResourceWarning in some\u001B[39;00m\n\u001B[0;32m     57\u001B[0m \u001B[38;5;66;03m# cases, and look like a memory leak in others.\u001B[39;00m\n\u001B[0;32m     58\u001B[0m \u001B[38;5;28;01mwith\u001B[39;00m sessions\u001B[38;5;241m.\u001B[39mSession() \u001B[38;5;28;01mas\u001B[39;00m session:\n\u001B[1;32m---> 59\u001B[0m     \u001B[38;5;28;01mreturn\u001B[39;00m session\u001B[38;5;241m.\u001B[39mrequest(method\u001B[38;5;241m=\u001B[39mmethod, url\u001B[38;5;241m=\u001B[39murl, \u001B[38;5;241m*\u001B[39m\u001B[38;5;241m*\u001B[39mkwargs)\n",
      "File \u001B[1;32mC:\\ProgramData\\anaconda3\\envs\\kaggle\\lib\\site-packages\\requests\\sessions.py:575\u001B[0m, in \u001B[0;36mSession.request\u001B[1;34m(self, method, url, params, data, headers, cookies, files, auth, timeout, allow_redirects, proxies, hooks, stream, verify, cert, json)\u001B[0m\n\u001B[0;32m    562\u001B[0m \u001B[38;5;66;03m# Create the Request.\u001B[39;00m\n\u001B[0;32m    563\u001B[0m req \u001B[38;5;241m=\u001B[39m Request(\n\u001B[0;32m    564\u001B[0m     method\u001B[38;5;241m=\u001B[39mmethod\u001B[38;5;241m.\u001B[39mupper(),\n\u001B[0;32m    565\u001B[0m     url\u001B[38;5;241m=\u001B[39murl,\n\u001B[1;32m   (...)\u001B[0m\n\u001B[0;32m    573\u001B[0m     hooks\u001B[38;5;241m=\u001B[39mhooks,\n\u001B[0;32m    574\u001B[0m )\n\u001B[1;32m--> 575\u001B[0m prep \u001B[38;5;241m=\u001B[39m \u001B[38;5;28;43mself\u001B[39;49m\u001B[38;5;241;43m.\u001B[39;49m\u001B[43mprepare_request\u001B[49m\u001B[43m(\u001B[49m\u001B[43mreq\u001B[49m\u001B[43m)\u001B[49m\n\u001B[0;32m    577\u001B[0m proxies \u001B[38;5;241m=\u001B[39m proxies \u001B[38;5;129;01mor\u001B[39;00m {}\n\u001B[0;32m    579\u001B[0m settings \u001B[38;5;241m=\u001B[39m \u001B[38;5;28mself\u001B[39m\u001B[38;5;241m.\u001B[39mmerge_environment_settings(\n\u001B[0;32m    580\u001B[0m     prep\u001B[38;5;241m.\u001B[39murl, proxies, stream, verify, cert\n\u001B[0;32m    581\u001B[0m )\n",
      "File \u001B[1;32mC:\\ProgramData\\anaconda3\\envs\\kaggle\\lib\\site-packages\\requests\\sessions.py:486\u001B[0m, in \u001B[0;36mSession.prepare_request\u001B[1;34m(self, request)\u001B[0m\n\u001B[0;32m    483\u001B[0m     auth \u001B[38;5;241m=\u001B[39m get_netrc_auth(request\u001B[38;5;241m.\u001B[39murl)\n\u001B[0;32m    485\u001B[0m p \u001B[38;5;241m=\u001B[39m PreparedRequest()\n\u001B[1;32m--> 486\u001B[0m \u001B[43mp\u001B[49m\u001B[38;5;241;43m.\u001B[39;49m\u001B[43mprepare\u001B[49m\u001B[43m(\u001B[49m\n\u001B[0;32m    487\u001B[0m \u001B[43m    \u001B[49m\u001B[43mmethod\u001B[49m\u001B[38;5;241;43m=\u001B[39;49m\u001B[43mrequest\u001B[49m\u001B[38;5;241;43m.\u001B[39;49m\u001B[43mmethod\u001B[49m\u001B[38;5;241;43m.\u001B[39;49m\u001B[43mupper\u001B[49m\u001B[43m(\u001B[49m\u001B[43m)\u001B[49m\u001B[43m,\u001B[49m\n\u001B[0;32m    488\u001B[0m \u001B[43m    \u001B[49m\u001B[43murl\u001B[49m\u001B[38;5;241;43m=\u001B[39;49m\u001B[43mrequest\u001B[49m\u001B[38;5;241;43m.\u001B[39;49m\u001B[43murl\u001B[49m\u001B[43m,\u001B[49m\n\u001B[0;32m    489\u001B[0m \u001B[43m    \u001B[49m\u001B[43mfiles\u001B[49m\u001B[38;5;241;43m=\u001B[39;49m\u001B[43mrequest\u001B[49m\u001B[38;5;241;43m.\u001B[39;49m\u001B[43mfiles\u001B[49m\u001B[43m,\u001B[49m\n\u001B[0;32m    490\u001B[0m \u001B[43m    \u001B[49m\u001B[43mdata\u001B[49m\u001B[38;5;241;43m=\u001B[39;49m\u001B[43mrequest\u001B[49m\u001B[38;5;241;43m.\u001B[39;49m\u001B[43mdata\u001B[49m\u001B[43m,\u001B[49m\n\u001B[0;32m    491\u001B[0m \u001B[43m    \u001B[49m\u001B[43mjson\u001B[49m\u001B[38;5;241;43m=\u001B[39;49m\u001B[43mrequest\u001B[49m\u001B[38;5;241;43m.\u001B[39;49m\u001B[43mjson\u001B[49m\u001B[43m,\u001B[49m\n\u001B[0;32m    492\u001B[0m \u001B[43m    \u001B[49m\u001B[43mheaders\u001B[49m\u001B[38;5;241;43m=\u001B[39;49m\u001B[43mmerge_setting\u001B[49m\u001B[43m(\u001B[49m\n\u001B[0;32m    493\u001B[0m \u001B[43m        \u001B[49m\u001B[43mrequest\u001B[49m\u001B[38;5;241;43m.\u001B[39;49m\u001B[43mheaders\u001B[49m\u001B[43m,\u001B[49m\u001B[43m \u001B[49m\u001B[38;5;28;43mself\u001B[39;49m\u001B[38;5;241;43m.\u001B[39;49m\u001B[43mheaders\u001B[49m\u001B[43m,\u001B[49m\u001B[43m \u001B[49m\u001B[43mdict_class\u001B[49m\u001B[38;5;241;43m=\u001B[39;49m\u001B[43mCaseInsensitiveDict\u001B[49m\n\u001B[0;32m    494\u001B[0m \u001B[43m    \u001B[49m\u001B[43m)\u001B[49m\u001B[43m,\u001B[49m\n\u001B[0;32m    495\u001B[0m \u001B[43m    \u001B[49m\u001B[43mparams\u001B[49m\u001B[38;5;241;43m=\u001B[39;49m\u001B[43mmerge_setting\u001B[49m\u001B[43m(\u001B[49m\u001B[43mrequest\u001B[49m\u001B[38;5;241;43m.\u001B[39;49m\u001B[43mparams\u001B[49m\u001B[43m,\u001B[49m\u001B[43m \u001B[49m\u001B[38;5;28;43mself\u001B[39;49m\u001B[38;5;241;43m.\u001B[39;49m\u001B[43mparams\u001B[49m\u001B[43m)\u001B[49m\u001B[43m,\u001B[49m\n\u001B[0;32m    496\u001B[0m \u001B[43m    \u001B[49m\u001B[43mauth\u001B[49m\u001B[38;5;241;43m=\u001B[39;49m\u001B[43mmerge_setting\u001B[49m\u001B[43m(\u001B[49m\u001B[43mauth\u001B[49m\u001B[43m,\u001B[49m\u001B[43m \u001B[49m\u001B[38;5;28;43mself\u001B[39;49m\u001B[38;5;241;43m.\u001B[39;49m\u001B[43mauth\u001B[49m\u001B[43m)\u001B[49m\u001B[43m,\u001B[49m\n\u001B[0;32m    497\u001B[0m \u001B[43m    \u001B[49m\u001B[43mcookies\u001B[49m\u001B[38;5;241;43m=\u001B[39;49m\u001B[43mmerged_cookies\u001B[49m\u001B[43m,\u001B[49m\n\u001B[0;32m    498\u001B[0m \u001B[43m    \u001B[49m\u001B[43mhooks\u001B[49m\u001B[38;5;241;43m=\u001B[39;49m\u001B[43mmerge_hooks\u001B[49m\u001B[43m(\u001B[49m\u001B[43mrequest\u001B[49m\u001B[38;5;241;43m.\u001B[39;49m\u001B[43mhooks\u001B[49m\u001B[43m,\u001B[49m\u001B[43m \u001B[49m\u001B[38;5;28;43mself\u001B[39;49m\u001B[38;5;241;43m.\u001B[39;49m\u001B[43mhooks\u001B[49m\u001B[43m)\u001B[49m\u001B[43m,\u001B[49m\n\u001B[0;32m    499\u001B[0m \u001B[43m\u001B[49m\u001B[43m)\u001B[49m\n\u001B[0;32m    500\u001B[0m \u001B[38;5;28;01mreturn\u001B[39;00m p\n",
      "File \u001B[1;32mC:\\ProgramData\\anaconda3\\envs\\kaggle\\lib\\site-packages\\requests\\models.py:371\u001B[0m, in \u001B[0;36mPreparedRequest.prepare\u001B[1;34m(self, method, url, headers, files, data, params, auth, cookies, hooks, json)\u001B[0m\n\u001B[0;32m    369\u001B[0m \u001B[38;5;28mself\u001B[39m\u001B[38;5;241m.\u001B[39mprepare_headers(headers)\n\u001B[0;32m    370\u001B[0m \u001B[38;5;28mself\u001B[39m\u001B[38;5;241m.\u001B[39mprepare_cookies(cookies)\n\u001B[1;32m--> 371\u001B[0m \u001B[38;5;28;43mself\u001B[39;49m\u001B[38;5;241;43m.\u001B[39;49m\u001B[43mprepare_body\u001B[49m\u001B[43m(\u001B[49m\u001B[43mdata\u001B[49m\u001B[43m,\u001B[49m\u001B[43m \u001B[49m\u001B[43mfiles\u001B[49m\u001B[43m,\u001B[49m\u001B[43m \u001B[49m\u001B[43mjson\u001B[49m\u001B[43m)\u001B[49m\n\u001B[0;32m    372\u001B[0m \u001B[38;5;28mself\u001B[39m\u001B[38;5;241m.\u001B[39mprepare_auth(auth, url)\n\u001B[0;32m    374\u001B[0m \u001B[38;5;66;03m# Note that prepare_auth must be last to enable authentication schemes\u001B[39;00m\n\u001B[0;32m    375\u001B[0m \u001B[38;5;66;03m# such as OAuth to work on a fully prepared request.\u001B[39;00m\n\u001B[0;32m    376\u001B[0m \n\u001B[0;32m    377\u001B[0m \u001B[38;5;66;03m# This MUST go after prepare_auth. Authenticators could add a hook\u001B[39;00m\n",
      "File \u001B[1;32mC:\\ProgramData\\anaconda3\\envs\\kaggle\\lib\\site-packages\\requests\\models.py:511\u001B[0m, in \u001B[0;36mPreparedRequest.prepare_body\u001B[1;34m(self, data, files, json)\u001B[0m\n\u001B[0;32m    508\u001B[0m content_type \u001B[38;5;241m=\u001B[39m \u001B[38;5;124m\"\u001B[39m\u001B[38;5;124mapplication/json\u001B[39m\u001B[38;5;124m\"\u001B[39m\n\u001B[0;32m    510\u001B[0m \u001B[38;5;28;01mtry\u001B[39;00m:\n\u001B[1;32m--> 511\u001B[0m     body \u001B[38;5;241m=\u001B[39m \u001B[43mcomplexjson\u001B[49m\u001B[38;5;241;43m.\u001B[39;49m\u001B[43mdumps\u001B[49m\u001B[43m(\u001B[49m\u001B[43mjson\u001B[49m\u001B[43m,\u001B[49m\u001B[43m \u001B[49m\u001B[43mallow_nan\u001B[49m\u001B[38;5;241;43m=\u001B[39;49m\u001B[38;5;28;43;01mFalse\u001B[39;49;00m\u001B[43m)\u001B[49m\n\u001B[0;32m    512\u001B[0m \u001B[38;5;28;01mexcept\u001B[39;00m \u001B[38;5;167;01mValueError\u001B[39;00m \u001B[38;5;28;01mas\u001B[39;00m ve:\n\u001B[0;32m    513\u001B[0m     \u001B[38;5;28;01mraise\u001B[39;00m InvalidJSONError(ve, request\u001B[38;5;241m=\u001B[39m\u001B[38;5;28mself\u001B[39m)\n",
      "File \u001B[1;32mC:\\ProgramData\\anaconda3\\envs\\kaggle\\lib\\json\\__init__.py:238\u001B[0m, in \u001B[0;36mdumps\u001B[1;34m(obj, skipkeys, ensure_ascii, check_circular, allow_nan, cls, indent, separators, default, sort_keys, **kw)\u001B[0m\n\u001B[0;32m    232\u001B[0m \u001B[38;5;28;01mif\u001B[39;00m \u001B[38;5;28mcls\u001B[39m \u001B[38;5;129;01mis\u001B[39;00m \u001B[38;5;28;01mNone\u001B[39;00m:\n\u001B[0;32m    233\u001B[0m     \u001B[38;5;28mcls\u001B[39m \u001B[38;5;241m=\u001B[39m JSONEncoder\n\u001B[0;32m    234\u001B[0m \u001B[38;5;28;01mreturn\u001B[39;00m \u001B[38;5;28;43mcls\u001B[39;49m\u001B[43m(\u001B[49m\n\u001B[0;32m    235\u001B[0m \u001B[43m    \u001B[49m\u001B[43mskipkeys\u001B[49m\u001B[38;5;241;43m=\u001B[39;49m\u001B[43mskipkeys\u001B[49m\u001B[43m,\u001B[49m\u001B[43m \u001B[49m\u001B[43mensure_ascii\u001B[49m\u001B[38;5;241;43m=\u001B[39;49m\u001B[43mensure_ascii\u001B[49m\u001B[43m,\u001B[49m\n\u001B[0;32m    236\u001B[0m \u001B[43m    \u001B[49m\u001B[43mcheck_circular\u001B[49m\u001B[38;5;241;43m=\u001B[39;49m\u001B[43mcheck_circular\u001B[49m\u001B[43m,\u001B[49m\u001B[43m \u001B[49m\u001B[43mallow_nan\u001B[49m\u001B[38;5;241;43m=\u001B[39;49m\u001B[43mallow_nan\u001B[49m\u001B[43m,\u001B[49m\u001B[43m \u001B[49m\u001B[43mindent\u001B[49m\u001B[38;5;241;43m=\u001B[39;49m\u001B[43mindent\u001B[49m\u001B[43m,\u001B[49m\n\u001B[0;32m    237\u001B[0m \u001B[43m    \u001B[49m\u001B[43mseparators\u001B[49m\u001B[38;5;241;43m=\u001B[39;49m\u001B[43mseparators\u001B[49m\u001B[43m,\u001B[49m\u001B[43m \u001B[49m\u001B[43mdefault\u001B[49m\u001B[38;5;241;43m=\u001B[39;49m\u001B[43mdefault\u001B[49m\u001B[43m,\u001B[49m\u001B[43m \u001B[49m\u001B[43msort_keys\u001B[49m\u001B[38;5;241;43m=\u001B[39;49m\u001B[43msort_keys\u001B[49m\u001B[43m,\u001B[49m\n\u001B[1;32m--> 238\u001B[0m \u001B[43m    \u001B[49m\u001B[38;5;241;43m*\u001B[39;49m\u001B[38;5;241;43m*\u001B[39;49m\u001B[43mkw\u001B[49m\u001B[43m)\u001B[49m\u001B[38;5;241;43m.\u001B[39;49m\u001B[43mencode\u001B[49m\u001B[43m(\u001B[49m\u001B[43mobj\u001B[49m\u001B[43m)\u001B[49m\n",
      "File \u001B[1;32mC:\\ProgramData\\anaconda3\\envs\\kaggle\\lib\\json\\encoder.py:199\u001B[0m, in \u001B[0;36mJSONEncoder.encode\u001B[1;34m(self, o)\u001B[0m\n\u001B[0;32m    195\u001B[0m         \u001B[38;5;28;01mreturn\u001B[39;00m encode_basestring(o)\n\u001B[0;32m    196\u001B[0m \u001B[38;5;66;03m# This doesn't pass the iterator directly to ''.join() because the\u001B[39;00m\n\u001B[0;32m    197\u001B[0m \u001B[38;5;66;03m# exceptions aren't as detailed.  The list call should be roughly\u001B[39;00m\n\u001B[0;32m    198\u001B[0m \u001B[38;5;66;03m# equivalent to the PySequence_Fast that ''.join() would do.\u001B[39;00m\n\u001B[1;32m--> 199\u001B[0m chunks \u001B[38;5;241m=\u001B[39m \u001B[38;5;28;43mself\u001B[39;49m\u001B[38;5;241;43m.\u001B[39;49m\u001B[43miterencode\u001B[49m\u001B[43m(\u001B[49m\u001B[43mo\u001B[49m\u001B[43m,\u001B[49m\u001B[43m \u001B[49m\u001B[43m_one_shot\u001B[49m\u001B[38;5;241;43m=\u001B[39;49m\u001B[38;5;28;43;01mTrue\u001B[39;49;00m\u001B[43m)\u001B[49m\n\u001B[0;32m    200\u001B[0m \u001B[38;5;28;01mif\u001B[39;00m \u001B[38;5;129;01mnot\u001B[39;00m \u001B[38;5;28misinstance\u001B[39m(chunks, (\u001B[38;5;28mlist\u001B[39m, \u001B[38;5;28mtuple\u001B[39m)):\n\u001B[0;32m    201\u001B[0m     chunks \u001B[38;5;241m=\u001B[39m \u001B[38;5;28mlist\u001B[39m(chunks)\n",
      "File \u001B[1;32mC:\\ProgramData\\anaconda3\\envs\\kaggle\\lib\\json\\encoder.py:257\u001B[0m, in \u001B[0;36mJSONEncoder.iterencode\u001B[1;34m(self, o, _one_shot)\u001B[0m\n\u001B[0;32m    252\u001B[0m \u001B[38;5;28;01melse\u001B[39;00m:\n\u001B[0;32m    253\u001B[0m     _iterencode \u001B[38;5;241m=\u001B[39m _make_iterencode(\n\u001B[0;32m    254\u001B[0m         markers, \u001B[38;5;28mself\u001B[39m\u001B[38;5;241m.\u001B[39mdefault, _encoder, \u001B[38;5;28mself\u001B[39m\u001B[38;5;241m.\u001B[39mindent, floatstr,\n\u001B[0;32m    255\u001B[0m         \u001B[38;5;28mself\u001B[39m\u001B[38;5;241m.\u001B[39mkey_separator, \u001B[38;5;28mself\u001B[39m\u001B[38;5;241m.\u001B[39mitem_separator, \u001B[38;5;28mself\u001B[39m\u001B[38;5;241m.\u001B[39msort_keys,\n\u001B[0;32m    256\u001B[0m         \u001B[38;5;28mself\u001B[39m\u001B[38;5;241m.\u001B[39mskipkeys, _one_shot)\n\u001B[1;32m--> 257\u001B[0m \u001B[38;5;28;01mreturn\u001B[39;00m \u001B[43m_iterencode\u001B[49m\u001B[43m(\u001B[49m\u001B[43mo\u001B[49m\u001B[43m,\u001B[49m\u001B[43m \u001B[49m\u001B[38;5;241;43m0\u001B[39;49m\u001B[43m)\u001B[49m\n",
      "File \u001B[1;32mC:\\ProgramData\\anaconda3\\envs\\kaggle\\lib\\json\\encoder.py:179\u001B[0m, in \u001B[0;36mJSONEncoder.default\u001B[1;34m(self, o)\u001B[0m\n\u001B[0;32m    160\u001B[0m \u001B[38;5;28;01mdef\u001B[39;00m \u001B[38;5;21mdefault\u001B[39m(\u001B[38;5;28mself\u001B[39m, o):\n\u001B[0;32m    161\u001B[0m \u001B[38;5;250m    \u001B[39m\u001B[38;5;124;03m\"\"\"Implement this method in a subclass such that it returns\u001B[39;00m\n\u001B[0;32m    162\u001B[0m \u001B[38;5;124;03m    a serializable object for ``o``, or calls the base implementation\u001B[39;00m\n\u001B[0;32m    163\u001B[0m \u001B[38;5;124;03m    (to raise a ``TypeError``).\u001B[39;00m\n\u001B[1;32m   (...)\u001B[0m\n\u001B[0;32m    177\u001B[0m \n\u001B[0;32m    178\u001B[0m \u001B[38;5;124;03m    \"\"\"\u001B[39;00m\n\u001B[1;32m--> 179\u001B[0m     \u001B[38;5;28;01mraise\u001B[39;00m \u001B[38;5;167;01mTypeError\u001B[39;00m(\u001B[38;5;124mf\u001B[39m\u001B[38;5;124m'\u001B[39m\u001B[38;5;124mObject of type \u001B[39m\u001B[38;5;132;01m{\u001B[39;00mo\u001B[38;5;241m.\u001B[39m\u001B[38;5;18m__class__\u001B[39m\u001B[38;5;241m.\u001B[39m\u001B[38;5;18m__name__\u001B[39m\u001B[38;5;132;01m}\u001B[39;00m\u001B[38;5;124m \u001B[39m\u001B[38;5;124m'\u001B[39m\n\u001B[0;32m    180\u001B[0m                     \u001B[38;5;124mf\u001B[39m\u001B[38;5;124m'\u001B[39m\u001B[38;5;124mis not JSON serializable\u001B[39m\u001B[38;5;124m'\u001B[39m)\n",
      "\u001B[1;31mTypeError\u001B[0m: Object of type JpegImageFile is not JSON serializable"
     ]
    }
   ],
   "source": [
    "from PIL import Image\n",
    "import requests\n",
    "import json\n",
    "\n",
    "# Путь к изображению на вашем компьютере\n",
    "image_path = 'C:/Users/Peter/DataspellProjects/kaggle/jellyfish_image_classification/moon-jellyfish.jpg'\n",
    "\n",
    "# Отображение изображения\n",
    "image_pred = Image.open(image_path)\n",
    "\n",
    "# Преобразование изображения в словарь для передачи в FastAPI\n",
    "image_dict = {'image_file': image_pred}\n",
    "\n",
    "# Отправка запроса на предсказание с использованием FastAPI\n",
    "predicted_data_response = requests.post('http://127.0.0.1:8000/model/predict', json=image_dict)\n",
    "\n",
    "# Вывод результатов предсказания\n",
    "print(predicted_data_response)\n",
    "print(predicted_data_response.text)\n"
   ],
   "metadata": {
    "collapsed": false,
    "ExecuteTime": {
     "end_time": "2024-03-04T23:08:59.493165Z",
     "start_time": "2024-03-04T23:08:57.800931Z"
    }
   },
   "id": "7339891ecba57f4",
   "execution_count": 4
  },
  {
   "cell_type": "code",
   "outputs": [
    {
     "name": "stdout",
     "output_type": "stream",
     "text": [
      "422\n",
      "{\"detail\":[{\"type\":\"missing\",\"loc\":[\"body\",\"image_file\"],\"msg\":\"Field required\",\"input\":{\"image_base64\":\"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\"},\"url\":\"https://errors.pydantic.dev/2.6/v/missing\"}]}\n"
     ]
    }
   ],
   "source": [
    "import requests\n",
    "import base64\n",
    "\n",
    "# Укажите путь к изображению\n",
    "image_path = \"C:/Users/Peter/DataspellProjects/kaggle/jellyfish_image_classification/moon-jellyfish.jpg\"\n",
    "\n",
    "# Чтение изображения в бинарном режиме\n",
    "with open(image_path, \"rb\") as img_file:\n",
    "    # Чтение содержимого файла\n",
    "    img_bytes = img_file.read()\n",
    "\n",
    "# Кодирование изображения в формат base64\n",
    "encoded_image = base64.b64encode(img_bytes).decode()\n",
    "\n",
    "# Подготовка данных для отправки на FastAPI\n",
    "image_data = {\"image_base64\": encoded_image}\n",
    "\n",
    "# Отправка POST запроса на FastAPI для предсказания\n",
    "response = requests.post(\"http://127.0.0.1:8000/model/predict\", json=image_data)\n",
    "\n",
    "# Вывод результатов предсказания\n",
    "print(response.status_code)\n",
    "print(response.text)\n"
   ],
   "metadata": {
    "collapsed": false,
    "ExecuteTime": {
     "end_time": "2024-03-04T23:17:23.647109Z",
     "start_time": "2024-03-04T23:17:23.633107Z"
    }
   },
   "id": "561847402bbd504b",
   "execution_count": 7
  },
  {
   "cell_type": "code",
   "outputs": [
    {
     "name": "stdout",
     "output_type": "stream",
     "text": [
      "500\n",
      "Internal Server Error\n"
     ]
    }
   ],
   "source": [
    "import requests\n",
    "\n",
    "# Укажите путь к изображению\n",
    "image_path = \"C:/Users/Peter/DataspellProjects/kaggle/jellyfish_image_classification/moon-jellyfish.jpg\"\n",
    "\n",
    "# Чтение изображения в бинарном режиме\n",
    "with open(image_path, \"rb\") as img_file:\n",
    "    # Чтение содержимого файла\n",
    "    img_bytes = img_file.read()\n",
    "\n",
    "# Подготовка данных для отправки на FastAPI\n",
    "image_data = {\"image_file\": img_bytes}\n",
    "\n",
    "# Отправка POST запроса на FastAPI для предсказания\n",
    "response = requests.post(\"http://127.0.0.1:8000/model/predict\", files=image_data)\n",
    "\n",
    "# Вывод результатов предсказания\n",
    "print(response.status_code)\n",
    "print(response.text)\n"
   ],
   "metadata": {
    "collapsed": false,
    "ExecuteTime": {
     "end_time": "2024-03-04T23:18:50.337674Z",
     "start_time": "2024-03-04T23:18:50.299644Z"
    }
   },
   "id": "f0a1fba63f28e5e8",
   "execution_count": 9
  }
 ],
 "metadata": {
  "kernelspec": {
   "display_name": "Python 3",
   "language": "python",
   "name": "python3"
  },
  "language_info": {
   "codemirror_mode": {
    "name": "ipython",
    "version": 2
   },
   "file_extension": ".py",
   "mimetype": "text/x-python",
   "name": "python",
   "nbconvert_exporter": "python",
   "pygments_lexer": "ipython2",
   "version": "2.7.6"
  }
 },
 "nbformat": 4,
 "nbformat_minor": 5
}
