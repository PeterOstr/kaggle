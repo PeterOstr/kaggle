{
 "cells": [
  {
   "cell_type": "code",
   "execution_count": 9,
   "id": "initial_id",
   "metadata": {
    "collapsed": true,
    "ExecuteTime": {
     "end_time": "2024-03-05T10:34:02.474737Z",
     "start_time": "2024-03-05T10:34:02.455707Z"
    }
   },
   "outputs": [],
   "source": [
    "import requests\n",
    "import tensorflow as tf\n",
    "from keras.models import load_model\n",
    "import numpy as np\n",
    "\n"
   ]
  },
  {
   "cell_type": "code",
   "outputs": [
    {
     "name": "stdout",
     "output_type": "stream",
     "text": [
      "Изображение успешно отправлено и обработано\n",
      "Ответ от сервера: Moon_jellyfish\n"
     ]
    }
   ],
   "source": [
    "\n",
    "# Укажите путь к файлу изображения\n",
    "image_path = \"C:/Users/Peter/DataspellProjects/kaggle/jellyfish_image_classification/moon-jellyfish.jpg\"\n",
    "\n",
    "# Создайте объект UploadFile, чтобы отправить файл как часть мультипартового запроса\n",
    "files = {'image_file': open(image_path, 'rb')}\n",
    "\n",
    "# Отправьте запрос POST на сервер FastAPI\n",
    "response = requests.post(\"http://127.0.0.1:8000/model/predict\", files=files)\n",
    "\n",
    "# Проверка кода ответа\n",
    "if response.status_code == 200:\n",
    "    print('Изображение успешно отправлено и обработано')\n",
    "    print('Ответ от сервера:', response.json())\n",
    "else:\n",
    "    print('Ошибка при отправке изображения:', response.status_code)\n"
   ],
   "metadata": {
    "collapsed": false,
    "ExecuteTime": {
     "end_time": "2024-03-05T11:11:13.308888Z",
     "start_time": "2024-03-05T11:11:13.174849Z"
    }
   },
   "id": "9709545efec966d3",
   "execution_count": 40
  },
  {
   "cell_type": "code",
   "outputs": [],
   "source": [
    "image_path = \"C:/Users/Peter/DataspellProjects/kaggle/jellyfish_image_classification/moon-jellyfish.jpg\"\n",
    "model = load_model('C:/Users/Peter/DataspellProjects/kaggle/jellyfish_image_classification/model_new.h5')\n",
    "image_pred = Image.open(image_path)\n",
    "image_pred_resized = image_pred.resize((224, 224))\n",
    "\n",
    "image_tensor = tf.keras.preprocessing.image.img_to_array(image_pred_resized)\n",
    "image_tensor = image_tensor[np.newaxis, ...]"
   ],
   "metadata": {
    "collapsed": false,
    "ExecuteTime": {
     "end_time": "2024-03-05T11:14:53.742817Z",
     "start_time": "2024-03-05T11:14:52.862748Z"
    }
   },
   "id": "c7758cd9176c1945",
   "execution_count": 51
  },
  {
   "cell_type": "code",
   "outputs": [
    {
     "name": "stdout",
     "output_type": "stream",
     "text": [
      "1/1 [==============================] - 0s 98ms/step\n"
     ]
    },
    {
     "data": {
      "text/plain": "array([[1., 0., 0., 0., 0., 0.]], dtype=float32)"
     },
     "execution_count": 52,
     "metadata": {},
     "output_type": "execute_result"
    }
   ],
   "source": [
    "model.predict(image_tensor)\n"
   ],
   "metadata": {
    "collapsed": false,
    "ExecuteTime": {
     "end_time": "2024-03-05T11:14:55.344612Z",
     "start_time": "2024-03-05T11:14:55.182615Z"
    }
   },
   "id": "50ae5262a749548",
   "execution_count": 52
  },
  {
   "cell_type": "code",
   "outputs": [
    {
     "name": "stdout",
     "output_type": "stream",
     "text": [
      "1/1 [==============================] - 0s 94ms/step\n"
     ]
    },
    {
     "data": {
      "text/plain": "array([[0.12956251, 0.12956251, 0.12956251, 0.12956251, 0.35218745,\n        0.12956251]], dtype=float32)"
     },
     "execution_count": 34,
     "metadata": {},
     "output_type": "execute_result"
    }
   ],
   "source": [
    "from scipy.special import softmax\n",
    "\n",
    "result = model.predict(np.expand_dims(image_tensor, axis=0))\n",
    "predicted_probabilities = softmax(result, axis=1)\n",
    "predicted_probabilities"
   ],
   "metadata": {
    "collapsed": false,
    "ExecuteTime": {
     "end_time": "2024-03-05T11:07:19.697323Z",
     "start_time": "2024-03-05T11:07:19.532398Z"
    }
   },
   "id": "c5a56bd80f2c9691",
   "execution_count": 34
  },
  {
   "cell_type": "code",
   "outputs": [],
   "source": [
    "# Загрузка модели\n",
    "model1 = load_model('C:/Users/Peter/DataspellProjects/kaggle/jellyfish_image_classification/model_1.h5')\n",
    "model2 = load_model('C:/Users/Peter/DataspellProjects/kaggle/jellyfish_image_classification/model_2.h5')\n",
    "model3 = load_model('C:/Users/Peter/DataspellProjects/kaggle/jellyfish_image_classification/model3_.h5')\n",
    "model4 = load_model('C:/Users/Peter/DataspellProjects/kaggle/jellyfish_image_classification/model_new.h5')\n"
   ],
   "metadata": {
    "collapsed": false,
    "ExecuteTime": {
     "end_time": "2024-03-05T11:15:06.773491Z",
     "start_time": "2024-03-05T11:15:04.582167Z"
    }
   },
   "id": "fd5ca4a101620cad",
   "execution_count": 53
  },
  {
   "cell_type": "code",
   "outputs": [
    {
     "name": "stdout",
     "output_type": "stream",
     "text": [
      "1/1 [==============================] - 0s 111ms/step\n"
     ]
    },
    {
     "data": {
      "text/plain": "array([[0.35218745, 0.12956251, 0.12956251, 0.12956251, 0.12956251,\n        0.12956251]], dtype=float32)"
     },
     "execution_count": 54,
     "metadata": {},
     "output_type": "execute_result"
    }
   ],
   "source": [
    "result = model4.predict(image_tensor)\n",
    "predicted_probabilities = softmax(result, axis=1)\n",
    "predicted_probabilities"
   ],
   "metadata": {
    "collapsed": false,
    "ExecuteTime": {
     "end_time": "2024-03-05T11:15:06.947856Z",
     "start_time": "2024-03-05T11:15:06.775479Z"
    }
   },
   "id": "ba95ff9a2a605f24",
   "execution_count": 54
  },
  {
   "cell_type": "code",
   "outputs": [
    {
     "name": "stdout",
     "output_type": "stream",
     "text": [
      "1/1 [==============================] - 0s 281ms/step\n"
     ]
    },
    {
     "data": {
      "text/plain": "array([[0.17366765, 0.14662883, 0.14625496, 0.14551769, 0.14049868,\n        0.24743223]], dtype=float32)"
     },
     "execution_count": 55,
     "metadata": {},
     "output_type": "execute_result"
    }
   ],
   "source": [
    "#result = model2.predict(np.expand_dims(image_tensor, axis=0))\n",
    "result = model2.predict(image_tensor)\n",
    "predicted_probabilities = softmax(result, axis=1)\n",
    "predicted_probabilities"
   ],
   "metadata": {
    "collapsed": false,
    "ExecuteTime": {
     "end_time": "2024-03-05T11:15:07.311795Z",
     "start_time": "2024-03-05T11:15:06.949857Z"
    }
   },
   "id": "15ac3af5bcaa01a9",
   "execution_count": 55
  },
  {
   "cell_type": "code",
   "outputs": [
    {
     "name": "stdout",
     "output_type": "stream",
     "text": [
      "1/1 [==============================] - 0s 128ms/step\n"
     ]
    },
    {
     "data": {
      "text/plain": "array([[0.35218745, 0.12956251, 0.12956251, 0.12956251, 0.12956251,\n        0.12956251]], dtype=float32)"
     },
     "execution_count": 56,
     "metadata": {},
     "output_type": "execute_result"
    }
   ],
   "source": [
    "result = model3.predict(image_tensor)\n",
    "predicted_probabilities = softmax(result, axis=1)\n",
    "predicted_probabilities"
   ],
   "metadata": {
    "collapsed": false,
    "ExecuteTime": {
     "end_time": "2024-03-05T11:15:07.517795Z",
     "start_time": "2024-03-05T11:15:07.314796Z"
    }
   },
   "id": "eda074bee4fa7a34",
   "execution_count": 56
  },
  {
   "cell_type": "code",
   "outputs": [
    {
     "name": "stdout",
     "output_type": "stream",
     "text": [
      "1/1 [==============================] - 0s 136ms/step\n"
     ]
    },
    {
     "data": {
      "text/plain": "array([[0.35218745, 0.12956251, 0.12956251, 0.12956251, 0.12956251,\n        0.12956251]], dtype=float32)"
     },
     "execution_count": 57,
     "metadata": {},
     "output_type": "execute_result"
    }
   ],
   "source": [
    "result = model4.predict(np.expand_dims(image_tensor, axis=0))\n",
    "predicted_probabilities = softmax(result, axis=1)\n",
    "predicted_probabilities"
   ],
   "metadata": {
    "collapsed": false,
    "ExecuteTime": {
     "end_time": "2024-03-05T11:15:07.736458Z",
     "start_time": "2024-03-05T11:15:07.519796Z"
    }
   },
   "id": "492e1dbaf3d0a66c",
   "execution_count": 57
  },
  {
   "cell_type": "code",
   "outputs": [],
   "source": [],
   "metadata": {
    "collapsed": false
   },
   "id": "dfbb3a3ed6c2e63a"
  }
 ],
 "metadata": {
  "kernelspec": {
   "display_name": "Python 3",
   "language": "python",
   "name": "python3"
  },
  "language_info": {
   "codemirror_mode": {
    "name": "ipython",
    "version": 2
   },
   "file_extension": ".py",
   "mimetype": "text/x-python",
   "name": "python",
   "nbconvert_exporter": "python",
   "pygments_lexer": "ipython2",
   "version": "2.7.6"
  }
 },
 "nbformat": 4,
 "nbformat_minor": 5
}
