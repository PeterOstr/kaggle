{
 "cells": [
  {
   "cell_type": "code",
   "execution_count": 4,
   "id": "initial_id",
   "metadata": {
    "collapsed": true,
    "ExecuteTime": {
     "end_time": "2024-04-03T12:31:26.900444Z",
     "start_time": "2024-04-03T12:31:22.507334Z"
    }
   },
   "source": [
    "import requests\n",
    "import tensorflow as tf\n",
    "from keras.models import load_model\n",
    "import numpy as np\n",
    "from PIL import Image\n",
    "\n",
    "\n"
   ],
   "outputs": []
  },
  {
   "cell_type": "code",
   "source": [
    "\n",
    "# Укажите путь к файлу изображения\n",
    "image_path = \"C:/Users/Peter/DataspellProjects/kaggle/jellyfish_image_classification/16.jpg\"\n",
    "\n",
    "# Создайте объект UploadFile, чтобы отправить файл как часть мультипартового запроса\n",
    "files = {'image_file': open(image_path, 'rb')}\n",
    "\n",
    "# Отправьте запрос POST на сервер FastAPI\n",
    "response = requests.post(\"http://127.0.0.1:8000/model/predict\", files=files)\n",
    "\n",
    "# Проверка кода ответа\n",
    "if response.status_code == 200:\n",
    "    print('Изображение успешно отправлено и обработано')\n",
    "    print('Ответ от сервера:', response.json())\n",
    "else:\n",
    "    print('Ошибка при отправке изображения:', response.status_code)\n"
   ],
   "metadata": {
    "collapsed": false,
    "ExecuteTime": {
     "end_time": "2024-03-08T19:10:35.835848Z",
     "start_time": "2024-03-08T19:10:34.550223Z"
    }
   },
   "id": "9709545efec966d3",
   "execution_count": 9,
   "outputs": []
  },
  {
   "cell_type": "code",
   "source": [
    "\n",
    "# Укажите путь к файлу изображения\n",
    "image_path = \"C:/Users/Peter/DataspellProjects/kaggle/jellyfish_image_classification/moon-jellyfish.jpg\"\n",
    "\n",
    "# Создайте объект UploadFile, чтобы отправить файл как часть мультипартового запроса\n",
    "files = {'image_file': open(image_path, 'rb')}\n",
    "\n",
    "# Отправьте запрос POST на сервер FastAPI\n",
    "response = requests.post(\"http://127.0.0.1:8000/classify_image/\", files=files)\n",
    "\n",
    "# Проверка кода ответа\n",
    "if response.status_code == 200:\n",
    "    print('Изображение успешно отправлено и обработано')\n",
    "    print('Ответ от сервера:', response.json())\n",
    "else:\n",
    "    print('Ошибка при отправке изображения:', response.status_code)\n"
   ],
   "metadata": {
    "collapsed": false,
    "ExecuteTime": {
     "end_time": "2024-03-08T19:07:20.520940Z",
     "start_time": "2024-03-08T19:07:18.976887Z"
    }
   },
   "id": "a11fcfd07d6c4767",
   "execution_count": 5,
   "outputs": []
  },
  {
   "cell_type": "code",
   "source": [
    "image_path = \"C:/Users/Peter/DataspellProjects/kaggle/jellyfish_image_classification/16.jpg\"\n",
    "model = load_model('C:/Users/Peter/DataspellProjects/kaggle/jellyfish_image_classification/model_new.h5')\n",
    "image_pred = Image.open(image_path)\n",
    "image_pred_resized = image_pred.resize((224, 224))\n",
    "\n",
    "image_tensor = tf.keras.preprocessing.image.img_to_array(image_pred_resized)\n",
    "image_tensor = image_tensor[np.newaxis, ...]"
   ],
   "metadata": {
    "collapsed": false,
    "ExecuteTime": {
     "end_time": "2024-03-05T17:38:10.489778Z",
     "start_time": "2024-03-05T17:38:09.697642Z"
    }
   },
   "id": "c7758cd9176c1945",
   "execution_count": 36,
   "outputs": []
  },
  {
   "cell_type": "code",
   "source": [
    "model.predict(image_tensor)\n"
   ],
   "metadata": {
    "collapsed": false,
    "ExecuteTime": {
     "end_time": "2024-03-05T11:14:55.344612Z",
     "start_time": "2024-03-05T11:14:55.182615Z"
    }
   },
   "id": "50ae5262a749548",
   "execution_count": 52,
   "outputs": []
  },
  {
   "cell_type": "code",
   "source": [
    "from scipy.special import softmax\n",
    "\n",
    "result = model.predict(np.expand_dims(image_tensor, axis=0))\n",
    "predicted_probabilities = softmax(result, axis=1)\n",
    "predicted_probabilities"
   ],
   "metadata": {
    "collapsed": false,
    "ExecuteTime": {
     "end_time": "2024-03-05T11:07:19.697323Z",
     "start_time": "2024-03-05T11:07:19.532398Z"
    }
   },
   "id": "c5a56bd80f2c9691",
   "execution_count": 34,
   "outputs": []
  },
  {
   "cell_type": "code",
   "source": [
    "# Загрузка модели\n",
    "model1 = load_model('C:/Users/Peter/DataspellProjects/kaggle/jellyfish_image_classification/model_1.h5')\n",
    "model2 = load_model('C:/Users/Peter/DataspellProjects/kaggle/jellyfish_image_classification/model_2.h5')\n",
    "model3 = load_model('C:/Users/Peter/DataspellProjects/kaggle/jellyfish_image_classification/model3_.h5')\n",
    "model4 = load_model('C:/Users/Peter/DataspellProjects/kaggle/jellyfish_image_classification/model_new.h5')\n"
   ],
   "metadata": {
    "collapsed": false,
    "ExecuteTime": {
     "end_time": "2024-03-05T11:15:06.773491Z",
     "start_time": "2024-03-05T11:15:04.582167Z"
    }
   },
   "id": "fd5ca4a101620cad",
   "execution_count": 53,
   "outputs": []
  },
  {
   "cell_type": "code",
   "source": [
    "result = model4.predict(image_tensor)\n",
    "predicted_probabilities = softmax(result, axis=1)\n",
    "predicted_probabilities"
   ],
   "metadata": {
    "collapsed": false,
    "ExecuteTime": {
     "end_time": "2024-03-05T11:15:06.947856Z",
     "start_time": "2024-03-05T11:15:06.775479Z"
    }
   },
   "id": "ba95ff9a2a605f24",
   "execution_count": 54,
   "outputs": []
  },
  {
   "cell_type": "code",
   "source": [
    "#result = model2.predict(np.expand_dims(image_tensor, axis=0))\n",
    "result = model2.predict(image_tensor)\n",
    "predicted_probabilities = softmax(result, axis=1)\n",
    "predicted_probabilities"
   ],
   "metadata": {
    "collapsed": false,
    "ExecuteTime": {
     "end_time": "2024-03-05T11:15:07.311795Z",
     "start_time": "2024-03-05T11:15:06.949857Z"
    }
   },
   "id": "15ac3af5bcaa01a9",
   "execution_count": 55,
   "outputs": []
  },
  {
   "cell_type": "code",
   "source": [
    "result = model3.predict(image_tensor)\n",
    "predicted_probabilities = softmax(result, axis=1)\n",
    "predicted_probabilities"
   ],
   "metadata": {
    "collapsed": false,
    "ExecuteTime": {
     "end_time": "2024-03-05T11:15:07.517795Z",
     "start_time": "2024-03-05T11:15:07.314796Z"
    }
   },
   "id": "eda074bee4fa7a34",
   "execution_count": 56,
   "outputs": []
  },
  {
   "cell_type": "code",
   "source": [
    "result = model4.predict(np.expand_dims(image_tensor, axis=0))\n",
    "predicted_probabilities = softmax(result, axis=1)\n",
    "predicted_probabilities"
   ],
   "metadata": {
    "collapsed": false,
    "ExecuteTime": {
     "end_time": "2024-03-05T11:15:07.736458Z",
     "start_time": "2024-03-05T11:15:07.519796Z"
    }
   },
   "id": "492e1dbaf3d0a66c",
   "execution_count": 57,
   "outputs": []
  },
  {
   "cell_type": "code",
   "source": [
    "# import tensorflow as tf\n",
    "# from tensorflow.keras.applications import ResNet50\n",
    "# \n",
    "# # Load ResNet50 model\n",
    "# resnet_model = ResNet50(weights='imagenet')\n",
    "# \n",
    "# # Save the model\n",
    "# tf.keras.models.save_model(\n",
    "#     resnet_model,\n",
    "#     'resnet50_model.h5',  # Specify the path where you want to save the model\n",
    "#     include_optimizer=False  # Set to False if you don't want to save the optimizer state\n",
    "# )"
   ],
   "metadata": {
    "collapsed": false,
    "ExecuteTime": {
     "end_time": "2024-03-05T12:19:52.100484Z",
     "start_time": "2024-03-05T12:19:33.773867Z"
    }
   },
   "id": "dfbb3a3ed6c2e63a",
   "execution_count": 2,
   "outputs": []
  },
  {
   "cell_type": "code",
   "source": [
    "model50 = load_model('C:/Users/Peter/DataspellProjects/kaggle/jellyfish_image_classification/resnet50_model.h5')\n",
    "result = model50.predict(image_tensor)\n",
    "result"
   ],
   "metadata": {
    "collapsed": false,
    "ExecuteTime": {
     "end_time": "2024-03-05T12:36:52.991418Z",
     "start_time": "2024-03-05T12:36:49.724048Z"
    }
   },
   "id": "3bd115d8479ab147",
   "execution_count": 15,
   "outputs": []
  },
  {
   "cell_type": "code",
   "source": [
    "from tensorflow.keras.models import load_model\n",
    "from tensorflow.keras.applications.resnet import preprocess_input\n",
    "from tensorflow.keras.applications.resnet50 import decode_predictions\n",
    "\n",
    "import numpy as np\n",
    "from PIL import Image\n",
    "\n",
    "# Load the ResNet50 model from the file\n",
    "model50 = load_model('C:/Users/Peter/DataspellProjects/kaggle/jellyfish_image_classification/resnet50_model.h5')\n",
    "\n",
    "# Assuming image_tensor contains the preprocessed image data\n",
    "# Note: Make sure the image_tensor has the correct shape and preprocessing\n",
    "# Preprocess the input image data\n",
    "image_tensor_preprocessed = preprocess_input(image_tensor)\n",
    "\n",
    "# Compile the model manually\n",
    "model50.compile(optimizer='adam', loss='categorical_crossentropy', metrics=['accuracy'])\n",
    "\n",
    "# Predict using the compiled model\n",
    "result = model50.predict(image_tensor_preprocessed)\n",
    "result_label = decode_predictions(result, top=1)[0][0][1]\n",
    "\n",
    "result_label\n"
   ],
   "metadata": {
    "collapsed": false,
    "ExecuteTime": {
     "end_time": "2024-03-05T13:08:03.067026Z",
     "start_time": "2024-03-05T13:08:00.005916Z"
    }
   },
   "id": "7748ea68c7b47332",
   "execution_count": 30,
   "outputs": []
  },
  {
   "cell_type": "code",
   "source": [
    "import requests\n",
    "\n",
    "# Укажите путь к файлу изображения\n",
    "image_path = \"C:/Users/Peter/DataspellProjects/kaggle/jellyfish_image_classification/16.jpg\"\n",
    "\n",
    "# Создайте объект UploadFile, чтобы отправить файл как часть мультипартового запроса\n",
    "files = {'image_file': open(image_path, 'rb')}\n",
    "\n",
    "# Отправьте запрос POST на сервер FastAPI внутри Docker контейнера\n",
    "response = requests.post(\"http://127.0.0.1:8000/model/predict\", files=files)\n",
    "\n",
    "# Проверка кода ответа\n",
    "if response.status_code == 200:\n",
    "    print('Изображение успешно отправлено и обработано')\n",
    "    print('Ответ от сервера:', response.json())\n",
    "else:\n",
    "    print('Ошибка при отправке изображения:', response.status_code)\n"
   ],
   "metadata": {
    "collapsed": false,
    "ExecuteTime": {
     "end_time": "2024-03-08T21:38:44.552707Z",
     "start_time": "2024-03-08T21:38:39.049031Z"
    }
   },
   "id": "5ddb3866c1fa7889",
   "execution_count": 28,
   "outputs": []
  },
  {
   "cell_type": "code",
   "source": [
    "\n",
    "# Укажите путь к файлу изображения\n",
    "image_path = \"C:/Users/Peter/DataspellProjects/kaggle/jellyfish_image_classification/17.jpg\"\n",
    "\n",
    "# Создайте объект UploadFile, чтобы отправить файл как часть мультипартового запроса\n",
    "files = {'image_file': open(image_path, 'rb')}\n",
    "\n",
    "# Отправьте запрос POST на сервер FastAPI внутри Docker контейнера\n",
    "# response = requests.post(\"https://jellyapi-unk2qlgpqa-lm.a.run.app/model/predict\", files=files)\n",
    "response = requests.post(\"https://jellyapi1-yxxcfdysba-lm.a.run.app/model/predict\", files=files)\n",
    "\n",
    "\n",
    "# Проверка кода ответа\n",
    "if response.status_code == 200:\n",
    "    print('Изображение успешно отправлено и обработано')\n",
    "    print('Ответ от сервера:', response.json())\n",
    "else:\n",
    "    print('Ошибка при отправке изображения:', response.status_code)\n"
   ],
   "metadata": {
    "collapsed": false,
    "ExecuteTime": {
     "end_time": "2024-04-03T12:31:35.613660Z",
     "start_time": "2024-04-03T12:31:32.896557Z"
    }
   },
   "id": "fbc3a959ea657e2c",
   "execution_count": 5,
   "outputs": []
  },
  {
   "cell_type": "code",
   "source": [],
   "metadata": {
    "collapsed": false
   },
   "id": "86698b345e4dbf89",
   "execution_count": null,
   "outputs": []
  }
 ],
 "metadata": {
  "kernelspec": {
   "display_name": "Python 3",
   "language": "python",
   "name": "python3"
  },
  "language_info": {
   "codemirror_mode": {
    "name": "ipython",
    "version": 2
   },
   "file_extension": ".py",
   "mimetype": "text/x-python",
   "name": "python",
   "nbconvert_exporter": "python",
   "pygments_lexer": "ipython2",
   "version": "2.7.6"
  }
 },
 "nbformat": 4,
 "nbformat_minor": 5
}
