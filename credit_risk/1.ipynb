{
 "cells": [
  {
   "cell_type": "code",
   "execution_count": null,
   "id": "initial_id",
   "metadata": {
    "collapsed": true
   },
   "outputs": [],
   "source": []
  },
  {
   "cell_type": "markdown",
   "source": [
    "http://localhost:8070"
   ],
   "metadata": {
    "collapsed": false
   },
   "id": "5981aaea83ba5f55"
  },
  {
   "cell_type": "code",
   "outputs": [
    {
     "name": "stderr",
     "output_type": "stream",
     "text": [
      "24/04/20 08:48:29 WARN SparkSession: Using an existing Spark session; only runtime SQL configurations will take effect.\n"
     ]
    },
    {
     "data": {
      "text/plain": "DataFrame[]"
     },
     "execution_count": 4,
     "metadata": {},
     "output_type": "execute_result"
    }
   ],
   "source": [
    "import findspark\n",
    "findspark.init()\n",
    "from pyspark import SparkContext, SparkConf, SQLContext\n",
    "from pyspark.sql import SparkSession\n",
    "from pyspark.sql import functions as F\n",
    "import os\n",
    "#https://repo1.maven.org/maven2/com/github/housepower/clickhouse-native-jdbc/2.7.1/clickhouse-native-jdbc-2.7.1.jar\n",
    "packages = [\n",
    "    \"com.github.housepower:clickhouse-spark-runtime-3.4_2.12:0.7.3\",\n",
    "    \"com.clickhouse:clickhouse-jdbc:0.6.0\",\n",
    "    \"com.clickhouse:clickhouse-http-client:0.6.0\",\n",
    "    \"org.apache.httpcomponents.client5:httpclient5:5.3.1\",\n",
    "    \"com.github.housepower:clickhouse-native-jdbc:2.7.1\"\n",
    "]\n",
    "ram = 12\n",
    "cpu = 12\n",
    "# Define the application name and setup session\n",
    "appName = \"Connect To ClickHouse via PySpark\"\n",
    "spark = (SparkSession.builder\n",
    "         .appName(appName)\n",
    "         .config(\"spark.jars.packages\", \"com.github.housepower:clickhouse-spark-runtime-3.4_2.12:0.7.3,com.clickhouse:clickhouse-jdbc:0.6.0,com.clickhouse:clickhouse-http-client:0.6.0,org.apache.httpcomponents.client5:httpclient5:5.3.1,com.github.housepower:clickhouse-native-jdbc:2.7.1\")\n",
    "         .config(\"spark.sql.catalog.clickhouse\", \"xenon.clickhouse.ClickHouseCatalog\")\n",
    "         .config(\"spark.sql.catalog.clickhouse.host\", \"34.118.0.142\") # from GCP VM instances or other server ip\n",
    "         .config(\"spark.sql.catalog.clickhouse.protocol\", \"http\")\n",
    "         .config(\"spark.sql.catalog.clickhouse.http_port\", \"8123\")\n",
    "         .config(\"spark.sql.catalog.clickhouse.user\", \"default\")\n",
    "         .config(\"spark.sql.catalog.clickhouse.password\", \"1234\")\n",
    "         .config(\"spark.sql.catalog.clickhouse.database\", \"default\")\n",
    "         .config(\"spark.spark.clickhouse.write.compression.codec\", \"lz4\")\n",
    "         .config(\"spark.clickhouse.read.compression.codec\", \"lz4\")\n",
    "         .config(\"spark.clickhouse.write.format\", \"arrow\")\n",
    "         #    .config(\"spark.clickhouse.write.distributed.convertLocal\", \"true\") \n",
    "         #    .config(\"spark.clickhouse.write.repartitionNum\", \"1\") \n",
    "         #.config(\"spark.clickhouse.write.maxRetry\", \"1000\")\n",
    "         #    .config(\"spark.clickhouse.write.repartitionStrictly\", \"true\") \n",
    "         #    .config(\"spark.clickhouse.write.distributed.useClusterNodes\", \"false\") \n",
    "         #.config(\"spark.clickhouse.write.batchSize\", \"650\")\n",
    "         .config(\"spark.sql.catalog.clickhouse.socket_timeout\", \"600000000\")\n",
    "         .config(\"spark.sql.catalog.clickhouse.connection_timeout\", \"600000000\")\n",
    "         .config(\"spark.sql.catalog.clickhouse.query_timeout\", \"600000000\")\n",
    "         .config(\"spark.clickhouse.options.socket_timeout\", \"600000000\")\n",
    "         .config(\"spark.clickhouse.options.connection_timeout\", \"600000000\")\n",
    "         .config(\"spark.clickhouse.options.query_timeout\", \"600000000\")\n",
    "         .config(\"spark.executor.memory\", f\"{ram}g\")\n",
    "         .config(\"spark.executor.cores\", \"5\")\n",
    "         .config(\"spark.driver.maxResultSize\", f\"{ram}g\")\n",
    "         .config(\"spark.driver.memory\", f\"{ram}g\")\n",
    "         .config(\"spark.executor.memoryOverhead\", f\"{ram}g\")\n",
    "         .config(\"spark.sql.debug.maxToStringFields\", \"100000\")\n",
    "         .getOrCreate()\n",
    "         )\n",
    "# spark.conf.set(\"spark.sql.catalog.clickhouse\", \"xenon.clickhouse.ClickHouseCatalog\")\n",
    "# spark.conf.set(\"spark.sql.catalog.clickhouse.host\", \"127.0.0.1\")\n",
    "# spark.conf.set(\"spark.sql.catalog.clickhouse.protocol\", \"http\")\n",
    "# spark.conf.set(\"spark.sql.catalog.clickhouse.http_port\", \"8123\")\n",
    "# spark.conf.set(\"spark.sql.catalog.clickhouse.user\", \"default\")\n",
    "# spark.conf.set(\"spark.sql.catalog.clickhouse.password\", \"\")\n",
    "# spark.conf.set(\"spark.sql.catalog.clickhouse.database\", \"default\")\n",
    "spark.sql(\"use clickhouse\")"
   ],
   "metadata": {
    "collapsed": false,
    "ExecuteTime": {
     "end_time": "2024-04-20T08:48:30.991360Z",
     "start_time": "2024-04-20T08:48:28.984056Z"
    }
   },
   "id": "55e195abbdef252c",
   "execution_count": 4
  },
  {
   "cell_type": "code",
   "outputs": [
    {
     "name": "stdout",
     "output_type": "stream",
     "text": [
      "+------------------+\n",
      "|         namespace|\n",
      "+------------------+\n",
      "|INFORMATION_SCHEMA|\n",
      "|           default|\n",
      "|information_schema|\n",
      "|            system|\n",
      "+------------------+\n"
     ]
    }
   ],
   "source": [
    "spark.sql('show databases').show()"
   ],
   "metadata": {
    "collapsed": false,
    "ExecuteTime": {
     "end_time": "2024-04-20T08:49:28.816720Z",
     "start_time": "2024-04-20T08:49:25.796456Z"
    }
   },
   "id": "73af3bed97389096",
   "execution_count": 6
  },
  {
   "cell_type": "code",
   "outputs": [
    {
     "name": "stdout",
     "output_type": "stream",
     "text": [
      "++\n",
      "||\n",
      "++\n",
      "++\n"
     ]
    }
   ],
   "source": [
    "spark.sql('CREATE DATABASE first_database').show()"
   ],
   "metadata": {
    "collapsed": false,
    "ExecuteTime": {
     "end_time": "2024-04-20T08:50:40.572500Z",
     "start_time": "2024-04-20T08:50:39.613794Z"
    }
   },
   "id": "c588a2c1e5297196",
   "execution_count": 7
  },
  {
   "cell_type": "code",
   "source": [
    "df = spark.read.csv('/projects/app/central_west.csv',header=True,inferSchema=True)"
   ],
   "metadata": {
    "collapsed": false,
    "jupyter": {
     "is_executing": true
    }
   },
   "id": "12338253e0fb73b2",
   "outputs": [],
   "execution_count": null
  },
  {
   "cell_type": "code",
   "outputs": [],
   "source": [
    "df.createOrReplaceTempView('df_sql')\n",
    "spark.sql(\"\"\"\n",
    "INSERT INTO first_database.имятаблицы_котороесоздам  \n",
    "SELECT * FROM df_sql\n",
    "\"\"\")"
   ],
   "metadata": {
    "collapsed": false
   },
   "id": "538d32f1df29876b",
   "execution_count": null
  },
  {
   "cell_type": "code",
   "outputs": [
    {
     "name": "stdout",
     "output_type": "stream",
     "text": [
      "+---+---+----------+----------+---------+--------------+---------------+-------------+--------------+--------+----------+-------------------+-----------+------------+---+---+----------+-------------+----------------+---+---+---+-------------+-------+\n",
      "| id|age|height(cm)|weight(kg)|waist(cm)|eyesight(left)|eyesight(right)|hearing(left)|hearing(right)|systolic|relaxation|fasting blood sugar|Cholesterol|triglyceride|HDL|LDL|hemoglobin|Urine protein|serum creatinine|AST|ALT|Gtp|dental caries|smoking|\n",
      "+---+---+----------+----------+---------+--------------+---------------+-------------+--------------+--------+----------+-------------------+-----------+------------+---+---+----------+-------------+----------------+---+---+---+-------------+-------+\n",
      "|  0| 55|       165|        60|     81.0|           0.5|            0.6|          1.0|           1.0|     135|        87|                 94|        172|         300| 40| 75|      16.5|            1|             1.0| 22| 25| 27|            0|      1|\n",
      "|  0| 55|       165|        60|     81.0|           0.5|            0.6|          1.0|           1.0|     135|        87|                 94|        172|         300| 40| 75|      16.5|            1|             1.0| 22| 25| 27|            0|      1|\n",
      "|  0| 55|       165|        60|     81.0|           0.5|            0.6|          1.0|           1.0|     135|        87|                 94|        172|         300| 40| 75|      16.5|            1|             1.0| 22| 25| 27|            0|      1|\n",
      "|  1| 70|       165|        65|     89.0|           0.6|            0.7|          2.0|           2.0|     146|        83|                147|        194|          55| 57|126|      16.2|            1|             1.1| 27| 23| 37|            1|      0|\n",
      "|  2| 20|       170|        75|     81.0|           0.4|            0.5|          1.0|           1.0|     118|        75|                 79|        178|         197| 45| 93|      17.4|            1|             0.8| 27| 31| 53|            0|      1|\n",
      "|  3| 35|       180|        95|    105.0|           1.5|            1.2|          1.0|           1.0|     131|        88|                 91|        180|         203| 38|102|      15.9|            1|             1.0| 20| 27| 30|            1|      0|\n",
      "|  4| 30|       165|        60|     80.5|           1.5|            1.0|          1.0|           1.0|     121|        76|                 91|        155|          87| 44| 93|      15.4|            1|             0.8| 19| 13| 17|            0|      1|\n",
      "|  5| 50|       170|        55|     51.0|           1.2|            1.2|          1.0|           1.0|     146|        95|                101|        199|         343| 31| 99|      15.9|            1|             0.7| 24| 42|119|            1|      1|\n",
      "|  6| 45|       160|        55|     69.0|           1.5|            1.2|          1.0|           1.0|     150|        88|                 84|        222|         153| 69|122|      13.0|            1|             0.7| 17| 12| 16|            0|      0|\n",
      "|  7| 55|       155|        60|     84.5|           0.7|            0.9|          1.0|           1.0|     137|        91|                100|        282|         165| 51|198|      14.5|            1|             0.7| 16| 15| 16|            0|      0|\n",
      "|  8| 40|       165|        70|     89.0|           0.7|            1.0|          1.0|           1.0|     130|        80|                104|        243|         163| 59|150|      15.7|            1|             0.9| 24| 21| 31|            0|      1|\n",
      "|  9| 40|       155|        50|     73.0|           1.5|            1.5|          1.0|           1.0|     105|        70|                 64|        183|          27| 55|122|      13.2|            1|             0.7| 22| 16| 14|            0|      0|\n",
      "+---+---+----------+----------+---------+--------------+---------------+-------------+--------------+--------+----------+-------------------+-----------+------------+---+---+----------+-------------+----------------+---+---+---+-------------+-------+\n"
     ]
    }
   ],
   "source": [
    "spark.sql(\"\"\"\n",
    "SELECT * FROM default.input_test_table\n",
    "\"\"\").show()"
   ],
   "metadata": {
    "collapsed": false,
    "ExecuteTime": {
     "end_time": "2024-04-20T09:01:29.954711Z",
     "start_time": "2024-04-20T09:01:28.661289Z"
    }
   },
   "id": "e04e588a733fe52",
   "execution_count": 10
  },
  {
   "cell_type": "code",
   "outputs": [],
   "source": [],
   "metadata": {
    "collapsed": false
   },
   "id": "11249a781edea261",
   "execution_count": null
  }
 ],
 "metadata": {
  "kernelspec": {
   "display_name": "Python 3",
   "language": "python",
   "name": "python3"
  },
  "language_info": {
   "codemirror_mode": {
    "name": "ipython",
    "version": 2
   },
   "file_extension": ".py",
   "mimetype": "text/x-python",
   "name": "python",
   "nbconvert_exporter": "python",
   "pygments_lexer": "ipython2",
   "version": "2.7.6"
  }
 },
 "nbformat": 4,
 "nbformat_minor": 5
}
