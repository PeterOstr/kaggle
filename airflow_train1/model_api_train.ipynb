{
 "cells": [
  {
   "cell_type": "code",
   "id": "initial_id",
   "metadata": {
    "collapsed": true,
    "ExecuteTime": {
     "end_time": "2024-05-03T20:46:51.918298Z",
     "start_time": "2024-05-03T20:46:51.904299Z"
    }
   },
   "source": [
    "import pandas as pd\n",
    "import numpy as np\n",
    "\n",
    "import joblib\n",
    "import json\n",
    "from io import StringIO\n",
    "from sklearn.model_selection import train_test_split\n",
    "\n",
    "\n",
    "import matplotlib.pyplot as plt\n",
    "from mlflow import MlflowClient\n",
    "import requests"
   ],
   "outputs": [],
   "execution_count": 13
  },
  {
   "metadata": {},
   "cell_type": "markdown",
   "source": [
    "#### This file is for requesting training for my back-end with already trained models.\n",
    "\n"
   ],
   "id": "c313f4a124d68719"
  },
  {
   "metadata": {
    "ExecuteTime": {
     "end_time": "2024-05-03T21:06:16.837521Z",
     "start_time": "2024-05-03T21:06:16.809532Z"
    }
   },
   "cell_type": "code",
   "source": [
    "import pandas as pd\n",
    "import requests\n",
    "\n",
    "new_data = ['2024-05-31 21:00:00']\n",
    "df = pd.DataFrame(new_data, columns=['date'])\n",
    "df['date'] = pd.to_datetime(df['date'], format='%Y-%m-%d %H:%M:%S')\n",
    "df = df.reset_index()\n",
    "\n",
    "X_dict = df.to_dict(orient='list')\n",
    "# Convert Timestamp object to string\n",
    "X_dict['date'] = X_dict['date'][0].strftime('%Y-%m-%d %H:%M:%S')\n",
    "# \n",
    "\n",
    "# \n",
    "predicted_data_response_xgb = requests.post('http://127.0.0.1:8000/model/predict_xgb_t', json=X_dict) # local address\n",
    "print(predicted_data_response_xgb)\n",
    "print(predicted_data_response_xgb.text)\n"
   ],
   "id": "471ef99121cdc81",
   "outputs": [
    {
     "name": "stdout",
     "output_type": "stream",
     "text": [
      "<Response [422]>\n",
      "{\"detail\":[{\"type\":\"list_type\",\"loc\":[\"body\",\"date\"],\"msg\":\"Input should be a valid list\",\"input\":\"2024-05-31 21:00:00\",\"url\":\"https://errors.pydantic.dev/2.6/v/list_type\"}]}\n"
     ]
    }
   ],
   "execution_count": 36
  },
  {
   "metadata": {
    "ExecuteTime": {
     "end_time": "2024-05-03T20:53:06.991418Z",
     "start_time": "2024-05-03T20:53:06.977418Z"
    }
   },
   "cell_type": "code",
   "source": "X_dict",
   "id": "ea347089e966193",
   "outputs": [
    {
     "data": {
      "text/plain": [
       "{'index': [0], 'date': '2024-05-31 21:00:00'}"
      ]
     },
     "execution_count": 35,
     "metadata": {},
     "output_type": "execute_result"
    }
   ],
   "execution_count": 35
  },
  {
   "metadata": {
    "ExecuteTime": {
     "end_time": "2024-05-03T20:47:29.422589Z",
     "start_time": "2024-05-03T20:47:29.388169Z"
    }
   },
   "cell_type": "code",
   "source": [
    "\n",
    "\n",
    "\n",
    "\n",
    "new_data = ['2024-05-31 21:00:00']\n",
    "\n",
    "# Преобразуйте данные в формат, который модель ожидает\n",
    "new_data_array = np.array(new_data)\n",
    "\n",
    "predicted_data_response_xgb = requests.post('http://127.0.0.1:8000/model/predict_xgb_t', json={'date': new_data_array.tolist()}) # local address\n",
    "print(predicted_data_response_xgb)\n",
    "print(predicted_data_response_xgb.text)\n"
   ],
   "id": "67c4851e72b7d31d",
   "outputs": [
    {
     "name": "stdout",
     "output_type": "stream",
     "text": [
      "<Response [500]>\n",
      "Internal Server Error\n"
     ]
    }
   ],
   "execution_count": 16
  },
  {
   "metadata": {},
   "cell_type": "code",
   "outputs": [],
   "execution_count": null,
   "source": "",
   "id": "d84fc87679a071d2"
  }
 ],
 "metadata": {
  "kernelspec": {
   "display_name": "Python 3",
   "language": "python",
   "name": "python3"
  },
  "language_info": {
   "codemirror_mode": {
    "name": "ipython",
    "version": 2
   },
   "file_extension": ".py",
   "mimetype": "text/x-python",
   "name": "python",
   "nbconvert_exporter": "python",
   "pygments_lexer": "ipython2",
   "version": "2.7.6"
  }
 },
 "nbformat": 4,
 "nbformat_minor": 5
}
