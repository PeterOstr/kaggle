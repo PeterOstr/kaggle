{
 "cells": [
  {
   "cell_type": "code",
   "id": "initial_id",
   "metadata": {
    "collapsed": true,
    "ExecuteTime": {
     "end_time": "2024-05-04T16:29:34.943743Z",
     "start_time": "2024-05-04T16:29:19.529651Z"
    }
   },
   "source": [
    "from statsmodels.tsa.statespace.sarimax import SARIMAX\n",
    "from sklearn.metrics import mean_squared_error\n",
    "import optuna\n",
    "import mlflow\n",
    "from sklearn.model_selection import GridSearchCV\n",
    "from pmdarima.arima import auto_arima\n",
    "from keras.models import load_model\n",
    "import joblib\n",
    "from weatherapi import WeatherPoint\n",
    "import requests\n",
    "import matplotlib.pyplot as plt\n",
    "from statsmodels.tsa.statespace.sarimax import SARIMAX\n",
    "from sklearn.metrics import mean_squared_error\n",
    "import matplotlib.pyplot as plt\n",
    "import pickle\n",
    "from pmdarima.arima import auto_arima\n",
    "import pandas as pd\n",
    "import numpy as np\n",
    "from sklearn.preprocessing import MinMaxScaler\n",
    "from keras.models import Sequential\n",
    "from keras.layers import Dense, LSTM\n",
    "import matplotlib.pyplot as plt\n",
    "from keras.models import load_model\n",
    "import pandas as pd\n",
    "from catboost import CatBoostRegressor\n",
    "from sklearn.metrics import mean_squared_error\n",
    "import matplotlib.pyplot as plt\n",
    "import pandas as pd\n",
    "from statsmodels.tsa.statespace.sarimax import SARIMAX\n",
    "from sklearn.metrics import mean_squared_error\n",
    "import matplotlib.pyplot as plt\n",
    "import pandas as pd\n",
    "from statsmodels.tsa.seasonal import seasonal_decompose\n",
    "import matplotlib.pyplot as plt\n",
    "import numpy as np\n",
    "import matplotlib.pyplot as plt\n",
    "from keras.models import Sequential\n",
    "from keras.layers import Dense, LSTM\n",
    "from sklearn.preprocessing import MinMaxScaler\n",
    "from sklearn.metrics import mean_squared_error\n",
    "from datetime import datetime\n",
    "import pandas as pd\n",
    "from sklearn.linear_model import LinearRegression\n",
    "import matplotlib.pyplot as plt\n",
    "import xgboost as xgb"
   ],
   "outputs": [],
   "execution_count": 1
  },
  {
   "metadata": {},
   "cell_type": "markdown",
   "source": "### 0. This file for time series models training",
   "id": "8b6be8d87abbc483"
  },
  {
   "metadata": {},
   "cell_type": "markdown",
   "source": "#### 1. sarimax grid search",
   "id": "f353e6818d6885c4"
  },
  {
   "metadata": {
    "ExecuteTime": {
     "end_time": "2024-05-04T17:10:17.175264Z",
     "start_time": "2024-05-04T17:10:13.074322Z"
    }
   },
   "cell_type": "code",
   "source": "data = pd.read_excel('data/archive.xls')\n",
   "id": "a8b19b590f5df3be",
   "outputs": [],
   "execution_count": 23
  },
  {
   "metadata": {
    "jupyter": {
     "is_executing": true
    },
    "ExecuteTime": {
     "start_time": "2024-05-04T17:10:17.177265Z"
    }
   },
   "cell_type": "code",
   "source": [
    "import pandas as pd\n",
    "import matplotlib.pyplot as plt\n",
    "from statsmodels.tsa.statespace.sarimax import SARIMAX\n",
    "from sklearn.model_selection import GridSearchCV\n",
    "from sklearn.metrics import mean_squared_error\n",
    "from sklearn.base import BaseEstimator, RegressorMixin\n",
    "\n",
    "# Преобразование столбца 'Local time in Moscow' в формат datetime и установка его в качестве индекса\n",
    "data['Local time in Moscow'] = pd.to_datetime(data['Local time in Moscow'], format='%d.%m.%Y %H:%M')\n",
    "data.set_index('Local time in Moscow', inplace=True)\n",
    "\n",
    "# Выбор столбца с температурой для прогнозирования\n",
    "temperature = data['T']\n",
    "\n",
    "data = data.loc[data.index > '2022-01-01']\n",
    "\n",
    "# Заполнение пропущенных значений в столбце 'T' средним значением\n",
    "data['T'].fillna(data['T'].mean(), inplace=True)\n",
    "\n",
    "# Разделение данных на тренировочный и тестовый наборы по времени\n",
    "train = data.loc[data.index < '2023-01-01']\n",
    "test = data.loc[data.index >= '2023-01-01']\n",
    "endog_column = 'T'  # Замените 'T' на фактическое имя столбца, содержащее целевую переменную\n",
    "endog_train = train[endog_column]\n",
    "endog_test = test[endog_column]\n",
    "\n",
    "param_grid = {\n",
    "    'order': [(0, 0, 0), (1, 1, 1), (1, 1, 2), (2, 1, 1), (2, 1, 2)],  # расширенный диапазон значений для параметров (p, d, q)\n",
    "    'seasonal_order': [(1, 1, 1, 12), (1, 1, 2, 12), (2, 1, 1, 12), (2, 1, 2, 12)]  # расширенный диапазон значений для сезонных параметров (P, D, Q, S)\n",
    "}\n",
    "\n",
    "class SARIMAXWrapper(BaseEstimator, RegressorMixin):\n",
    "    def __init__(self, order=(1, 1, 1), seasonal_order=(1, 1, 1, 12)):\n",
    "        self.order = order\n",
    "        self.seasonal_order = seasonal_order\n",
    "\n",
    "    def fit(self, X, y=None):\n",
    "        self.model = SARIMAX(X, order=self.order, seasonal_order=self.seasonal_order)\n",
    "        self.results = self.model.fit()\n",
    "        return self\n",
    "\n",
    "    def predict(self, X, y=None):\n",
    "        return self.results.forecast(steps=len(X))\n",
    "\n",
    "# Создание и обучение модели SARIMA с использованием GridSearchCV\n",
    "model = SARIMAXWrapper()\n",
    "grid_search = GridSearchCV(model, param_grid, scoring='neg_mean_squared_error', cv=3, n_jobs=-1)\n",
    "grid_search.fit(endog_train.values.reshape(-1, 1), endog_train)\n",
    "\n",
    "# Получение наилучших гиперпараметров\n",
    "best_params = grid_search.best_params_\n",
    "print(\"Best Parameters:\", best_params)\n",
    "\n",
    "# Создание и обучение модели SARIMA с наилучшими найденными параметрами\n",
    "best_model = SARIMAXWrapper(order=best_params['order'], seasonal_order=best_params['seasonal_order'])\n",
    "best_model.fit(endog_train.values.reshape(-1, 1))\n",
    "\n",
    "# Прогнозирование на тестовом наборе с использованием наилучшей модели\n",
    "forecast = best_model.predict(endog_test.values.reshape(-1, 1))\n",
    "\n",
    "# Оценка производительности наилучшей модели\n",
    "mse = mean_squared_error(endog_test, forecast)\n",
    "print('Mean Squared Error (Best Model):', mse)\n",
    "\n",
    "# Визуализация результатов\n",
    "plt.figure(figsize=(12, 6))\n",
    "plt.plot(endog_test.index, endog_test, label='Фактическая температура')\n",
    "plt.plot(endog_test.index, forecast, color='red', label='Прогноз температуры')\n",
    "plt.title('Прогноз температуры с помощью SARIMA (с оптимизацией гиперпараметров)')\n",
    "plt.xlabel('Дата')\n",
    "plt.ylabel('Температура')\n",
    "plt.legend()\n",
    "plt.show()\n"
   ],
   "id": "a59d64315ae8899c",
   "outputs": [],
   "execution_count": null
  },
  {
   "metadata": {
    "ExecuteTime": {
     "end_time": "2024-05-04T17:00:59.702952Z",
     "start_time": "2024-05-04T17:00:59.688958Z"
    }
   },
   "cell_type": "code",
   "source": "",
   "id": "6303f35e82d3f7c6",
   "outputs": [],
   "execution_count": 18
  },
  {
   "metadata": {},
   "cell_type": "code",
   "outputs": [],
   "execution_count": null,
   "source": "",
   "id": "2432ad546ad821d3"
  }
 ],
 "metadata": {
  "kernelspec": {
   "display_name": "Python 3",
   "language": "python",
   "name": "python3"
  },
  "language_info": {
   "codemirror_mode": {
    "name": "ipython",
    "version": 2
   },
   "file_extension": ".py",
   "mimetype": "text/x-python",
   "name": "python",
   "nbconvert_exporter": "python",
   "pygments_lexer": "ipython2",
   "version": "2.7.6"
  }
 },
 "nbformat": 4,
 "nbformat_minor": 5
}
