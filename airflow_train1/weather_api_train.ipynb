{
 "cells": [
  {
   "cell_type": "code",
   "execution_count": null,
   "id": "initial_id",
   "metadata": {
    "collapsed": true
   },
   "outputs": [],
   "source": [
    ""
   ]
  },
  {
   "metadata": {
    "ExecuteTime": {
     "end_time": "2024-04-24T22:08:22.708797Z",
     "start_time": "2024-04-24T22:08:22.661682Z"
    }
   },
   "cell_type": "code",
   "source": [
    "from __future__ import print_function\n",
    "import time\n",
    "import swagger_client\n",
    "from swagger_client.rest import ApiException\n",
    "from pprint import pprint\n"
   ],
   "id": "8d3ec17ac0c9f38f",
   "outputs": [
    {
     "ename": "ModuleNotFoundError",
     "evalue": "No module named 'swagger_client'",
     "output_type": "error",
     "traceback": [
      "\u001B[1;31m---------------------------------------------------------------------------\u001B[0m",
      "\u001B[1;31mModuleNotFoundError\u001B[0m                       Traceback (most recent call last)",
      "Cell \u001B[1;32mIn[2], line 3\u001B[0m\n\u001B[0;32m      1\u001B[0m \u001B[38;5;28;01mfrom\u001B[39;00m \u001B[38;5;21;01m__future__\u001B[39;00m \u001B[38;5;28;01mimport\u001B[39;00m print_function\n\u001B[0;32m      2\u001B[0m \u001B[38;5;28;01mimport\u001B[39;00m \u001B[38;5;21;01mtime\u001B[39;00m\n\u001B[1;32m----> 3\u001B[0m \u001B[38;5;28;01mimport\u001B[39;00m \u001B[38;5;21;01mswagger_client\u001B[39;00m\n\u001B[0;32m      4\u001B[0m \u001B[38;5;28;01mfrom\u001B[39;00m \u001B[38;5;21;01mswagger_client\u001B[39;00m\u001B[38;5;21;01m.\u001B[39;00m\u001B[38;5;21;01mrest\u001B[39;00m \u001B[38;5;28;01mimport\u001B[39;00m ApiException\n\u001B[0;32m      5\u001B[0m \u001B[38;5;28;01mfrom\u001B[39;00m \u001B[38;5;21;01mpprint\u001B[39;00m \u001B[38;5;28;01mimport\u001B[39;00m pprint\n",
      "\u001B[1;31mModuleNotFoundError\u001B[0m: No module named 'swagger_client'"
     ]
    }
   ],
   "execution_count": 2
  },
  {
   "metadata": {
    "ExecuteTime": {
     "end_time": "2024-04-24T22:05:02.181116Z",
     "start_time": "2024-04-24T22:05:02.073642Z"
    }
   },
   "cell_type": "code",
   "source": [
    "\n",
    "# Configure API key authorization: ApiKeyAuth\n",
    "configuration = swagger_client.Configuration()\n",
    "configuration.api_key['key'] = 'YOUR_API_KEY'\n",
    "# Uncomment below to setup prefix (e.g. Bearer) for API key, if needed\n",
    "# configuration.api_key_prefix['key'] = 'Bearer'\n",
    "\n",
    "# create an instance of the API class\n",
    "api_instance = swagger_client.APIsApi(swagger_client.ApiClient(configuration))\n",
    "q = 'Moscow' # Указываем название города Москва\n",
    "dt = '2024-04-18' # Указываем сегодняшнюю дату\n",
    "lang = 'ru' # Язык ответа - русский\n",
    "\n",
    "try:\n",
    "    # Получаем текущую погоду\n",
    "    api_response = api_instance.current_weather(q, lang=lang)\n",
    "    pprint(api_response)\n",
    "except ApiException as e:\n",
    "    print(\"Exception when calling APIsApi->current_weather: %s\\n\" % e)"
   ],
   "id": "f609fde262a4b558",
   "outputs": [
    {
     "ename": "NameError",
     "evalue": "name 'swagger_client' is not defined",
     "output_type": "error",
     "traceback": [
      "\u001B[0;31m---------------------------------------------------------------------------\u001B[0m",
      "\u001B[0;31mNameError\u001B[0m                                 Traceback (most recent call last)",
      "Cell \u001B[0;32mIn[3], line 2\u001B[0m\n\u001B[1;32m      1\u001B[0m \u001B[38;5;66;03m# Configure API key authorization: ApiKeyAuth\u001B[39;00m\n\u001B[0;32m----> 2\u001B[0m configuration \u001B[38;5;241m=\u001B[39m \u001B[43mswagger_client\u001B[49m\u001B[38;5;241m.\u001B[39mConfiguration()\n\u001B[1;32m      3\u001B[0m configuration\u001B[38;5;241m.\u001B[39mapi_key[\u001B[38;5;124m'\u001B[39m\u001B[38;5;124mkey\u001B[39m\u001B[38;5;124m'\u001B[39m] \u001B[38;5;241m=\u001B[39m \u001B[38;5;124m'\u001B[39m\u001B[38;5;124mYOUR_API_KEY\u001B[39m\u001B[38;5;124m'\u001B[39m\n\u001B[1;32m      4\u001B[0m \u001B[38;5;66;03m# Uncomment below to setup prefix (e.g. Bearer) for API key, if needed\u001B[39;00m\n\u001B[1;32m      5\u001B[0m \u001B[38;5;66;03m# configuration.api_key_prefix['key'] = 'Bearer'\u001B[39;00m\n\u001B[1;32m      6\u001B[0m \n\u001B[1;32m      7\u001B[0m \u001B[38;5;66;03m# create an instance of the API class\u001B[39;00m\n",
      "\u001B[0;31mNameError\u001B[0m: name 'swagger_client' is not defined"
     ]
    }
   ],
   "execution_count": 3
  },
  {
   "metadata": {},
   "cell_type": "code",
   "outputs": [],
   "execution_count": null,
   "source": "",
   "id": "1cdd930202786934"
  }
 ],
 "metadata": {
  "kernelspec": {
   "display_name": "Python 3",
   "language": "python",
   "name": "python3"
  },
  "language_info": {
   "codemirror_mode": {
    "name": "ipython",
    "version": 2
   },
   "file_extension": ".py",
   "mimetype": "text/x-python",
   "name": "python",
   "nbconvert_exporter": "python",
   "pygments_lexer": "ipython2",
   "version": "2.7.6"
  }
 },
 "nbformat": 4,
 "nbformat_minor": 5
}
