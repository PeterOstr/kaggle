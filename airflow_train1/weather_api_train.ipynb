{
 "cells": [
  {
   "metadata": {
    "ExecuteTime": {
     "end_time": "2024-04-29T09:51:53.713240Z",
     "start_time": "2024-04-29T09:51:49.345554Z"
    }
   },
   "cell_type": "code",
   "source": [
    "\n",
    "import pandas as pd\n",
    "from statsmodels.tsa.statespace.sarimax import SARIMAX\n",
    "from sklearn.metrics import mean_squared_error\n",
    "import optuna\n",
    "import mlflow\n",
    "from sklearn.model_selection import GridSearchCV\n",
    "from pmdarima.arima import auto_arima\n",
    "\n"
   ],
   "id": "8d3ec17ac0c9f38f",
   "outputs": [],
   "execution_count": 1
  },
  {
   "metadata": {
    "ExecuteTime": {
     "end_time": "2024-04-29T09:52:07.325158Z",
     "start_time": "2024-04-29T09:52:07.307161Z"
    }
   },
   "cell_type": "code",
   "source": [
    "\n",
    "# # Configure API key authorization: ApiKeyAuth\n",
    "# configuration = swagger_client.Configuration()\n",
    "# configuration.api_key['key'] = 'YOUR_API_KEY'\n",
    "# # Uncomment below to setup prefix (e.g. Bearer) for API key, if needed\n",
    "# # configuration.api_key_prefix['key'] = 'Bearer'\n",
    "# \n",
    "# # create an instance of the API class\n",
    "# api_instance = swagger_client.APIsApi(swagger_client.ApiClient(configuration))\n",
    "# q = 'Moscow' # Указываем название города Москва\n",
    "# dt = '2024-04-18' # Указываем сегодняшнюю дату\n",
    "# lang = 'ru' # Язык ответа - русский\n",
    "# \n",
    "# try:\n",
    "#     # Получаем текущую погоду\n",
    "#     api_response = api_instance.current_weather(q, lang=lang)\n",
    "#     pprint(api_response)\n",
    "# except ApiException as e:\n",
    "#     print(\"Exception when calling APIsApi->current_weather: %s\\n\" % e)"
   ],
   "id": "f609fde262a4b558",
   "outputs": [],
   "execution_count": 3
  },
  {
   "metadata": {
    "ExecuteTime": {
     "end_time": "2024-04-25T20:59:01.472968Z",
     "start_time": "2024-04-25T20:59:01.171910Z"
    }
   },
   "cell_type": "code",
   "source": [
    "from weatherapi import WeatherPoint\n",
    "\n",
    "# Подставьте свой ключ API погоды\n",
    "key = \"ae03964b347b4881afe205155242404\"\n",
    "\n",
    "# Широта и долгота для Москвы\n",
    "latitude = 55.7558\n",
    "longitude = 37.6176\n",
    "\n",
    "# Инициализация объекта WeatherPoint\n",
    "point = WeatherPoint(latitude, longitude)\n",
    "\n",
    "# Установка ключа для доступа к данным\n",
    "point.set_key(key)\n",
    "\n",
    "# Получение текущей погоды\n",
    "point.get_current_weather()\n",
    "\n",
    "# Доступ к конкретным данным о погоде\n",
    "temperature_celsius = point.temp_c  # температура в градусах Цельсия\n",
    "#wind_speed_kmh = point.wind_kmh  # скорость ветра в километрах в час\n",
    "local_datetime = point.localtime  # локальное время запроса\n"
   ],
   "id": "1cdd930202786934",
   "outputs": [],
   "execution_count": 6
  },
  {
   "metadata": {
    "ExecuteTime": {
     "end_time": "2024-04-25T20:59:29.775607Z",
     "start_time": "2024-04-25T20:59:29.765606Z"
    }
   },
   "cell_type": "code",
   "source": "temperature_celsius",
   "id": "80f73a642baf1625",
   "outputs": [
    {
     "data": {
      "text/plain": [
       "12.0"
      ]
     },
     "execution_count": 7,
     "metadata": {},
     "output_type": "execute_result"
    }
   ],
   "execution_count": 7
  },
  {
   "metadata": {
    "ExecuteTime": {
     "end_time": "2024-04-25T20:59:34.247544Z",
     "start_time": "2024-04-25T20:59:34.227549Z"
    }
   },
   "cell_type": "code",
   "source": "local_datetime",
   "id": "947525bc2c4c141f",
   "outputs": [
    {
     "data": {
      "text/plain": [
       "'2024-04-25 23:56'"
      ]
     },
     "execution_count": 8,
     "metadata": {},
     "output_type": "execute_result"
    }
   ],
   "execution_count": 8
  },
  {
   "metadata": {
    "ExecuteTime": {
     "end_time": "2024-04-25T21:26:26.118427Z",
     "start_time": "2024-04-25T21:26:25.242477Z"
    }
   },
   "cell_type": "code",
   "source": [
    "import requests\n",
    "\n",
    "# Установка базового URL и ключа API\n",
    "base_url = \"http://api.weatherapi.com/v1\"\n",
    "api_key = \"ae03964b347b4881afe205155242404\"  # Замените YOUR_API_KEY на ваш ключ API\n",
    "\n",
    "# Параметры запроса\n",
    "params = {\n",
    "    \"key\": api_key,\n",
    "    \"q\": \"Moscow\"  # Название города, для которого мы хотим получить погоду\n",
    "}\n",
    "\n",
    "# Формирование запроса\n",
    "response = requests.get(f\"{base_url}/current.json\", params=params)\n",
    "\n",
    "# Проверка успешности запроса\n",
    "if response.status_code == 200:\n",
    "    # Получение данных о погоде из ответа\n",
    "    weather_data = response.json()\n",
    "\n",
    "    # Извлечение интересующих нас данных о погоде\n",
    "    temperature_celsius = weather_data['current']['temp_c']  # Температура в градусах Цельсия\n",
    "    wind_speed_kmh = weather_data['current']['wind_kph']  # Скорость ветра в километрах в час\n",
    "    local_datetime = weather_data['location']['localtime']  # Локальное время запроса\n",
    "\n",
    "    # Вывод данных о погоде\n",
    "    print(f\"Текущая температура в Москве: {temperature_celsius}°C\")\n",
    "    print(f\"Скорость ветра в Москве: {wind_speed_kmh} км/ч\")\n",
    "    print(f\"Локальное время: {local_datetime}\")\n",
    "else:\n",
    "    print(\"Ошибка при выполнении запроса:\")\n",
    "    print(response.text)\n"
   ],
   "id": "5f70d1d6e4c8f51",
   "outputs": [
    {
     "name": "stdout",
     "output_type": "stream",
     "text": [
      "Текущая температура в Москве: 12.0°C\n",
      "Скорость ветра в Москве: 4.0 км/ч\n",
      "Локальное время: 2024-04-26 0:24\n"
     ]
    }
   ],
   "execution_count": 11
  },
  {
   "metadata": {
    "ExecuteTime": {
     "end_time": "2024-04-26T11:47:54.999153Z",
     "start_time": "2024-04-26T11:47:54.982154Z"
    }
   },
   "cell_type": "code",
   "source": "response.json()\n",
   "id": "84886b435ad6069c",
   "outputs": [
    {
     "data": {
      "text/plain": [
       "{'location': {'name': 'Moscow',\n",
       "  'region': 'Moscow City',\n",
       "  'country': 'Russia',\n",
       "  'lat': 55.75,\n",
       "  'lon': 37.62,\n",
       "  'tz_id': 'Europe/Moscow',\n",
       "  'localtime_epoch': 1714080261,\n",
       "  'localtime': '2024-04-26 0:24'},\n",
       " 'current': {'last_updated_epoch': 1714079700,\n",
       "  'last_updated': '2024-04-26 00:15',\n",
       "  'temp_c': 12.0,\n",
       "  'temp_f': 53.6,\n",
       "  'is_day': 0,\n",
       "  'condition': {'text': 'Clear',\n",
       "   'icon': '//cdn.weatherapi.com/weather/64x64/night/113.png',\n",
       "   'code': 1000},\n",
       "  'wind_mph': 2.5,\n",
       "  'wind_kph': 4.0,\n",
       "  'wind_degree': 330,\n",
       "  'wind_dir': 'NNW',\n",
       "  'pressure_mb': 1010.0,\n",
       "  'pressure_in': 29.83,\n",
       "  'precip_mm': 0.0,\n",
       "  'precip_in': 0.0,\n",
       "  'humidity': 77,\n",
       "  'cloud': 0,\n",
       "  'feelslike_c': 11.6,\n",
       "  'feelslike_f': 52.8,\n",
       "  'vis_km': 10.0,\n",
       "  'vis_miles': 6.0,\n",
       "  'uv': 1.0,\n",
       "  'gust_mph': 8.3,\n",
       "  'gust_kph': 13.3}}"
      ]
     },
     "execution_count": 57,
     "metadata": {},
     "output_type": "execute_result"
    }
   ],
   "execution_count": 57
  },
  {
   "metadata": {
    "ExecuteTime": {
     "end_time": "2024-04-26T11:48:14.135385Z",
     "start_time": "2024-04-26T11:48:14.121381Z"
    }
   },
   "cell_type": "code",
   "source": [
    "api_response = response.json()\n",
    "new_row = pd.DataFrame.from_dict({\n",
    "    'Location': [api_response['location']['name']],\n",
    "    'Region': [api_response['location']['region']],\n",
    "    'Country': [api_response['location']['country']],\n",
    "    'Latitude': [api_response['location']['lat']],\n",
    "    'Longitude': [api_response['location']['lon']],\n",
    "    'Localtime': [api_response['location']['localtime']],\n",
    "    'Temperature_C': [api_response['current']['temp_c']],\n",
    "    'Temperature_F': [api_response['current']['temp_f']],\n",
    "    'Wind_Speed_kph': [api_response['current']['wind_kph']],\n",
    "    'Wind_Direction': [api_response['current']['wind_dir']],\n",
    "    'Pressure_mb': [api_response['current']['pressure_mb']],\n",
    "    'Humidity': [api_response['current']['humidity']],\n",
    "    'Cloud': [api_response['current']['cloud']],\n",
    "    'FeelsLike_C': [api_response['current']['feelslike_c']],\n",
    "    'FeelsLike_F': [api_response['current']['feelslike_f']],\n",
    "    'Visibility_km': [api_response['current']['vis_km']],\n",
    "    'UV_Index': [api_response['current']['uv']]\n",
    "})"
   ],
   "id": "b80d1a53b82316ce",
   "outputs": [],
   "execution_count": 58
  },
  {
   "metadata": {
    "ExecuteTime": {
     "end_time": "2024-04-26T11:48:23.117872Z",
     "start_time": "2024-04-26T11:48:23.103868Z"
    }
   },
   "cell_type": "code",
   "source": "new_row",
   "id": "a2d19c38347ea70",
   "outputs": [
    {
     "data": {
      "text/plain": [
       "  Location       Region Country  Latitude  Longitude        Localtime  \\\n",
       "0   Moscow  Moscow City  Russia     55.75      37.62  2024-04-26 0:24   \n",
       "\n",
       "   Temperature_C  Temperature_F  Wind_Speed_kph Wind_Direction  Pressure_mb  \\\n",
       "0           12.0           53.6             4.0            NNW       1010.0   \n",
       "\n",
       "   Humidity  Cloud  FeelsLike_C  FeelsLike_F  Visibility_km  UV_Index  \n",
       "0        77      0         11.6         52.8           10.0       1.0  "
      ],
      "text/html": [
       "<div>\n",
       "<style scoped>\n",
       "    .dataframe tbody tr th:only-of-type {\n",
       "        vertical-align: middle;\n",
       "    }\n",
       "\n",
       "    .dataframe tbody tr th {\n",
       "        vertical-align: top;\n",
       "    }\n",
       "\n",
       "    .dataframe thead th {\n",
       "        text-align: right;\n",
       "    }\n",
       "</style>\n",
       "<table border=\"1\" class=\"dataframe\">\n",
       "  <thead>\n",
       "    <tr style=\"text-align: right;\">\n",
       "      <th></th>\n",
       "      <th>Location</th>\n",
       "      <th>Region</th>\n",
       "      <th>Country</th>\n",
       "      <th>Latitude</th>\n",
       "      <th>Longitude</th>\n",
       "      <th>Localtime</th>\n",
       "      <th>Temperature_C</th>\n",
       "      <th>Temperature_F</th>\n",
       "      <th>Wind_Speed_kph</th>\n",
       "      <th>Wind_Direction</th>\n",
       "      <th>Pressure_mb</th>\n",
       "      <th>Humidity</th>\n",
       "      <th>Cloud</th>\n",
       "      <th>FeelsLike_C</th>\n",
       "      <th>FeelsLike_F</th>\n",
       "      <th>Visibility_km</th>\n",
       "      <th>UV_Index</th>\n",
       "    </tr>\n",
       "  </thead>\n",
       "  <tbody>\n",
       "    <tr>\n",
       "      <th>0</th>\n",
       "      <td>Moscow</td>\n",
       "      <td>Moscow City</td>\n",
       "      <td>Russia</td>\n",
       "      <td>55.75</td>\n",
       "      <td>37.62</td>\n",
       "      <td>2024-04-26 0:24</td>\n",
       "      <td>12.0</td>\n",
       "      <td>53.6</td>\n",
       "      <td>4.0</td>\n",
       "      <td>NNW</td>\n",
       "      <td>1010.0</td>\n",
       "      <td>77</td>\n",
       "      <td>0</td>\n",
       "      <td>11.6</td>\n",
       "      <td>52.8</td>\n",
       "      <td>10.0</td>\n",
       "      <td>1.0</td>\n",
       "    </tr>\n",
       "  </tbody>\n",
       "</table>\n",
       "</div>"
      ]
     },
     "execution_count": 59,
     "metadata": {},
     "output_type": "execute_result"
    }
   ],
   "execution_count": 59
  },
  {
   "metadata": {
    "ExecuteTime": {
     "end_time": "2024-04-27T22:28:29.702583Z",
     "start_time": "2024-04-27T22:28:26.017144Z"
    }
   },
   "cell_type": "code",
   "source": [
    "data_raw = pd.read_excel('data/archive.xls')\n",
    "data_raw.head()"
   ],
   "id": "7668f1cabe8a4d0a",
   "outputs": [
    {
     "data": {
      "text/plain": [
       "  Local time in Moscow     T     Po      P   Pa     U  \\\n",
       "0     25.04.2024 21:00  14.9  744.0  757.3  0.9  69.0   \n",
       "1     25.04.2024 18:00  20.6  743.1  756.1  0.2  46.0   \n",
       "2     25.04.2024 15:00  20.2  742.9  755.8  0.1  53.0   \n",
       "3     25.04.2024 12:00  18.1  742.8  755.8  0.1  55.0   \n",
       "4     25.04.2024 09:00  14.1  742.7  756.1 -1.1  58.0   \n",
       "\n",
       "                                      DD   Ff  ff10  ff3  ...  \\\n",
       "0                          Calm, no wind  0.0   NaN  NaN  ...   \n",
       "1  Wind blowing from the south-southeast  1.0   NaN  NaN  ...   \n",
       "2       Wind blowing from the south-east  2.0   NaN  NaN  ...   \n",
       "3  Wind blowing from the south-southeast  2.0   NaN  NaN  ...   \n",
       "4  Wind blowing from the south-southeast  3.0   NaN  NaN  ...   \n",
       "\n",
       "                                             Cm  \\\n",
       "0  No Altocumulus, Altostratus or Nimbostratus.   \n",
       "1  No Altocumulus, Altostratus or Nimbostratus.   \n",
       "2  No Altocumulus, Altostratus or Nimbostratus.   \n",
       "3  No Altocumulus, Altostratus or Nimbostratus.   \n",
       "4  No Altocumulus, Altostratus or Nimbostratus.   \n",
       "\n",
       "                                                  Ch  VV    Td  \\\n",
       "0  Cirrus fibratus, sometimes uncinus, not progre...  20   9.2   \n",
       "1  Cirrus fibratus, sometimes uncinus, not progre...  20   8.6   \n",
       "2  Cirrus fibratus, sometimes uncinus, not progre...  20  10.2   \n",
       "3               Cirrostratus covering the whole sky.  19   8.9   \n",
       "4  Cirrus (often in bands) and Cirrostratus, or C...  20   5.8   \n",
       "\n",
       "                RRR    tR                                                  E  \\\n",
       "0  No precipitation  12.0                                                NaN   \n",
       "1  No precipitation  12.0                                                NaN   \n",
       "2               NaN   NaN                                                NaN   \n",
       "3               NaN   NaN                                                NaN   \n",
       "4               0.1  12.0  Surface of ground wet (standing water in small...   \n",
       "\n",
       "    Tg   E'  sss  \n",
       "0  NaN  NaN  NaN  \n",
       "1  NaN  NaN  NaN  \n",
       "2  NaN  NaN  NaN  \n",
       "3  NaN  NaN  NaN  \n",
       "4  8.0  NaN  NaN  \n",
       "\n",
       "[5 rows x 29 columns]"
      ],
      "text/html": [
       "<div>\n",
       "<style scoped>\n",
       "    .dataframe tbody tr th:only-of-type {\n",
       "        vertical-align: middle;\n",
       "    }\n",
       "\n",
       "    .dataframe tbody tr th {\n",
       "        vertical-align: top;\n",
       "    }\n",
       "\n",
       "    .dataframe thead th {\n",
       "        text-align: right;\n",
       "    }\n",
       "</style>\n",
       "<table border=\"1\" class=\"dataframe\">\n",
       "  <thead>\n",
       "    <tr style=\"text-align: right;\">\n",
       "      <th></th>\n",
       "      <th>Local time in Moscow</th>\n",
       "      <th>T</th>\n",
       "      <th>Po</th>\n",
       "      <th>P</th>\n",
       "      <th>Pa</th>\n",
       "      <th>U</th>\n",
       "      <th>DD</th>\n",
       "      <th>Ff</th>\n",
       "      <th>ff10</th>\n",
       "      <th>ff3</th>\n",
       "      <th>...</th>\n",
       "      <th>Cm</th>\n",
       "      <th>Ch</th>\n",
       "      <th>VV</th>\n",
       "      <th>Td</th>\n",
       "      <th>RRR</th>\n",
       "      <th>tR</th>\n",
       "      <th>E</th>\n",
       "      <th>Tg</th>\n",
       "      <th>E'</th>\n",
       "      <th>sss</th>\n",
       "    </tr>\n",
       "  </thead>\n",
       "  <tbody>\n",
       "    <tr>\n",
       "      <th>0</th>\n",
       "      <td>25.04.2024 21:00</td>\n",
       "      <td>14.9</td>\n",
       "      <td>744.0</td>\n",
       "      <td>757.3</td>\n",
       "      <td>0.9</td>\n",
       "      <td>69.0</td>\n",
       "      <td>Calm, no wind</td>\n",
       "      <td>0.0</td>\n",
       "      <td>NaN</td>\n",
       "      <td>NaN</td>\n",
       "      <td>...</td>\n",
       "      <td>No Altocumulus, Altostratus or Nimbostratus.</td>\n",
       "      <td>Cirrus fibratus, sometimes uncinus, not progre...</td>\n",
       "      <td>20</td>\n",
       "      <td>9.2</td>\n",
       "      <td>No precipitation</td>\n",
       "      <td>12.0</td>\n",
       "      <td>NaN</td>\n",
       "      <td>NaN</td>\n",
       "      <td>NaN</td>\n",
       "      <td>NaN</td>\n",
       "    </tr>\n",
       "    <tr>\n",
       "      <th>1</th>\n",
       "      <td>25.04.2024 18:00</td>\n",
       "      <td>20.6</td>\n",
       "      <td>743.1</td>\n",
       "      <td>756.1</td>\n",
       "      <td>0.2</td>\n",
       "      <td>46.0</td>\n",
       "      <td>Wind blowing from the south-southeast</td>\n",
       "      <td>1.0</td>\n",
       "      <td>NaN</td>\n",
       "      <td>NaN</td>\n",
       "      <td>...</td>\n",
       "      <td>No Altocumulus, Altostratus or Nimbostratus.</td>\n",
       "      <td>Cirrus fibratus, sometimes uncinus, not progre...</td>\n",
       "      <td>20</td>\n",
       "      <td>8.6</td>\n",
       "      <td>No precipitation</td>\n",
       "      <td>12.0</td>\n",
       "      <td>NaN</td>\n",
       "      <td>NaN</td>\n",
       "      <td>NaN</td>\n",
       "      <td>NaN</td>\n",
       "    </tr>\n",
       "    <tr>\n",
       "      <th>2</th>\n",
       "      <td>25.04.2024 15:00</td>\n",
       "      <td>20.2</td>\n",
       "      <td>742.9</td>\n",
       "      <td>755.8</td>\n",
       "      <td>0.1</td>\n",
       "      <td>53.0</td>\n",
       "      <td>Wind blowing from the south-east</td>\n",
       "      <td>2.0</td>\n",
       "      <td>NaN</td>\n",
       "      <td>NaN</td>\n",
       "      <td>...</td>\n",
       "      <td>No Altocumulus, Altostratus or Nimbostratus.</td>\n",
       "      <td>Cirrus fibratus, sometimes uncinus, not progre...</td>\n",
       "      <td>20</td>\n",
       "      <td>10.2</td>\n",
       "      <td>NaN</td>\n",
       "      <td>NaN</td>\n",
       "      <td>NaN</td>\n",
       "      <td>NaN</td>\n",
       "      <td>NaN</td>\n",
       "      <td>NaN</td>\n",
       "    </tr>\n",
       "    <tr>\n",
       "      <th>3</th>\n",
       "      <td>25.04.2024 12:00</td>\n",
       "      <td>18.1</td>\n",
       "      <td>742.8</td>\n",
       "      <td>755.8</td>\n",
       "      <td>0.1</td>\n",
       "      <td>55.0</td>\n",
       "      <td>Wind blowing from the south-southeast</td>\n",
       "      <td>2.0</td>\n",
       "      <td>NaN</td>\n",
       "      <td>NaN</td>\n",
       "      <td>...</td>\n",
       "      <td>No Altocumulus, Altostratus or Nimbostratus.</td>\n",
       "      <td>Cirrostratus covering the whole sky.</td>\n",
       "      <td>19</td>\n",
       "      <td>8.9</td>\n",
       "      <td>NaN</td>\n",
       "      <td>NaN</td>\n",
       "      <td>NaN</td>\n",
       "      <td>NaN</td>\n",
       "      <td>NaN</td>\n",
       "      <td>NaN</td>\n",
       "    </tr>\n",
       "    <tr>\n",
       "      <th>4</th>\n",
       "      <td>25.04.2024 09:00</td>\n",
       "      <td>14.1</td>\n",
       "      <td>742.7</td>\n",
       "      <td>756.1</td>\n",
       "      <td>-1.1</td>\n",
       "      <td>58.0</td>\n",
       "      <td>Wind blowing from the south-southeast</td>\n",
       "      <td>3.0</td>\n",
       "      <td>NaN</td>\n",
       "      <td>NaN</td>\n",
       "      <td>...</td>\n",
       "      <td>No Altocumulus, Altostratus or Nimbostratus.</td>\n",
       "      <td>Cirrus (often in bands) and Cirrostratus, or C...</td>\n",
       "      <td>20</td>\n",
       "      <td>5.8</td>\n",
       "      <td>0.1</td>\n",
       "      <td>12.0</td>\n",
       "      <td>Surface of ground wet (standing water in small...</td>\n",
       "      <td>8.0</td>\n",
       "      <td>NaN</td>\n",
       "      <td>NaN</td>\n",
       "    </tr>\n",
       "  </tbody>\n",
       "</table>\n",
       "<p>5 rows × 29 columns</p>\n",
       "</div>"
      ]
     },
     "execution_count": 61,
     "metadata": {},
     "output_type": "execute_result"
    }
   ],
   "execution_count": 61
  },
  {
   "metadata": {
    "ExecuteTime": {
     "end_time": "2024-04-27T22:42:09.257399Z",
     "start_time": "2024-04-27T22:42:09.241012Z"
    }
   },
   "cell_type": "code",
   "source": [
    "data = data_raw[['Local time in Moscow', 'T']]\n",
    "data.dropna(inplace=True)"
   ],
   "id": "9e5eab8feb7f89a9",
   "outputs": [
    {
     "name": "stderr",
     "output_type": "stream",
     "text": [
      "C:\\Users\\Peter\\AppData\\Local\\Temp\\ipykernel_31580\\3518725495.py:2: SettingWithCopyWarning: \n",
      "A value is trying to be set on a copy of a slice from a DataFrame\n",
      "\n",
      "See the caveats in the documentation: https://pandas.pydata.org/pandas-docs/stable/user_guide/indexing.html#returning-a-view-versus-a-copy\n",
      "  data.dropna(inplace=True)\n"
     ]
    }
   ],
   "execution_count": 77
  },
  {
   "metadata": {
    "ExecuteTime": {
     "end_time": "2024-04-27T22:28:36.351457Z",
     "start_time": "2024-04-27T22:28:35.484597Z"
    }
   },
   "cell_type": "code",
   "source": [
    "\n",
    "import matplotlib.pyplot as plt\n",
    "\n",
    "\n",
    "\n",
    "# Преобразование столбца 'Local time in Moscow' в формат datetime\n",
    "data['Local time in Moscow'] = pd.to_datetime(data['Local time in Moscow'], format='%d.%m.%Y %H:%M')\n",
    "\n",
    "# Создание графика\n",
    "plt.figure(figsize=(10, 6))\n",
    "plt.plot(data['Local time in Moscow'], data['T'], marker='o', linestyle='-')\n",
    "\n",
    "# Настройка осей и заголовка графика\n",
    "plt.xlabel('Время')\n",
    "plt.ylabel('Температура, °C')\n",
    "plt.title('Зависимость температуры от времени')\n",
    "\n",
    "# Вывод графика\n",
    "plt.grid(True)\n",
    "plt.show()\n"
   ],
   "id": "85201488426b76f3",
   "outputs": [
    {
     "name": "stderr",
     "output_type": "stream",
     "text": [
      "C:\\Users\\Peter\\AppData\\Local\\Temp\\ipykernel_31580\\4015242811.py:6: SettingWithCopyWarning: \n",
      "A value is trying to be set on a copy of a slice from a DataFrame.\n",
      "Try using .loc[row_indexer,col_indexer] = value instead\n",
      "\n",
      "See the caveats in the documentation: https://pandas.pydata.org/pandas-docs/stable/user_guide/indexing.html#returning-a-view-versus-a-copy\n",
      "  data['Local time in Moscow'] = pd.to_datetime(data['Local time in Moscow'], format='%d.%m.%Y %H:%M')\n"
     ]
    },
    {
     "data": {
      "text/plain": [
       "<Figure size 1000x600 with 1 Axes>"
      ],
      "image/png": "[encoded data removed]"
     },
     "metadata": {},
     "output_type": "display_data"
    }
   ],
   "execution_count": 63
  },
  {
   "metadata": {
    "ExecuteTime": {
     "end_time": "2024-04-27T22:30:21.546872Z",
     "start_time": "2024-04-27T22:30:21.529290Z"
    }
   },
   "cell_type": "code",
   "source": "data.index",
   "id": "a976288e43277c2a",
   "outputs": [
    {
     "data": {
      "text/plain": [
       "DatetimeIndex(['2024-04-25 21:00:00', '2024-04-25 18:00:00',\n",
       "               '2024-04-25 15:00:00', '2024-04-25 12:00:00',\n",
       "               '2024-04-25 09:00:00', '2024-04-25 06:00:00',\n",
       "               '2024-04-25 03:00:00', '2024-04-25 00:00:00',\n",
       "               '2024-04-24 21:00:00', '2024-04-24 18:00:00',\n",
       "               ...\n",
       "               '2005-02-02 06:00:00', '2005-02-02 03:00:00',\n",
       "               '2005-02-02 00:00:00', '2005-02-01 21:00:00',\n",
       "               '2005-02-01 18:00:00', '2005-02-01 15:00:00',\n",
       "               '2005-02-01 12:00:00', '2005-02-01 09:00:00',\n",
       "               '2005-02-01 06:00:00', '2005-02-01 03:00:00'],\n",
       "              dtype='datetime64[ns]', name='Local time in Moscow', length=65503, freq=None)"
      ]
     },
     "execution_count": 68,
     "metadata": {},
     "output_type": "execute_result"
    }
   ],
   "execution_count": 68
  },
  {
   "metadata": {
    "ExecuteTime": {
     "end_time": "2024-04-29T09:52:22.891629Z",
     "start_time": "2024-04-29T09:52:19.107829Z"
    }
   },
   "cell_type": "code",
   "source": "data = pd.read_excel('data/archive.xls')\n",
   "id": "ef3517e301a32438",
   "outputs": [],
   "execution_count": 4
  },
  {
   "metadata": {
    "ExecuteTime": {
     "end_time": "2024-04-29T09:52:27.507024Z",
     "start_time": "2024-04-29T09:52:22.892617Z"
    }
   },
   "cell_type": "code",
   "source": [
    "# Преобразование столбца 'Local time in Moscow' в формат datetime и установка его в качестве индекса\n",
    "data.fillna(data.mean(), inplace=True)  # Замена NaN на среднее значение\n",
    "data['Local time in Moscow'] = pd.to_datetime(data['Local time in Moscow'], format='%d.%m.%Y %H:%M')\n",
    "data.set_index('Local time in Moscow', inplace=True)\n",
    "\n",
    "# Выбор столбца с температурой для прогнозирования\n",
    "temperature = data['T']\n",
    "\n",
    "# Разделение данных на тренировочный и тестовый наборы по времени\n",
    "train = data.loc[data.index < '2023-01-01']\n",
    "test = data.loc[data.index >= '2023-01-01']\n",
    "endog_column = 'T'  # Replace 'T' with the actual column name representing the target variable\n",
    "endog_train = train[endog_column]\n",
    "endog_test = test[endog_column]\n",
    "\n",
    "# Создание и обучение модели SARIMA с использованием GridSearchCV\n",
    "model = SARIMAX(endog_train, order=(1, 1, 1), seasonal_order=(1, 1, 1, 12))\n",
    "grid_search = GridSearchCV(model, param_grid, scoring='neg_mean_squared_error', cv=3, n_jobs=-1)\n",
    "grid_search.fit(endog_train)\n",
    "\n",
    "# Получение наилучших гиперпараметров\n",
    "best_params = grid_search.best_params_\n",
    "print(\"Best Parameters:\", best_params)\n",
    "\n",
    "# Создание и обучение модели SARIMA с наилучшими найденными параметрами\n",
    "best_model = SARIMAX(endog_train, order=best_params['order'], seasonal_order=best_params['seasonal_order'])\n",
    "best_model_fit = best_model.fit(disp=False)\n",
    "\n",
    "# Прогнозирование на тестовом наборе с использованием наилучшей модели\n",
    "forecast = best_model_fit.forecast(steps=len(endog_test))\n",
    "\n",
    "# Оценка производительности наилучшей модели\n",
    "mse = mean_squared_error(endog_test, forecast)\n",
    "print('Mean Squared Error (Best Model):', mse)\n",
    "\n",
    "# Визуализация результатов\n",
    "plt.figure(figsize=(12, 6))\n",
    "plt.plot(endog_test.index, endog_test, label='Фактическая температура')\n",
    "plt.plot(endog_test.index, forecast, color='red', label='Прогноз температуры')\n",
    "plt.title('Прогноз температуры с помощью SARIMA (с оптимизацией гиперпараметров)')\n",
    "plt.xlabel('Дата')\n",
    "plt.ylabel('Температура')\n",
    "plt.legend()\n",
    "plt.show()"
   ],
   "id": "68dc633b1f4341a4",
   "outputs": [
    {
     "ename": "TypeError",
     "evalue": "can only concatenate str (not \"int\") to str",
     "output_type": "error",
     "traceback": [
      "\u001B[1;31m---------------------------------------------------------------------------\u001B[0m",
      "\u001B[1;31mTypeError\u001B[0m                                 Traceback (most recent call last)",
      "Cell \u001B[1;32mIn[5], line 2\u001B[0m\n\u001B[0;32m      1\u001B[0m \u001B[38;5;66;03m# Преобразование столбца 'Local time in Moscow' в формат datetime и установка его в качестве индекса\u001B[39;00m\n\u001B[1;32m----> 2\u001B[0m data\u001B[38;5;241m.\u001B[39mfillna(\u001B[43mdata\u001B[49m\u001B[38;5;241;43m.\u001B[39;49m\u001B[43mmean\u001B[49m\u001B[43m(\u001B[49m\u001B[43m)\u001B[49m, inplace\u001B[38;5;241m=\u001B[39m\u001B[38;5;28;01mTrue\u001B[39;00m)  \u001B[38;5;66;03m# Замена NaN на среднее значение\u001B[39;00m\n\u001B[0;32m      3\u001B[0m data[\u001B[38;5;124m'\u001B[39m\u001B[38;5;124mLocal time in Moscow\u001B[39m\u001B[38;5;124m'\u001B[39m] \u001B[38;5;241m=\u001B[39m pd\u001B[38;5;241m.\u001B[39mto_datetime(data[\u001B[38;5;124m'\u001B[39m\u001B[38;5;124mLocal time in Moscow\u001B[39m\u001B[38;5;124m'\u001B[39m], \u001B[38;5;28mformat\u001B[39m\u001B[38;5;241m=\u001B[39m\u001B[38;5;124m'\u001B[39m\u001B[38;5;132;01m%d\u001B[39;00m\u001B[38;5;124m.\u001B[39m\u001B[38;5;124m%\u001B[39m\u001B[38;5;124mm.\u001B[39m\u001B[38;5;124m%\u001B[39m\u001B[38;5;124mY \u001B[39m\u001B[38;5;124m%\u001B[39m\u001B[38;5;124mH:\u001B[39m\u001B[38;5;124m%\u001B[39m\u001B[38;5;124mM\u001B[39m\u001B[38;5;124m'\u001B[39m)\n\u001B[0;32m      4\u001B[0m data\u001B[38;5;241m.\u001B[39mset_index(\u001B[38;5;124m'\u001B[39m\u001B[38;5;124mLocal time in Moscow\u001B[39m\u001B[38;5;124m'\u001B[39m, inplace\u001B[38;5;241m=\u001B[39m\u001B[38;5;28;01mTrue\u001B[39;00m)\n",
      "File \u001B[1;32mC:\\ProgramData\\anaconda3\\envs\\kaggle\\lib\\site-packages\\pandas\\core\\frame.py:11335\u001B[0m, in \u001B[0;36mDataFrame.mean\u001B[1;34m(self, axis, skipna, numeric_only, **kwargs)\u001B[0m\n\u001B[0;32m  11327\u001B[0m \u001B[38;5;129m@doc\u001B[39m(make_doc(\u001B[38;5;124m\"\u001B[39m\u001B[38;5;124mmean\u001B[39m\u001B[38;5;124m\"\u001B[39m, ndim\u001B[38;5;241m=\u001B[39m\u001B[38;5;241m2\u001B[39m))\n\u001B[0;32m  11328\u001B[0m \u001B[38;5;28;01mdef\u001B[39;00m \u001B[38;5;21mmean\u001B[39m(\n\u001B[0;32m  11329\u001B[0m     \u001B[38;5;28mself\u001B[39m,\n\u001B[1;32m   (...)\u001B[0m\n\u001B[0;32m  11333\u001B[0m     \u001B[38;5;241m*\u001B[39m\u001B[38;5;241m*\u001B[39mkwargs,\n\u001B[0;32m  11334\u001B[0m ):\n\u001B[1;32m> 11335\u001B[0m     result \u001B[38;5;241m=\u001B[39m \u001B[38;5;28msuper\u001B[39m()\u001B[38;5;241m.\u001B[39mmean(axis, skipna, numeric_only, \u001B[38;5;241m*\u001B[39m\u001B[38;5;241m*\u001B[39mkwargs)\n\u001B[0;32m  11336\u001B[0m     \u001B[38;5;28;01mif\u001B[39;00m \u001B[38;5;28misinstance\u001B[39m(result, Series):\n\u001B[0;32m  11337\u001B[0m         result \u001B[38;5;241m=\u001B[39m result\u001B[38;5;241m.\u001B[39m__finalize__(\u001B[38;5;28mself\u001B[39m, method\u001B[38;5;241m=\u001B[39m\u001B[38;5;124m\"\u001B[39m\u001B[38;5;124mmean\u001B[39m\u001B[38;5;124m\"\u001B[39m)\n",
      "File \u001B[1;32mC:\\ProgramData\\anaconda3\\envs\\kaggle\\lib\\site-packages\\pandas\\core\\generic.py:11992\u001B[0m, in \u001B[0;36mNDFrame.mean\u001B[1;34m(self, axis, skipna, numeric_only, **kwargs)\u001B[0m\n\u001B[0;32m  11985\u001B[0m \u001B[38;5;28;01mdef\u001B[39;00m \u001B[38;5;21mmean\u001B[39m(\n\u001B[0;32m  11986\u001B[0m     \u001B[38;5;28mself\u001B[39m,\n\u001B[0;32m  11987\u001B[0m     axis: Axis \u001B[38;5;241m|\u001B[39m \u001B[38;5;28;01mNone\u001B[39;00m \u001B[38;5;241m=\u001B[39m \u001B[38;5;241m0\u001B[39m,\n\u001B[1;32m   (...)\u001B[0m\n\u001B[0;32m  11990\u001B[0m     \u001B[38;5;241m*\u001B[39m\u001B[38;5;241m*\u001B[39mkwargs,\n\u001B[0;32m  11991\u001B[0m ) \u001B[38;5;241m-\u001B[39m\u001B[38;5;241m>\u001B[39m Series \u001B[38;5;241m|\u001B[39m \u001B[38;5;28mfloat\u001B[39m:\n\u001B[1;32m> 11992\u001B[0m     \u001B[38;5;28;01mreturn\u001B[39;00m \u001B[38;5;28mself\u001B[39m\u001B[38;5;241m.\u001B[39m_stat_function(\n\u001B[0;32m  11993\u001B[0m         \u001B[38;5;124m\"\u001B[39m\u001B[38;5;124mmean\u001B[39m\u001B[38;5;124m\"\u001B[39m, nanops\u001B[38;5;241m.\u001B[39mnanmean, axis, skipna, numeric_only, \u001B[38;5;241m*\u001B[39m\u001B[38;5;241m*\u001B[39mkwargs\n\u001B[0;32m  11994\u001B[0m     )\n",
      "File \u001B[1;32mC:\\ProgramData\\anaconda3\\envs\\kaggle\\lib\\site-packages\\pandas\\core\\generic.py:11949\u001B[0m, in \u001B[0;36mNDFrame._stat_function\u001B[1;34m(self, name, func, axis, skipna, numeric_only, **kwargs)\u001B[0m\n\u001B[0;32m  11945\u001B[0m nv\u001B[38;5;241m.\u001B[39mvalidate_func(name, (), kwargs)\n\u001B[0;32m  11947\u001B[0m validate_bool_kwarg(skipna, \u001B[38;5;124m\"\u001B[39m\u001B[38;5;124mskipna\u001B[39m\u001B[38;5;124m\"\u001B[39m, none_allowed\u001B[38;5;241m=\u001B[39m\u001B[38;5;28;01mFalse\u001B[39;00m)\n\u001B[1;32m> 11949\u001B[0m \u001B[38;5;28;01mreturn\u001B[39;00m \u001B[38;5;28;43mself\u001B[39;49m\u001B[38;5;241;43m.\u001B[39;49m\u001B[43m_reduce\u001B[49m\u001B[43m(\u001B[49m\n\u001B[0;32m  11950\u001B[0m \u001B[43m    \u001B[49m\u001B[43mfunc\u001B[49m\u001B[43m,\u001B[49m\u001B[43m \u001B[49m\u001B[43mname\u001B[49m\u001B[38;5;241;43m=\u001B[39;49m\u001B[43mname\u001B[49m\u001B[43m,\u001B[49m\u001B[43m \u001B[49m\u001B[43maxis\u001B[49m\u001B[38;5;241;43m=\u001B[39;49m\u001B[43maxis\u001B[49m\u001B[43m,\u001B[49m\u001B[43m \u001B[49m\u001B[43mskipna\u001B[49m\u001B[38;5;241;43m=\u001B[39;49m\u001B[43mskipna\u001B[49m\u001B[43m,\u001B[49m\u001B[43m \u001B[49m\u001B[43mnumeric_only\u001B[49m\u001B[38;5;241;43m=\u001B[39;49m\u001B[43mnumeric_only\u001B[49m\n\u001B[0;32m  11951\u001B[0m \u001B[43m\u001B[49m\u001B[43m)\u001B[49m\n",
      "File \u001B[1;32mC:\\ProgramData\\anaconda3\\envs\\kaggle\\lib\\site-packages\\pandas\\core\\frame.py:11204\u001B[0m, in \u001B[0;36mDataFrame._reduce\u001B[1;34m(self, op, name, axis, skipna, numeric_only, filter_type, **kwds)\u001B[0m\n\u001B[0;32m  11200\u001B[0m     df \u001B[38;5;241m=\u001B[39m df\u001B[38;5;241m.\u001B[39mT\n\u001B[0;32m  11202\u001B[0m \u001B[38;5;66;03m# After possibly _get_data and transposing, we are now in the\u001B[39;00m\n\u001B[0;32m  11203\u001B[0m \u001B[38;5;66;03m#  simple case where we can use BlockManager.reduce\u001B[39;00m\n\u001B[1;32m> 11204\u001B[0m res \u001B[38;5;241m=\u001B[39m \u001B[43mdf\u001B[49m\u001B[38;5;241;43m.\u001B[39;49m\u001B[43m_mgr\u001B[49m\u001B[38;5;241;43m.\u001B[39;49m\u001B[43mreduce\u001B[49m\u001B[43m(\u001B[49m\u001B[43mblk_func\u001B[49m\u001B[43m)\u001B[49m\n\u001B[0;32m  11205\u001B[0m out \u001B[38;5;241m=\u001B[39m df\u001B[38;5;241m.\u001B[39m_constructor_from_mgr(res, axes\u001B[38;5;241m=\u001B[39mres\u001B[38;5;241m.\u001B[39maxes)\u001B[38;5;241m.\u001B[39miloc[\u001B[38;5;241m0\u001B[39m]\n\u001B[0;32m  11206\u001B[0m \u001B[38;5;28;01mif\u001B[39;00m out_dtype \u001B[38;5;129;01mis\u001B[39;00m \u001B[38;5;129;01mnot\u001B[39;00m \u001B[38;5;28;01mNone\u001B[39;00m \u001B[38;5;129;01mand\u001B[39;00m out\u001B[38;5;241m.\u001B[39mdtype \u001B[38;5;241m!=\u001B[39m \u001B[38;5;124m\"\u001B[39m\u001B[38;5;124mboolean\u001B[39m\u001B[38;5;124m\"\u001B[39m:\n",
      "File \u001B[1;32mC:\\ProgramData\\anaconda3\\envs\\kaggle\\lib\\site-packages\\pandas\\core\\internals\\managers.py:1459\u001B[0m, in \u001B[0;36mBlockManager.reduce\u001B[1;34m(self, func)\u001B[0m\n\u001B[0;32m   1457\u001B[0m res_blocks: \u001B[38;5;28mlist\u001B[39m[Block] \u001B[38;5;241m=\u001B[39m []\n\u001B[0;32m   1458\u001B[0m \u001B[38;5;28;01mfor\u001B[39;00m blk \u001B[38;5;129;01min\u001B[39;00m \u001B[38;5;28mself\u001B[39m\u001B[38;5;241m.\u001B[39mblocks:\n\u001B[1;32m-> 1459\u001B[0m     nbs \u001B[38;5;241m=\u001B[39m \u001B[43mblk\u001B[49m\u001B[38;5;241;43m.\u001B[39;49m\u001B[43mreduce\u001B[49m\u001B[43m(\u001B[49m\u001B[43mfunc\u001B[49m\u001B[43m)\u001B[49m\n\u001B[0;32m   1460\u001B[0m     res_blocks\u001B[38;5;241m.\u001B[39mextend(nbs)\n\u001B[0;32m   1462\u001B[0m index \u001B[38;5;241m=\u001B[39m Index([\u001B[38;5;28;01mNone\u001B[39;00m])  \u001B[38;5;66;03m# placeholder\u001B[39;00m\n",
      "File \u001B[1;32mC:\\ProgramData\\anaconda3\\envs\\kaggle\\lib\\site-packages\\pandas\\core\\internals\\blocks.py:377\u001B[0m, in \u001B[0;36mBlock.reduce\u001B[1;34m(self, func)\u001B[0m\n\u001B[0;32m    371\u001B[0m \u001B[38;5;129m@final\u001B[39m\n\u001B[0;32m    372\u001B[0m \u001B[38;5;28;01mdef\u001B[39;00m \u001B[38;5;21mreduce\u001B[39m(\u001B[38;5;28mself\u001B[39m, func) \u001B[38;5;241m-\u001B[39m\u001B[38;5;241m>\u001B[39m \u001B[38;5;28mlist\u001B[39m[Block]:\n\u001B[0;32m    373\u001B[0m     \u001B[38;5;66;03m# We will apply the function and reshape the result into a single-row\u001B[39;00m\n\u001B[0;32m    374\u001B[0m     \u001B[38;5;66;03m#  Block with the same mgr_locs; squeezing will be done at a higher level\u001B[39;00m\n\u001B[0;32m    375\u001B[0m     \u001B[38;5;28;01massert\u001B[39;00m \u001B[38;5;28mself\u001B[39m\u001B[38;5;241m.\u001B[39mndim \u001B[38;5;241m==\u001B[39m \u001B[38;5;241m2\u001B[39m\n\u001B[1;32m--> 377\u001B[0m     result \u001B[38;5;241m=\u001B[39m \u001B[43mfunc\u001B[49m\u001B[43m(\u001B[49m\u001B[38;5;28;43mself\u001B[39;49m\u001B[38;5;241;43m.\u001B[39;49m\u001B[43mvalues\u001B[49m\u001B[43m)\u001B[49m\n\u001B[0;32m    379\u001B[0m     \u001B[38;5;28;01mif\u001B[39;00m \u001B[38;5;28mself\u001B[39m\u001B[38;5;241m.\u001B[39mvalues\u001B[38;5;241m.\u001B[39mndim \u001B[38;5;241m==\u001B[39m \u001B[38;5;241m1\u001B[39m:\n\u001B[0;32m    380\u001B[0m         res_values \u001B[38;5;241m=\u001B[39m result\n",
      "File \u001B[1;32mC:\\ProgramData\\anaconda3\\envs\\kaggle\\lib\\site-packages\\pandas\\core\\frame.py:11136\u001B[0m, in \u001B[0;36mDataFrame._reduce.<locals>.blk_func\u001B[1;34m(values, axis)\u001B[0m\n\u001B[0;32m  11134\u001B[0m         \u001B[38;5;28;01mreturn\u001B[39;00m np\u001B[38;5;241m.\u001B[39marray([result])\n\u001B[0;32m  11135\u001B[0m \u001B[38;5;28;01melse\u001B[39;00m:\n\u001B[1;32m> 11136\u001B[0m     \u001B[38;5;28;01mreturn\u001B[39;00m op(values, axis\u001B[38;5;241m=\u001B[39maxis, skipna\u001B[38;5;241m=\u001B[39mskipna, \u001B[38;5;241m*\u001B[39m\u001B[38;5;241m*\u001B[39mkwds)\n",
      "File \u001B[1;32mC:\\ProgramData\\anaconda3\\envs\\kaggle\\lib\\site-packages\\pandas\\core\\nanops.py:147\u001B[0m, in \u001B[0;36mbottleneck_switch.__call__.<locals>.f\u001B[1;34m(values, axis, skipna, **kwds)\u001B[0m\n\u001B[0;32m    145\u001B[0m         result \u001B[38;5;241m=\u001B[39m alt(values, axis\u001B[38;5;241m=\u001B[39maxis, skipna\u001B[38;5;241m=\u001B[39mskipna, \u001B[38;5;241m*\u001B[39m\u001B[38;5;241m*\u001B[39mkwds)\n\u001B[0;32m    146\u001B[0m \u001B[38;5;28;01melse\u001B[39;00m:\n\u001B[1;32m--> 147\u001B[0m     result \u001B[38;5;241m=\u001B[39m alt(values, axis\u001B[38;5;241m=\u001B[39maxis, skipna\u001B[38;5;241m=\u001B[39mskipna, \u001B[38;5;241m*\u001B[39m\u001B[38;5;241m*\u001B[39mkwds)\n\u001B[0;32m    149\u001B[0m \u001B[38;5;28;01mreturn\u001B[39;00m result\n",
      "File \u001B[1;32mC:\\ProgramData\\anaconda3\\envs\\kaggle\\lib\\site-packages\\pandas\\core\\nanops.py:404\u001B[0m, in \u001B[0;36m_datetimelike_compat.<locals>.new_func\u001B[1;34m(values, axis, skipna, mask, **kwargs)\u001B[0m\n\u001B[0;32m    401\u001B[0m \u001B[38;5;28;01mif\u001B[39;00m datetimelike \u001B[38;5;129;01mand\u001B[39;00m mask \u001B[38;5;129;01mis\u001B[39;00m \u001B[38;5;28;01mNone\u001B[39;00m:\n\u001B[0;32m    402\u001B[0m     mask \u001B[38;5;241m=\u001B[39m isna(values)\n\u001B[1;32m--> 404\u001B[0m result \u001B[38;5;241m=\u001B[39m func(values, axis\u001B[38;5;241m=\u001B[39maxis, skipna\u001B[38;5;241m=\u001B[39mskipna, mask\u001B[38;5;241m=\u001B[39mmask, \u001B[38;5;241m*\u001B[39m\u001B[38;5;241m*\u001B[39mkwargs)\n\u001B[0;32m    406\u001B[0m \u001B[38;5;28;01mif\u001B[39;00m datetimelike:\n\u001B[0;32m    407\u001B[0m     result \u001B[38;5;241m=\u001B[39m _wrap_results(result, orig_values\u001B[38;5;241m.\u001B[39mdtype, fill_value\u001B[38;5;241m=\u001B[39miNaT)\n",
      "File \u001B[1;32mC:\\ProgramData\\anaconda3\\envs\\kaggle\\lib\\site-packages\\pandas\\core\\nanops.py:719\u001B[0m, in \u001B[0;36mnanmean\u001B[1;34m(values, axis, skipna, mask)\u001B[0m\n\u001B[0;32m    716\u001B[0m     dtype_count \u001B[38;5;241m=\u001B[39m dtype\n\u001B[0;32m    718\u001B[0m count \u001B[38;5;241m=\u001B[39m _get_counts(values\u001B[38;5;241m.\u001B[39mshape, mask, axis, dtype\u001B[38;5;241m=\u001B[39mdtype_count)\n\u001B[1;32m--> 719\u001B[0m the_sum \u001B[38;5;241m=\u001B[39m \u001B[43mvalues\u001B[49m\u001B[38;5;241;43m.\u001B[39;49m\u001B[43msum\u001B[49m\u001B[43m(\u001B[49m\u001B[43maxis\u001B[49m\u001B[43m,\u001B[49m\u001B[43m \u001B[49m\u001B[43mdtype\u001B[49m\u001B[38;5;241;43m=\u001B[39;49m\u001B[43mdtype_sum\u001B[49m\u001B[43m)\u001B[49m\n\u001B[0;32m    720\u001B[0m the_sum \u001B[38;5;241m=\u001B[39m _ensure_numeric(the_sum)\n\u001B[0;32m    722\u001B[0m \u001B[38;5;28;01mif\u001B[39;00m axis \u001B[38;5;129;01mis\u001B[39;00m \u001B[38;5;129;01mnot\u001B[39;00m \u001B[38;5;28;01mNone\u001B[39;00m \u001B[38;5;129;01mand\u001B[39;00m \u001B[38;5;28mgetattr\u001B[39m(the_sum, \u001B[38;5;124m\"\u001B[39m\u001B[38;5;124mndim\u001B[39m\u001B[38;5;124m\"\u001B[39m, \u001B[38;5;28;01mFalse\u001B[39;00m):\n",
      "File \u001B[1;32mC:\\ProgramData\\anaconda3\\envs\\kaggle\\lib\\site-packages\\numpy\\core\\_methods.py:49\u001B[0m, in \u001B[0;36m_sum\u001B[1;34m(a, axis, dtype, out, keepdims, initial, where)\u001B[0m\n\u001B[0;32m     47\u001B[0m \u001B[38;5;28;01mdef\u001B[39;00m \u001B[38;5;21m_sum\u001B[39m(a, axis\u001B[38;5;241m=\u001B[39m\u001B[38;5;28;01mNone\u001B[39;00m, dtype\u001B[38;5;241m=\u001B[39m\u001B[38;5;28;01mNone\u001B[39;00m, out\u001B[38;5;241m=\u001B[39m\u001B[38;5;28;01mNone\u001B[39;00m, keepdims\u001B[38;5;241m=\u001B[39m\u001B[38;5;28;01mFalse\u001B[39;00m,\n\u001B[0;32m     48\u001B[0m          initial\u001B[38;5;241m=\u001B[39m_NoValue, where\u001B[38;5;241m=\u001B[39m\u001B[38;5;28;01mTrue\u001B[39;00m):\n\u001B[1;32m---> 49\u001B[0m     \u001B[38;5;28;01mreturn\u001B[39;00m \u001B[43mumr_sum\u001B[49m\u001B[43m(\u001B[49m\u001B[43ma\u001B[49m\u001B[43m,\u001B[49m\u001B[43m \u001B[49m\u001B[43maxis\u001B[49m\u001B[43m,\u001B[49m\u001B[43m \u001B[49m\u001B[43mdtype\u001B[49m\u001B[43m,\u001B[49m\u001B[43m \u001B[49m\u001B[43mout\u001B[49m\u001B[43m,\u001B[49m\u001B[43m \u001B[49m\u001B[43mkeepdims\u001B[49m\u001B[43m,\u001B[49m\u001B[43m \u001B[49m\u001B[43minitial\u001B[49m\u001B[43m,\u001B[49m\u001B[43m \u001B[49m\u001B[43mwhere\u001B[49m\u001B[43m)\u001B[49m\n",
      "\u001B[1;31mTypeError\u001B[0m: can only concatenate str (not \"int\") to str"
     ]
    }
   ],
   "execution_count": 5
  },
  {
   "metadata": {
    "ExecuteTime": {
     "end_time": "2024-04-29T10:08:15.505471Z",
     "start_time": "2024-04-29T10:08:11.676850Z"
    }
   },
   "cell_type": "code",
   "source": [
    "import pandas as pd\n",
    "import numpy as np\n",
    "from statsmodels.tsa.statespace.sarimax import SARIMAX\n",
    "from sklearn.metrics import mean_squared_error\n",
    "import matplotlib.pyplot as plt\n",
    "\n",
    "# Load data\n",
    "data = pd.read_excel('data/archive.xls')\n",
    "data['T'].dropna(inplace=True)\n",
    "\n",
    "\n",
    "# Preprocess data\n",
    "data['Local time in Moscow'] = pd.to_datetime(data['Local time in Moscow'], format='%d.%m.%Y %H:%M')\n",
    "data.set_index('Local time in Moscow', inplace=True)\n",
    "\n",
    "# # Select target variable\n",
    "# endog_column = 'T'\n",
    "# endog = data[endog_column]\n",
    "\n",
    "# Split data into train and test sets\n",
    "# train = endog.loc[endog.index < '2023-01-01']\n",
    "# test = endog.loc[endog.index >= '2023-01-01']\n",
    "\n",
    "# \n",
    "# # # Define SARIMAX model parameters (order and seasonal_order)\n",
    "# # order = (1, 2, 1)\n",
    "# # seasonal_order = (1, 1, 1, 12)\n",
    "# # Подбор оптимальной SARIMA модели\n",
    "# model = auto_arima(train, seasonal=True, m=12)\n",
    "# \n",
    "# # Прогнозирование с использованием SARIMA модели\n",
    "# forecast = model.predict(n_periods=len(test))\n",
    "# \n",
    "# # Оценка производительности модели\n",
    "# mse = mean_squared_error(test, forecast)\n",
    "# print('Mean Squared Error:', mse)\n",
    "# \n",
    "# # Визуализация результатов\n",
    "# plt.figure(figsize=(12, 6))\n",
    "# plt.plot(test.index, test, label='Фактическая температура')\n",
    "# plt.plot(test.index, forecast, color='red', label='Прогноз температуры')\n",
    "# plt.title('Прогноз температуры с использованием SARIMA (с автоподбором гиперпараметров)')\n",
    "# plt.xlabel('Дата')\n",
    "# plt.ylabel('Температура')\n",
    "# plt.legend()\n",
    "# plt.show()\n"
   ],
   "id": "66fc4b19257a0137",
   "outputs": [],
   "execution_count": 16
  },
  {
   "metadata": {
    "ExecuteTime": {
     "end_time": "2024-04-29T10:18:11.890264Z",
     "start_time": "2024-04-29T10:18:11.869267Z"
    }
   },
   "cell_type": "code",
   "source": "data.columns",
   "id": "15d3c677e38db88c",
   "outputs": [
    {
     "data": {
      "text/plain": [
       "Index(['T', 'Po', 'P', 'Pa', 'U', 'DD', 'Ff', 'ff10', 'ff3', 'N', 'WW', 'W1',\n",
       "       'W2', 'Tn', 'Tx', 'Cl', 'Nh', 'H', 'Cm', 'Ch', 'VV', 'Td', 'RRR', 'tR',\n",
       "       'E', 'Tg', 'E'', 'sss'],\n",
       "      dtype='object')"
      ]
     },
     "execution_count": 28,
     "metadata": {},
     "output_type": "execute_result"
    }
   ],
   "execution_count": 28
  },
  {
   "metadata": {
    "ExecuteTime": {
     "end_time": "2024-04-29T10:19:39.501726Z",
     "start_time": "2024-04-29T10:19:39.306694Z"
    }
   },
   "cell_type": "code",
   "source": [
    "data.drop(['Po', 'P', 'Pa', 'U', 'DD', 'Ff', 'ff10', 'ff3', 'N', 'WW', 'W1',\n",
    "           'W2', 'Tn', 'Tx', 'Cl', 'Nh', 'H', 'Cm', 'Ch', 'VV', 'Td', 'RRR',\n",
    "           'tR', 'E', 'Tg', 'E','sss'], inplace=True)\n",
    "data"
   ],
   "id": "1e8bf23b4cb4f7cc",
   "outputs": [
    {
     "ename": "KeyError",
     "evalue": "\"['Po', 'P', 'Pa', 'U', 'DD', 'Ff', 'ff10', 'ff3', 'N', 'WW', 'W1', 'W2', 'Tn', 'Tx', 'Cl', 'Nh', 'H', 'Cm', 'Ch', 'VV', 'Td', 'RRR', 'tR', 'E', 'Tg', 'E', 'sss'] not found in axis\"",
     "output_type": "error",
     "traceback": [
      "\u001B[1;31m---------------------------------------------------------------------------\u001B[0m",
      "\u001B[1;31mKeyError\u001B[0m                                  Traceback (most recent call last)",
      "Cell \u001B[1;32mIn[29], line 1\u001B[0m\n\u001B[1;32m----> 1\u001B[0m \u001B[43mdata\u001B[49m\u001B[38;5;241;43m.\u001B[39;49m\u001B[43mdrop\u001B[49m\u001B[43m(\u001B[49m\u001B[43m[\u001B[49m\u001B[38;5;124;43m'\u001B[39;49m\u001B[38;5;124;43mPo\u001B[39;49m\u001B[38;5;124;43m'\u001B[39;49m\u001B[43m,\u001B[49m\u001B[43m \u001B[49m\u001B[38;5;124;43m'\u001B[39;49m\u001B[38;5;124;43mP\u001B[39;49m\u001B[38;5;124;43m'\u001B[39;49m\u001B[43m,\u001B[49m\u001B[43m \u001B[49m\u001B[38;5;124;43m'\u001B[39;49m\u001B[38;5;124;43mPa\u001B[39;49m\u001B[38;5;124;43m'\u001B[39;49m\u001B[43m,\u001B[49m\u001B[43m \u001B[49m\u001B[38;5;124;43m'\u001B[39;49m\u001B[38;5;124;43mU\u001B[39;49m\u001B[38;5;124;43m'\u001B[39;49m\u001B[43m,\u001B[49m\u001B[43m \u001B[49m\u001B[38;5;124;43m'\u001B[39;49m\u001B[38;5;124;43mDD\u001B[39;49m\u001B[38;5;124;43m'\u001B[39;49m\u001B[43m,\u001B[49m\u001B[43m \u001B[49m\u001B[38;5;124;43m'\u001B[39;49m\u001B[38;5;124;43mFf\u001B[39;49m\u001B[38;5;124;43m'\u001B[39;49m\u001B[43m,\u001B[49m\u001B[43m \u001B[49m\u001B[38;5;124;43m'\u001B[39;49m\u001B[38;5;124;43mff10\u001B[39;49m\u001B[38;5;124;43m'\u001B[39;49m\u001B[43m,\u001B[49m\u001B[43m \u001B[49m\u001B[38;5;124;43m'\u001B[39;49m\u001B[38;5;124;43mff3\u001B[39;49m\u001B[38;5;124;43m'\u001B[39;49m\u001B[43m,\u001B[49m\u001B[43m \u001B[49m\u001B[38;5;124;43m'\u001B[39;49m\u001B[38;5;124;43mN\u001B[39;49m\u001B[38;5;124;43m'\u001B[39;49m\u001B[43m,\u001B[49m\u001B[43m \u001B[49m\u001B[38;5;124;43m'\u001B[39;49m\u001B[38;5;124;43mWW\u001B[39;49m\u001B[38;5;124;43m'\u001B[39;49m\u001B[43m,\u001B[49m\u001B[43m \u001B[49m\u001B[38;5;124;43m'\u001B[39;49m\u001B[38;5;124;43mW1\u001B[39;49m\u001B[38;5;124;43m'\u001B[39;49m\u001B[43m,\u001B[49m\n\u001B[0;32m      2\u001B[0m \u001B[43m           \u001B[49m\u001B[38;5;124;43m'\u001B[39;49m\u001B[38;5;124;43mW2\u001B[39;49m\u001B[38;5;124;43m'\u001B[39;49m\u001B[43m,\u001B[49m\u001B[43m \u001B[49m\u001B[38;5;124;43m'\u001B[39;49m\u001B[38;5;124;43mTn\u001B[39;49m\u001B[38;5;124;43m'\u001B[39;49m\u001B[43m,\u001B[49m\u001B[43m \u001B[49m\u001B[38;5;124;43m'\u001B[39;49m\u001B[38;5;124;43mTx\u001B[39;49m\u001B[38;5;124;43m'\u001B[39;49m\u001B[43m,\u001B[49m\u001B[43m \u001B[49m\u001B[38;5;124;43m'\u001B[39;49m\u001B[38;5;124;43mCl\u001B[39;49m\u001B[38;5;124;43m'\u001B[39;49m\u001B[43m,\u001B[49m\u001B[43m \u001B[49m\u001B[38;5;124;43m'\u001B[39;49m\u001B[38;5;124;43mNh\u001B[39;49m\u001B[38;5;124;43m'\u001B[39;49m\u001B[43m,\u001B[49m\u001B[43m \u001B[49m\u001B[38;5;124;43m'\u001B[39;49m\u001B[38;5;124;43mH\u001B[39;49m\u001B[38;5;124;43m'\u001B[39;49m\u001B[43m,\u001B[49m\u001B[43m \u001B[49m\u001B[38;5;124;43m'\u001B[39;49m\u001B[38;5;124;43mCm\u001B[39;49m\u001B[38;5;124;43m'\u001B[39;49m\u001B[43m,\u001B[49m\u001B[43m \u001B[49m\u001B[38;5;124;43m'\u001B[39;49m\u001B[38;5;124;43mCh\u001B[39;49m\u001B[38;5;124;43m'\u001B[39;49m\u001B[43m,\u001B[49m\u001B[43m \u001B[49m\u001B[38;5;124;43m'\u001B[39;49m\u001B[38;5;124;43mVV\u001B[39;49m\u001B[38;5;124;43m'\u001B[39;49m\u001B[43m,\u001B[49m\u001B[43m \u001B[49m\u001B[38;5;124;43m'\u001B[39;49m\u001B[38;5;124;43mTd\u001B[39;49m\u001B[38;5;124;43m'\u001B[39;49m\u001B[43m,\u001B[49m\u001B[43m \u001B[49m\u001B[38;5;124;43m'\u001B[39;49m\u001B[38;5;124;43mRRR\u001B[39;49m\u001B[38;5;124;43m'\u001B[39;49m\u001B[43m,\u001B[49m\n\u001B[0;32m      3\u001B[0m \u001B[43m           \u001B[49m\u001B[38;5;124;43m'\u001B[39;49m\u001B[38;5;124;43mtR\u001B[39;49m\u001B[38;5;124;43m'\u001B[39;49m\u001B[43m,\u001B[49m\u001B[43m \u001B[49m\u001B[38;5;124;43m'\u001B[39;49m\u001B[38;5;124;43mE\u001B[39;49m\u001B[38;5;124;43m'\u001B[39;49m\u001B[43m,\u001B[49m\u001B[43m \u001B[49m\u001B[38;5;124;43m'\u001B[39;49m\u001B[38;5;124;43mTg\u001B[39;49m\u001B[38;5;124;43m'\u001B[39;49m\u001B[43m,\u001B[49m\u001B[43m \u001B[49m\u001B[38;5;124;43m'\u001B[39;49m\u001B[38;5;124;43mE\u001B[39;49m\u001B[38;5;124;43m'\u001B[39;49m\u001B[43m,\u001B[49m\u001B[38;5;124;43m'\u001B[39;49m\u001B[38;5;124;43msss\u001B[39;49m\u001B[38;5;124;43m'\u001B[39;49m\u001B[43m]\u001B[49m\u001B[43m,\u001B[49m\u001B[43m \u001B[49m\u001B[43minplace\u001B[49m\u001B[38;5;241;43m=\u001B[39;49m\u001B[38;5;28;43;01mTrue\u001B[39;49;00m\u001B[43m)\u001B[49m\n\u001B[0;32m      4\u001B[0m data\n",
      "File \u001B[1;32mC:\\ProgramData\\anaconda3\\envs\\kaggle\\lib\\site-packages\\pandas\\core\\frame.py:5344\u001B[0m, in \u001B[0;36mDataFrame.drop\u001B[1;34m(self, labels, axis, index, columns, level, inplace, errors)\u001B[0m\n\u001B[0;32m   5196\u001B[0m \u001B[38;5;28;01mdef\u001B[39;00m \u001B[38;5;21mdrop\u001B[39m(\n\u001B[0;32m   5197\u001B[0m     \u001B[38;5;28mself\u001B[39m,\n\u001B[0;32m   5198\u001B[0m     labels: IndexLabel \u001B[38;5;241m|\u001B[39m \u001B[38;5;28;01mNone\u001B[39;00m \u001B[38;5;241m=\u001B[39m \u001B[38;5;28;01mNone\u001B[39;00m,\n\u001B[1;32m   (...)\u001B[0m\n\u001B[0;32m   5205\u001B[0m     errors: IgnoreRaise \u001B[38;5;241m=\u001B[39m \u001B[38;5;124m\"\u001B[39m\u001B[38;5;124mraise\u001B[39m\u001B[38;5;124m\"\u001B[39m,\n\u001B[0;32m   5206\u001B[0m ) \u001B[38;5;241m-\u001B[39m\u001B[38;5;241m>\u001B[39m DataFrame \u001B[38;5;241m|\u001B[39m \u001B[38;5;28;01mNone\u001B[39;00m:\n\u001B[0;32m   5207\u001B[0m \u001B[38;5;250m    \u001B[39m\u001B[38;5;124;03m\"\"\"\u001B[39;00m\n\u001B[0;32m   5208\u001B[0m \u001B[38;5;124;03m    Drop specified labels from rows or columns.\u001B[39;00m\n\u001B[0;32m   5209\u001B[0m \n\u001B[1;32m   (...)\u001B[0m\n\u001B[0;32m   5342\u001B[0m \u001B[38;5;124;03m            weight  1.0     0.8\u001B[39;00m\n\u001B[0;32m   5343\u001B[0m \u001B[38;5;124;03m    \"\"\"\u001B[39;00m\n\u001B[1;32m-> 5344\u001B[0m     \u001B[38;5;28;01mreturn\u001B[39;00m \u001B[38;5;28;43msuper\u001B[39;49m\u001B[43m(\u001B[49m\u001B[43m)\u001B[49m\u001B[38;5;241;43m.\u001B[39;49m\u001B[43mdrop\u001B[49m\u001B[43m(\u001B[49m\n\u001B[0;32m   5345\u001B[0m \u001B[43m        \u001B[49m\u001B[43mlabels\u001B[49m\u001B[38;5;241;43m=\u001B[39;49m\u001B[43mlabels\u001B[49m\u001B[43m,\u001B[49m\n\u001B[0;32m   5346\u001B[0m \u001B[43m        \u001B[49m\u001B[43maxis\u001B[49m\u001B[38;5;241;43m=\u001B[39;49m\u001B[43maxis\u001B[49m\u001B[43m,\u001B[49m\n\u001B[0;32m   5347\u001B[0m \u001B[43m        \u001B[49m\u001B[43mindex\u001B[49m\u001B[38;5;241;43m=\u001B[39;49m\u001B[43mindex\u001B[49m\u001B[43m,\u001B[49m\n\u001B[0;32m   5348\u001B[0m \u001B[43m        \u001B[49m\u001B[43mcolumns\u001B[49m\u001B[38;5;241;43m=\u001B[39;49m\u001B[43mcolumns\u001B[49m\u001B[43m,\u001B[49m\n\u001B[0;32m   5349\u001B[0m \u001B[43m        \u001B[49m\u001B[43mlevel\u001B[49m\u001B[38;5;241;43m=\u001B[39;49m\u001B[43mlevel\u001B[49m\u001B[43m,\u001B[49m\n\u001B[0;32m   5350\u001B[0m \u001B[43m        \u001B[49m\u001B[43minplace\u001B[49m\u001B[38;5;241;43m=\u001B[39;49m\u001B[43minplace\u001B[49m\u001B[43m,\u001B[49m\n\u001B[0;32m   5351\u001B[0m \u001B[43m        \u001B[49m\u001B[43merrors\u001B[49m\u001B[38;5;241;43m=\u001B[39;49m\u001B[43merrors\u001B[49m\u001B[43m,\u001B[49m\n\u001B[0;32m   5352\u001B[0m \u001B[43m    \u001B[49m\u001B[43m)\u001B[49m\n",
      "File \u001B[1;32mC:\\ProgramData\\anaconda3\\envs\\kaggle\\lib\\site-packages\\pandas\\core\\generic.py:4711\u001B[0m, in \u001B[0;36mNDFrame.drop\u001B[1;34m(self, labels, axis, index, columns, level, inplace, errors)\u001B[0m\n\u001B[0;32m   4709\u001B[0m \u001B[38;5;28;01mfor\u001B[39;00m axis, labels \u001B[38;5;129;01min\u001B[39;00m axes\u001B[38;5;241m.\u001B[39mitems():\n\u001B[0;32m   4710\u001B[0m     \u001B[38;5;28;01mif\u001B[39;00m labels \u001B[38;5;129;01mis\u001B[39;00m \u001B[38;5;129;01mnot\u001B[39;00m \u001B[38;5;28;01mNone\u001B[39;00m:\n\u001B[1;32m-> 4711\u001B[0m         obj \u001B[38;5;241m=\u001B[39m \u001B[43mobj\u001B[49m\u001B[38;5;241;43m.\u001B[39;49m\u001B[43m_drop_axis\u001B[49m\u001B[43m(\u001B[49m\u001B[43mlabels\u001B[49m\u001B[43m,\u001B[49m\u001B[43m \u001B[49m\u001B[43maxis\u001B[49m\u001B[43m,\u001B[49m\u001B[43m \u001B[49m\u001B[43mlevel\u001B[49m\u001B[38;5;241;43m=\u001B[39;49m\u001B[43mlevel\u001B[49m\u001B[43m,\u001B[49m\u001B[43m \u001B[49m\u001B[43merrors\u001B[49m\u001B[38;5;241;43m=\u001B[39;49m\u001B[43merrors\u001B[49m\u001B[43m)\u001B[49m\n\u001B[0;32m   4713\u001B[0m \u001B[38;5;28;01mif\u001B[39;00m inplace:\n\u001B[0;32m   4714\u001B[0m     \u001B[38;5;28mself\u001B[39m\u001B[38;5;241m.\u001B[39m_update_inplace(obj)\n",
      "File \u001B[1;32mC:\\ProgramData\\anaconda3\\envs\\kaggle\\lib\\site-packages\\pandas\\core\\generic.py:4753\u001B[0m, in \u001B[0;36mNDFrame._drop_axis\u001B[1;34m(self, labels, axis, level, errors, only_slice)\u001B[0m\n\u001B[0;32m   4751\u001B[0m         new_axis \u001B[38;5;241m=\u001B[39m axis\u001B[38;5;241m.\u001B[39mdrop(labels, level\u001B[38;5;241m=\u001B[39mlevel, errors\u001B[38;5;241m=\u001B[39merrors)\n\u001B[0;32m   4752\u001B[0m     \u001B[38;5;28;01melse\u001B[39;00m:\n\u001B[1;32m-> 4753\u001B[0m         new_axis \u001B[38;5;241m=\u001B[39m \u001B[43maxis\u001B[49m\u001B[38;5;241;43m.\u001B[39;49m\u001B[43mdrop\u001B[49m\u001B[43m(\u001B[49m\u001B[43mlabels\u001B[49m\u001B[43m,\u001B[49m\u001B[43m \u001B[49m\u001B[43merrors\u001B[49m\u001B[38;5;241;43m=\u001B[39;49m\u001B[43merrors\u001B[49m\u001B[43m)\u001B[49m\n\u001B[0;32m   4754\u001B[0m     indexer \u001B[38;5;241m=\u001B[39m axis\u001B[38;5;241m.\u001B[39mget_indexer(new_axis)\n\u001B[0;32m   4756\u001B[0m \u001B[38;5;66;03m# Case for non-unique axis\u001B[39;00m\n\u001B[0;32m   4757\u001B[0m \u001B[38;5;28;01melse\u001B[39;00m:\n",
      "File \u001B[1;32mC:\\ProgramData\\anaconda3\\envs\\kaggle\\lib\\site-packages\\pandas\\core\\indexes\\base.py:7000\u001B[0m, in \u001B[0;36mIndex.drop\u001B[1;34m(self, labels, errors)\u001B[0m\n\u001B[0;32m   6998\u001B[0m \u001B[38;5;28;01mif\u001B[39;00m mask\u001B[38;5;241m.\u001B[39many():\n\u001B[0;32m   6999\u001B[0m     \u001B[38;5;28;01mif\u001B[39;00m errors \u001B[38;5;241m!=\u001B[39m \u001B[38;5;124m\"\u001B[39m\u001B[38;5;124mignore\u001B[39m\u001B[38;5;124m\"\u001B[39m:\n\u001B[1;32m-> 7000\u001B[0m         \u001B[38;5;28;01mraise\u001B[39;00m \u001B[38;5;167;01mKeyError\u001B[39;00m(\u001B[38;5;124mf\u001B[39m\u001B[38;5;124m\"\u001B[39m\u001B[38;5;132;01m{\u001B[39;00mlabels[mask]\u001B[38;5;241m.\u001B[39mtolist()\u001B[38;5;132;01m}\u001B[39;00m\u001B[38;5;124m not found in axis\u001B[39m\u001B[38;5;124m\"\u001B[39m)\n\u001B[0;32m   7001\u001B[0m     indexer \u001B[38;5;241m=\u001B[39m indexer[\u001B[38;5;241m~\u001B[39mmask]\n\u001B[0;32m   7002\u001B[0m \u001B[38;5;28;01mreturn\u001B[39;00m \u001B[38;5;28mself\u001B[39m\u001B[38;5;241m.\u001B[39mdelete(indexer)\n",
      "\u001B[1;31mKeyError\u001B[0m: \"['Po', 'P', 'Pa', 'U', 'DD', 'Ff', 'ff10', 'ff3', 'N', 'WW', 'W1', 'W2', 'Tn', 'Tx', 'Cl', 'Nh', 'H', 'Cm', 'Ch', 'VV', 'Td', 'RRR', 'tR', 'E', 'Tg', 'E', 'sss'] not found in axis\""
     ]
    }
   ],
   "execution_count": 29
  },
  {
   "metadata": {
    "ExecuteTime": {
     "end_time": "2024-04-25T22:57:10.505820Z",
     "start_time": "2024-04-25T22:57:09.747566Z"
    }
   },
   "cell_type": "code",
   "source": [
    "\n",
    "print(model_fit.summary())"
   ],
   "id": "b2171d8417578863",
   "outputs": [
    {
     "name": "stdout",
     "output_type": "stream",
     "text": [
      "                                     SARIMAX Results                                      \n",
      "==========================================================================================\n",
      "Dep. Variable:                                  T   No. Observations:                52408\n",
      "Model:             SARIMAX(1, 1, 1)x(1, 1, 1, 12)   Log Likelihood              -99960.167\n",
      "Date:                            Fri, 26 Apr 2024   AIC                         199930.334\n",
      "Time:                                    01:57:09   BIC                         199974.666\n",
      "Sample:                                         0   HQIC                        199944.190\n",
      "                                          - 52408                                         \n",
      "Covariance Type:                              opg                                         \n",
      "==============================================================================\n",
      "                 coef    std err          z      P>|z|      [0.025      0.975]\n",
      "------------------------------------------------------------------------------\n",
      "ar.L1         -0.1503      0.015     -9.773      0.000      -0.180      -0.120\n",
      "ma.L1          0.3366      0.015     22.961      0.000       0.308       0.365\n",
      "ar.S.L12      -0.5352      0.002   -216.257      0.000      -0.540      -0.530\n",
      "ma.S.L12      -0.9106      0.001   -649.407      0.000      -0.913      -0.908\n",
      "sigma2         2.6567      0.008    344.103      0.000       2.642       2.672\n",
      "===================================================================================\n",
      "Ljung-Box (L1) (Q):                   1.31   Jarque-Bera (JB):            195973.82\n",
      "Prob(Q):                              0.25   Prob(JB):                         0.00\n",
      "Heteroskedasticity (H):               0.91   Skew:                            -0.20\n",
      "Prob(H) (two-sided):                  0.00   Kurtosis:                        12.47\n",
      "===================================================================================\n",
      "\n",
      "Warnings:\n",
      "[1] Covariance matrix calculated using the outer product of gradients (complex-step).\n"
     ]
    }
   ],
   "execution_count": 54
  },
  {
   "metadata": {},
   "cell_type": "code",
   "outputs": [],
   "execution_count": null,
   "source": "f",
   "id": "4e5c131b858f256d"
  }
 ],
 "metadata": {
  "kernelspec": {
   "display_name": "Python 3",
   "language": "python",
   "name": "python3"
  },
  "language_info": {
   "codemirror_mode": {
    "name": "ipython",
    "version": 2
   },
   "file_extension": ".py",
   "mimetype": "text/x-python",
   "name": "python",
   "nbconvert_exporter": "python",
   "pygments_lexer": "ipython2",
   "version": "2.7.6"
  }
 },
 "nbformat": 4,
 "nbformat_minor": 5
}
