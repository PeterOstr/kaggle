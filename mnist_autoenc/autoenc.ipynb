{
 "cells": [
  {
   "cell_type": "code",
   "outputs": [],
   "source": [
    "import numpy as np\n",
    "import tensorflow as tf\n",
    "from tensorflow.keras import layers, models\n",
    "import os\n",
    "os.environ['KMP_DUPLICATE_LIB_OK']='True' #resolving issue with keras killing kernel"
   ],
   "metadata": {
    "collapsed": false,
    "ExecuteTime": {
     "end_time": "2024-04-05T15:01:53.575230Z",
     "start_time": "2024-04-05T15:01:50.237359Z"
    }
   },
   "id": "2cb14ccafafc0730",
   "execution_count": 2
  },
  {
   "cell_type": "code",
   "outputs": [
    {
     "name": "stdout",
     "output_type": "stream",
     "text": [
      "Epoch 1/10\n",
      "469/469 [==============================] - 106s 225ms/step - loss: 0.2065 - val_loss: 0.1489\n",
      "Epoch 2/10\n",
      "136/469 [=======>......................] - ETA: 1:11 - loss: 0.1453"
     ]
    }
   ],
   "source": [
    "\n",
    "\n",
    "# Загрузка датасета MNIST\n",
    "(x_train, _), (x_test, _) = tf.keras.datasets.mnist.load_data()\n",
    "\n",
    "# Нормализация данных и изменение формы для подачи в модель\n",
    "x_train = x_train.astype('float32') / 255.0\n",
    "x_test = x_test.astype('float32') / 255.0\n",
    "x_train = np.reshape(x_train, (len(x_train), 28, 28, 1))\n",
    "x_test = np.reshape(x_test, (len(x_test), 28, 28, 1))\n",
    "\n",
    "# Создание модели автоэнкодера\n",
    "def build_autoencoder():\n",
    "    # Энкодер\n",
    "    encoder_input = layers.Input(shape=(28, 28, 1))\n",
    "    encoder_output = layers.Conv2D(16, (3, 3), activation='relu', padding='same')(encoder_input)\n",
    "    encoder_output = layers.MaxPooling2D((2, 2), padding='same')(encoder_output)\n",
    "    encoder_output = layers.Conv2D(8, (3, 3), activation='relu', padding='same')(encoder_output)\n",
    "    encoder_output = layers.MaxPooling2D((2, 2), padding='same')(encoder_output)\n",
    "    encoder_output = layers.Conv2D(8, (3, 3), activation='relu', padding='same')(encoder_output)\n",
    "    encoder_output = layers.MaxPooling2D((2, 2), padding='same')(encoder_output)\n",
    "\n",
    "    # Декодер\n",
    "    decoder_input = layers.Conv2D(8, (3, 3), activation='relu', padding='same')(encoder_output)\n",
    "    decoder_input = layers.UpSampling2D((2, 2))(decoder_input)\n",
    "    decoder_input = layers.Conv2D(8, (3, 3), activation='relu', padding='same')(decoder_input)\n",
    "    decoder_input = layers.UpSampling2D((2, 2))(decoder_input)\n",
    "    decoder_input = layers.Conv2D(16, (3, 3), activation='relu')(decoder_input)\n",
    "    decoder_input = layers.UpSampling2D((2, 2))(decoder_input)\n",
    "    decoder_output = layers.Conv2D(1, (3, 3), activation='sigmoid', padding='same')(decoder_input)\n",
    "\n",
    "    # Создание модели\n",
    "    autoencoder = models.Model(encoder_input, decoder_output)\n",
    "    return autoencoder\n",
    "\n",
    "# Построение модели\n",
    "autoencoder = build_autoencoder()\n",
    "autoencoder.compile(optimizer='adam', loss='binary_crossentropy')\n",
    "\n",
    "# Обучение модели\n",
    "autoencoder.fit(x_train, x_train,\n",
    "                epochs=10,\n",
    "                batch_size=128,\n",
    "                shuffle=True,\n",
    "                validation_data=(x_test, x_test))\n"
   ],
   "metadata": {
    "collapsed": false,
    "is_executing": true,
    "ExecuteTime": {
     "start_time": "2024-04-05T15:02:09.008289Z"
    }
   },
   "id": "fb8147a882fdb8e4"
  },
  {
   "cell_type": "code",
   "outputs": [],
   "source": [
    "# Предсказание с использованием обученного автоэнкодера\n",
    "decoded_imgs = autoencoder.predict(x_test)\n",
    "\n",
    "# Отображение оригинальных и восстановленных изображений\n",
    "import matplotlib.pyplot as plt\n",
    "\n",
    "n = 10  # Количество изображений для отображения\n",
    "plt.figure(figsize=(20, 4))\n",
    "for i in range(n):\n",
    "    # Оригинальные изображения\n",
    "    ax = plt.subplot(2, n, i + 1)\n",
    "    plt.imshow(x_test[i].reshape(28, 28))\n",
    "    plt.gray()\n",
    "    ax.get_xaxis().set_visible(False)\n",
    "    ax.get_yaxis().set_visible(False)\n",
    "\n",
    "    # Восстановленные изображения\n",
    "    ax = plt.subplot(2, n, i + 1 + n)\n",
    "    plt.imshow(decoded_imgs[i].reshape(28, 28))\n",
    "    plt.gray()\n",
    "    ax.get_xaxis().set_visible(False)\n",
    "    ax.get_yaxis().set_visible(False)\n",
    "plt.show()\n"
   ],
   "metadata": {
    "collapsed": false,
    "is_executing": true
   },
   "id": "7fc63932e496123",
   "execution_count": null
  },
  {
   "cell_type": "code",
   "outputs": [],
   "source": [],
   "metadata": {
    "collapsed": false
   },
   "id": "ae97540feab449bc"
  }
 ],
 "metadata": {
  "kernelspec": {
   "display_name": "Python 3",
   "language": "python",
   "name": "python3"
  },
  "language_info": {
   "codemirror_mode": {
    "name": "ipython",
    "version": 2
   },
   "file_extension": ".py",
   "mimetype": "text/x-python",
   "name": "python",
   "nbconvert_exporter": "python",
   "pygments_lexer": "ipython2",
   "version": "2.7.6"
  }
 },
 "nbformat": 4,
 "nbformat_minor": 5
}
