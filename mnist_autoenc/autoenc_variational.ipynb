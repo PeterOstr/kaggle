{
 "cells": [
  {
   "cell_type": "code",
   "execution_count": 7,
   "id": "initial_id",
   "metadata": {
    "collapsed": true,
    "ExecuteTime": {
     "end_time": "2024-04-01T19:56:09.669482Z",
     "start_time": "2024-04-01T19:56:09.646457Z"
    }
   },
   "outputs": [],
   "source": [
    "import numpy as np\n",
    "import pandas as pd\n",
    "import matplotlib.pyplot as plt\n",
    "import seaborn as sns\n",
    "import random\n",
    "\n",
    "from scipy.stats import norm\n",
    "\n",
    "import tensorflow.keras as keras\n",
    "from keras import backend as k\n",
    "k.clear_session()"
   ]
  },
  {
   "cell_type": "markdown",
   "source": [
    "# Autoencoder\n",
    "neural network with unsupervised machine-learning algorithm apply back-prop to set target value to the input\n",
    "auto-encoder prefers over PCA because it can learn non-linear transformations with non-linear activation functions. more efficient to learn several layer with auto-encoder then one huge transformation with PCA.\n",
    "\n",
    "Autoencoder Applications\n",
    "Image coloring (Black-white images -> colored)\n",
    "Feature variation (Extract required feature)\n",
    "Dimensionality Reduction\n",
    "Denosing image (Remove Noise)\n",
    "Remove watermark\n",
    "\n",
    "Autoencoder Architecture\n",
    "Encoder : part of NN compress the input into latent space representation\n",
    "code : part of NN represents compressed input\n",
    "Decoder : Decode the encoded data to original dimension\n",
    "\n",
    "Properties of Autoencoder\n",
    "Data-specific: Autoencoders are only able to meaningfully compress data similar to what they have been trained on.\n",
    "Lossy: de-compressed output will be degrad compared to the original input\n",
    "Unsupervised: Autoencoders are considered an unsupervised learning technique since they don’t need explicit labels to train on. But to be more precise they are self-supervised because they generate their own labels from the training data.\n",
    "\n",
    "Types of Autoencoder\n",
    "Denoising autoencoder.\n",
    "Sparse Autoencoder.\n",
    "Deep Autoencoder.\n",
    "Contractive Autoencoder.\n",
    "Undercomplete Autoencoder.\n",
    "Convolutional Autoencoder.\n",
    "Variational Autoencoder."
   ],
   "metadata": {
    "collapsed": false
   },
   "id": "9a8d0cb0f734bfa9"
  },
  {
   "cell_type": "markdown",
   "source": [
    "### Variational Autoencoder (convolutional)\n"
   ],
   "metadata": {
    "collapsed": false
   },
   "id": "894cb6dde0d8c363"
  },
  {
   "cell_type": "code",
   "outputs": [],
   "source": [
    "# set parameter\n",
    "image_shape = (28,28,1)\n",
    "batch_size = 64\n",
    "latent_dim = 10\n",
    "epoch = 30"
   ],
   "metadata": {
    "collapsed": false,
    "ExecuteTime": {
     "end_time": "2024-04-01T19:56:10.145868Z",
     "start_time": "2024-04-01T19:56:10.131874Z"
    }
   },
   "id": "f63cdeb989588c98",
   "execution_count": 8
  },
  {
   "cell_type": "code",
   "outputs": [],
   "source": [
    "# Import the mnist dataset\n",
    "from tensorflow.keras.datasets import mnist\n",
    "\n",
    "\n",
    "\n",
    "# import minist dataset\n",
    "(x_train, y_train), (x_test,y_test) = keras.datasets.mnist.load_data()"
   ],
   "metadata": {
    "collapsed": false,
    "ExecuteTime": {
     "end_time": "2024-04-01T19:56:10.493168Z",
     "start_time": "2024-04-01T19:56:10.294160Z"
    }
   },
   "id": "e7d9c1bf06afc628",
   "execution_count": 9
  },
  {
   "cell_type": "code",
   "outputs": [],
   "source": [
    "# change datatype and reshape data\n",
    "x_train = x_train.astype('float32') / 255.\n",
    "x_train = x_train.reshape((x_train.shape[0],) + image_shape)\n",
    "x_test = x_test.astype('float32') / 255.\n",
    "x_test = x_test.reshape((x_test.shape[0],) + image_shape)"
   ],
   "metadata": {
    "collapsed": false,
    "ExecuteTime": {
     "end_time": "2024-04-01T19:56:10.668531Z",
     "start_time": "2024-04-01T19:56:10.495159Z"
    }
   },
   "id": "314ba6d7fe9413f4",
   "execution_count": 10
  },
  {
   "cell_type": "code",
   "outputs": [],
   "source": [
    "# function to fatch 10 images of labeld 0 to 9\n",
    "def get_images_1_to_10(x_train,y_train):\n",
    "    selected_x,selected_y = [],[]\n",
    "    for i in range(10):\n",
    "        number_index = np.where(y_train == i)[0]\n",
    "        random_index = np.random.choice(len(number_index),1,replace=False)\n",
    "        select_index = number_index[random_index]\n",
    "        selected_x.append(x_train[select_index[0]])\n",
    "        selected_y.append(y_train[select_index][0])\n",
    "    return np.array(selected_x,dtype=\"float32\").reshape((len(selected_x),)+image_shape),np.array(selected_y,dtype=\"float32\")\n",
    "# select random 10 image of labeled 0 to 9\n",
    "selected_x,selected_y =  get_images_1_to_10(x_train,y_train)"
   ],
   "metadata": {
    "collapsed": false,
    "ExecuteTime": {
     "end_time": "2024-04-01T19:56:10.684531Z",
     "start_time": "2024-04-01T19:56:10.670532Z"
    }
   },
   "id": "7b9eca124a96edeb",
   "execution_count": 11
  },
  {
   "cell_type": "code",
   "outputs": [],
   "source": [
    "# function for plot images\n",
    "def plot_image(selected_x,selected_y,title=None,save=None):\n",
    "    ncols = selected_x.shape[0]\n",
    "    fig,ax  = plt.subplots(nrows=1, ncols=ncols,figsize=(20,3))\n",
    "    for x,y,ax_i in zip(selected_x,selected_y,ax):\n",
    "        ax_i.imshow(x.reshape((28,28)))\n",
    "        ax_i.axis(\"off\")\n",
    "        ax_i.set_title(int(y))\n",
    "    if title:\n",
    "        fig.suptitle(title)\n",
    "    if save:\n",
    "        fig.savefig(str(save)+\".png\")\n",
    "    plt.show()"
   ],
   "metadata": {
    "collapsed": false,
    "ExecuteTime": {
     "end_time": "2024-04-01T19:56:10.779537Z",
     "start_time": "2024-04-01T19:56:10.762532Z"
    }
   },
   "id": "aca1939918d213bd",
   "execution_count": 12
  },
  {
   "cell_type": "code",
   "outputs": [
    {
     "data": {
      "text/plain": "<Figure size 2000x300 with 10 Axes>",
      "image/png": "[encoded data removed]"
     },
     "metadata": {},
     "output_type": "display_data"
    }
   ],
   "source": [
    "# plot selected images\n",
    "plot_image(selected_x,selected_y,title=\"original images\",save=\"original_images\")"
   ],
   "metadata": {
    "collapsed": false,
    "ExecuteTime": {
     "end_time": "2024-04-01T19:56:11.585265Z",
     "start_time": "2024-04-01T19:56:10.935500Z"
    }
   },
   "id": "e85eb799049e449c",
   "execution_count": 13
  },
  {
   "cell_type": "markdown",
   "source": [
    "### Encoder implementation"
   ],
   "metadata": {
    "collapsed": false
   },
   "id": "254cccca994803c"
  },
  {
   "cell_type": "code",
   "outputs": [],
   "source": [
    "# Input layer\n",
    "# input shape = (None,28,28,1)\n",
    "encoder_input = keras.Input(shape=image_shape)\n",
    "\n",
    "# convolutional layer 1\n",
    "# input shape = (None,28,28,1)\n",
    "# output shape = (None,28,28,32)\n",
    "conv_1 = keras.layers.Conv2D(filters=32,\n",
    "                             kernel_size=3,\n",
    "                             padding=\"same\",\n",
    "                             activation=\"relu\",\n",
    "                             )(encoder_input)\n",
    "\n",
    "# convolutional layer 2\n",
    "# input shape = (None,28,28,32)\n",
    "# output shape = (None,28,28,64)\n",
    "conv_2 = keras.layers.Conv2D(filters=64,\n",
    "                             kernel_size=3,\n",
    "                             padding=\"same\",\n",
    "                             activation=\"relu\",\n",
    "                             )(conv_1)\n",
    "\n",
    "# convolutional layer 3\n",
    "# input shape = (None,28,28,64)\n",
    "# output shape = (None,28,28,64)\n",
    "conv_3 = keras.layers.Conv2D(filters=64,\n",
    "                             kernel_size=3,\n",
    "                             padding=\"same\",\n",
    "                             activation=\"relu\",\n",
    "                             )(conv_2)\n",
    "\n",
    "# Flatten layer\n",
    "# input shape = (None,28,28,64)\n",
    "# output shape = (None,50176)\n",
    "flatten = keras.layers.Flatten()(conv_3)\n",
    "\n",
    "# Dense layer 1\n",
    "# input shape = (None,50176)\n",
    "# output shape = (None,128)\n",
    "encoder_output = keras.layers.Dense(128,activation=\"relu\")(flatten)"
   ],
   "metadata": {
    "collapsed": false,
    "is_executing": true,
    "ExecuteTime": {
     "start_time": "2024-04-01T19:56:11.588266Z"
    }
   },
   "id": "412f622518075553"
  },
  {
   "cell_type": "markdown",
   "source": [
    "Latent space implementation\n"
   ],
   "metadata": {
    "collapsed": false
   },
   "id": "5f83aab34361c28f"
  },
  {
   "cell_type": "code",
   "outputs": [],
   "source": [
    "# latent mean and (log)variance\n",
    "\n",
    "# Dense layer 2\n",
    "# input shape = (None,128)\n",
    "# output shape = (None,latent_dim)\n",
    "z_mu = keras.layers.Dense(latent_dim)(encoder_output)\n",
    "\n",
    "# Dense layer 3\n",
    "# input shape = (None,128)\n",
    "# output shape = (None,latent_dim)\n",
    "z_log_sigma = keras.layers.Dense(latent_dim)(encoder_output)"
   ],
   "metadata": {
    "collapsed": false,
    "is_executing": true
   },
   "id": "1d230fab58674653",
   "execution_count": null
  },
  {
   "cell_type": "code",
   "outputs": [],
   "source": [
    "# sampling function for latent layer\n",
    "def sampling(args):\n",
    "    z_mu, z_log_sigma = args\n",
    "\n",
    "    # epsilon is simple normal distribution\n",
    "    epsilon = k.random_normal(shape=(k.shape(z_mu)[0], latent_dim),mean=0., stddev=1.)\n",
    "    return z_mu + k.exp(z_log_sigma) * epsilon\n",
    "\n",
    "z = keras.layers.Lambda(sampling,output_shape=(latent_dim,))([z_mu, z_log_sigma])"
   ],
   "metadata": {
    "collapsed": false,
    "is_executing": true
   },
   "id": "de1dd87ae6dbf3f4",
   "execution_count": null
  },
  {
   "cell_type": "markdown",
   "source": [
    "Decoder implementation\n"
   ],
   "metadata": {
    "collapsed": false
   },
   "id": "188711ceb08acd49"
  },
  {
   "cell_type": "code",
   "outputs": [
    {
     "ename": "NameError",
     "evalue": "name 'keras' is not defined",
     "output_type": "error",
     "traceback": [
      "\u001B[1;31m---------------------------------------------------------------------------\u001B[0m",
      "\u001B[1;31mNameError\u001B[0m                                 Traceback (most recent call last)",
      "Cell \u001B[1;32mIn[1], line 4\u001B[0m\n\u001B[0;32m      1\u001B[0m \u001B[38;5;66;03m# Dense layer 4\u001B[39;00m\n\u001B[0;32m      2\u001B[0m \u001B[38;5;66;03m# input shape = (None,latent_dim)\u001B[39;00m\n\u001B[0;32m      3\u001B[0m \u001B[38;5;66;03m# output shape = (None,128)\u001B[39;00m\n\u001B[1;32m----> 4\u001B[0m dense_2 \u001B[38;5;241m=\u001B[39m \u001B[43mkeras\u001B[49m\u001B[38;5;241m.\u001B[39mlayers\u001B[38;5;241m.\u001B[39mDense(\u001B[38;5;241m128\u001B[39m,activation\u001B[38;5;241m=\u001B[39m\u001B[38;5;124m\"\u001B[39m\u001B[38;5;124mrelu\u001B[39m\u001B[38;5;124m\"\u001B[39m)\n\u001B[0;32m      6\u001B[0m \u001B[38;5;66;03m# Dense layer 4\u001B[39;00m\n\u001B[0;32m      7\u001B[0m \u001B[38;5;66;03m# input shape = (None,128)\u001B[39;00m\n\u001B[0;32m      8\u001B[0m \u001B[38;5;66;03m# output shape = (None,50176)\u001B[39;00m\n\u001B[0;32m      9\u001B[0m dense_3 \u001B[38;5;241m=\u001B[39m keras\u001B[38;5;241m.\u001B[39mlayers\u001B[38;5;241m.\u001B[39mDense(np\u001B[38;5;241m.\u001B[39mprod(k\u001B[38;5;241m.\u001B[39mint_shape(conv_3)[\u001B[38;5;241m1\u001B[39m:]),\n\u001B[0;32m     10\u001B[0m                              activation\u001B[38;5;241m=\u001B[39m\u001B[38;5;124m\"\u001B[39m\u001B[38;5;124mrelu\u001B[39m\u001B[38;5;124m\"\u001B[39m\n\u001B[0;32m     11\u001B[0m                              )\n",
      "\u001B[1;31mNameError\u001B[0m: name 'keras' is not defined"
     ]
    }
   ],
   "source": [
    "# Dense layer 4\n",
    "# input shape = (None,latent_dim)\n",
    "# output shape = (None,128)\n",
    "dense_2 = keras.layers.Dense(128,activation=\"relu\")\n",
    "\n",
    "# Dense layer 4\n",
    "# input shape = (None,128)\n",
    "# output shape = (None,50176)\n",
    "dense_3 = keras.layers.Dense(np.prod(k.int_shape(conv_3)[1:]),\n",
    "                             activation=\"relu\"\n",
    "                             )\n",
    "\n",
    "# Reshape layer \n",
    "# input shape = (None,128)\n",
    "# output shape = (None,28,28,64)\n",
    "reshape = keras.layers.Reshape(k.int_shape(conv_3)[1:])\n",
    "\n",
    "# Deconvolutional layer 1\n",
    "# input shape = (None,28,28,64)\n",
    "# output shape = (None,28,28,64)\n",
    "conv_4 = keras.layers.Conv2DTranspose(filters=64,\n",
    "                                      kernel_size=3,\n",
    "                                      padding=\"same\",\n",
    "                                      activation=\"relu\"\n",
    "                                      )\n",
    "# Deconvolutional layer 2\n",
    "# input shape = (None,28,28,64)\n",
    "# output shape = (None,28,28,64)\n",
    "conv_5 = keras.layers.Conv2DTranspose(filters=64,\n",
    "                                      kernel_size=3,\n",
    "                                      padding=\"same\",\n",
    "                                      activation=\"relu\"\n",
    "                                      )\n",
    "\n",
    "# Deconvolutional layer 3\n",
    "# input shape = (None,28,28,64)\n",
    "# output shape = (None,28,28,32)\n",
    "conv_6 = keras.layers.Conv2DTranspose(filters=32,\n",
    "                                      kernel_size=3,\n",
    "                                      padding=\"same\",\n",
    "                                      activation=\"relu\"\n",
    "                                      )\n",
    "\n",
    "# convolutional layer 4\n",
    "# input shape = (None,28,28,32)\n",
    "# output shape = (None,28,28,1)\n",
    "decoder_output = keras.layers.Conv2D(filters=1,\n",
    "                                     kernel_size=3,\n",
    "                                     padding=\"same\",\n",
    "                                     activation=\"sigmoid\"\n",
    "                                     )\n",
    "\n",
    "_dense_2 = dense_2(z)\n",
    "_dense_3 = dense_3(_dense_2)\n",
    "_reshape = reshape(_dense_3)\n",
    "_conv_4 = conv_4(_reshape)\n",
    "_conv_5 = conv_5(_conv_4)\n",
    "_conv_6 = conv_6(_conv_5)\n",
    "_decoder_output = decoder_output(_conv_6)"
   ],
   "metadata": {
    "collapsed": false,
    "ExecuteTime": {
     "end_time": "2024-04-01T19:56:14.228450Z",
     "start_time": "2024-04-01T19:56:13.834874Z"
    }
   },
   "id": "882b9d13b0ce6da9",
   "execution_count": 1
  },
  {
   "cell_type": "code",
   "outputs": [],
   "source": [],
   "metadata": {
    "collapsed": false,
    "ExecuteTime": {
     "start_time": "2024-04-01T19:56:14.230495Z"
    }
   },
   "id": "539a45ccdf9d4701"
  },
  {
   "cell_type": "code",
   "outputs": [],
   "source": [],
   "metadata": {
    "collapsed": false
   },
   "id": "35dff75da099957d"
  }
 ],
 "metadata": {
  "kernelspec": {
   "display_name": "Python 3",
   "language": "python",
   "name": "python3"
  },
  "language_info": {
   "codemirror_mode": {
    "name": "ipython",
    "version": 2
   },
   "file_extension": ".py",
   "mimetype": "text/x-python",
   "name": "python",
   "nbconvert_exporter": "python",
   "pygments_lexer": "ipython2",
   "version": "2.7.6"
  }
 },
 "nbformat": 4,
 "nbformat_minor": 5
}
