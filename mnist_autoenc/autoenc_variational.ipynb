{
 "cells": [
  {
   "cell_type": "code",
   "execution_count": 1,
   "id": "initial_id",
   "metadata": {
    "collapsed": true,
    "ExecuteTime": {
     "end_time": "2024-04-01T22:35:42.064515Z",
     "start_time": "2024-04-01T22:35:39.374019Z"
    }
   },
   "outputs": [],
   "source": [
    "import numpy as np\n",
    "import pandas as pd\n",
    "import matplotlib.pyplot as plt\n",
    "import seaborn as sns\n",
    "import random\n",
    "\n",
    "from scipy.stats import norm\n",
    "\n",
    "import tensorflow.keras as keras\n",
    "from keras import backend as k\n",
    "k.clear_session()\n",
    "\n",
    "import os\n",
    "os.environ['KMP_DUPLICATE_LIB_OK']='True' #resolving issue with keras killing kernel"
   ]
  },
  {
   "cell_type": "markdown",
   "source": [
    "# Autoencoder\n",
    "neural network with unsupervised machine-learning algorithm apply back-prop to set target value to the input\n",
    "auto-encoder prefers over PCA because it can learn non-linear transformations with non-linear activation functions. more efficient to learn several layer with auto-encoder then one huge transformation with PCA.\n",
    "\n",
    "Autoencoder Applications\n",
    "Image coloring (Black-white images -> colored)\n",
    "Feature variation (Extract required feature)\n",
    "Dimensionality Reduction\n",
    "Denosing image (Remove Noise)\n",
    "Remove watermark\n",
    "\n",
    "Autoencoder Architecture\n",
    "Encoder : part of NN compress the input into latent space representation\n",
    "code : part of NN represents compressed input\n",
    "Decoder : Decode the encoded data to original dimension\n",
    "\n",
    "Properties of Autoencoder\n",
    "Data-specific: Autoencoders are only able to meaningfully compress data similar to what they have been trained on.\n",
    "Lossy: de-compressed output will be degrad compared to the original input\n",
    "Unsupervised: Autoencoders are considered an unsupervised learning technique since they don’t need explicit labels to train on. But to be more precise they are self-supervised because they generate their own labels from the training data.\n",
    "\n",
    "Types of Autoencoder\n",
    "Denoising autoencoder.\n",
    "Sparse Autoencoder.\n",
    "Deep Autoencoder.\n",
    "Contractive Autoencoder.\n",
    "Undercomplete Autoencoder.\n",
    "Convolutional Autoencoder.\n",
    "Variational Autoencoder."
   ],
   "metadata": {
    "collapsed": false
   },
   "id": "9a8d0cb0f734bfa9"
  },
  {
   "cell_type": "markdown",
   "source": [
    "### Variational Autoencoder (convolutional)\n"
   ],
   "metadata": {
    "collapsed": false
   },
   "id": "894cb6dde0d8c363"
  },
  {
   "cell_type": "code",
   "outputs": [],
   "source": [
    "# set parameter\n",
    "image_shape = (28,28,1)\n",
    "batch_size = 64\n",
    "latent_dim = 10\n",
    "epoch = 30"
   ],
   "metadata": {
    "collapsed": false,
    "ExecuteTime": {
     "end_time": "2024-04-01T22:35:43.618600Z",
     "start_time": "2024-04-01T22:35:43.601598Z"
    }
   },
   "id": "f63cdeb989588c98",
   "execution_count": 2
  },
  {
   "cell_type": "code",
   "outputs": [],
   "source": [
    "# Import the mnist dataset\n",
    "from tensorflow.keras.datasets import mnist\n",
    "\n",
    "\n",
    "\n",
    "# import minist dataset\n",
    "(x_train, y_train), (x_test,y_test) = keras.datasets.mnist.load_data()"
   ],
   "metadata": {
    "collapsed": false,
    "ExecuteTime": {
     "end_time": "2024-04-01T22:35:44.318530Z",
     "start_time": "2024-04-01T22:35:44.114526Z"
    }
   },
   "id": "e7d9c1bf06afc628",
   "execution_count": 3
  },
  {
   "cell_type": "code",
   "outputs": [],
   "source": [
    "# change datatype and reshape data\n",
    "x_train = x_train.astype('float32') / 255.\n",
    "x_train = x_train.reshape((x_train.shape[0],) + image_shape)\n",
    "x_test = x_test.astype('float32') / 255.\n",
    "x_test = x_test.reshape((x_test.shape[0],) + image_shape)"
   ],
   "metadata": {
    "collapsed": false,
    "ExecuteTime": {
     "end_time": "2024-04-01T22:35:44.570623Z",
     "start_time": "2024-04-01T22:35:44.399619Z"
    }
   },
   "id": "314ba6d7fe9413f4",
   "execution_count": 4
  },
  {
   "cell_type": "code",
   "outputs": [],
   "source": [
    "# function to fatch 10 images of labeld 0 to 9\n",
    "def get_images_1_to_10(x_train,y_train):\n",
    "    selected_x,selected_y = [],[]\n",
    "    for i in range(10):\n",
    "        number_index = np.where(y_train == i)[0]\n",
    "        random_index = np.random.choice(len(number_index),1,replace=False)\n",
    "        select_index = number_index[random_index]\n",
    "        selected_x.append(x_train[select_index[0]])\n",
    "        selected_y.append(y_train[select_index][0])\n",
    "    return np.array(selected_x,dtype=\"float32\").reshape((len(selected_x),)+image_shape),np.array(selected_y,dtype=\"float32\")\n",
    "# select random 10 image of labeled 0 to 9\n",
    "selected_x,selected_y =  get_images_1_to_10(x_train,y_train)"
   ],
   "metadata": {
    "collapsed": false,
    "ExecuteTime": {
     "end_time": "2024-04-01T22:35:44.618618Z",
     "start_time": "2024-04-01T22:35:44.604617Z"
    }
   },
   "id": "7b9eca124a96edeb",
   "execution_count": 5
  },
  {
   "cell_type": "code",
   "outputs": [],
   "source": [
    "# function for plot images\n",
    "def plot_image(selected_x,selected_y,title=None,save=None):\n",
    "    ncols = selected_x.shape[0]\n",
    "    fig,ax  = plt.subplots(nrows=1, ncols=ncols,figsize=(20,3))\n",
    "    for x,y,ax_i in zip(selected_x,selected_y,ax):\n",
    "        ax_i.imshow(x.reshape((28,28)))\n",
    "        ax_i.axis(\"off\")\n",
    "        ax_i.set_title(int(y))\n",
    "    if title:\n",
    "        fig.suptitle(title)\n",
    "    if save:\n",
    "        fig.savefig(str(save)+\".png\")\n",
    "    plt.show()"
   ],
   "metadata": {
    "collapsed": false,
    "ExecuteTime": {
     "end_time": "2024-04-01T22:35:44.761618Z",
     "start_time": "2024-04-01T22:35:44.747619Z"
    }
   },
   "id": "aca1939918d213bd",
   "execution_count": 6
  },
  {
   "cell_type": "code",
   "outputs": [
    {
     "data": {
      "text/plain": "<Figure size 2000x300 with 10 Axes>",
      "image/png": "[encoded data removed]"
     },
     "metadata": {},
     "output_type": "display_data"
    }
   ],
   "source": [
    "# plot selected images\n",
    "plot_image(selected_x,selected_y,title=\"original images\",save=\"original_images\")"
   ],
   "metadata": {
    "collapsed": false,
    "ExecuteTime": {
     "end_time": "2024-04-01T22:35:46.045914Z",
     "start_time": "2024-04-01T22:35:44.921618Z"
    }
   },
   "id": "e85eb799049e449c",
   "execution_count": 7
  },
  {
   "cell_type": "markdown",
   "source": [
    "### Encoder implementation"
   ],
   "metadata": {
    "collapsed": false
   },
   "id": "254cccca994803c"
  },
  {
   "cell_type": "code",
   "outputs": [],
   "source": [
    "# Input layer\n",
    "# input shape = (None,28,28,1)\n",
    "encoder_input = keras.Input(shape=image_shape)\n",
    "\n",
    "# convolutional layer 1\n",
    "# input shape = (None,28,28,1)\n",
    "# output shape = (None,28,28,32)\n",
    "conv_1 = keras.layers.Conv2D(filters=32,\n",
    "                             kernel_size=3,\n",
    "                             padding=\"same\",\n",
    "                             activation=\"relu\",\n",
    "                             )(encoder_input)\n",
    "\n",
    "# convolutional layer 2\n",
    "# input shape = (None,28,28,32)\n",
    "# output shape = (None,28,28,64)\n",
    "conv_2 = keras.layers.Conv2D(filters=64,\n",
    "                             kernel_size=3,\n",
    "                             padding=\"same\",\n",
    "                             activation=\"relu\",\n",
    "                             )(conv_1)\n",
    "\n",
    "# convolutional layer 3\n",
    "# input shape = (None,28,28,64)\n",
    "# output shape = (None,28,28,64)\n",
    "conv_3 = keras.layers.Conv2D(filters=64,\n",
    "                             kernel_size=3,\n",
    "                             padding=\"same\",\n",
    "                             activation=\"relu\",\n",
    "                             )(conv_2)\n",
    "\n",
    "# Flatten layer\n",
    "# input shape = (None,28,28,64)\n",
    "# output shape = (None,50176)\n",
    "flatten = keras.layers.Flatten()(conv_3)\n",
    "\n",
    "# Dense layer 1\n",
    "# input shape = (None,50176)\n",
    "# output shape = (None,128)\n",
    "encoder_output = keras.layers.Dense(128,activation=\"relu\")(flatten)"
   ],
   "metadata": {
    "collapsed": false,
    "ExecuteTime": {
     "end_time": "2024-04-01T22:35:46.219941Z",
     "start_time": "2024-04-01T22:35:46.047917Z"
    }
   },
   "id": "412f622518075553",
   "execution_count": 8
  },
  {
   "cell_type": "markdown",
   "source": [
    "Latent space implementation\n"
   ],
   "metadata": {
    "collapsed": false
   },
   "id": "5f83aab34361c28f"
  },
  {
   "cell_type": "code",
   "outputs": [],
   "source": [
    "# latent mean and (log)variance\n",
    "\n",
    "# Dense layer 2\n",
    "# input shape = (None,128)\n",
    "# output shape = (None,latent_dim)\n",
    "z_mu = keras.layers.Dense(latent_dim)(encoder_output)\n",
    "\n",
    "# Dense layer 3\n",
    "# input shape = (None,128)\n",
    "# output shape = (None,latent_dim)\n",
    "z_log_sigma = keras.layers.Dense(latent_dim)(encoder_output)"
   ],
   "metadata": {
    "collapsed": false,
    "ExecuteTime": {
     "end_time": "2024-04-01T22:35:46.251943Z",
     "start_time": "2024-04-01T22:35:46.220916Z"
    }
   },
   "id": "1d230fab58674653",
   "execution_count": 9
  },
  {
   "cell_type": "code",
   "outputs": [],
   "source": [
    "# sampling function for latent layer\n",
    "def sampling(args):\n",
    "    z_mu, z_log_sigma = args\n",
    "\n",
    "    # epsilon is simple normal distribution\n",
    "    epsilon = k.random_normal(shape=(k.shape(z_mu)[0], latent_dim),mean=0., stddev=1.)\n",
    "    return z_mu + k.exp(z_log_sigma) * epsilon\n",
    "\n",
    "z = keras.layers.Lambda(sampling,output_shape=(latent_dim,))([z_mu, z_log_sigma])"
   ],
   "metadata": {
    "collapsed": false,
    "ExecuteTime": {
     "end_time": "2024-04-01T22:35:46.458913Z",
     "start_time": "2024-04-01T22:35:46.300914Z"
    }
   },
   "id": "de1dd87ae6dbf3f4",
   "execution_count": 10
  },
  {
   "cell_type": "markdown",
   "source": [
    "Decoder implementation\n"
   ],
   "metadata": {
    "collapsed": false
   },
   "id": "188711ceb08acd49"
  },
  {
   "cell_type": "code",
   "outputs": [],
   "source": [
    "# Dense layer 4\n",
    "# input shape = (None,latent_dim)\n",
    "# output shape = (None,128)\n",
    "dense_2 = keras.layers.Dense(128,activation=\"relu\")\n",
    "\n",
    "# Dense layer 4\n",
    "# input shape = (None,128)\n",
    "# output shape = (None,50176)\n",
    "dense_3 = keras.layers.Dense(np.prod(k.int_shape(conv_3)[1:]),\n",
    "                             activation=\"relu\"\n",
    "                             )\n",
    "\n",
    "# Reshape layer \n",
    "# input shape = (None,128)\n",
    "# output shape = (None,28,28,64)\n",
    "reshape = keras.layers.Reshape(k.int_shape(conv_3)[1:])\n",
    "\n",
    "# Deconvolutional layer 1\n",
    "# input shape = (None,28,28,64)\n",
    "# output shape = (None,28,28,64)\n",
    "conv_4 = keras.layers.Conv2DTranspose(filters=64,\n",
    "                                      kernel_size=3,\n",
    "                                      padding=\"same\",\n",
    "                                      activation=\"relu\"\n",
    "                                      )\n",
    "# Deconvolutional layer 2\n",
    "# input shape = (None,28,28,64)\n",
    "# output shape = (None,28,28,64)\n",
    "conv_5 = keras.layers.Conv2DTranspose(filters=64,\n",
    "                                      kernel_size=3,\n",
    "                                      padding=\"same\",\n",
    "                                      activation=\"relu\"\n",
    "                                      )\n",
    "\n",
    "# Deconvolutional layer 3\n",
    "# input shape = (None,28,28,64)\n",
    "# output shape = (None,28,28,32)\n",
    "conv_6 = keras.layers.Conv2DTranspose(filters=32,\n",
    "                                      kernel_size=3,\n",
    "                                      padding=\"same\",\n",
    "                                      activation=\"relu\"\n",
    "                                      )\n",
    "\n",
    "# convolutional layer 4\n",
    "# input shape = (None,28,28,32)\n",
    "# output shape = (None,28,28,1)\n",
    "decoder_output = keras.layers.Conv2D(filters=1,\n",
    "                                     kernel_size=3,\n",
    "                                     padding=\"same\",\n",
    "                                     activation=\"sigmoid\"\n",
    "                                     )\n",
    "\n",
    "_dense_2 = dense_2(z)\n",
    "_dense_3 = dense_3(_dense_2)\n",
    "_reshape = reshape(_dense_3)\n",
    "_conv_4 = conv_4(_reshape)\n",
    "_conv_5 = conv_5(_conv_4)\n",
    "_conv_6 = conv_6(_conv_5)\n",
    "_decoder_output = decoder_output(_conv_6)"
   ],
   "metadata": {
    "collapsed": false,
    "ExecuteTime": {
     "end_time": "2024-04-01T22:35:47.345005Z",
     "start_time": "2024-04-01T22:35:47.203Z"
    }
   },
   "id": "882b9d13b0ce6da9",
   "execution_count": 11
  },
  {
   "cell_type": "markdown",
   "source": [
    "Loss Function"
   ],
   "metadata": {
    "collapsed": false
   },
   "id": "5baf50b0ce1db774"
  },
  {
   "cell_type": "code",
   "outputs": [],
   "source": [
    "def vae_loss(x, z_decoded):\n",
    "    x = k.flatten(x)\n",
    "    z_decoded = k.flatten(z_decoded)\n",
    "    # Reconstruction loss\n",
    "    Reconstruction_loss = 786*keras.metrics.binary_crossentropy(x, z_decoded)\n",
    "    # KL divergence\n",
    "    kl_loss = -0.5 * k.mean(1 + z_log_sigma - k.square(z_mu) - k.exp(z_log_sigma), axis=-1)\n",
    "    return Reconstruction_loss + kl_loss"
   ],
   "metadata": {
    "collapsed": false,
    "ExecuteTime": {
     "end_time": "2024-04-01T22:47:25.857316Z",
     "start_time": "2024-04-01T22:47:25.847317Z"
    }
   },
   "id": "35dff75da099957d",
   "execution_count": 12
  },
  {
   "cell_type": "markdown",
   "source": [
    "Model compile and summary\n"
   ],
   "metadata": {
    "collapsed": false
   },
   "id": "3e78776aababdd21"
  },
  {
   "cell_type": "code",
   "outputs": [
    {
     "name": "stdout",
     "output_type": "stream",
     "text": [
      "Model: \"model\"\n",
      "__________________________________________________________________________________________________\n",
      " Layer (type)                   Output Shape         Param #     Connected to                     \n",
      "==================================================================================================\n",
      " input_1 (InputLayer)           [(None, 28, 28, 1)]  0           []                               \n",
      "                                                                                                  \n",
      " conv2d (Conv2D)                (None, 28, 28, 32)   320         ['input_1[0][0]']                \n",
      "                                                                                                  \n",
      " conv2d_1 (Conv2D)              (None, 28, 28, 64)   18496       ['conv2d[0][0]']                 \n",
      "                                                                                                  \n",
      " conv2d_2 (Conv2D)              (None, 28, 28, 64)   36928       ['conv2d_1[0][0]']               \n",
      "                                                                                                  \n",
      " flatten (Flatten)              (None, 50176)        0           ['conv2d_2[0][0]']               \n",
      "                                                                                                  \n",
      " dense (Dense)                  (None, 128)          6422656     ['flatten[0][0]']                \n",
      "                                                                                                  \n",
      " dense_1 (Dense)                (None, 10)           1290        ['dense[0][0]']                  \n",
      "                                                                                                  \n",
      " dense_2 (Dense)                (None, 10)           1290        ['dense[0][0]']                  \n",
      "                                                                                                  \n",
      " lambda (Lambda)                (None, 10)           0           ['dense_1[0][0]',                \n",
      "                                                                  'dense_2[0][0]']                \n",
      "                                                                                                  \n",
      " dense_3 (Dense)                (None, 128)          1408        ['lambda[0][0]']                 \n",
      "                                                                                                  \n",
      " dense_4 (Dense)                (None, 50176)        6472704     ['dense_3[0][0]']                \n",
      "                                                                                                  \n",
      " reshape (Reshape)              (None, 28, 28, 64)   0           ['dense_4[0][0]']                \n",
      "                                                                                                  \n",
      " conv2d_transpose (Conv2DTransp  (None, 28, 28, 64)  36928       ['reshape[0][0]']                \n",
      " ose)                                                                                             \n",
      "                                                                                                  \n",
      " conv2d_transpose_1 (Conv2DTran  (None, 28, 28, 64)  36928       ['conv2d_transpose[0][0]']       \n",
      " spose)                                                                                           \n",
      "                                                                                                  \n",
      " conv2d_transpose_2 (Conv2DTran  (None, 28, 28, 32)  18464       ['conv2d_transpose_1[0][0]']     \n",
      " spose)                                                                                           \n",
      "                                                                                                  \n",
      " conv2d_3 (Conv2D)              (None, 28, 28, 1)    289         ['conv2d_transpose_2[0][0]']     \n",
      "                                                                                                  \n",
      "==================================================================================================\n",
      "Total params: 13,047,701\n",
      "Trainable params: 13,047,701\n",
      "Non-trainable params: 0\n",
      "__________________________________________________________________________________________________\n"
     ]
    }
   ],
   "source": [
    "variational_encoder = keras.Model(encoder_input,_decoder_output)\n",
    "variational_encoder.compile(optimizer='rmsprop',loss=vae_loss)\n",
    "variational_encoder.summary()"
   ],
   "metadata": {
    "collapsed": false,
    "ExecuteTime": {
     "end_time": "2024-04-01T22:47:39.772826Z",
     "start_time": "2024-04-01T22:47:39.699827Z"
    }
   },
   "id": "cdfcc2dc8ebb9f4d",
   "execution_count": 13
  },
  {
   "cell_type": "markdown",
   "source": [
    "Model plot\n"
   ],
   "metadata": {
    "collapsed": false
   },
   "id": "b864469539fde0e0"
  },
  {
   "cell_type": "code",
   "outputs": [
    {
     "name": "stdout",
     "output_type": "stream",
     "text": [
      "You must install pydot (`pip install pydot`) and install graphviz (see instructions at https://graphviz.gitlab.io/download/) for plot_model to work.\n"
     ]
    }
   ],
   "source": [
    "keras.utils.plot_model(variational_encoder,to_file=\"variational_encoder_L{}_E_{}.png\".format(latent_dim,epoch),show_shapes=True)\n"
   ],
   "metadata": {
    "collapsed": false,
    "ExecuteTime": {
     "end_time": "2024-04-01T22:55:11.020440Z",
     "start_time": "2024-04-01T22:55:11.010437Z"
    }
   },
   "id": "6e615fbe9f044da1",
   "execution_count": 16
  },
  {
   "cell_type": "code",
   "outputs": [],
   "source": [
    "conda install graphviz"
   ],
   "metadata": {
    "collapsed": false
   },
   "id": "dc6aceb2f500e358"
  }
 ],
 "metadata": {
  "kernelspec": {
   "display_name": "Python 3",
   "language": "python",
   "name": "python3"
  },
  "language_info": {
   "codemirror_mode": {
    "name": "ipython",
    "version": 2
   },
   "file_extension": ".py",
   "mimetype": "text/x-python",
   "name": "python",
   "nbconvert_exporter": "python",
   "pygments_lexer": "ipython2",
   "version": "2.7.6"
  }
 },
 "nbformat": 4,
 "nbformat_minor": 5
}
