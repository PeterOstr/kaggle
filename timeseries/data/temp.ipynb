{
 "cells": [
  {
   "cell_type": "code",
   "execution_count": 1,
   "id": "initial_id",
   "metadata": {
    "collapsed": true,
    "ExecuteTime": {
     "end_time": "2024-04-10T12:37:57.381652Z",
     "start_time": "2024-04-10T12:37:56.608553Z"
    }
   },
   "outputs": [],
   "source": [
    "import pandas as pd\n",
    "import numpy as np\n",
    "import matplotlib.pyplot as plt\n",
    "%matplotlib inline\n",
    "import seaborn as sns\n",
    "from datetime import datetime\n",
    "\n",
    "from itertools import combinations\n",
    "from sklearn.metrics import mean_absolute_error\n",
    "from sklearn.metrics import mean_squared_error\n",
    "from statsmodels.tsa.stattools import adfuller\n",
    "from statsmodels.tsa.stattools import acf, pacf\n",
    "from statsmodels.tsa.arima_model import ARIMA as ARIMA\n",
    "import statsmodels.api as sm\n",
    "import statsmodels.tsa.api as smt\n",
    "pd.options.display.float_format = '{:.2f}'.format\n",
    "import openpyxl"
   ]
  },
  {
   "cell_type": "code",
   "outputs": [
    {
     "data": {
      "text/plain": "       index        Data   Hora  PRECIPITAÇÃO TOTAL, HORÁRIO (mm)  \\\n0     138998  2017-12-20  14:00                              0.00   \n1     138999  2017-12-20  15:00                              0.00   \n2     139000  2017-12-20  16:00                              0.00   \n3     139001  2017-12-20  17:00                              0.00   \n4     139002  2017-12-20  18:00                              0.00   \n...      ...         ...    ...                               ...   \n9995  148993  2017-02-10  01:00                          -9999.00   \n9996  148994  2017-02-10  02:00                          -9999.00   \n9997  148995  2017-02-10  03:00                          -9999.00   \n9998  148996  2017-02-10  04:00                          -9999.00   \n9999  148997  2017-02-10  05:00                          -9999.00   \n\n      PRESSAO ATMOSFERICA AO NIVEL DA ESTACAO, HORARIA (mB)  \\\n0                                                899.60       \n1                                                899.20       \n2                                                898.60       \n3                                                897.70       \n4                                                897.00       \n...                                                 ...       \n9995                                             956.10       \n9996                                             956.50       \n9997                                             956.20       \n9998                                             956.50       \n9999                                             956.10       \n\n      PRESSÃO ATMOSFERICA MAX.NA HORA ANT. (AUT) (mB)  \\\n0                                              900.00   \n1                                              899.60   \n2                                              899.20   \n3                                              898.60   \n4                                              897.70   \n...                                               ...   \n9995                                           956.20   \n9996                                           956.50   \n9997                                           956.50   \n9998                                           956.60   \n9999                                           956.50   \n\n      PRESSÃO ATMOSFERICA MIN. NA HORA ANT. (AUT) (mB)  \\\n0                                               899.60   \n1                                               899.20   \n2                                               898.60   \n3                                               897.70   \n4                                               897.00   \n...                                                ...   \n9995                                            956.00   \n9996                                            956.10   \n9997                                            956.10   \n9998                                            956.20   \n9999                                            956.00   \n\n      RADIACAO GLOBAL (Kj/m²)  TEMPERATURA DO AR - BULBO SECO, HORARIA (°C)  \\\n0                        3391                                         26.50   \n1                        3306                                         26.60   \n2                        3167                                         27.30   \n3                        3279                                         27.50   \n4                        2753                                         27.50   \n...                       ...                                           ...   \n9995                    -9999                                         25.50   \n9996                    -9999                                         24.50   \n9997                    -9999                                         23.40   \n9998                    -9999                                         23.00   \n9999                    -9999                                         22.80   \n\n      TEMPERATURA DO PONTO DE ORVALHO (°C)  ...  \\\n0                                    17.70  ...   \n1                                    16.70  ...   \n2                                    15.80  ...   \n3                                    12.90  ...   \n4                                    13.70  ...   \n...                                    ...  ...   \n9995                                 22.90  ...   \n9996                                 22.70  ...   \n9997                                 22.40  ...   \n9998                                 22.20  ...   \n9999                                 22.00  ...   \n\n      VENTO, DIREÇÃO HORARIA (gr) (° (gr))  VENTO, RAJADA MAXIMA (m/s)  \\\n0                                       39                        9.60   \n1                                       55                        8.30   \n2                                       62                        8.30   \n3                                       43                        6.70   \n4                                       98                        6.40   \n...                                    ...                         ...   \n9995                                   210                        3.40   \n9996                                   214                        6.80   \n9997                                   224                        5.50   \n9998                                   212                        4.40   \n9999                                   210                        4.10   \n\n      VENTO, VELOCIDADE HORARIA (m/s)  region  state             station  \\\n0                                3.90      CO     DF  PARANOA (COOPA-DF)   \n1                                3.40      CO     DF  PARANOA (COOPA-DF)   \n2                                3.60      CO     DF  PARANOA (COOPA-DF)   \n3                                3.10      CO     DF  PARANOA (COOPA-DF)   \n4                                3.50      CO     DF  PARANOA (COOPA-DF)   \n...                               ...     ...    ...                 ...   \n9995                             1.70      CO     MT        NOVA UBIRATA   \n9996                             3.50      CO     MT        NOVA UBIRATA   \n9997                             3.00      CO     MT        NOVA UBIRATA   \n9998                             1.80      CO     MT        NOVA UBIRATA   \n9999                             1.30      CO     MT        NOVA UBIRATA   \n\n      station_code  latitude  longitude  height  \n0             A047    -16.01     -47.56 1043.00  \n1             A047    -16.01     -47.56 1043.00  \n2             A047    -16.01     -47.56 1043.00  \n3             A047    -16.01     -47.56 1043.00  \n4             A047    -16.01     -47.56 1043.00  \n...            ...       ...        ...     ...  \n9995          A929    -13.69     -54.96  518.00  \n9996          A929    -13.69     -54.96  518.00  \n9997          A929    -13.69     -54.96  518.00  \n9998          A929    -13.69     -54.96  518.00  \n9999          A929    -13.69     -54.96  518.00  \n\n[10000 rows x 27 columns]",
      "text/html": "<div>\n<style scoped>\n    .dataframe tbody tr th:only-of-type {\n        vertical-align: middle;\n    }\n\n    .dataframe tbody tr th {\n        vertical-align: top;\n    }\n\n    .dataframe thead th {\n        text-align: right;\n    }\n</style>\n<table border=\"1\" class=\"dataframe\">\n  <thead>\n    <tr style=\"text-align: right;\">\n      <th></th>\n      <th>index</th>\n      <th>Data</th>\n      <th>Hora</th>\n      <th>PRECIPITAÇÃO TOTAL, HORÁRIO (mm)</th>\n      <th>PRESSAO ATMOSFERICA AO NIVEL DA ESTACAO, HORARIA (mB)</th>\n      <th>PRESSÃO ATMOSFERICA MAX.NA HORA ANT. (AUT) (mB)</th>\n      <th>PRESSÃO ATMOSFERICA MIN. NA HORA ANT. (AUT) (mB)</th>\n      <th>RADIACAO GLOBAL (Kj/m²)</th>\n      <th>TEMPERATURA DO AR - BULBO SECO, HORARIA (°C)</th>\n      <th>TEMPERATURA DO PONTO DE ORVALHO (°C)</th>\n      <th>...</th>\n      <th>VENTO, DIREÇÃO HORARIA (gr) (° (gr))</th>\n      <th>VENTO, RAJADA MAXIMA (m/s)</th>\n      <th>VENTO, VELOCIDADE HORARIA (m/s)</th>\n      <th>region</th>\n      <th>state</th>\n      <th>station</th>\n      <th>station_code</th>\n      <th>latitude</th>\n      <th>longitude</th>\n      <th>height</th>\n    </tr>\n  </thead>\n  <tbody>\n    <tr>\n      <th>0</th>\n      <td>138998</td>\n      <td>2017-12-20</td>\n      <td>14:00</td>\n      <td>0.00</td>\n      <td>899.60</td>\n      <td>900.00</td>\n      <td>899.60</td>\n      <td>3391</td>\n      <td>26.50</td>\n      <td>17.70</td>\n      <td>...</td>\n      <td>39</td>\n      <td>9.60</td>\n      <td>3.90</td>\n      <td>CO</td>\n      <td>DF</td>\n      <td>PARANOA (COOPA-DF)</td>\n      <td>A047</td>\n      <td>-16.01</td>\n      <td>-47.56</td>\n      <td>1043.00</td>\n    </tr>\n    <tr>\n      <th>1</th>\n      <td>138999</td>\n      <td>2017-12-20</td>\n      <td>15:00</td>\n      <td>0.00</td>\n      <td>899.20</td>\n      <td>899.60</td>\n      <td>899.20</td>\n      <td>3306</td>\n      <td>26.60</td>\n      <td>16.70</td>\n      <td>...</td>\n      <td>55</td>\n      <td>8.30</td>\n      <td>3.40</td>\n      <td>CO</td>\n      <td>DF</td>\n      <td>PARANOA (COOPA-DF)</td>\n      <td>A047</td>\n      <td>-16.01</td>\n      <td>-47.56</td>\n      <td>1043.00</td>\n    </tr>\n    <tr>\n      <th>2</th>\n      <td>139000</td>\n      <td>2017-12-20</td>\n      <td>16:00</td>\n      <td>0.00</td>\n      <td>898.60</td>\n      <td>899.20</td>\n      <td>898.60</td>\n      <td>3167</td>\n      <td>27.30</td>\n      <td>15.80</td>\n      <td>...</td>\n      <td>62</td>\n      <td>8.30</td>\n      <td>3.60</td>\n      <td>CO</td>\n      <td>DF</td>\n      <td>PARANOA (COOPA-DF)</td>\n      <td>A047</td>\n      <td>-16.01</td>\n      <td>-47.56</td>\n      <td>1043.00</td>\n    </tr>\n    <tr>\n      <th>3</th>\n      <td>139001</td>\n      <td>2017-12-20</td>\n      <td>17:00</td>\n      <td>0.00</td>\n      <td>897.70</td>\n      <td>898.60</td>\n      <td>897.70</td>\n      <td>3279</td>\n      <td>27.50</td>\n      <td>12.90</td>\n      <td>...</td>\n      <td>43</td>\n      <td>6.70</td>\n      <td>3.10</td>\n      <td>CO</td>\n      <td>DF</td>\n      <td>PARANOA (COOPA-DF)</td>\n      <td>A047</td>\n      <td>-16.01</td>\n      <td>-47.56</td>\n      <td>1043.00</td>\n    </tr>\n    <tr>\n      <th>4</th>\n      <td>139002</td>\n      <td>2017-12-20</td>\n      <td>18:00</td>\n      <td>0.00</td>\n      <td>897.00</td>\n      <td>897.70</td>\n      <td>897.00</td>\n      <td>2753</td>\n      <td>27.50</td>\n      <td>13.70</td>\n      <td>...</td>\n      <td>98</td>\n      <td>6.40</td>\n      <td>3.50</td>\n      <td>CO</td>\n      <td>DF</td>\n      <td>PARANOA (COOPA-DF)</td>\n      <td>A047</td>\n      <td>-16.01</td>\n      <td>-47.56</td>\n      <td>1043.00</td>\n    </tr>\n    <tr>\n      <th>...</th>\n      <td>...</td>\n      <td>...</td>\n      <td>...</td>\n      <td>...</td>\n      <td>...</td>\n      <td>...</td>\n      <td>...</td>\n      <td>...</td>\n      <td>...</td>\n      <td>...</td>\n      <td>...</td>\n      <td>...</td>\n      <td>...</td>\n      <td>...</td>\n      <td>...</td>\n      <td>...</td>\n      <td>...</td>\n      <td>...</td>\n      <td>...</td>\n      <td>...</td>\n      <td>...</td>\n    </tr>\n    <tr>\n      <th>9995</th>\n      <td>148993</td>\n      <td>2017-02-10</td>\n      <td>01:00</td>\n      <td>-9999.00</td>\n      <td>956.10</td>\n      <td>956.20</td>\n      <td>956.00</td>\n      <td>-9999</td>\n      <td>25.50</td>\n      <td>22.90</td>\n      <td>...</td>\n      <td>210</td>\n      <td>3.40</td>\n      <td>1.70</td>\n      <td>CO</td>\n      <td>MT</td>\n      <td>NOVA UBIRATA</td>\n      <td>A929</td>\n      <td>-13.69</td>\n      <td>-54.96</td>\n      <td>518.00</td>\n    </tr>\n    <tr>\n      <th>9996</th>\n      <td>148994</td>\n      <td>2017-02-10</td>\n      <td>02:00</td>\n      <td>-9999.00</td>\n      <td>956.50</td>\n      <td>956.50</td>\n      <td>956.10</td>\n      <td>-9999</td>\n      <td>24.50</td>\n      <td>22.70</td>\n      <td>...</td>\n      <td>214</td>\n      <td>6.80</td>\n      <td>3.50</td>\n      <td>CO</td>\n      <td>MT</td>\n      <td>NOVA UBIRATA</td>\n      <td>A929</td>\n      <td>-13.69</td>\n      <td>-54.96</td>\n      <td>518.00</td>\n    </tr>\n    <tr>\n      <th>9997</th>\n      <td>148995</td>\n      <td>2017-02-10</td>\n      <td>03:00</td>\n      <td>-9999.00</td>\n      <td>956.20</td>\n      <td>956.50</td>\n      <td>956.10</td>\n      <td>-9999</td>\n      <td>23.40</td>\n      <td>22.40</td>\n      <td>...</td>\n      <td>224</td>\n      <td>5.50</td>\n      <td>3.00</td>\n      <td>CO</td>\n      <td>MT</td>\n      <td>NOVA UBIRATA</td>\n      <td>A929</td>\n      <td>-13.69</td>\n      <td>-54.96</td>\n      <td>518.00</td>\n    </tr>\n    <tr>\n      <th>9998</th>\n      <td>148996</td>\n      <td>2017-02-10</td>\n      <td>04:00</td>\n      <td>-9999.00</td>\n      <td>956.50</td>\n      <td>956.60</td>\n      <td>956.20</td>\n      <td>-9999</td>\n      <td>23.00</td>\n      <td>22.20</td>\n      <td>...</td>\n      <td>212</td>\n      <td>4.40</td>\n      <td>1.80</td>\n      <td>CO</td>\n      <td>MT</td>\n      <td>NOVA UBIRATA</td>\n      <td>A929</td>\n      <td>-13.69</td>\n      <td>-54.96</td>\n      <td>518.00</td>\n    </tr>\n    <tr>\n      <th>9999</th>\n      <td>148997</td>\n      <td>2017-02-10</td>\n      <td>05:00</td>\n      <td>-9999.00</td>\n      <td>956.10</td>\n      <td>956.50</td>\n      <td>956.00</td>\n      <td>-9999</td>\n      <td>22.80</td>\n      <td>22.00</td>\n      <td>...</td>\n      <td>210</td>\n      <td>4.10</td>\n      <td>1.30</td>\n      <td>CO</td>\n      <td>MT</td>\n      <td>NOVA UBIRATA</td>\n      <td>A929</td>\n      <td>-13.69</td>\n      <td>-54.96</td>\n      <td>518.00</td>\n    </tr>\n  </tbody>\n</table>\n<p>10000 rows × 27 columns</p>\n</div>"
     },
     "execution_count": 4,
     "metadata": {},
     "output_type": "execute_result"
    }
   ],
   "source": [
    "data = pd.read_csv('D:/data/brazil/central_west.csv')\n",
    "data[:10000]\n"
   ],
   "metadata": {
    "collapsed": false,
    "ExecuteTime": {
     "end_time": "2024-04-10T12:40:13.712193Z",
     "start_time": "2024-04-10T12:39:43.994030Z"
    }
   },
   "id": "213bfb25b73bd512",
   "execution_count": 4
  },
  {
   "cell_type": "code",
   "outputs": [],
   "source": [
    "data[:10000].to_excel(r'D:/data/brazil/mydata.xlsx')\n"
   ],
   "metadata": {
    "collapsed": false,
    "ExecuteTime": {
     "end_time": "2024-04-10T12:41:11.446472Z",
     "start_time": "2024-04-10T12:41:03.740901Z"
    }
   },
   "id": "997aef44277aefda",
   "execution_count": 7
  },
  {
   "cell_type": "code",
   "outputs": [],
   "source": [],
   "metadata": {
    "collapsed": false
   },
   "id": "5e3bff3b380c681e"
  }
 ],
 "metadata": {
  "kernelspec": {
   "display_name": "Python 3",
   "language": "python",
   "name": "python3"
  },
  "language_info": {
   "codemirror_mode": {
    "name": "ipython",
    "version": 2
   },
   "file_extension": ".py",
   "mimetype": "text/x-python",
   "name": "python",
   "nbconvert_exporter": "python",
   "pygments_lexer": "ipython2",
   "version": "2.7.6"
  }
 },
 "nbformat": 4,
 "nbformat_minor": 5
}
