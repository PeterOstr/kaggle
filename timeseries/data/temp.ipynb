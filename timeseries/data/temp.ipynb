{
 "cells": [
  {
   "cell_type": "code",
   "execution_count": 1,
   "id": "initial_id",
   "metadata": {
    "collapsed": true,
    "ExecuteTime": {
     "end_time": "2024-04-10T12:37:57.381652Z",
     "start_time": "2024-04-10T12:37:56.608553Z"
    }
   },
   "source": [
    "import pandas as pd\n",
    "import numpy as np\n",
    "import matplotlib.pyplot as plt\n",
    "%matplotlib inline\n",
    "import seaborn as sns\n",
    "from datetime import datetime\n",
    "\n",
    "from itertools import combinations\n",
    "from sklearn.metrics import mean_absolute_error\n",
    "from sklearn.metrics import mean_squared_error\n",
    "from statsmodels.tsa.stattools import adfuller\n",
    "from statsmodels.tsa.stattools import acf, pacf\n",
    "from statsmodels.tsa.arima_model import ARIMA as ARIMA\n",
    "import statsmodels.api as sm\n",
    "import statsmodels.tsa.api as smt\n",
    "pd.options.display.float_format = '{:.2f}'.format\n",
    "import openpyxl"
   ],
   "outputs": []
  },
  {
   "cell_type": "code",
   "source": [
    "data = pd.read_csv('D:/data/brazil/central_west.csv')\n",
    "data[10000:20000]\n"
   ],
   "metadata": {
    "collapsed": false,
    "ExecuteTime": {
     "end_time": "2024-04-10T12:40:13.712193Z",
     "start_time": "2024-04-10T12:39:43.994030Z"
    }
   },
   "id": "213bfb25b73bd512",
   "execution_count": 4,
   "outputs": []
  },
  {
   "cell_type": "code",
   "source": [
    "data[10000:20000].to_excel(r'D:/data/brazil/mydata2.xlsx')\n"
   ],
   "metadata": {
    "collapsed": false,
    "ExecuteTime": {
     "end_time": "2024-04-11T08:34:58.032598Z",
     "start_time": "2024-04-11T08:34:50.848050Z"
    }
   },
   "id": "997aef44277aefda",
   "execution_count": 8,
   "outputs": []
  },
  {
   "cell_type": "code",
   "source": [],
   "metadata": {
    "collapsed": false
   },
   "id": "5e3bff3b380c681e",
   "execution_count": null,
   "outputs": []
  }
 ],
 "metadata": {
  "kernelspec": {
   "display_name": "Python 3",
   "language": "python",
   "name": "python3"
  },
  "language_info": {
   "codemirror_mode": {
    "name": "ipython",
    "version": 2
   },
   "file_extension": ".py",
   "mimetype": "text/x-python",
   "name": "python",
   "nbconvert_exporter": "python",
   "pygments_lexer": "ipython2",
   "version": "2.7.6"
  }
 },
 "nbformat": 4,
 "nbformat_minor": 5
}
