{
 "cells": [
  {
   "cell_type": "code",
   "execution_count": 2,
   "id": "initial_id",
   "metadata": {
    "collapsed": true,
    "ExecuteTime": {
     "end_time": "2024-01-29T12:20:11.707413800Z",
     "start_time": "2024-01-29T12:20:11.692206100Z"
    }
   },
   "source": [
    "import pandas as pd\n",
    "import numpy as np\n",
    "from sklearn.model_selection import train_test_split, StratifiedKFold\n",
    "from sklearn.impute import KNNImputer\n",
    "from sklearn.experimental import enable_iterative_imputer\n",
    "from sklearn.impute import IterativeImputer\n",
    "# import missingno as msno\n",
    "\n",
    "import pandas as pd\n",
    "import numpy as np\n",
    "import sklearn\n",
    "import xgboost as xgb\n",
    "import matplotlib.pyplot as plt\n",
    "from sklearn.model_selection import RandomizedSearchCV\n",
    "from sklearn.model_selection import train_test_split, StratifiedKFold\n",
    "from sklearn.metrics import accuracy_score, recall_score, f1_score, roc_auc_score, roc_curve\n",
    "sklearn.set_config(transform_output='pandas')\n",
    "from sklearn.metrics import mean_squared_error, mean_absolute_error\n",
    "\n",
    "import matplotlib as mpl\n",
    "import matplotlib.pyplot as plt\n",
    "from sklearn.pipeline import Pipeline\n",
    "from sklearn.model_selection import RandomizedSearchCV, GridSearchCV\n",
    "from sklearn.model_selection import train_test_split, StratifiedKFold, KFold\n",
    "from sklearn.preprocessing import LabelEncoder\n",
    "import mlflow\n",
    "import mlflow.sklearn\n",
    "from mlflow import MlflowClient\n",
    "\n",
    "\n",
    "from sklearn.pipeline import Pipeline\n",
    "from sklearn.impute import KNNImputer, SimpleImputer\n",
    "from sklearn.preprocessing import PowerTransformer\n",
    "from sklearn.preprocessing import StandardScaler, OneHotEncoder, RobustScaler\n",
    "from sklearn.linear_model import LogisticRegression\n",
    "from sklearn.metrics import mean_squared_error\n",
    "from sklearn.model_selection import cross_val_score\n",
    "from functools import partial\n",
    "import optuna\n",
    "from sklearn.compose import ColumnTransformer\n",
    "import joblib\n",
    "\n",
    "\n",
    "from catboost import CatBoostClassifier, Pool\n",
    "\n",
    "\n",
    "import warnings; warnings.filterwarnings('ignore')\n",
    "\n"
   ],
   "outputs": []
  },
  {
   "cell_type": "markdown",
   "source": [
    "This dataser is taken from Kaggle platform (https://www.kaggle.com/datasets/bhadaneeraj/cardio-vascular-disease-detection)\n",
    "\n",
    "Features:\n",
    "1.\tAge | Objective Feature | age | int (days)\n",
    "2.\tHeight | Objective Feature | height | int (cm) |\n",
    "3.\tWeight | Objective Feature | weight | float (kg) |\n",
    "4.\tGender | Objective Feature | gender | categorical code |\n",
    "5.\tSystolic blood pressure | Examination Feature | ap_hi | int |\n",
    "6.\tDiastolic blood pressure | Examination Feature | ap_lo | int |\n",
    "7.\tCholesterol | Examination Feature | cholesterol | 1: normal, 2: above normal, 3: well above normal |\n",
    "8.\tGlucose | Examination Feature | gluc | 1: normal, 2: above normal, 3: well above normal |\n",
    "9.\tSmoking | Subjective Feature | smoke | binary |\n",
    "10.\tAlcohol intake | Subjective Feature | alco | binary |\n",
    "11.\tPhysical activity | Subjective Feature | active | binary |\n",
    "12.\tPresence or absence of cardiovascular disease | Target Variable | cardio | binary |\n",
    "\n",
    "All of the dataset values were collected at the moment of medical examination.\n",
    "\n",
    "The Problem Statement:\n",
    "To build an application to classify the patients to be healthy or suffering from cardiovascular disease based on the given attributes.\n"
   ],
   "metadata": {
    "collapsed": false
   },
   "id": "df78c648186e1094"
  },
  {
   "cell_type": "markdown",
   "source": [
    "# 1 Data"
   ],
   "metadata": {
    "collapsed": false
   },
   "id": "bad0a61c647f5c32"
  },
  {
   "cell_type": "code",
   "source": [
    "# data = pd.read_csv('data/Covid_data.csv')\n",
    "data = pd.read_csv('data/cardio_train.csv', sep=';')\n",
    "\n",
    "data"
   ],
   "metadata": {
    "collapsed": false,
    "ExecuteTime": {
     "end_time": "2024-01-29T12:20:11.839642Z",
     "start_time": "2024-01-29T12:20:11.700683900Z"
    }
   },
   "id": "1701017bf05f979a",
   "execution_count": 3,
   "outputs": []
  },
  {
   "cell_type": "code",
   "source": [
    "data.hist(figsize=(20, 20));"
   ],
   "metadata": {
    "collapsed": false,
    "ExecuteTime": {
     "end_time": "2024-01-29T12:20:15.761084500Z",
     "start_time": "2024-01-29T12:20:11.841816Z"
    }
   },
   "id": "2968c4de16fb1ee2",
   "execution_count": 4,
   "outputs": []
  },
  {
   "cell_type": "markdown",
   "source": [
    "# 2 Pipeline"
   ],
   "metadata": {
    "collapsed": false
   },
   "id": "f8920d3d7a8e6148"
  },
  {
   "cell_type": "code",
   "source": [
    "X = data.drop('cardio',axis=1)\n",
    "y = data['cardio']"
   ],
   "metadata": {
    "collapsed": false,
    "ExecuteTime": {
     "end_time": "2024-01-29T12:20:15.785035200Z",
     "start_time": "2024-01-29T12:20:15.752615700Z"
    }
   },
   "id": "503a72b639ebd09e",
   "execution_count": 5,
   "outputs": []
  },
  {
   "cell_type": "code",
   "source": [
    "X_train, X_test, y_train, y_test = train_test_split(X,y, stratify=y,train_size=0.7, random_state=13)\n"
   ],
   "metadata": {
    "collapsed": false,
    "ExecuteTime": {
     "end_time": "2024-01-29T12:20:16.296148Z",
     "start_time": "2024-01-29T12:20:15.781710500Z"
    }
   },
   "id": "49126a7977335b82",
   "execution_count": 6,
   "outputs": []
  },
  {
   "cell_type": "code",
   "source": [
    "X.columns"
   ],
   "metadata": {
    "collapsed": false,
    "ExecuteTime": {
     "end_time": "2024-01-29T12:20:16.298420700Z",
     "start_time": "2024-01-29T12:20:15.826871300Z"
    }
   },
   "id": "ad4f5fb7c916279d",
   "execution_count": 7,
   "outputs": []
  },
  {
   "cell_type": "code",
   "source": [
    "numerical_features = ['age', 'height', 'weight', 'ap_hi', 'ap_lo']\n",
    "\n",
    "categorical_features = [i for i in X_train.columns if i not in numerical_features]\n",
    "\n",
    "# numeric data pipeline\n",
    "pipe_num = Pipeline([\n",
    "    # ('imputer', SimpleImputer(strategy='median')), # not necessary because we have already clean data \n",
    "    ('power_tr', PowerTransformer()),\n",
    "    ('scaler', StandardScaler()) ])\n",
    "\n",
    "# cat data pipeline\n",
    "pipe_cat = Pipeline([\n",
    "    # ('imputer', SimpleImputer(strategy='constant',fill_value='unknown')), # not necessary because we have already clean data \n",
    "    ('encoding', OneHotEncoder(sparse_output=False, handle_unknown='ignore')) ])\n",
    "\n",
    "# column transformer\n",
    "ct = ColumnTransformer([\n",
    "    ('pipe_num', pipe_num, numerical_features),\n",
    "    ('pipe_cat', pipe_cat, categorical_features) ])\n",
    "\n",
    "#full pipeline with XGBoost\n",
    "pipe = Pipeline([\n",
    "    ('column_transformer', ct),\n",
    "    ('model', xgb.XGBClassifier()),   \n",
    "])"
   ],
   "metadata": {
    "collapsed": false,
    "ExecuteTime": {
     "end_time": "2024-01-29T12:20:16.375580600Z",
     "start_time": "2024-01-29T12:20:15.843100400Z"
    }
   },
   "id": "6f2751c531b50337",
   "execution_count": 8,
   "outputs": []
  },
  {
   "cell_type": "code",
   "source": [
    "mlflow.set_tracking_uri(uri='http://127.0.0.1:5000')\n",
    "client = MlflowClient()\n",
    "local_dir = ('C:/Users/Peter/DataspellProjects/kaggle/cardiovascular_disease')"
   ],
   "metadata": {
    "collapsed": false,
    "ExecuteTime": {
     "end_time": "2024-01-29T12:20:16.390616900Z",
     "start_time": "2024-01-29T12:20:15.857099100Z"
    }
   },
   "id": "ffe289df27c91798",
   "execution_count": 9,
   "outputs": []
  },
  {
   "cell_type": "code",
   "source": [
    "# optimize hyperparameters with Optuna\n",
    "def objective(trial):\n",
    "\n",
    "    # params for optimization\n",
    "    params = {\n",
    "        'model__eta': trial.suggest_float('model__eta', 0.01, 0.2),\n",
    "        'model__gamma': trial.suggest_float('model__gamma', 0.01, 5),\n",
    "        'model__max_depth': trial.suggest_int('model__max_depth', 3, 10),\n",
    "        'model__min_child_weight': trial.suggest_float('model__min_child_weight', 1, 10),\n",
    "        'model__max_delta_step': trial.suggest_float('model__max_delta_step', 0.001, 10),\n",
    "        'model__subsample': trial.suggest_float('model__subsample', 0.1, 1),\n",
    "        'model__colsample_bytree': trial.suggest_float('model__colsample_bytree', 0.5, 1),\n",
    "        'model__colsample_bylevel': trial.suggest_float('model__colsample_bylevel', 0.5, 1),\n",
    "        'model__colsample_bynode': trial.suggest_float('model__colsample_bynode', 0.5, 1),\n",
    "        'model__reg_lambda': trial.suggest_float('model__reg_lambda', 1e-5, 1e2),\n",
    "        'model__reg_alpha': trial.suggest_float('model__reg_alpha', 1e-5, 1e2),\n",
    "        'model__scale_pos_weight': trial.suggest_float('model__scale_pos_weight', 1, 10),\n",
    "        'model__max_leaves': trial.suggest_int('model__max_leaves', 1, 100),\n",
    "    }\n",
    "\n",
    "    pipe.set_params(**params)\n",
    "\n",
    "    # model fitting\n",
    "    cross_val_f1 = cross_val_score(pipe, X_train, list(y_train), scoring='f1').mean()\n",
    "\n",
    "    return cross_val_f1  # Use F1 score for binary classification\n",
    "\n",
    "\n",
    "mlflow.set_experiment(\"MLflow_hype_optuna_XGB\")\n",
    "\n",
    "with mlflow.start_run(run_name='xgb_optuna_run'):\n",
    "    study = optuna.create_study(direction='maximize')  # Maximize F1 score\n",
    "    study.optimize(objective, n_trials=1)\n",
    "\n",
    "    best_trial = study.best_trial\n",
    "    best_params = best_trial.params\n",
    "\n",
    "    # Log parameters\n",
    "    mlflow.log_params(best_params)\n",
    "\n",
    "    # Set the best parameters to your model\n",
    "    pipe.set_params(**best_params)\n",
    "\n",
    "    # Train the model with the best parameters on the entire training set\n",
    "    pipe.fit(X_train, y_train)\n",
    "\n",
    "    # Make predictions on the test set\n",
    "    y_pred = pipe.predict(X_test)\n",
    "\n",
    "\n",
    "    # Metrics\n",
    "    accuracy = accuracy_score(list(y_test), y_pred)\n",
    "    recall = recall_score(list(y_test), y_pred)\n",
    "    f1 = f1_score(list(y_test), y_pred)\n",
    "\n",
    "    mlflow.sklearn.log_model(pipe, 'xgb_model_optuna')\n",
    "\n",
    "    # Log metrics\n",
    "    mlflow.log_metrics({\n",
    "        'accuracy': accuracy,\n",
    "        'recall': recall,\n",
    "        'f1_score': f1,\n",
    "    })\n",
    "\n",
    "    # Calculate ROC AUC (if needed for binary classification)\n",
    "    fpr, tpr, thresholds = roc_curve(list(y_test), y_pred)\n",
    "    roc_auc = roc_auc_score(list(y_test), y_pred)\n",
    "\n",
    "    # Plot ROC curve (if needed for binary classification)\n",
    "    plt.figure(figsize=(8, 8))\n",
    "    plt.plot(fpr, tpr, color='darkorange', lw=2, label='ROC curve (area = {:.2f})'.format(roc_auc))\n",
    "    plt.plot([0, 1], [0, 1], color='navy', lw=2, linestyle='--')\n",
    "    plt.xlabel('False Positive Rate')\n",
    "    plt.ylabel('True Positive Rate')\n",
    "    plt.title('Receiver Operating Characteristic (ROC) Curve')\n",
    "    plt.legend(loc='lower right')\n",
    "\n",
    "    # Save the plot to a local file\n",
    "    roc_auc_plot_path = \"mlruns/roc_auc_plot.png\"\n",
    "    plt.savefig(roc_auc_plot_path)\n",
    "    plt.close()\n",
    "\n",
    "    # Log ROC AUC plot as an artifact (if needed for binary classification)\n",
    "    mlflow.log_artifact(roc_auc_plot_path, \"roc_auc_plot\")\n"
   ],
   "metadata": {
    "collapsed": false,
    "is_executing": true,
    "ExecuteTime": {
     "start_time": "2024-01-29T12:20:50.399920300Z"
    }
   },
   "id": "330a595ca6af918f",
   "execution_count": null,
   "outputs": []
  },
  {
   "cell_type": "markdown",
   "source": [
    "save model\n",
    "predict values"
   ],
   "metadata": {
    "collapsed": false
   },
   "id": "e012f286f759f746"
  },
  {
   "cell_type": "code",
   "source": [],
   "metadata": {
    "collapsed": false
   },
   "id": "6222d4b520fa726c",
   "execution_count": null,
   "outputs": []
  }
 ],
 "metadata": {
  "kernelspec": {
   "display_name": "Python 3",
   "language": "python",
   "name": "python3"
  },
  "language_info": {
   "codemirror_mode": {
    "name": "ipython",
    "version": 2
   },
   "file_extension": ".py",
   "mimetype": "text/x-python",
   "name": "python",
   "nbconvert_exporter": "python",
   "pygments_lexer": "ipython2",
   "version": "2.7.6"
  }
 },
 "nbformat": 4,
 "nbformat_minor": 5
}
