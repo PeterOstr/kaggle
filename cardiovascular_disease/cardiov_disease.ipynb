{
 "cells": [
  {
   "cell_type": "code",
   "execution_count": null,
   "id": "initial_id",
   "metadata": {
    "collapsed": true
   },
   "outputs": [],
   "source": []
  },
  {
   "cell_type": "markdown",
   "source": [
    "This dataser is taken from Kaggle platform (https://www.kaggle.com/datasets/bhadaneeraj/cardio-vascular-disease-detection)\n",
    "\n",
    "Features:\n",
    "1.\tAge | Objective Feature | age | int (days)\n",
    "2.\tHeight | Objective Feature | height | int (cm) |\n",
    "3.\tWeight | Objective Feature | weight | float (kg) |\n",
    "4.\tGender | Objective Feature | gender | categorical code |\n",
    "5.\tSystolic blood pressure | Examination Feature | ap_hi | int |\n",
    "6.\tDiastolic blood pressure | Examination Feature | ap_lo | int |\n",
    "7.\tCholesterol | Examination Feature | cholesterol | 1: normal, 2: above normal, 3: well above normal |\n",
    "8.\tGlucose | Examination Feature | gluc | 1: normal, 2: above normal, 3: well above normal |\n",
    "9.\tSmoking | Subjective Feature | smoke | binary |\n",
    "10.\tAlcohol intake | Subjective Feature | alco | binary |\n",
    "11.\tPhysical activity | Subjective Feature | active | binary |\n",
    "12.\tPresence or absence of cardiovascular disease | Target Variable | cardio | binary |\n",
    "\n",
    "All of the dataset values were collected at the moment of medical examination.\n",
    "\n",
    "The Problem Statement:\n",
    "To build an application to classify the patients to be healthy or suffering from cardiovascular disease based on the given attributes.\n"
   ],
   "metadata": {
    "collapsed": false
   },
   "id": "df78c648186e1094"
  },
  {
   "cell_type": "code",
   "outputs": [],
   "source": [],
   "metadata": {
    "collapsed": false
   },
   "id": "1701017bf05f979a"
  }
 ],
 "metadata": {
  "kernelspec": {
   "display_name": "Python 3",
   "language": "python",
   "name": "python3"
  },
  "language_info": {
   "codemirror_mode": {
    "name": "ipython",
    "version": 2
   },
   "file_extension": ".py",
   "mimetype": "text/x-python",
   "name": "python",
   "nbconvert_exporter": "python",
   "pygments_lexer": "ipython2",
   "version": "2.7.6"
  }
 },
 "nbformat": 4,
 "nbformat_minor": 5
}
