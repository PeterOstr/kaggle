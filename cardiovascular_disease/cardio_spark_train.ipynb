{
 "cells": [
  {
   "cell_type": "code",
   "execution_count": 26,
   "id": "initial_id",
   "metadata": {
    "collapsed": true,
    "ExecuteTime": {
     "end_time": "2024-02-18T16:41:35.049508Z",
     "start_time": "2024-02-18T16:41:35.026511Z"
    }
   },
   "outputs": [],
   "source": [
    "from pyspark.sql import SparkSession\n",
    "from pyspark.sql.functions import col, explode, split, regexp_replace\n",
    "from pyspark.sql.functions import col, split, explode, regexp_replace\n",
    "\n",
    "\n",
    "from pyspark.sql.functions import lit, col, when\n",
    "from pyspark.sql.types import StringType\n",
    "from pyspark.ml.feature import FeatureHasher\n",
    "import os\n",
    "from pyspark.sql.functions import col, when, lit, isnan\n",
    "from pyspark.sql.functions import lit, nanvl, isnan, when, avg\n",
    "import category_encoders as ce\n",
    "import pandas as pd\n",
    "import itertools\n",
    "import matplotlib.pyplot as plt\n",
    "from sklearn.preprocessing import OneHotEncoder\n",
    "from category_encoders import CatBoostEncoder\n",
    "import pickle\n",
    "from pyspark.sql import SparkSession\n",
    "from pyspark.sql.functions import pandas_udf, PandasUDFType\n",
    "from pyspark.sql.types import DoubleType, ArrayType\n",
    "import numpy as np\n",
    "import pandas as pd\n",
    "import sklearn\n",
    "sklearn.set_config(transform_output='pandas')\n",
    "from pyspark.sql.functions import array\n",
    "from pyspark.sql import functions as F\n",
    "from pyspark.sql import SparkSession, types as T\n",
    "from pyspark.sql.functions import udf\n",
    "from pyspark.sql.functions import round, sum, avg, count, min, max\n",
    "from ast import literal_eval\n",
    "\n",
    "from pyspark.sql import DataFrame\n",
    "\n",
    "from pyspark.sql import functions as sf\n",
    "from pyspark.sql.functions import udf\n",
    "from pyspark.sql.types import ArrayType, DoubleType\n",
    "import pyspark\n",
    "from pyspark.sql import SparkSession\n",
    "# from geospark.register import upload_jars\n",
    "# from geospark.register import GeoSparkRegistrator\n",
    "# from geospark.core.SpatialRDD import PolygonRDD, PointRDD\n",
    "# from geospark.core.enums import FileDataSplitter\n",
    "# from geospark.core.enums import IndexType\n",
    "# from geospark.core.geom.envelope import Envelope\n",
    "# from geospark.core.spatialOperator import RangeQuery\n",
    "# from geospark.core.formatMapper.shapefileParser import ShapefileReader\n",
    "# from geospark.sql.types import GeometryType\n",
    "# from geospark.register import sparkJVM\n",
    "# import re\n",
    "# upload_jars()\n",
    "#\n",
    "#\n",
    "#\n",
    "# spark = SparkSession.builder.appName(\"Spark_v1\")    .config(\"spark.default.parallelism\", 176*3) \\\n",
    "#     .config(\"spark.sql.shuffle.partitions\", 176*3) \\\n",
    "#     .config(\"spark.executor.memory\", \"50g\") \\\n",
    "#     .config(\"spark.executor.cores\", \"5\") \\\n",
    "#     .config(\"spark.driver.memory\", \"10g\") \\\n",
    "#     .config(\"spark.driver.maxResultSize\", \"1300g\") \\\n",
    "#     .getOrCreate()\n",
    "import os\n",
    "\n",
    "# setup arguments\n",
    "#os.environ['PYSPARK_SUBMIT_ARGS'] = '--packages org.apache.spark:spark-sql-kafka-0-10_2.11:2.4.0'\n",
    "\n",
    "# initialize spark\n",
    "import pyspark\n",
    "\n",
    "from pyspark.sql import SparkSession\n",
    "from pyspark.sql.types import StringType, BooleanType\n",
    "\n",
    "\n",
    "ram = 16\n",
    "\n",
    "spark = SparkSession. \\\n",
    "    builder. \\\n",
    "    appName('spark_first_run') \\\n",
    "    .config(\"spark.executor.memory\", f\"{ram}g\") \\\n",
    "    .config(\"spark.driver.maxResultSize\", f\"{ram}g\") \\\n",
    "    .config(\"spark.driver.memory\", f\"{ram}g\") \\\n",
    "    .config(\"spark.executor.memoryOverhead\", f\"{ram}g\") \\\n",
    "    .config(\"spark.sql.debug.maxToStringFields\", \"100000\") \\\n",
    "    .getOrCreate()\n",
    "\n",
    "\n",
    "#    .config(\"spark.driver.memory\", \"10g\") \\\n",
    "\n",
    "#    .config(\"spark.executor.memoryOverhead\", \"10g\") \\\n",
    "\n",
    "\n",
    "\n",
    "\n",
    "# Register Sedona functions to Spark\n",
    "\n",
    "\n",
    "\n",
    "\n",
    "\n",
    "\n",
    "from scipy.stats import t\n",
    "from pyspark.sql import SparkSession\n",
    "\n",
    "from pyspark.sql.functions import udf, lit\n",
    "\n",
    "import pandas as pd\n",
    "from ast import literal_eval\n",
    "import json\n",
    "from pyspark.sql.functions import udf\n",
    "import pandas as pd\n",
    "import shutil\n",
    "from pyspark.sql.functions import udf\n",
    "from pyspark.sql.functions import udf, explode\n",
    "from pyspark.sql.types import ArrayType, StructType, StructField, FloatType\n",
    "from pyspark.sql.functions import desc\n",
    "from time import sleep\n",
    "from pyspark.sql import Row\n",
    "#from pyspark.sql.functions import min, max\n",
    "from pyspark.sql.functions import col\n",
    "from pyspark.sql.functions import split, explode, lower, trim\n",
    "from pyspark.sql import SparkSession\n",
    "from pyspark.sql.functions import when, count, col\n",
    "from pyspark.sql import SparkSession\n",
    "from pyspark.sql.functions import row_number\n",
    "from pyspark.sql.window import Window\n",
    "from pyspark.sql.functions import monotonically_increasing_id\n",
    "from pyspark.sql.functions import monotonically_increasing_id, concat, col, lit, cast\n",
    "from pyspark.sql import SparkSession\n",
    "from pyspark.sql.functions import collect_list, udf\n",
    "from pyspark.sql.types import DoubleType\n",
    "from pyspark.sql import SparkSession\n",
    "from pyspark.sql.functions import initcap\n",
    "import re\n",
    "import subprocess"
   ]
  },
  {
   "cell_type": "code",
   "outputs": [
    {
     "name": "stdout",
     "output_type": "stream",
     "text": [
      "PySpark version: 3.5.0\n"
     ]
    }
   ],
   "source": [
    "import pyspark\n",
    "\n",
    "# Get PySpark version\n",
    "print(\"PySpark version:\", pyspark.__version__)"
   ],
   "metadata": {
    "collapsed": false,
    "ExecuteTime": {
     "end_time": "2024-02-18T16:20:47.019685Z",
     "start_time": "2024-02-18T16:20:47.006686Z"
    }
   },
   "id": "4067a16e11842dca",
   "execution_count": 2
  },
  {
   "cell_type": "code",
   "outputs": [
    {
     "name": "stdout",
     "output_type": "stream",
     "text": [
      "+-------------+\n",
      "|      message|\n",
      "+-------------+\n",
      "|Hello, World!|\n",
      "+-------------+\n"
     ]
    }
   ],
   "source": [
    "# # Create a SparkSession\n",
    "# spark = SparkSession.builder \\\n",
    "#     .appName(\"HelloWorld\") \\\n",
    "#     .getOrCreate()\n",
    "\n",
    "# Create a DataFrame with a single column named \"message\" and a single row containing the string \"Hello, World!\"\n",
    "data = [(\"Hello, World!\",)]\n",
    "df = spark.createDataFrame(data, [\"message\"])\n",
    "\n",
    "# Show the DataFrame\n",
    "df.show()\n"
   ],
   "metadata": {
    "collapsed": false,
    "ExecuteTime": {
     "end_time": "2024-02-18T16:21:01.705246Z",
     "start_time": "2024-02-18T16:20:47.021687Z"
    }
   },
   "id": "c5f9f1d10037ef6d",
   "execution_count": 3
  },
  {
   "cell_type": "code",
   "outputs": [
    {
     "data": {
      "text/plain": "          id    age  gender  height  weight  ap_hi  ap_lo  cholesterol  gluc  \\\n0        988  22469       1     155    69.0    130     80            2     2   \n1        989  14648       1     163    71.0    110     70            1     1   \n2        990  21901       1     165    70.0    120     80            1     1   \n3        991  14549       2     165    85.0    120     80            1     1   \n4        992  23393       1     155    62.0    120     80            1     1   \n...      ...    ...     ...     ...     ...    ...    ...          ...   ...   \n69296  99993  19240       2     168    76.0    120     80            1     1   \n69297  99995  22601       1     158   126.0    140     90            2     2   \n69298  99996  19066       2     183   105.0    180     90            3     1   \n69299  99998  22431       1     163    72.0    135     80            1     2   \n69300  99999  20540       1     170    72.0    120     80            2     1   \n\n       smoke  alco  active  cardio  \n0          0     0       1       0  \n1          0     0       1       1  \n2          0     0       1       0  \n3          1     1       1       0  \n4          0     0       1       0  \n...      ...   ...     ...     ...  \n69296      1     0       1       0  \n69297      0     0       1       1  \n69298      0     1       0       1  \n69299      0     0       0       1  \n69300      0     0       1       0  \n\n[69301 rows x 13 columns]",
      "text/html": "<div>\n<style scoped>\n    .dataframe tbody tr th:only-of-type {\n        vertical-align: middle;\n    }\n\n    .dataframe tbody tr th {\n        vertical-align: top;\n    }\n\n    .dataframe thead th {\n        text-align: right;\n    }\n</style>\n<table border=\"1\" class=\"dataframe\">\n  <thead>\n    <tr style=\"text-align: right;\">\n      <th></th>\n      <th>id</th>\n      <th>age</th>\n      <th>gender</th>\n      <th>height</th>\n      <th>weight</th>\n      <th>ap_hi</th>\n      <th>ap_lo</th>\n      <th>cholesterol</th>\n      <th>gluc</th>\n      <th>smoke</th>\n      <th>alco</th>\n      <th>active</th>\n      <th>cardio</th>\n    </tr>\n  </thead>\n  <tbody>\n    <tr>\n      <th>0</th>\n      <td>988</td>\n      <td>22469</td>\n      <td>1</td>\n      <td>155</td>\n      <td>69.0</td>\n      <td>130</td>\n      <td>80</td>\n      <td>2</td>\n      <td>2</td>\n      <td>0</td>\n      <td>0</td>\n      <td>1</td>\n      <td>0</td>\n    </tr>\n    <tr>\n      <th>1</th>\n      <td>989</td>\n      <td>14648</td>\n      <td>1</td>\n      <td>163</td>\n      <td>71.0</td>\n      <td>110</td>\n      <td>70</td>\n      <td>1</td>\n      <td>1</td>\n      <td>0</td>\n      <td>0</td>\n      <td>1</td>\n      <td>1</td>\n    </tr>\n    <tr>\n      <th>2</th>\n      <td>990</td>\n      <td>21901</td>\n      <td>1</td>\n      <td>165</td>\n      <td>70.0</td>\n      <td>120</td>\n      <td>80</td>\n      <td>1</td>\n      <td>1</td>\n      <td>0</td>\n      <td>0</td>\n      <td>1</td>\n      <td>0</td>\n    </tr>\n    <tr>\n      <th>3</th>\n      <td>991</td>\n      <td>14549</td>\n      <td>2</td>\n      <td>165</td>\n      <td>85.0</td>\n      <td>120</td>\n      <td>80</td>\n      <td>1</td>\n      <td>1</td>\n      <td>1</td>\n      <td>1</td>\n      <td>1</td>\n      <td>0</td>\n    </tr>\n    <tr>\n      <th>4</th>\n      <td>992</td>\n      <td>23393</td>\n      <td>1</td>\n      <td>155</td>\n      <td>62.0</td>\n      <td>120</td>\n      <td>80</td>\n      <td>1</td>\n      <td>1</td>\n      <td>0</td>\n      <td>0</td>\n      <td>1</td>\n      <td>0</td>\n    </tr>\n    <tr>\n      <th>...</th>\n      <td>...</td>\n      <td>...</td>\n      <td>...</td>\n      <td>...</td>\n      <td>...</td>\n      <td>...</td>\n      <td>...</td>\n      <td>...</td>\n      <td>...</td>\n      <td>...</td>\n      <td>...</td>\n      <td>...</td>\n      <td>...</td>\n    </tr>\n    <tr>\n      <th>69296</th>\n      <td>99993</td>\n      <td>19240</td>\n      <td>2</td>\n      <td>168</td>\n      <td>76.0</td>\n      <td>120</td>\n      <td>80</td>\n      <td>1</td>\n      <td>1</td>\n      <td>1</td>\n      <td>0</td>\n      <td>1</td>\n      <td>0</td>\n    </tr>\n    <tr>\n      <th>69297</th>\n      <td>99995</td>\n      <td>22601</td>\n      <td>1</td>\n      <td>158</td>\n      <td>126.0</td>\n      <td>140</td>\n      <td>90</td>\n      <td>2</td>\n      <td>2</td>\n      <td>0</td>\n      <td>0</td>\n      <td>1</td>\n      <td>1</td>\n    </tr>\n    <tr>\n      <th>69298</th>\n      <td>99996</td>\n      <td>19066</td>\n      <td>2</td>\n      <td>183</td>\n      <td>105.0</td>\n      <td>180</td>\n      <td>90</td>\n      <td>3</td>\n      <td>1</td>\n      <td>0</td>\n      <td>1</td>\n      <td>0</td>\n      <td>1</td>\n    </tr>\n    <tr>\n      <th>69299</th>\n      <td>99998</td>\n      <td>22431</td>\n      <td>1</td>\n      <td>163</td>\n      <td>72.0</td>\n      <td>135</td>\n      <td>80</td>\n      <td>1</td>\n      <td>2</td>\n      <td>0</td>\n      <td>0</td>\n      <td>0</td>\n      <td>1</td>\n    </tr>\n    <tr>\n      <th>69300</th>\n      <td>99999</td>\n      <td>20540</td>\n      <td>1</td>\n      <td>170</td>\n      <td>72.0</td>\n      <td>120</td>\n      <td>80</td>\n      <td>2</td>\n      <td>1</td>\n      <td>0</td>\n      <td>0</td>\n      <td>1</td>\n      <td>0</td>\n    </tr>\n  </tbody>\n</table>\n<p>69301 rows × 13 columns</p>\n</div>"
     },
     "execution_count": 4,
     "metadata": {},
     "output_type": "execute_result"
    }
   ],
   "source": [
    "# data = pd.read_csv('data/Covid_data.csv')\n",
    "data = pd.read_csv('data/cardio_train.csv', sep=';')\n",
    "\n",
    "# data[data['DATE_DIED']==9999-99-99]\n",
    "data"
   ],
   "metadata": {
    "collapsed": false,
    "ExecuteTime": {
     "end_time": "2024-02-18T16:21:01.801194Z",
     "start_time": "2024-02-18T16:21:01.706192Z"
    }
   },
   "id": "b3f7080cef31dd04",
   "execution_count": 4
  },
  {
   "cell_type": "code",
   "outputs": [
    {
     "name": "stdout",
     "output_type": "stream",
     "text": [
      "root\n",
      " |-- id: string (nullable = true)\n",
      " |-- age: string (nullable = true)\n",
      " |-- gender: string (nullable = true)\n",
      " |-- height: string (nullable = true)\n",
      " |-- weight: string (nullable = true)\n",
      " |-- ap_hi: string (nullable = true)\n",
      " |-- ap_lo: string (nullable = true)\n",
      " |-- cholesterol: string (nullable = true)\n",
      " |-- gluc: string (nullable = true)\n",
      " |-- smoke: string (nullable = true)\n",
      " |-- alco: string (nullable = true)\n",
      " |-- active: string (nullable = true)\n",
      " |-- cardio: string (nullable = true)\n",
      "\n",
      "+----+-----+------+------+------+-----+-----+-----------+----+-----+----+------+------+\n",
      "|  id|  age|gender|height|weight|ap_hi|ap_lo|cholesterol|gluc|smoke|alco|active|cardio|\n",
      "+----+-----+------+------+------+-----+-----+-----------+----+-----+----+------+------+\n",
      "| 988|22469|     1|   155|  69.0|  130|   80|          2|   2|    0|   0|     1|     0|\n",
      "| 989|14648|     1|   163|  71.0|  110|   70|          1|   1|    0|   0|     1|     1|\n",
      "| 990|21901|     1|   165|  70.0|  120|   80|          1|   1|    0|   0|     1|     0|\n",
      "| 991|14549|     2|   165|  85.0|  120|   80|          1|   1|    1|   1|     1|     0|\n",
      "| 992|23393|     1|   155|  62.0|  120|   80|          1|   1|    0|   0|     1|     0|\n",
      "| 995|21143|     1|   164|  61.0|  100|   70|          1|   1|    0|   0|     1|     0|\n",
      "| 996|18085|     1|   162|  72.0|  100|   70|          1|   1|    0|   0|     1|     0|\n",
      "| 997|22547|     1|   161|  93.0|  140|   90|          2|   1|    0|   0|     1|     1|\n",
      "| 999|21250|     1|   157|  68.0|  110|   80|          1|   1|    0|   0|     1|     0|\n",
      "|1000|22446|     1|   158|  65.0|  140|   90|          3|   1|    0|   0|     1|     1|\n",
      "|1001|16621|     1|   153|  57.0|  120|   80|          3|   2|    0|   0|     1|     1|\n",
      "|1002|20442|     2|   169|  82.0|  130|   90|          1|   1|    0|   0|     1|     1|\n",
      "|1003|23168|     2|   150|  56.0|  130|   80|          2|   1|    0|   0|     1|     1|\n",
      "|1004|22598|     1|   176|  72.0|  130|   90|          1|   3|    0|   0|     1|     1|\n",
      "|1006|20317|     1|   154|  85.0|  160|  100|          3|   1|    0|   0|     1|     1|\n",
      "|1008|23558|     1|   159|  60.0|  120|   80|          1|   1|    0|   0|     1|     1|\n",
      "|1010|20219|     2|   146|  45.0|  120|   80|          1|   1|    0|   0|     1|     0|\n",
      "|1011|19559|     1|   165|  90.0|  140|   90|          1|   1|    0|   0|     1|     1|\n",
      "|1013|20006|     2|   167|  65.0|  120|   80|          1|   1|    0|   0|     0|     0|\n",
      "|1014|19054|     1|   154|  70.0|  110|   70|          1|   1|    0|   0|     1|     0|\n",
      "+----+-----+------+------+------+-----+-----+-----------+----+-----+----+------+------+\n",
      "only showing top 20 rows\n"
     ]
    }
   ],
   "source": [
    "# Read CSV file into table\n",
    "df = spark.read.option(\"header\",True) \\\n",
    "    .csv('data/cardio_train.csv', sep=';')\n",
    "df.printSchema()\n",
    "df.show()"
   ],
   "metadata": {
    "collapsed": false,
    "ExecuteTime": {
     "end_time": "2024-02-18T16:21:02.715193Z",
     "start_time": "2024-02-18T16:21:01.804193Z"
    }
   },
   "id": "1eff60d79b99dd2e",
   "execution_count": 5
  },
  {
   "cell_type": "code",
   "outputs": [],
   "source": [
    "df.createOrReplaceTempView('DATA')"
   ],
   "metadata": {
    "collapsed": false,
    "ExecuteTime": {
     "end_time": "2024-02-18T16:21:02.795193Z",
     "start_time": "2024-02-18T16:21:02.717193Z"
    }
   },
   "id": "88c143f2d3246e3d",
   "execution_count": 6
  },
  {
   "cell_type": "code",
   "outputs": [
    {
     "name": "stdout",
     "output_type": "stream",
     "text": [
      "+---------------------+\n",
      "|round((AGE / 365), 0)|\n",
      "+---------------------+\n",
      "|                 62.0|\n",
      "|                 40.0|\n",
      "|                 60.0|\n",
      "|                 40.0|\n",
      "|                 64.0|\n",
      "+---------------------+\n"
     ]
    }
   ],
   "source": [
    "# SQL Select query\n",
    "spark.sql('''\n",
    "    \n",
    "    SELECT \n",
    "       round(AGE/365)\n",
    "    FROM DATA\n",
    "    \n",
    "''') \\\n",
    "    .show(5)"
   ],
   "metadata": {
    "collapsed": false,
    "ExecuteTime": {
     "end_time": "2024-02-18T16:21:03.028846Z",
     "start_time": "2024-02-18T16:21:02.796192Z"
    }
   },
   "id": "bc8a9f2255013989",
   "execution_count": 7
  },
  {
   "cell_type": "code",
   "outputs": [
    {
     "name": "stdout",
     "output_type": "stream",
     "text": [
      "+------+----------+\n",
      "|Height|AgeInYears|\n",
      "+------+----------+\n",
      "|   175|      30.0|\n",
      "|   175|      30.0|\n",
      "|   159|      30.0|\n",
      "|   160|      30.0|\n",
      "|   169|      39.0|\n",
      "+------+----------+\n"
     ]
    }
   ],
   "source": [
    "# 1 Just height by age\n",
    "spark.sql('''\n",
    "    \n",
    "    SELECT \n",
    "        Height,\n",
    "        ROUND(AGE/365) AS AgeInYears\n",
    "    FROM \n",
    "        DATA\n",
    "    ORDER BY \n",
    "        AgeInYears\n",
    "''') \\\n",
    "    .show(5)"
   ],
   "metadata": {
    "collapsed": false,
    "ExecuteTime": {
     "end_time": "2024-02-18T16:21:03.667848Z",
     "start_time": "2024-02-18T16:21:03.030846Z"
    }
   },
   "id": "56879cd98582ac69",
   "execution_count": 8
  },
  {
   "cell_type": "markdown",
   "source": [
    "\tSELECT\n",
    "Название функции (столбец для вычислений)\n",
    "OVER (\n",
    "    PARTITION BY столбец для группировки\n",
    "ORDER BY столбец для сортировки\n",
    "ROWS или RANGE выражение для ограничения строк в пределах группы\n",
    ")\n"
   ],
   "metadata": {
    "collapsed": false
   },
   "id": "5b4829b53277376f"
  },
  {
   "cell_type": "code",
   "outputs": [
    {
     "name": "stdout",
     "output_type": "stream",
     "text": [
      "+---------------------+------+------+---------+-----------------+-----------+---------+---------+\n",
      "|round((AGE / 365), 0)|HEIGHT|WEIGHT|sum_grade|        avg_grade|count_grade|min_grade|max_grade|\n",
      "+---------------------+------+------+---------+-----------------+-----------+---------+---------+\n",
      "|                 30.0|   175|  59.0|    269.0|            67.25|          4|     59.0|     92.0|\n",
      "|                 30.0|   175|  92.0|    269.0|            67.25|          4|     59.0|     92.0|\n",
      "|                 30.0|   159|  59.0|    269.0|            67.25|          4|     59.0|     92.0|\n",
      "|                 30.0|   160|  59.0|    269.0|            67.25|          4|     59.0|     92.0|\n",
      "|                 39.0|   169|  67.0|  29906.3|73.66083743842364|        406|    100.0|     99.0|\n",
      "+---------------------+------+------+---------+-----------------+-----------+---------+---------+\n"
     ]
    }
   ],
   "source": [
    "# 2  different functions for data\n",
    "spark.sql('''\n",
    "    \n",
    "   SELECT \n",
    "        ROUND(AGE/365)\n",
    "        ,HEIGHT\n",
    "        ,WEIGHT\n",
    "        ,SUM(WEIGHT) over (partition by ROUND(AGE/365)) as sum_grade\n",
    "        ,AVG(WEIGHT) over (partition by ROUND(AGE/365)) as avg_grade\n",
    "        ,COUNT(WEIGHT) over (partition by ROUND(AGE/365)) as count_grade\n",
    "        ,MIN(WEIGHT) over (partition by ROUND(AGE/365)) as min_grade\n",
    "        ,MAX(WEIGHT) over (partition by ROUND(AGE/365)) as max_grade\n",
    "from DATA;\n",
    "''') \\\n",
    "    .show(5)\n",
    "\n"
   ],
   "metadata": {
    "collapsed": false,
    "ExecuteTime": {
     "end_time": "2024-02-18T16:21:05.064614Z",
     "start_time": "2024-02-18T16:21:03.669850Z"
    }
   },
   "id": "be4369b81ddc4e2",
   "execution_count": 9
  },
  {
   "cell_type": "code",
   "outputs": [
    {
     "name": "stdout",
     "output_type": "stream",
     "text": [
      "+---------+------------------+-----------------+------------------+-----------------+------------------+------------------+-------------------+-------------------+------------------+-------------------+\n",
      "|age_group|        avg_height|       avg_weight|         avg_ap_hi|        avg_ap_lo|   avg_cholesterol|          avg_gluc|          avg_smoke|           avg_alco|        avg_active|         avg_cardio|\n",
      "+---------+------------------+-----------------+------------------+-----------------+------------------+------------------+-------------------+-------------------+------------------+-------------------+\n",
      "|     30.0|            167.25|            67.25|             112.5|             72.5|               1.0|               1.0|                0.0|                0.0|               1.0|                0.0|\n",
      "|     40.0|165.28813296054676|71.98822615719166| 120.0681888785337|88.09009009009009|1.1851506679092887|1.1314072693383037|0.11012736874805841|0.06477166821994408|0.8010251630941286|0.26001863932898417|\n",
      "|     45.0|165.36359039190899| 73.5565613147914|126.99279393173198| 91.9960809102402|1.2467762326169405|  1.15031605562579|0.11024020227560051|0.06371681415929203|0.8199747155499368|0.38963337547408344|\n",
      "|     50.0| 164.6886014248219|74.05468816397949|  128.107424071991|96.87276590426197|1.3075240594925635|1.1974753155855518|0.09367579052618423| 0.0568678915135608|0.8037120359955006|0.44419447569053866|\n",
      "|     55.0|164.29411402157166|74.52955562403697|128.98107858243452|98.47469953775038|1.3848998459167952|1.2387057010785825| 0.0840677966101695|0.05220338983050848|0.8043759630200308| 0.5191371340523883|\n",
      "+---------+------------------+-----------------+------------------+-----------------+------------------+------------------+-------------------+-------------------+------------------+-------------------+\n"
     ]
    }
   ],
   "source": [
    "# 3  average data for age groups\n",
    "spark.sql('''\n",
    "\n",
    "\n",
    "SELECT\n",
    "    ROUND(ROUND(AGE/365) / 5) * 5 AS age_group,\n",
    "    AVG(height) AS avg_height,\n",
    "    AVG(weight) AS avg_weight,\n",
    "    AVG(ap_hi) AS avg_ap_hi,\n",
    "    AVG(ap_lo) AS avg_ap_lo,\n",
    "    AVG(cholesterol) AS avg_cholesterol,\n",
    "    AVG(gluc) AS avg_gluc,\n",
    "    AVG(smoke) AS avg_smoke,\n",
    "    AVG(alco) AS avg_alco,\n",
    "    AVG(active) AS avg_active,\n",
    "    AVG(cardio) AS avg_cardio\n",
    "FROM\n",
    "    DATA\n",
    "GROUP BY\n",
    "    ROUND(ROUND(AGE/365) / 5) * 5\n",
    "ORDER BY\n",
    "    ROUND(ROUND(AGE/365) / 5) * 5;\n",
    "\n",
    "\n",
    "''') \\\n",
    "    .show(5)\n",
    "\n",
    "\n"
   ],
   "metadata": {
    "collapsed": false,
    "ExecuteTime": {
     "end_time": "2024-02-18T16:21:06.293743Z",
     "start_time": "2024-02-18T16:21:05.067615Z"
    }
   },
   "id": "65651d23d881c220",
   "execution_count": 10
  },
  {
   "cell_type": "code",
   "outputs": [
    {
     "name": "stdout",
     "output_type": "stream",
     "text": [
      "+---------+------------------+-----------------+------------------+------------------+------------------+------------------+-------------------+--------------------+------------------+\n",
      "|age_group|        avg_height|       avg_weight|         avg_ap_hi|         avg_ap_lo|   avg_cholesterol|          avg_gluc|          avg_smoke|            avg_alco|        avg_active|\n",
      "+---------+------------------+-----------------+------------------+------------------+------------------+------------------+-------------------+--------------------+------------------+\n",
      "|     40.0|166.05017921146953|77.82502986857826|133.17921146953404|107.53405017921148|1.3715651135005973|1.1893667861409798|0.11529271206690561| 0.06690561529271206|0.7974910394265233|\n",
      "|     45.0| 165.7787151200519| 77.7232965606749| 143.5360155743024|107.65541855937703|1.4127190136275145|1.1982478909798833| 0.1145360155743024| 0.06327060350421804|0.7968851395197923|\n",
      "|     50.0|164.94794597636465|77.29827940348903|139.61128306133935| 116.3918120427687|1.4510410804727067|1.2480303882948791|0.09566685424873382|0.057962858750703436|0.7874226223972988|\n",
      "|     55.0|164.19755431556453|76.81546242431438|134.63742134631366|108.89267481894812| 1.511931615813843|1.2820847678974236|0.08001899560726582| 0.05330642288970675|0.7938976611658554|\n",
      "|     60.0|163.55006133811457|76.43045107105785|137.06690572803623|105.64216287628574| 1.584976880249127|  1.31320184958007|0.07322827215249599| 0.04605076908559026|  0.78880815325092|\n",
      "|     65.0|163.16024612092028|75.87011771000535|135.59256286784375|106.52835741037988|1.6131621187800964|1.3263777421080791|0.05965757089352595|0.040930979133226325|0.7790262172284644|\n",
      "+---------+------------------+-----------------+------------------+------------------+------------------+------------------+-------------------+--------------------+------------------+\n"
     ]
    }
   ],
   "source": [
    "# 4 average data portrait of people who has cardiovascular disease\n",
    "spark.sql('''\n",
    "\n",
    "\n",
    "SELECT\n",
    "    ROUND(ROUND(AGE/365) / 5) * 5 AS age_group,\n",
    "    AVG(height) AS avg_height,\n",
    "    AVG(weight) AS avg_weight,\n",
    "    AVG(ap_hi) AS avg_ap_hi,\n",
    "    AVG(ap_lo) AS avg_ap_lo,\n",
    "    AVG(cholesterol) AS avg_cholesterol,\n",
    "    AVG(gluc) AS avg_gluc,\n",
    "    AVG(smoke) AS avg_smoke,\n",
    "    AVG(alco) AS avg_alco,\n",
    "    AVG(active) AS avg_active\n",
    "FROM\n",
    "    DATA\n",
    "WHERE \n",
    "    CARDIO = 1\n",
    "GROUP BY\n",
    "    ROUND(ROUND(AGE/365) / 5) * 5\n",
    "ORDER BY\n",
    "    ROUND(ROUND(AGE/365) / 5) * 5;\n",
    "\n",
    "\n",
    "''') \\\n",
    "    .show(10)"
   ],
   "metadata": {
    "collapsed": false,
    "ExecuteTime": {
     "end_time": "2024-02-18T16:21:07.270223Z",
     "start_time": "2024-02-18T16:21:06.295741Z"
    }
   },
   "id": "df0d153892a76c57",
   "execution_count": 11
  },
  {
   "cell_type": "code",
   "outputs": [
    {
     "name": "stdout",
     "output_type": "stream",
     "text": [
      "+---------+-----------------+------------------+\n",
      "|age_years|       avg_weight|        avg_height|\n",
      "+---------+-----------------+------------------+\n",
      "|     30.0|            67.25|            167.25|\n",
      "|     30.0|            67.25|            167.25|\n",
      "|     30.0|            67.25|            167.25|\n",
      "|     30.0|            67.25|            167.25|\n",
      "|     39.0|73.66083743842364|165.58374384236453|\n",
      "|     39.0|73.66083743842364|165.58374384236453|\n",
      "|     39.0|73.66083743842364|165.58374384236453|\n",
      "|     39.0|73.66083743842364|165.58374384236453|\n",
      "|     39.0|73.66083743842364|165.58374384236453|\n",
      "|     39.0|73.66083743842364|165.58374384236453|\n",
      "+---------+-----------------+------------------+\n"
     ]
    }
   ],
   "source": [
    "# 5   average weight and height for age groups  \n",
    "spark.sql('''\n",
    "\n",
    "\n",
    "SELECT\n",
    "    ROUND(AGE/365) AS age_years,\n",
    "    AVG(weight) OVER (PARTITION BY ROUND(AGE/365)) AS avg_weight,\n",
    "    AVG(height) OVER (PARTITION BY ROUND(AGE/365)) AS avg_height\n",
    "FROM\n",
    "    DATA\n",
    "\n",
    "''') \\\n",
    "    .show(10)"
   ],
   "metadata": {
    "collapsed": false,
    "ExecuteTime": {
     "end_time": "2024-02-18T16:21:07.925190Z",
     "start_time": "2024-02-18T16:21:07.274253Z"
    }
   },
   "id": "67fcf04b942e21b8",
   "execution_count": 12
  },
  {
   "cell_type": "code",
   "outputs": [
    {
     "name": "stdout",
     "output_type": "stream",
     "text": [
      "+-----+---------+-----+-----+-----------+----+-----------+\n",
      "|   id|age_years|ap_hi|ap_lo|cholesterol|gluc|cardio_rank|\n",
      "+-----+---------+-----+-----+-----------+----+-----------+\n",
      "|31922|     30.0|  100|   60|          1|   1|          1|\n",
      "|79749|     30.0|  110|   70|          1|   1|          2|\n",
      "| 8850|     30.0|  120|   80|          1|   1|          3|\n",
      "|43842|     30.0|  120|   80|          1|   1|          3|\n",
      "| 6000|     39.0|  100|   60|          1|   1|          1|\n",
      "| 7254|     39.0|  100|   60|          1|   1|          1|\n",
      "|16141|     39.0|  100|   60|          1|   1|          1|\n",
      "|25130|     39.0|  100|   60|          1|   1|          1|\n",
      "|34070|     39.0|  100|   60|          1|   1|          1|\n",
      "|40695|     39.0|  100|   60|          1|   1|          1|\n",
      "+-----+---------+-----+-----+-----------+----+-----------+\n"
     ]
    }
   ],
   "source": [
    "# 6 Ranking of cardiac indicators (ap_hi, ap_lo, cholesterol, glucometer) by age groups\n",
    "spark.sql('''\n",
    "\n",
    "\n",
    "SELECT\n",
    "    id,\n",
    "    ROUND(AGE/365) AS age_years ,\n",
    "    ap_hi,\n",
    "    ap_lo,\n",
    "    cholesterol,\n",
    "    gluc,\n",
    "    RANK() OVER (PARTITION BY ROUND(AGE/365) ORDER BY ap_hi, ap_lo, cholesterol, gluc) AS cardio_rank\n",
    "FROM\n",
    "    DATA;\n",
    "\n",
    "''') \\\n",
    "    .show(10)"
   ],
   "metadata": {
    "collapsed": false,
    "ExecuteTime": {
     "end_time": "2024-02-18T16:21:08.664925Z",
     "start_time": "2024-02-18T16:21:07.927190Z"
    }
   },
   "id": "974edcf38e8d9da9",
   "execution_count": 13
  },
  {
   "cell_type": "code",
   "outputs": [
    {
     "name": "stdout",
     "output_type": "stream",
     "text": [
      "+-----+------------------+-----------------+------------------+------------------+\n",
      "|smoke|         avg_ap_hi|        avg_ap_lo|   avg_cholesterol|          avg_gluc|\n",
      "+-----+------------------+-----------------+------------------+------------------+\n",
      "|    0|128.87446003892467|96.35938859792086|1.3646418455988227|1.2272662542128832|\n",
      "|    0|128.87446003892467|96.35938859792086|1.3646418455988227|1.2272662542128832|\n",
      "|    0|128.87446003892467|96.35938859792086|1.3646418455988227|1.2272662542128832|\n",
      "|    0|128.87446003892467|96.35938859792086|1.3646418455988227|1.2272662542128832|\n",
      "|    0|128.87446003892467|96.35938859792086|1.3646418455988227|1.2272662542128832|\n",
      "|    0|128.87446003892467|96.35938859792086|1.3646418455988227|1.2272662542128832|\n",
      "|    0|128.87446003892467|96.35938859792086|1.3646418455988227|1.2272662542128832|\n",
      "|    0|128.87446003892467|96.35938859792086|1.3646418455988227|1.2272662542128832|\n",
      "|    0|128.87446003892467|96.35938859792086|1.3646418455988227|1.2272662542128832|\n",
      "|    0|128.87446003892467|96.35938859792086|1.3646418455988227|1.2272662542128832|\n",
      "+-----+------------------+-----------------+------------------+------------------+\n"
     ]
    }
   ],
   "source": [
    "# 7 Calculation of the average value of cardiac indicators for groups of smokers and non-smokers:\n",
    "spark.sql('''\n",
    "\n",
    "\n",
    "SELECT\n",
    "    smoke,\n",
    "    AVG(ap_hi) OVER (PARTITION BY smoke) AS avg_ap_hi,\n",
    "    AVG(ap_lo) OVER (PARTITION BY smoke) AS avg_ap_lo,\n",
    "    AVG(cholesterol) OVER (PARTITION BY smoke) AS avg_cholesterol,\n",
    "    AVG(gluc) OVER (PARTITION BY smoke) AS avg_gluc\n",
    "FROM\n",
    "    DATA;\n",
    "\n",
    "''') \\\n",
    "    .show(10)"
   ],
   "metadata": {
    "collapsed": false,
    "ExecuteTime": {
     "end_time": "2024-02-18T16:21:09.265101Z",
     "start_time": "2024-02-18T16:21:08.665925Z"
    }
   },
   "id": "7b695cd23bb5345e",
   "execution_count": 14
  },
  {
   "cell_type": "code",
   "outputs": [
    {
     "name": "stdout",
     "output_type": "stream",
     "text": [
      "+------+------------------+----------------+------------------+------------------+\n",
      "|gender|         avg_ap_hi|       avg_ap_lo|   avg_cholesterol|          avg_gluc|\n",
      "+------+------------------+----------------+------------------+------------------+\n",
      "|     1|128.15117904123872|94.5160717850884|1.3849242441047938|1.2353202156214644|\n",
      "|     1|128.15117904123872|94.5160717850884|1.3849242441047938|1.2353202156214644|\n",
      "|     1|128.15117904123872|94.5160717850884|1.3849242441047938|1.2353202156214644|\n",
      "|     1|128.15117904123872|94.5160717850884|1.3849242441047938|1.2353202156214644|\n",
      "|     1|128.15117904123872|94.5160717850884|1.3849242441047938|1.2353202156214644|\n",
      "|     1|128.15117904123872|94.5160717850884|1.3849242441047938|1.2353202156214644|\n",
      "|     1|128.15117904123872|94.5160717850884|1.3849242441047938|1.2353202156214644|\n",
      "|     1|128.15117904123872|94.5160717850884|1.3849242441047938|1.2353202156214644|\n",
      "|     1|128.15117904123872|94.5160717850884|1.3849242441047938|1.2353202156214644|\n",
      "|     1|128.15117904123872|94.5160717850884|1.3849242441047938|1.2353202156214644|\n",
      "+------+------------------+----------------+------------------+------------------+\n"
     ]
    }
   ],
   "source": [
    "# 8 Calculation of the average value of cardiac indicators by gender:\n",
    "spark.sql('''\n",
    "\n",
    "\n",
    "    SELECT\n",
    "        gender,\n",
    "        AVG(ap_hi) OVER (PARTITION BY gender) AS avg_ap_hi,\n",
    "        AVG(ap_lo) OVER (PARTITION BY gender) AS avg_ap_lo,\n",
    "        AVG(cholesterol) OVER (PARTITION BY gender) AS avg_cholesterol,\n",
    "        AVG(gluc) OVER (PARTITION BY gender) AS avg_gluc\n",
    "    FROM\n",
    "    DATA;\n",
    "\n",
    "''') \\\n",
    "    .show(10)"
   ],
   "metadata": {
    "collapsed": false,
    "ExecuteTime": {
     "end_time": "2024-02-18T16:21:09.648234Z",
     "start_time": "2024-02-18T16:21:09.267102Z"
    }
   },
   "id": "fb060dd261304d55",
   "execution_count": 15
  },
  {
   "cell_type": "code",
   "outputs": [
    {
     "ename": "ParseException",
     "evalue": "\n[PARSE_SYNTAX_ERROR] Syntax error at or near '('.(line 4, pos 9)\n\n== SQL ==\n\n\n    SELECT *       \n    ROUND(AGE/365) AS age_years\n---------^^^\n    height         \n    FROM DATA\n    WHERE\n    \n     GENDER == 2   \n",
     "output_type": "error",
     "traceback": [
      "\u001B[1;31m---------------------------------------------------------------------------\u001B[0m",
      "\u001B[1;31mParseException\u001B[0m                            Traceback (most recent call last)",
      "Cell \u001B[1;32mIn[16], line 2\u001B[0m\n\u001B[0;32m      1\u001B[0m \u001B[38;5;66;03m# 9 Calculation of the average value of cardiac indicators by gender:\u001B[39;00m\n\u001B[1;32m----> 2\u001B[0m \u001B[43mspark\u001B[49m\u001B[38;5;241;43m.\u001B[39;49m\u001B[43msql\u001B[49m\u001B[43m(\u001B[49m\u001B[38;5;124;43m'''\u001B[39;49m\n\u001B[0;32m      3\u001B[0m \n\u001B[0;32m      4\u001B[0m \u001B[38;5;124;43m    SELECT *       \u001B[39;49m\n\u001B[0;32m      5\u001B[0m \u001B[38;5;124;43m    ROUND(AGE/365) AS age_years\u001B[39;49m\n\u001B[0;32m      6\u001B[0m \u001B[38;5;124;43m    height         \u001B[39;49m\n\u001B[0;32m      7\u001B[0m \u001B[38;5;124;43m    FROM DATA\u001B[39;49m\n\u001B[0;32m      8\u001B[0m \u001B[38;5;124;43m    WHERE\u001B[39;49m\n\u001B[0;32m      9\u001B[0m \u001B[38;5;124;43m    \u001B[39;49m\n\u001B[0;32m     10\u001B[0m \u001B[38;5;124;43m     GENDER == 2   \u001B[39;49m\n\u001B[0;32m     11\u001B[0m \u001B[38;5;124;43m'''\u001B[39;49m\u001B[43m)\u001B[49m \\\n\u001B[0;32m     12\u001B[0m     \u001B[38;5;241m.\u001B[39mshow(\u001B[38;5;241m10\u001B[39m)\n",
      "File \u001B[1;32mC:\\ProgramData\\anaconda3\\envs\\kaggle\\lib\\site-packages\\pyspark\\sql\\session.py:1631\u001B[0m, in \u001B[0;36mSparkSession.sql\u001B[1;34m(self, sqlQuery, args, **kwargs)\u001B[0m\n\u001B[0;32m   1627\u001B[0m         \u001B[38;5;28;01massert\u001B[39;00m \u001B[38;5;28mself\u001B[39m\u001B[38;5;241m.\u001B[39m_jvm \u001B[38;5;129;01mis\u001B[39;00m \u001B[38;5;129;01mnot\u001B[39;00m \u001B[38;5;28;01mNone\u001B[39;00m\n\u001B[0;32m   1628\u001B[0m         litArgs \u001B[38;5;241m=\u001B[39m \u001B[38;5;28mself\u001B[39m\u001B[38;5;241m.\u001B[39m_jvm\u001B[38;5;241m.\u001B[39mPythonUtils\u001B[38;5;241m.\u001B[39mtoArray(\n\u001B[0;32m   1629\u001B[0m             [_to_java_column(lit(v)) \u001B[38;5;28;01mfor\u001B[39;00m v \u001B[38;5;129;01min\u001B[39;00m (args \u001B[38;5;129;01mor\u001B[39;00m [])]\n\u001B[0;32m   1630\u001B[0m         )\n\u001B[1;32m-> 1631\u001B[0m     \u001B[38;5;28;01mreturn\u001B[39;00m DataFrame(\u001B[38;5;28;43mself\u001B[39;49m\u001B[38;5;241;43m.\u001B[39;49m\u001B[43m_jsparkSession\u001B[49m\u001B[38;5;241;43m.\u001B[39;49m\u001B[43msql\u001B[49m\u001B[43m(\u001B[49m\u001B[43msqlQuery\u001B[49m\u001B[43m,\u001B[49m\u001B[43m \u001B[49m\u001B[43mlitArgs\u001B[49m\u001B[43m)\u001B[49m, \u001B[38;5;28mself\u001B[39m)\n\u001B[0;32m   1632\u001B[0m \u001B[38;5;28;01mfinally\u001B[39;00m:\n\u001B[0;32m   1633\u001B[0m     \u001B[38;5;28;01mif\u001B[39;00m \u001B[38;5;28mlen\u001B[39m(kwargs) \u001B[38;5;241m>\u001B[39m \u001B[38;5;241m0\u001B[39m:\n",
      "File \u001B[1;32mC:\\ProgramData\\anaconda3\\envs\\kaggle\\lib\\site-packages\\py4j\\java_gateway.py:1322\u001B[0m, in \u001B[0;36mJavaMember.__call__\u001B[1;34m(self, *args)\u001B[0m\n\u001B[0;32m   1316\u001B[0m command \u001B[38;5;241m=\u001B[39m proto\u001B[38;5;241m.\u001B[39mCALL_COMMAND_NAME \u001B[38;5;241m+\u001B[39m\\\n\u001B[0;32m   1317\u001B[0m     \u001B[38;5;28mself\u001B[39m\u001B[38;5;241m.\u001B[39mcommand_header \u001B[38;5;241m+\u001B[39m\\\n\u001B[0;32m   1318\u001B[0m     args_command \u001B[38;5;241m+\u001B[39m\\\n\u001B[0;32m   1319\u001B[0m     proto\u001B[38;5;241m.\u001B[39mEND_COMMAND_PART\n\u001B[0;32m   1321\u001B[0m answer \u001B[38;5;241m=\u001B[39m \u001B[38;5;28mself\u001B[39m\u001B[38;5;241m.\u001B[39mgateway_client\u001B[38;5;241m.\u001B[39msend_command(command)\n\u001B[1;32m-> 1322\u001B[0m return_value \u001B[38;5;241m=\u001B[39m \u001B[43mget_return_value\u001B[49m\u001B[43m(\u001B[49m\n\u001B[0;32m   1323\u001B[0m \u001B[43m    \u001B[49m\u001B[43manswer\u001B[49m\u001B[43m,\u001B[49m\u001B[43m \u001B[49m\u001B[38;5;28;43mself\u001B[39;49m\u001B[38;5;241;43m.\u001B[39;49m\u001B[43mgateway_client\u001B[49m\u001B[43m,\u001B[49m\u001B[43m \u001B[49m\u001B[38;5;28;43mself\u001B[39;49m\u001B[38;5;241;43m.\u001B[39;49m\u001B[43mtarget_id\u001B[49m\u001B[43m,\u001B[49m\u001B[43m \u001B[49m\u001B[38;5;28;43mself\u001B[39;49m\u001B[38;5;241;43m.\u001B[39;49m\u001B[43mname\u001B[49m\u001B[43m)\u001B[49m\n\u001B[0;32m   1325\u001B[0m \u001B[38;5;28;01mfor\u001B[39;00m temp_arg \u001B[38;5;129;01min\u001B[39;00m temp_args:\n\u001B[0;32m   1326\u001B[0m     \u001B[38;5;28;01mif\u001B[39;00m \u001B[38;5;28mhasattr\u001B[39m(temp_arg, \u001B[38;5;124m\"\u001B[39m\u001B[38;5;124m_detach\u001B[39m\u001B[38;5;124m\"\u001B[39m):\n",
      "File \u001B[1;32mC:\\ProgramData\\anaconda3\\envs\\kaggle\\lib\\site-packages\\pyspark\\errors\\exceptions\\captured.py:185\u001B[0m, in \u001B[0;36mcapture_sql_exception.<locals>.deco\u001B[1;34m(*a, **kw)\u001B[0m\n\u001B[0;32m    181\u001B[0m converted \u001B[38;5;241m=\u001B[39m convert_exception(e\u001B[38;5;241m.\u001B[39mjava_exception)\n\u001B[0;32m    182\u001B[0m \u001B[38;5;28;01mif\u001B[39;00m \u001B[38;5;129;01mnot\u001B[39;00m \u001B[38;5;28misinstance\u001B[39m(converted, UnknownException):\n\u001B[0;32m    183\u001B[0m     \u001B[38;5;66;03m# Hide where the exception came from that shows a non-Pythonic\u001B[39;00m\n\u001B[0;32m    184\u001B[0m     \u001B[38;5;66;03m# JVM exception message.\u001B[39;00m\n\u001B[1;32m--> 185\u001B[0m     \u001B[38;5;28;01mraise\u001B[39;00m converted \u001B[38;5;28;01mfrom\u001B[39;00m \u001B[38;5;28;01mNone\u001B[39;00m\n\u001B[0;32m    186\u001B[0m \u001B[38;5;28;01melse\u001B[39;00m:\n\u001B[0;32m    187\u001B[0m     \u001B[38;5;28;01mraise\u001B[39;00m\n",
      "\u001B[1;31mParseException\u001B[0m: \n[PARSE_SYNTAX_ERROR] Syntax error at or near '('.(line 4, pos 9)\n\n== SQL ==\n\n\n    SELECT *       \n    ROUND(AGE/365) AS age_years\n---------^^^\n    height         \n    FROM DATA\n    WHERE\n    \n     GENDER == 2   \n"
     ]
    }
   ],
   "source": [
    "# 9 Calculation of the average value of cardiac indicators by gender:\n",
    "spark.sql('''\n",
    "\n",
    "    SELECT *       \n",
    "    ROUND(AGE/365) AS age_years\n",
    "    height         \n",
    "    FROM DATA\n",
    "    WHERE\n",
    "    \n",
    "     GENDER == 2   \n",
    "''') \\\n",
    "    .show(10)"
   ],
   "metadata": {
    "collapsed": false,
    "ExecuteTime": {
     "end_time": "2024-02-18T16:21:10.824828Z",
     "start_time": "2024-02-18T16:21:09.650232Z"
    }
   },
   "id": "6bbaa9cdc1cc4d07",
   "execution_count": 16
  },
  {
   "cell_type": "code",
   "outputs": [],
   "source": [
    "data.gender"
   ],
   "metadata": {
    "collapsed": false,
    "ExecuteTime": {
     "end_time": "2024-02-18T16:21:10.826831Z",
     "start_time": "2024-02-18T16:21:10.826831Z"
    }
   },
   "id": "cb7c0a8eecd7aace",
   "execution_count": null
  },
  {
   "cell_type": "code",
   "outputs": [],
   "source": [
    "data.columns"
   ],
   "metadata": {
    "collapsed": false,
    "ExecuteTime": {
     "start_time": "2024-02-18T16:21:10.827829Z"
    }
   },
   "id": "525b1fe70943c8b0",
   "execution_count": null
  },
  {
   "cell_type": "markdown",
   "source": [
    "### rewriting in SPARK syntax"
   ],
   "metadata": {
    "collapsed": false
   },
   "id": "711f19c9f3fef399"
  },
  {
   "cell_type": "code",
   "outputs": [
    {
     "name": "stdout",
     "output_type": "stream",
     "text": [
      "root\n",
      " |-- id: string (nullable = true)\n",
      " |-- age: string (nullable = true)\n",
      " |-- gender: string (nullable = true)\n",
      " |-- height: string (nullable = true)\n",
      " |-- weight: string (nullable = true)\n",
      " |-- ap_hi: string (nullable = true)\n",
      " |-- ap_lo: string (nullable = true)\n",
      " |-- cholesterol: string (nullable = true)\n",
      " |-- gluc: string (nullable = true)\n",
      " |-- smoke: string (nullable = true)\n",
      " |-- alco: string (nullable = true)\n",
      " |-- active: string (nullable = true)\n",
      " |-- cardio: string (nullable = true)\n",
      "\n",
      "+----+-----+------+------+------+-----+-----+-----------+----+-----+----+------+------+\n",
      "|  id|  age|gender|height|weight|ap_hi|ap_lo|cholesterol|gluc|smoke|alco|active|cardio|\n",
      "+----+-----+------+------+------+-----+-----+-----------+----+-----+----+------+------+\n",
      "| 988|22469|     1|   155|  69.0|  130|   80|          2|   2|    0|   0|     1|     0|\n",
      "| 989|14648|     1|   163|  71.0|  110|   70|          1|   1|    0|   0|     1|     1|\n",
      "| 990|21901|     1|   165|  70.0|  120|   80|          1|   1|    0|   0|     1|     0|\n",
      "| 991|14549|     2|   165|  85.0|  120|   80|          1|   1|    1|   1|     1|     0|\n",
      "| 992|23393|     1|   155|  62.0|  120|   80|          1|   1|    0|   0|     1|     0|\n",
      "| 995|21143|     1|   164|  61.0|  100|   70|          1|   1|    0|   0|     1|     0|\n",
      "| 996|18085|     1|   162|  72.0|  100|   70|          1|   1|    0|   0|     1|     0|\n",
      "| 997|22547|     1|   161|  93.0|  140|   90|          2|   1|    0|   0|     1|     1|\n",
      "| 999|21250|     1|   157|  68.0|  110|   80|          1|   1|    0|   0|     1|     0|\n",
      "|1000|22446|     1|   158|  65.0|  140|   90|          3|   1|    0|   0|     1|     1|\n",
      "|1001|16621|     1|   153|  57.0|  120|   80|          3|   2|    0|   0|     1|     1|\n",
      "|1002|20442|     2|   169|  82.0|  130|   90|          1|   1|    0|   0|     1|     1|\n",
      "|1003|23168|     2|   150|  56.0|  130|   80|          2|   1|    0|   0|     1|     1|\n",
      "|1004|22598|     1|   176|  72.0|  130|   90|          1|   3|    0|   0|     1|     1|\n",
      "|1006|20317|     1|   154|  85.0|  160|  100|          3|   1|    0|   0|     1|     1|\n",
      "|1008|23558|     1|   159|  60.0|  120|   80|          1|   1|    0|   0|     1|     1|\n",
      "|1010|20219|     2|   146|  45.0|  120|   80|          1|   1|    0|   0|     1|     0|\n",
      "|1011|19559|     1|   165|  90.0|  140|   90|          1|   1|    0|   0|     1|     1|\n",
      "|1013|20006|     2|   167|  65.0|  120|   80|          1|   1|    0|   0|     0|     0|\n",
      "|1014|19054|     1|   154|  70.0|  110|   70|          1|   1|    0|   0|     1|     0|\n",
      "+----+-----+------+------+------+-----+-----+-----------+----+-----+----+------+------+\n",
      "only showing top 20 rows\n"
     ]
    }
   ],
   "source": [
    "data = spark.read.format(\"csv\").load(\"data/cardio_train.csv\", sep=';', header=True, inferSchema=True)\n",
    "df.printSchema()\n",
    "df.show()"
   ],
   "metadata": {
    "collapsed": false,
    "ExecuteTime": {
     "end_time": "2024-02-18T16:23:49.637233Z",
     "start_time": "2024-02-18T16:23:49.066234Z"
    }
   },
   "id": "aa8f18c4e5db99fe",
   "execution_count": 17
  },
  {
   "cell_type": "code",
   "outputs": [
    {
     "name": "stdout",
     "output_type": "stream",
     "text": [
      "+------+----------+\n",
      "|Height|AgeInYears|\n",
      "+------+----------+\n",
      "|   175|        30|\n",
      "|   175|        30|\n",
      "|   159|        30|\n",
      "|   160|        30|\n",
      "|   169|        39|\n",
      "+------+----------+\n"
     ]
    }
   ],
   "source": [
    "# 1 Just height by age\n",
    "result = data.select(\n",
    "    \"Height\",\n",
    "    round(data[\"AGE\"] / 365).cast(\"int\").alias(\"AgeInYears\")\n",
    ").orderBy(\"AgeInYears\")\n",
    "result.show(5)\n"
   ],
   "metadata": {
    "collapsed": false,
    "ExecuteTime": {
     "end_time": "2024-02-18T16:26:07.913252Z",
     "start_time": "2024-02-18T16:26:07.612391Z"
    }
   },
   "id": "4b6b930aa621d399",
   "execution_count": 23
  },
  {
   "cell_type": "code",
   "outputs": [
    {
     "name": "stdout",
     "output_type": "stream",
     "text": [
      "+----------+------+------+---------+-----------------+-----------+---------+---------+\n",
      "|AgeInYears|height|weight|sum_grade|        avg_grade|count_grade|min_grade|max_grade|\n",
      "+----------+------+------+---------+-----------------+-----------+---------+---------+\n",
      "|      30.0|   175|  59.0|    269.0|            67.25|          4|     59.0|     92.0|\n",
      "|      30.0|   175|  92.0|    269.0|            67.25|          4|     59.0|     92.0|\n",
      "|      30.0|   159|  59.0|    269.0|            67.25|          4|     59.0|     92.0|\n",
      "|      30.0|   160|  59.0|    269.0|            67.25|          4|     59.0|     92.0|\n",
      "|      39.0|   169|  67.0|  29906.3|73.66083743842364|        406|     44.0|    141.0|\n",
      "+----------+------+------+---------+-----------------+-----------+---------+---------+\n"
     ]
    }
   ],
   "source": [
    "# 2  different functions for data\n",
    "# Округляем возраст до целых лет\n",
    "data = data.withColumn(\"AgeInYears\", round(data[\"AGE\"] / 365))\n",
    "\n",
    "# Определяем окно для разбиения данных по возрасту\n",
    "windowSpec = Window.partitionBy(\"AgeInYears\")\n",
    "\n",
    "# Выполняем агрегацию данных с использованием оконных функций\n",
    "result = data.select(\n",
    "    \"AgeInYears\",\n",
    "    \"height\",\n",
    "    \"weight\",\n",
    "    sum(\"weight\").over(windowSpec).alias(\"sum_grade\"),\n",
    "    avg(\"weight\").over(windowSpec).alias(\"avg_grade\"),\n",
    "    count(\"weight\").over(windowSpec).alias(\"count_grade\"),\n",
    "    min(\"weight\").over(windowSpec).alias(\"min_grade\"),\n",
    "    max(\"weight\").over(windowSpec).alias(\"max_grade\")\n",
    ").orderBy(\"AgeInYears\")\n",
    "\n",
    "# Выводим результат\n",
    "result.show(5)\n"
   ],
   "metadata": {
    "collapsed": false,
    "ExecuteTime": {
     "end_time": "2024-02-18T16:41:41.253304Z",
     "start_time": "2024-02-18T16:41:40.524148Z"
    }
   },
   "id": "6ad9d0aa33700e2d",
   "execution_count": 27
  },
  {
   "cell_type": "code",
   "outputs": [
    {
     "name": "stdout",
     "output_type": "stream",
     "text": [
      "+--------+------------------+-----------------+------------------+------------------+------------------+------------------+-------------------+--------------------+------------------+-------------------+\n",
      "|AgeGroup|        avg_height|       avg_weight|         avg_ap_hi|         avg_ap_lo|   avg_cholesterol|          avg_gluc|          avg_smoke|            avg_alco|        avg_active|         avg_cardio|\n",
      "+--------+------------------+-----------------+------------------+------------------+------------------+------------------+-------------------+--------------------+------------------+-------------------+\n",
      "|       6|            167.25|            67.25|             112.5|              72.5|               1.0|               1.0|                0.0|                 0.0|               1.0|                0.0|\n",
      "|       8|165.28813296054676|71.98822615719166| 120.0681888785337| 88.09009009009009|1.1851506679092887|1.1314072693383037|0.11012736874805841| 0.06477166821994408|0.8010251630941286|0.26001863932898417|\n",
      "|       9|165.36359039190899| 73.5565613147914|126.99279393173198|  91.9960809102402|1.2467762326169405|  1.15031605562579|0.11024020227560051| 0.06371681415929203|0.8199747155499368|0.38963337547408344|\n",
      "|      10| 164.6886014248219|74.05468816397949|  128.107424071991| 96.87276590426197|1.3075240594925635|1.1974753155855518|0.09367579052618423|  0.0568678915135608|0.8037120359955006|0.44419447569053866|\n",
      "|      11|164.29411402157166|74.52955562403697|128.98107858243452| 98.47469953775038|1.3848998459167952|1.2387057010785825| 0.0840677966101695| 0.05220338983050848|0.8043759630200308| 0.5191371340523883|\n",
      "|      12|163.65160958316656|74.84977643089942|131.53044770998915|  98.5602950425982| 1.474298130253302|1.2859511693064212|0.07627651666761964| 0.04843044199210932|0.8026187889530562| 0.6059237234833323|\n",
      "|      13|163.29524173514235|75.19004395184406|135.10949742021785|101.51232562583604|1.5379323523791324|1.3103382381043378|0.06191477164150583|0.039938849608255306|0.7875023886871775| 0.7143130135677431|\n",
      "+--------+------------------+-----------------+------------------+------------------+------------------+------------------+-------------------+--------------------+------------------+-------------------+\n"
     ]
    }
   ],
   "source": [
    "# 2  average data for age groups\n",
    "data = data.withColumn(\"AgeGroup\", round(data[\"AGE\"] / (365 * 5)).cast(\"int\"))\n",
    "\n",
    "windowSpec = Window.partitionBy(\"AgeGroup\")\n",
    "\n",
    "# Выполняем агрегацию данных с использованием оконных функций\n",
    "result = data.groupBy(\"AgeGroup\").agg(\n",
    "    avg(\"HEIGHT\").alias(\"avg_height\"),\n",
    "    avg(\"WEIGHT\").alias(\"avg_weight\"),\n",
    "    avg(\"AP_HI\").alias(\"avg_ap_hi\"),\n",
    "    avg(\"AP_LO\").alias(\"avg_ap_lo\"),\n",
    "    avg(\"CHOLESTEROL\").alias(\"avg_cholesterol\"),\n",
    "    avg(\"GLUC\").alias(\"avg_gluc\"),\n",
    "    avg(\"SMOKE\").alias(\"avg_smoke\"),\n",
    "    avg(\"ALCO\").alias(\"avg_alco\"),\n",
    "    avg(\"ACTIVE\").alias(\"avg_active\"),\n",
    "    avg(\"CARDIO\").alias(\"avg_cardio\")\n",
    ").orderBy(\"AgeGroup\")\n",
    "\n",
    "# Выводим результат\n",
    "result.show(15)\n"
   ],
   "metadata": {
    "collapsed": false,
    "ExecuteTime": {
     "end_time": "2024-02-18T17:39:21.888830Z",
     "start_time": "2024-02-18T17:39:21.032980Z"
    }
   },
   "id": "fb2881b0b8d86b9f",
   "execution_count": 50
  },
  {
   "cell_type": "code",
   "outputs": [],
   "source": [],
   "metadata": {
    "collapsed": false
   },
   "id": "df84abda11e9450b"
  }
 ],
 "metadata": {
  "kernelspec": {
   "display_name": "Python 3",
   "language": "python",
   "name": "python3"
  },
  "language_info": {
   "codemirror_mode": {
    "name": "ipython",
    "version": 2
   },
   "file_extension": ".py",
   "mimetype": "text/x-python",
   "name": "python",
   "nbconvert_exporter": "python",
   "pygments_lexer": "ipython2",
   "version": "2.7.6"
  }
 },
 "nbformat": 4,
 "nbformat_minor": 5
}
