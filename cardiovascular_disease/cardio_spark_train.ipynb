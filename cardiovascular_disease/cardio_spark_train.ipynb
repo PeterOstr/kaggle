{
 "cells": [
  {
   "cell_type": "code",
   "execution_count": 2,
   "id": "initial_id",
   "metadata": {
    "collapsed": true,
    "ExecuteTime": {
     "end_time": "2024-02-07T22:29:59.899040900Z",
     "start_time": "2024-02-07T22:29:53.729927400Z"
    }
   },
   "outputs": [],
   "source": [
    "from pyspark.sql import SparkSession\n",
    "from pyspark.sql.functions import col, explode, split, regexp_replace\n",
    "from pyspark.sql.functions import col, split, explode, regexp_replace\n",
    "\n",
    "\n",
    "from pyspark.sql.functions import lit, col, when\n",
    "from pyspark.sql.types import StringType\n",
    "from pyspark.ml.feature import FeatureHasher\n",
    "import os\n",
    "from pyspark.sql.functions import col, when, lit, isnan\n",
    "from pyspark.sql.functions import lit, nanvl, isnan, when, avg\n",
    "import category_encoders as ce\n",
    "import pandas as pd\n",
    "import itertools\n",
    "import matplotlib.pyplot as plt\n",
    "from sklearn.preprocessing import OneHotEncoder\n",
    "from category_encoders import CatBoostEncoder\n",
    "import pickle\n",
    "from pyspark.sql import SparkSession\n",
    "from pyspark.sql.functions import pandas_udf, PandasUDFType\n",
    "from pyspark.sql.types import DoubleType, ArrayType\n",
    "import numpy as np\n",
    "import pandas as pd\n",
    "import sklearn\n",
    "sklearn.set_config(transform_output='pandas')\n",
    "from pyspark.sql.functions import array\n",
    "from pyspark.sql import functions as F\n",
    "from pyspark.sql import SparkSession, types as T\n",
    "from pyspark.sql.functions import udf\n",
    "from ast import literal_eval\n",
    "\n",
    "from pyspark.sql import DataFrame\n",
    "import os\n",
    "from pyspark.sql import functions as sf\n",
    "from pyspark.sql.functions import udf\n",
    "from pyspark.sql.types import ArrayType, DoubleType\n",
    "import pyspark\n",
    "from pyspark.sql import SparkSession\n",
    "# from geospark.register import upload_jars\n",
    "# from geospark.register import GeoSparkRegistrator\n",
    "# from geospark.core.SpatialRDD import PolygonRDD, PointRDD\n",
    "# from geospark.core.enums import FileDataSplitter\n",
    "# from geospark.core.enums import IndexType\n",
    "# from geospark.core.geom.envelope import Envelope\n",
    "# from geospark.core.spatialOperator import RangeQuery\n",
    "# from geospark.core.formatMapper.shapefileParser import ShapefileReader\n",
    "# from geospark.sql.types import GeometryType\n",
    "# from geospark.register import sparkJVM\n",
    "# import re\n",
    "# upload_jars()\n",
    "#\n",
    "#\n",
    "#\n",
    "# spark = SparkSession.builder.appName(\"Spark_v1\")    .config(\"spark.default.parallelism\", 176*3) \\\n",
    "#     .config(\"spark.sql.shuffle.partitions\", 176*3) \\\n",
    "#     .config(\"spark.executor.memory\", \"50g\") \\\n",
    "#     .config(\"spark.executor.cores\", \"5\") \\\n",
    "#     .config(\"spark.driver.memory\", \"10g\") \\\n",
    "#     .config(\"spark.driver.maxResultSize\", \"1300g\") \\\n",
    "#     .getOrCreate()\n",
    "import os\n",
    "\n",
    "# setup arguments\n",
    "#os.environ['PYSPARK_SUBMIT_ARGS'] = '--packages org.apache.spark:spark-sql-kafka-0-10_2.11:2.4.0'\n",
    "\n",
    "# initialize spark\n",
    "import pyspark\n",
    "\n",
    "from pyspark.sql import SparkSession\n",
    "from pyspark.sql.types import StringType, BooleanType\n",
    "\n",
    "\n",
    "ram = 16\n",
    "\n",
    "spark = SparkSession. \\\n",
    "    builder. \\\n",
    "    appName('spark_first_run') \\\n",
    "    .config(\"spark.executor.memory\", f\"{ram}g\") \\\n",
    "    .config(\"spark.driver.maxResultSize\", f\"{ram}g\") \\\n",
    "    .config(\"spark.driver.memory\", f\"{ram}g\") \\\n",
    "    .config(\"spark.executor.memoryOverhead\", f\"{ram}g\") \\\n",
    "    .config(\"spark.sql.debug.maxToStringFields\", \"100000\") \\\n",
    "    .getOrCreate()\n",
    "\n",
    "\n",
    "#    .config(\"spark.driver.memory\", \"10g\") \\\n",
    "\n",
    "#    .config(\"spark.executor.memoryOverhead\", \"10g\") \\\n",
    "\n",
    "\n",
    "\n",
    "\n",
    "# Register Sedona functions to Spark\n",
    "\n",
    "\n",
    "\n",
    "\n",
    "\n",
    "\n",
    "from scipy.stats import t\n",
    "from pyspark.sql import SparkSession\n",
    "\n",
    "from pyspark.sql.functions import udf, lit\n",
    "\n",
    "import pandas as pd\n",
    "from ast import literal_eval\n",
    "import json\n",
    "from pyspark.sql.functions import udf\n",
    "import pandas as pd\n",
    "import shutil\n",
    "from pyspark.sql.functions import udf\n",
    "from pyspark.sql.functions import udf, explode\n",
    "from pyspark.sql.types import ArrayType, StructType, StructField, FloatType\n",
    "from pyspark.sql.functions import desc\n",
    "from time import sleep\n",
    "from pyspark.sql import Row\n",
    "#from pyspark.sql.functions import min, max\n",
    "from pyspark.sql.functions import col\n",
    "from pyspark.sql.functions import split, explode, lower, trim\n",
    "from pyspark.sql import SparkSession\n",
    "from pyspark.sql.functions import when, count, col\n",
    "from pyspark.sql import SparkSession\n",
    "from pyspark.sql.functions import row_number\n",
    "from pyspark.sql.window import Window\n",
    "from pyspark.sql.functions import monotonically_increasing_id\n",
    "from pyspark.sql.functions import monotonically_increasing_id, concat, col, lit, cast\n",
    "from pyspark.sql import SparkSession\n",
    "from pyspark.sql.functions import collect_list, udf\n",
    "from pyspark.sql.types import DoubleType\n",
    "from pyspark.sql import SparkSession\n",
    "from pyspark.sql.functions import initcap\n",
    "import re\n",
    "import subprocess"
   ]
  },
  {
   "cell_type": "code",
   "outputs": [
    {
     "name": "stdout",
     "output_type": "stream",
     "text": [
      "PySpark version: 3.5.0\n"
     ]
    }
   ],
   "source": [
    "import pyspark\n",
    "\n",
    "# Get PySpark version\n",
    "print(\"PySpark version:\", pyspark.__version__)"
   ],
   "metadata": {
    "collapsed": false,
    "ExecuteTime": {
     "end_time": "2024-02-07T22:30:19.246750500Z",
     "start_time": "2024-02-07T22:30:19.223752Z"
    }
   },
   "id": "4067a16e11842dca",
   "execution_count": 3
  },
  {
   "cell_type": "code",
   "outputs": [
    {
     "name": "stdout",
     "output_type": "stream",
     "text": [
      "+-------------+\n",
      "|      message|\n",
      "+-------------+\n",
      "|Hello, World!|\n",
      "+-------------+\n"
     ]
    }
   ],
   "source": [
    "# # Create a SparkSession\n",
    "# spark = SparkSession.builder \\\n",
    "#     .appName(\"HelloWorld\") \\\n",
    "#     .getOrCreate()\n",
    "\n",
    "# Create a DataFrame with a single column named \"message\" and a single row containing the string \"Hello, World!\"\n",
    "data = [(\"Hello, World!\",)]\n",
    "df = spark.createDataFrame(data, [\"message\"])\n",
    "\n",
    "# Show the DataFrame\n",
    "df.show()\n"
   ],
   "metadata": {
    "collapsed": false,
    "ExecuteTime": {
     "end_time": "2024-02-07T22:30:37.013881400Z",
     "start_time": "2024-02-07T22:30:24.384133300Z"
    }
   },
   "id": "c5f9f1d10037ef6d",
   "execution_count": 4
  },
  {
   "cell_type": "code",
   "outputs": [
    {
     "data": {
      "text/plain": "          id    age  gender  height  weight  ap_hi  ap_lo  cholesterol  gluc  \\\n0        988  22469       1     155    69.0    130     80            2     2   \n1        989  14648       1     163    71.0    110     70            1     1   \n2        990  21901       1     165    70.0    120     80            1     1   \n3        991  14549       2     165    85.0    120     80            1     1   \n4        992  23393       1     155    62.0    120     80            1     1   \n...      ...    ...     ...     ...     ...    ...    ...          ...   ...   \n69296  99993  19240       2     168    76.0    120     80            1     1   \n69297  99995  22601       1     158   126.0    140     90            2     2   \n69298  99996  19066       2     183   105.0    180     90            3     1   \n69299  99998  22431       1     163    72.0    135     80            1     2   \n69300  99999  20540       1     170    72.0    120     80            2     1   \n\n       smoke  alco  active  cardio  \n0          0     0       1       0  \n1          0     0       1       1  \n2          0     0       1       0  \n3          1     1       1       0  \n4          0     0       1       0  \n...      ...   ...     ...     ...  \n69296      1     0       1       0  \n69297      0     0       1       1  \n69298      0     1       0       1  \n69299      0     0       0       1  \n69300      0     0       1       0  \n\n[69301 rows x 13 columns]",
      "text/html": "<div>\n<style scoped>\n    .dataframe tbody tr th:only-of-type {\n        vertical-align: middle;\n    }\n\n    .dataframe tbody tr th {\n        vertical-align: top;\n    }\n\n    .dataframe thead th {\n        text-align: right;\n    }\n</style>\n<table border=\"1\" class=\"dataframe\">\n  <thead>\n    <tr style=\"text-align: right;\">\n      <th></th>\n      <th>id</th>\n      <th>age</th>\n      <th>gender</th>\n      <th>height</th>\n      <th>weight</th>\n      <th>ap_hi</th>\n      <th>ap_lo</th>\n      <th>cholesterol</th>\n      <th>gluc</th>\n      <th>smoke</th>\n      <th>alco</th>\n      <th>active</th>\n      <th>cardio</th>\n    </tr>\n  </thead>\n  <tbody>\n    <tr>\n      <th>0</th>\n      <td>988</td>\n      <td>22469</td>\n      <td>1</td>\n      <td>155</td>\n      <td>69.0</td>\n      <td>130</td>\n      <td>80</td>\n      <td>2</td>\n      <td>2</td>\n      <td>0</td>\n      <td>0</td>\n      <td>1</td>\n      <td>0</td>\n    </tr>\n    <tr>\n      <th>1</th>\n      <td>989</td>\n      <td>14648</td>\n      <td>1</td>\n      <td>163</td>\n      <td>71.0</td>\n      <td>110</td>\n      <td>70</td>\n      <td>1</td>\n      <td>1</td>\n      <td>0</td>\n      <td>0</td>\n      <td>1</td>\n      <td>1</td>\n    </tr>\n    <tr>\n      <th>2</th>\n      <td>990</td>\n      <td>21901</td>\n      <td>1</td>\n      <td>165</td>\n      <td>70.0</td>\n      <td>120</td>\n      <td>80</td>\n      <td>1</td>\n      <td>1</td>\n      <td>0</td>\n      <td>0</td>\n      <td>1</td>\n      <td>0</td>\n    </tr>\n    <tr>\n      <th>3</th>\n      <td>991</td>\n      <td>14549</td>\n      <td>2</td>\n      <td>165</td>\n      <td>85.0</td>\n      <td>120</td>\n      <td>80</td>\n      <td>1</td>\n      <td>1</td>\n      <td>1</td>\n      <td>1</td>\n      <td>1</td>\n      <td>0</td>\n    </tr>\n    <tr>\n      <th>4</th>\n      <td>992</td>\n      <td>23393</td>\n      <td>1</td>\n      <td>155</td>\n      <td>62.0</td>\n      <td>120</td>\n      <td>80</td>\n      <td>1</td>\n      <td>1</td>\n      <td>0</td>\n      <td>0</td>\n      <td>1</td>\n      <td>0</td>\n    </tr>\n    <tr>\n      <th>...</th>\n      <td>...</td>\n      <td>...</td>\n      <td>...</td>\n      <td>...</td>\n      <td>...</td>\n      <td>...</td>\n      <td>...</td>\n      <td>...</td>\n      <td>...</td>\n      <td>...</td>\n      <td>...</td>\n      <td>...</td>\n      <td>...</td>\n    </tr>\n    <tr>\n      <th>69296</th>\n      <td>99993</td>\n      <td>19240</td>\n      <td>2</td>\n      <td>168</td>\n      <td>76.0</td>\n      <td>120</td>\n      <td>80</td>\n      <td>1</td>\n      <td>1</td>\n      <td>1</td>\n      <td>0</td>\n      <td>1</td>\n      <td>0</td>\n    </tr>\n    <tr>\n      <th>69297</th>\n      <td>99995</td>\n      <td>22601</td>\n      <td>1</td>\n      <td>158</td>\n      <td>126.0</td>\n      <td>140</td>\n      <td>90</td>\n      <td>2</td>\n      <td>2</td>\n      <td>0</td>\n      <td>0</td>\n      <td>1</td>\n      <td>1</td>\n    </tr>\n    <tr>\n      <th>69298</th>\n      <td>99996</td>\n      <td>19066</td>\n      <td>2</td>\n      <td>183</td>\n      <td>105.0</td>\n      <td>180</td>\n      <td>90</td>\n      <td>3</td>\n      <td>1</td>\n      <td>0</td>\n      <td>1</td>\n      <td>0</td>\n      <td>1</td>\n    </tr>\n    <tr>\n      <th>69299</th>\n      <td>99998</td>\n      <td>22431</td>\n      <td>1</td>\n      <td>163</td>\n      <td>72.0</td>\n      <td>135</td>\n      <td>80</td>\n      <td>1</td>\n      <td>2</td>\n      <td>0</td>\n      <td>0</td>\n      <td>0</td>\n      <td>1</td>\n    </tr>\n    <tr>\n      <th>69300</th>\n      <td>99999</td>\n      <td>20540</td>\n      <td>1</td>\n      <td>170</td>\n      <td>72.0</td>\n      <td>120</td>\n      <td>80</td>\n      <td>2</td>\n      <td>1</td>\n      <td>0</td>\n      <td>0</td>\n      <td>1</td>\n      <td>0</td>\n    </tr>\n  </tbody>\n</table>\n<p>69301 rows × 13 columns</p>\n</div>"
     },
     "execution_count": 5,
     "metadata": {},
     "output_type": "execute_result"
    }
   ],
   "source": [
    "# data = pd.read_csv('data/Covid_data.csv')\n",
    "data = pd.read_csv('data/cardio_train.csv', sep=';')\n",
    "\n",
    "# data[data['DATE_DIED']==9999-99-99]\n",
    "data"
   ],
   "metadata": {
    "collapsed": false,
    "ExecuteTime": {
     "end_time": "2024-02-07T22:31:20.426703600Z",
     "start_time": "2024-02-07T22:31:20.335704600Z"
    }
   },
   "id": "b3f7080cef31dd04",
   "execution_count": 5
  },
  {
   "cell_type": "code",
   "outputs": [
    {
     "name": "stdout",
     "output_type": "stream",
     "text": [
      "root\n",
      " |-- id: string (nullable = true)\n",
      " |-- age: string (nullable = true)\n",
      " |-- gender: string (nullable = true)\n",
      " |-- height: string (nullable = true)\n",
      " |-- weight: string (nullable = true)\n",
      " |-- ap_hi: string (nullable = true)\n",
      " |-- ap_lo: string (nullable = true)\n",
      " |-- cholesterol: string (nullable = true)\n",
      " |-- gluc: string (nullable = true)\n",
      " |-- smoke: string (nullable = true)\n",
      " |-- alco: string (nullable = true)\n",
      " |-- active: string (nullable = true)\n",
      " |-- cardio: string (nullable = true)\n",
      "\n",
      "+----+-----+------+------+------+-----+-----+-----------+----+-----+----+------+------+\n",
      "|  id|  age|gender|height|weight|ap_hi|ap_lo|cholesterol|gluc|smoke|alco|active|cardio|\n",
      "+----+-----+------+------+------+-----+-----+-----------+----+-----+----+------+------+\n",
      "| 988|22469|     1|   155|  69.0|  130|   80|          2|   2|    0|   0|     1|     0|\n",
      "| 989|14648|     1|   163|  71.0|  110|   70|          1|   1|    0|   0|     1|     1|\n",
      "| 990|21901|     1|   165|  70.0|  120|   80|          1|   1|    0|   0|     1|     0|\n",
      "| 991|14549|     2|   165|  85.0|  120|   80|          1|   1|    1|   1|     1|     0|\n",
      "| 992|23393|     1|   155|  62.0|  120|   80|          1|   1|    0|   0|     1|     0|\n",
      "| 995|21143|     1|   164|  61.0|  100|   70|          1|   1|    0|   0|     1|     0|\n",
      "| 996|18085|     1|   162|  72.0|  100|   70|          1|   1|    0|   0|     1|     0|\n",
      "| 997|22547|     1|   161|  93.0|  140|   90|          2|   1|    0|   0|     1|     1|\n",
      "| 999|21250|     1|   157|  68.0|  110|   80|          1|   1|    0|   0|     1|     0|\n",
      "|1000|22446|     1|   158|  65.0|  140|   90|          3|   1|    0|   0|     1|     1|\n",
      "|1001|16621|     1|   153|  57.0|  120|   80|          3|   2|    0|   0|     1|     1|\n",
      "|1002|20442|     2|   169|  82.0|  130|   90|          1|   1|    0|   0|     1|     1|\n",
      "|1003|23168|     2|   150|  56.0|  130|   80|          2|   1|    0|   0|     1|     1|\n",
      "|1004|22598|     1|   176|  72.0|  130|   90|          1|   3|    0|   0|     1|     1|\n",
      "|1006|20317|     1|   154|  85.0|  160|  100|          3|   1|    0|   0|     1|     1|\n",
      "|1008|23558|     1|   159|  60.0|  120|   80|          1|   1|    0|   0|     1|     1|\n",
      "|1010|20219|     2|   146|  45.0|  120|   80|          1|   1|    0|   0|     1|     0|\n",
      "|1011|19559|     1|   165|  90.0|  140|   90|          1|   1|    0|   0|     1|     1|\n",
      "|1013|20006|     2|   167|  65.0|  120|   80|          1|   1|    0|   0|     0|     0|\n",
      "|1014|19054|     1|   154|  70.0|  110|   70|          1|   1|    0|   0|     1|     0|\n",
      "+----+-----+------+------+------+-----+-----+-----------+----+-----+----+------+------+\n",
      "only showing top 20 rows\n"
     ]
    }
   ],
   "source": [
    "# Read CSV file into table\n",
    "df = spark.read.option(\"header\",True) \\\n",
    "    .csv('data/cardio_train.csv', sep=';')\n",
    "df.printSchema()\n",
    "df.show()"
   ],
   "metadata": {
    "collapsed": false,
    "ExecuteTime": {
     "end_time": "2024-02-07T22:32:35.276082700Z",
     "start_time": "2024-02-07T22:32:34.415081600Z"
    }
   },
   "id": "1eff60d79b99dd2e",
   "execution_count": 7
  },
  {
   "cell_type": "code",
   "outputs": [],
   "source": [
    "df.createOrReplaceTempView('DATA')"
   ],
   "metadata": {
    "collapsed": false,
    "ExecuteTime": {
     "end_time": "2024-02-07T22:32:47.669762300Z",
     "start_time": "2024-02-07T22:32:47.580760300Z"
    }
   },
   "id": "88c143f2d3246e3d",
   "execution_count": 8
  },
  {
   "cell_type": "code",
   "outputs": [
    {
     "name": "stdout",
     "output_type": "stream",
     "text": [
      "+---------------------+\n",
      "|round((AGE / 365), 0)|\n",
      "+---------------------+\n",
      "|                 62.0|\n",
      "|                 40.0|\n",
      "|                 60.0|\n",
      "|                 40.0|\n",
      "|                 64.0|\n",
      "+---------------------+\n"
     ]
    }
   ],
   "source": [
    "# SQL Select query\n",
    "spark.sql('''\n",
    "    \n",
    "    SELECT \n",
    "       round(AGE/365)\n",
    "    FROM DATA\n",
    "    \n",
    "''') \\\n",
    "    .show(5)"
   ],
   "metadata": {
    "collapsed": false,
    "ExecuteTime": {
     "end_time": "2024-02-08T14:56:43.724444200Z",
     "start_time": "2024-02-08T14:56:43.598444500Z"
    }
   },
   "id": "bc8a9f2255013989",
   "execution_count": 14
  },
  {
   "cell_type": "code",
   "outputs": [
    {
     "name": "stdout",
     "output_type": "stream",
     "text": [
      "+------+----------+\n",
      "|Height|AgeInYears|\n",
      "+------+----------+\n",
      "|   175|      30.0|\n",
      "|   175|      30.0|\n",
      "|   159|      30.0|\n",
      "|   160|      30.0|\n",
      "|   169|      39.0|\n",
      "+------+----------+\n"
     ]
    }
   ],
   "source": [
    "# 1 Just height by age\n",
    "spark.sql('''\n",
    "    \n",
    "    SELECT \n",
    "        Height,\n",
    "        ROUND(AGE/365) AS AgeInYears\n",
    "    FROM \n",
    "        DATA\n",
    "    ORDER BY \n",
    "        AgeInYears\n",
    "''') \\\n",
    "    .show(5)"
   ],
   "metadata": {
    "collapsed": false,
    "ExecuteTime": {
     "end_time": "2024-02-08T18:27:29.250195100Z",
     "start_time": "2024-02-08T18:27:28.970290400Z"
    }
   },
   "id": "56879cd98582ac69",
   "execution_count": 27
  },
  {
   "cell_type": "markdown",
   "source": [
    "\tSELECT\n",
    "Название функции (столбец для вычислений)\n",
    "OVER (\n",
    "    PARTITION BY столбец для группировки\n",
    "ORDER BY столбец для сортировки\n",
    "ROWS или RANGE выражение для ограничения строк в пределах группы\n",
    ")\n"
   ],
   "metadata": {
    "collapsed": false
   },
   "id": "5b4829b53277376f"
  },
  {
   "cell_type": "code",
   "outputs": [
    {
     "name": "stdout",
     "output_type": "stream",
     "text": [
      "+---------------------+------+------+---------+-----------------+-----------+---------+---------+\n",
      "|round((AGE / 365), 0)|HEIGHT|WEIGHT|sum_grade|        avg_grade|count_grade|min_grade|max_grade|\n",
      "+---------------------+------+------+---------+-----------------+-----------+---------+---------+\n",
      "|                 30.0|   175|  59.0|    269.0|            67.25|          4|     59.0|     92.0|\n",
      "|                 30.0|   175|  92.0|    269.0|            67.25|          4|     59.0|     92.0|\n",
      "|                 30.0|   159|  59.0|    269.0|            67.25|          4|     59.0|     92.0|\n",
      "|                 30.0|   160|  59.0|    269.0|            67.25|          4|     59.0|     92.0|\n",
      "|                 39.0|   169|  67.0|  29906.3|73.66083743842364|        406|    100.0|     99.0|\n",
      "+---------------------+------+------+---------+-----------------+-----------+---------+---------+\n"
     ]
    }
   ],
   "source": [
    "# 2  different functions for data\n",
    "spark.sql('''\n",
    "    \n",
    "   SELECT ROUND(AGE/365), HEIGHT, WEIGHT,\n",
    "    sum(WEIGHT) over (partition by ROUND(AGE/365)) as sum_grade,\n",
    "    avg(WEIGHT) over (partition by ROUND(AGE/365)) as avg_grade,\n",
    "    count(WEIGHT) over (partition by ROUND(AGE/365)) as count_grade,\n",
    "    min(WEIGHT) over (partition by ROUND(AGE/365)) as min_grade,\n",
    "    max(WEIGHT) over (partition by ROUND(AGE/365)) as max_grade\n",
    "from DATA;\n",
    "''') \\\n",
    "    .show(5)\n",
    "\n"
   ],
   "metadata": {
    "collapsed": false,
    "ExecuteTime": {
     "end_time": "2024-02-08T15:26:41.982687700Z",
     "start_time": "2024-02-08T15:26:41.245419500Z"
    }
   },
   "id": "be4369b81ddc4e2",
   "execution_count": 24
  },
  {
   "cell_type": "code",
   "outputs": [
    {
     "name": "stdout",
     "output_type": "stream",
     "text": [
      "+---------+------------------+-----------------+------------------+-----------------+------------------+------------------+-------------------+-------------------+------------------+-------------------+\n",
      "|age_group|        avg_height|       avg_weight|         avg_ap_hi|        avg_ap_lo|   avg_cholesterol|          avg_gluc|          avg_smoke|           avg_alco|        avg_active|         avg_cardio|\n",
      "+---------+------------------+-----------------+------------------+-----------------+------------------+------------------+-------------------+-------------------+------------------+-------------------+\n",
      "|     30.0|            167.25|            67.25|             112.5|             72.5|               1.0|               1.0|                0.0|                0.0|               1.0|                0.0|\n",
      "|     40.0|165.28813296054676|71.98822615719166| 120.0681888785337|88.09009009009009|1.1851506679092887|1.1314072693383037|0.11012736874805841|0.06477166821994408|0.8010251630941286|0.26001863932898417|\n",
      "|     45.0|165.36359039190899| 73.5565613147914|126.99279393173198| 91.9960809102402|1.2467762326169405|  1.15031605562579|0.11024020227560051|0.06371681415929203|0.8199747155499368|0.38963337547408344|\n",
      "|     50.0| 164.6886014248219|74.05468816397949|  128.107424071991|96.87276590426197|1.3075240594925635|1.1974753155855518|0.09367579052618423| 0.0568678915135608|0.8037120359955006|0.44419447569053866|\n",
      "|     55.0|164.29411402157166|74.52955562403697|128.98107858243452|98.47469953775038|1.3848998459167952|1.2387057010785825| 0.0840677966101695|0.05220338983050848|0.8043759630200308| 0.5191371340523883|\n",
      "+---------+------------------+-----------------+------------------+-----------------+------------------+------------------+-------------------+-------------------+------------------+-------------------+\n"
     ]
    }
   ],
   "source": [
    "# 3  average data for age groups\n",
    "spark.sql('''\n",
    "\n",
    "\n",
    "SELECT\n",
    "    ROUND(ROUND(AGE/365) / 5) * 5 AS age_group,\n",
    "    AVG(height) AS avg_height,\n",
    "    AVG(weight) AS avg_weight,\n",
    "    AVG(ap_hi) AS avg_ap_hi,\n",
    "    AVG(ap_lo) AS avg_ap_lo,\n",
    "    AVG(cholesterol) AS avg_cholesterol,\n",
    "    AVG(gluc) AS avg_gluc,\n",
    "    AVG(smoke) AS avg_smoke,\n",
    "    AVG(alco) AS avg_alco,\n",
    "    AVG(active) AS avg_active,\n",
    "    AVG(cardio) AS avg_cardio\n",
    "FROM\n",
    "    DATA\n",
    "GROUP BY\n",
    "    ROUND(ROUND(AGE/365) / 5) * 5\n",
    "ORDER BY\n",
    "    ROUND(ROUND(AGE/365) / 5) * 5;\n",
    "\n",
    "\n",
    "''') \\\n",
    "    .show(5)\n",
    "\n",
    "\n"
   ],
   "metadata": {
    "collapsed": false,
    "ExecuteTime": {
     "end_time": "2024-02-08T18:28:12.132408500Z",
     "start_time": "2024-02-08T18:28:10.360995600Z"
    }
   },
   "id": "65651d23d881c220",
   "execution_count": 28
  },
  {
   "cell_type": "code",
   "outputs": [
    {
     "name": "stdout",
     "output_type": "stream",
     "text": [
      "+---------+------------------+-----------------+------------------+------------------+------------------+------------------+-------------------+--------------------+------------------+\n",
      "|age_group|        avg_height|       avg_weight|         avg_ap_hi|         avg_ap_lo|   avg_cholesterol|          avg_gluc|          avg_smoke|            avg_alco|        avg_active|\n",
      "+---------+------------------+-----------------+------------------+------------------+------------------+------------------+-------------------+--------------------+------------------+\n",
      "|     40.0|166.05017921146953|77.82502986857826|133.17921146953404|107.53405017921148|1.3715651135005973|1.1893667861409798|0.11529271206690561| 0.06690561529271206|0.7974910394265233|\n",
      "|     45.0| 165.7787151200519| 77.7232965606749| 143.5360155743024|107.65541855937703|1.4127190136275145|1.1982478909798833| 0.1145360155743024| 0.06327060350421804|0.7968851395197923|\n",
      "|     50.0|164.94794597636465|77.29827940348903|139.61128306133935| 116.3918120427687|1.4510410804727067|1.2480303882948791|0.09566685424873382|0.057962858750703436|0.7874226223972988|\n",
      "|     55.0|164.19755431556453|76.81546242431438|134.63742134631366|108.89267481894812| 1.511931615813843|1.2820847678974236|0.08001899560726582| 0.05330642288970675|0.7938976611658554|\n",
      "|     60.0|163.55006133811457|76.43045107105785|137.06690572803623|105.64216287628574| 1.584976880249127|  1.31320184958007|0.07322827215249599| 0.04605076908559026|  0.78880815325092|\n",
      "|     65.0|163.16024612092028|75.87011771000535|135.59256286784375|106.52835741037988|1.6131621187800964|1.3263777421080791|0.05965757089352595|0.040930979133226325|0.7790262172284644|\n",
      "+---------+------------------+-----------------+------------------+------------------+------------------+------------------+-------------------+--------------------+------------------+\n"
     ]
    }
   ],
   "source": [
    "# 4 average data portrait of people who has cardiovascular disease\n",
    "spark.sql('''\n",
    "\n",
    "\n",
    "SELECT\n",
    "    ROUND(ROUND(AGE/365) / 5) * 5 AS age_group,\n",
    "    AVG(height) AS avg_height,\n",
    "    AVG(weight) AS avg_weight,\n",
    "    AVG(ap_hi) AS avg_ap_hi,\n",
    "    AVG(ap_lo) AS avg_ap_lo,\n",
    "    AVG(cholesterol) AS avg_cholesterol,\n",
    "    AVG(gluc) AS avg_gluc,\n",
    "    AVG(smoke) AS avg_smoke,\n",
    "    AVG(alco) AS avg_alco,\n",
    "    AVG(active) AS avg_active\n",
    "FROM\n",
    "    DATA\n",
    "WHERE \n",
    "    CARDIO = 1\n",
    "GROUP BY\n",
    "    ROUND(ROUND(AGE/365) / 5) * 5\n",
    "ORDER BY\n",
    "    ROUND(ROUND(AGE/365) / 5) * 5;\n",
    "\n",
    "\n",
    "''') \\\n",
    "    .show(10)"
   ],
   "metadata": {
    "collapsed": false,
    "ExecuteTime": {
     "end_time": "2024-02-08T18:30:45.276865300Z",
     "start_time": "2024-02-08T18:30:44.342657400Z"
    }
   },
   "id": "df0d153892a76c57",
   "execution_count": 32
  },
  {
   "cell_type": "code",
   "outputs": [
    {
     "name": "stdout",
     "output_type": "stream",
     "text": [
      "+---------+-----------------+------------------+\n",
      "|age_years|       avg_weight|        avg_height|\n",
      "+---------+-----------------+------------------+\n",
      "|     30.0|            67.25|            167.25|\n",
      "|     30.0|            67.25|            167.25|\n",
      "|     30.0|            67.25|            167.25|\n",
      "|     30.0|            67.25|            167.25|\n",
      "|     39.0|73.66083743842364|165.58374384236453|\n",
      "|     39.0|73.66083743842364|165.58374384236453|\n",
      "|     39.0|73.66083743842364|165.58374384236453|\n",
      "|     39.0|73.66083743842364|165.58374384236453|\n",
      "|     39.0|73.66083743842364|165.58374384236453|\n",
      "|     39.0|73.66083743842364|165.58374384236453|\n",
      "+---------+-----------------+------------------+\n"
     ]
    }
   ],
   "source": [
    "# 5   average weight and height for age groups  \n",
    "spark.sql('''\n",
    "\n",
    "\n",
    "SELECT\n",
    "    ROUND(AGE/365) AS age_years,\n",
    "    AVG(weight) OVER (PARTITION BY ROUND(AGE/365)) AS avg_weight,\n",
    "    AVG(height) OVER (PARTITION BY ROUND(AGE/365)) AS avg_height\n",
    "FROM\n",
    "    DATA\n",
    "\n",
    "''') \\\n",
    "    .show(10)"
   ],
   "metadata": {
    "collapsed": false,
    "ExecuteTime": {
     "end_time": "2024-02-08T18:43:40.476910100Z",
     "start_time": "2024-02-08T18:43:39.909097600Z"
    }
   },
   "id": "67fcf04b942e21b8",
   "execution_count": 36
  },
  {
   "cell_type": "code",
   "outputs": [
    {
     "name": "stdout",
     "output_type": "stream",
     "text": [
      "+-----+---------+-----+-----+-----------+----+-----------+\n",
      "|   id|age_years|ap_hi|ap_lo|cholesterol|gluc|cardio_rank|\n",
      "+-----+---------+-----+-----+-----------+----+-----------+\n",
      "|31922|     30.0|  100|   60|          1|   1|          1|\n",
      "|79749|     30.0|  110|   70|          1|   1|          2|\n",
      "| 8850|     30.0|  120|   80|          1|   1|          3|\n",
      "|43842|     30.0|  120|   80|          1|   1|          3|\n",
      "| 6000|     39.0|  100|   60|          1|   1|          1|\n",
      "| 7254|     39.0|  100|   60|          1|   1|          1|\n",
      "|16141|     39.0|  100|   60|          1|   1|          1|\n",
      "|25130|     39.0|  100|   60|          1|   1|          1|\n",
      "|34070|     39.0|  100|   60|          1|   1|          1|\n",
      "|40695|     39.0|  100|   60|          1|   1|          1|\n",
      "+-----+---------+-----+-----+-----------+----+-----------+\n"
     ]
    }
   ],
   "source": [
    "# 6 Ranking of cardiac indicators (ap_hi, ap_lo, cholesterol, glucometer) by age groups\n",
    "spark.sql('''\n",
    "\n",
    "\n",
    "SELECT\n",
    "    id,\n",
    "    ROUND(AGE/365) AS age_years ,\n",
    "    ap_hi,\n",
    "    ap_lo,\n",
    "    cholesterol,\n",
    "    gluc,\n",
    "    RANK() OVER (PARTITION BY ROUND(AGE/365) ORDER BY ap_hi, ap_lo, cholesterol, gluc) AS cardio_rank\n",
    "FROM\n",
    "    DATA;\n",
    "\n",
    "''') \\\n",
    "    .show(10)"
   ],
   "metadata": {
    "collapsed": false,
    "ExecuteTime": {
     "end_time": "2024-02-08T18:45:33.973074500Z",
     "start_time": "2024-02-08T18:45:33.355880100Z"
    }
   },
   "id": "974edcf38e8d9da9",
   "execution_count": 39
  },
  {
   "cell_type": "code",
   "outputs": [
    {
     "name": "stdout",
     "output_type": "stream",
     "text": [
      "+-----+------------------+-----------------+------------------+------------------+\n",
      "|smoke|         avg_ap_hi|        avg_ap_lo|   avg_cholesterol|          avg_gluc|\n",
      "+-----+------------------+-----------------+------------------+------------------+\n",
      "|    0|128.87446003892467|96.35938859792086|1.3646418455988227|1.2272662542128832|\n",
      "|    0|128.87446003892467|96.35938859792086|1.3646418455988227|1.2272662542128832|\n",
      "|    0|128.87446003892467|96.35938859792086|1.3646418455988227|1.2272662542128832|\n",
      "|    0|128.87446003892467|96.35938859792086|1.3646418455988227|1.2272662542128832|\n",
      "|    0|128.87446003892467|96.35938859792086|1.3646418455988227|1.2272662542128832|\n",
      "|    0|128.87446003892467|96.35938859792086|1.3646418455988227|1.2272662542128832|\n",
      "|    0|128.87446003892467|96.35938859792086|1.3646418455988227|1.2272662542128832|\n",
      "|    0|128.87446003892467|96.35938859792086|1.3646418455988227|1.2272662542128832|\n",
      "|    0|128.87446003892467|96.35938859792086|1.3646418455988227|1.2272662542128832|\n",
      "|    0|128.87446003892467|96.35938859792086|1.3646418455988227|1.2272662542128832|\n",
      "+-----+------------------+-----------------+------------------+------------------+\n"
     ]
    }
   ],
   "source": [
    "# 7 Calculation of the average value of cardiac indicators for groups of smokers and non-smokers:\n",
    "spark.sql('''\n",
    "\n",
    "\n",
    "SELECT\n",
    "    smoke,\n",
    "    AVG(ap_hi) OVER (PARTITION BY smoke) AS avg_ap_hi,\n",
    "    AVG(ap_lo) OVER (PARTITION BY smoke) AS avg_ap_lo,\n",
    "    AVG(cholesterol) OVER (PARTITION BY smoke) AS avg_cholesterol,\n",
    "    AVG(gluc) OVER (PARTITION BY smoke) AS avg_gluc\n",
    "FROM\n",
    "    DATA;\n",
    "\n",
    "''') \\\n",
    "    .show(10)"
   ],
   "metadata": {
    "collapsed": false,
    "ExecuteTime": {
     "end_time": "2024-02-08T18:46:17.453916500Z",
     "start_time": "2024-02-08T18:46:16.654373300Z"
    }
   },
   "id": "7b695cd23bb5345e",
   "execution_count": 40
  },
  {
   "cell_type": "code",
   "outputs": [
    {
     "name": "stdout",
     "output_type": "stream",
     "text": [
      "+------+------------------+----------------+------------------+------------------+\n",
      "|gender|         avg_ap_hi|       avg_ap_lo|   avg_cholesterol|          avg_gluc|\n",
      "+------+------------------+----------------+------------------+------------------+\n",
      "|     1|128.15117904123872|94.5160717850884|1.3849242441047938|1.2353202156214644|\n",
      "|     1|128.15117904123872|94.5160717850884|1.3849242441047938|1.2353202156214644|\n",
      "|     1|128.15117904123872|94.5160717850884|1.3849242441047938|1.2353202156214644|\n",
      "|     1|128.15117904123872|94.5160717850884|1.3849242441047938|1.2353202156214644|\n",
      "|     1|128.15117904123872|94.5160717850884|1.3849242441047938|1.2353202156214644|\n",
      "|     1|128.15117904123872|94.5160717850884|1.3849242441047938|1.2353202156214644|\n",
      "|     1|128.15117904123872|94.5160717850884|1.3849242441047938|1.2353202156214644|\n",
      "|     1|128.15117904123872|94.5160717850884|1.3849242441047938|1.2353202156214644|\n",
      "|     1|128.15117904123872|94.5160717850884|1.3849242441047938|1.2353202156214644|\n",
      "|     1|128.15117904123872|94.5160717850884|1.3849242441047938|1.2353202156214644|\n",
      "+------+------------------+----------------+------------------+------------------+\n"
     ]
    }
   ],
   "source": [
    "# 7 Calculation of the average value of cardiac indicators by gender:\n",
    "spark.sql('''\n",
    "\n",
    "\n",
    "SELECT\n",
    "gender,\n",
    "AVG(ap_hi) OVER (PARTITION BY gender) AS avg_ap_hi,\n",
    "AVG(ap_lo) OVER (PARTITION BY gender) AS avg_ap_lo,\n",
    "AVG(cholesterol) OVER (PARTITION BY gender) AS avg_cholesterol,\n",
    "AVG(gluc) OVER (PARTITION BY gender) AS avg_gluc\n",
    "FROM\n",
    "DATA;\n",
    "\n",
    "''') \\\n",
    "    .show(10)"
   ],
   "metadata": {
    "collapsed": false,
    "ExecuteTime": {
     "end_time": "2024-02-08T18:51:29.093268700Z",
     "start_time": "2024-02-08T18:51:28.224536700Z"
    }
   },
   "id": "fb060dd261304d55",
   "execution_count": 41
  },
  {
   "cell_type": "code",
   "outputs": [],
   "source": [
    "#8 "
   ],
   "metadata": {
    "collapsed": false
   },
   "id": "6bbaa9cdc1cc4d07"
  },
  {
   "cell_type": "code",
   "outputs": [],
   "source": [],
   "metadata": {
    "collapsed": false
   },
   "id": "cb7c0a8eecd7aace"
  },
  {
   "cell_type": "code",
   "outputs": [
    {
     "data": {
      "text/plain": "Index(['id', 'age', 'gender', 'height', 'weight', 'ap_hi', 'ap_lo',\n       'cholesterol', 'gluc', 'smoke', 'alco', 'active', 'cardio'],\n      dtype='object')"
     },
     "execution_count": 26,
     "metadata": {},
     "output_type": "execute_result"
    }
   ],
   "source": [
    "data.columns"
   ],
   "metadata": {
    "collapsed": false,
    "ExecuteTime": {
     "end_time": "2024-02-08T18:14:55.441537700Z",
     "start_time": "2024-02-08T18:14:55.424277600Z"
    }
   },
   "id": "525b1fe70943c8b0",
   "execution_count": 26
  }
 ],
 "metadata": {
  "kernelspec": {
   "display_name": "Python 3",
   "language": "python",
   "name": "python3"
  },
  "language_info": {
   "codemirror_mode": {
    "name": "ipython",
    "version": 2
   },
   "file_extension": ".py",
   "mimetype": "text/x-python",
   "name": "python",
   "nbconvert_exporter": "python",
   "pygments_lexer": "ipython2",
   "version": "2.7.6"
  }
 },
 "nbformat": 4,
 "nbformat_minor": 5
}
